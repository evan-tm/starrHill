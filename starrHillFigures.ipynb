{
 "cells": [
  {
   "cell_type": "code",
   "execution_count": 11,
   "metadata": {},
   "outputs": [],
   "source": [
    "# ------------------Census texts------------------#\n",
    "\n",
    "text = {\n",
    "    \"LOADING\": \"Loading...\",\n",
    "    \"IND_CITY_TITLE\": 'Industries and Sectors of Charlottesville Residents (% of Total Employed Age 16+ Civilians)',\n",
    "    \"IND_CITY_LEGEND_TITLE\": 'Sector',\n",
    "    \"IND_X_TITLE\": 'Employed Population (%)',\n",
    "    \"IND_Y_TITLE\": 'Industries',\n",
    "    \"IND_CITY_HOVER\": '<i>Sector</i>: %{data.name}' + \\\n",
    "                 '<br>%{value:.2f}% of Total Employed<br>' + \\\n",
    "                 'Industries: <b>%{customdata}</b>' + \\\n",
    "                 '<extra></extra>',\n",
    "    \"IND_NEIGHBORHOOD_TITLE\": 'Industries of {hood} Residents (% of Total Employed Age 16+ Civilians)',\n",
    "    \"IND_NEIGHBORHOOD_LEGEND_TITLE\": \"Neighborhood\",\n",
    "    \"IND_NEIGHBORHOOD_HOVER\": '%{value:.2f}% of Total Employed<br>' + \\\n",
    "                 'Industries: <b>%{customdata}</b>' + \\\n",
    "                 '<extra></extra>',\n",
    "    \"AGE_CITY_TITLE\": 'Population Chart for Charlottesville, VA',\n",
    "    \"AGE_LEGEND_TITLE\": 'Sex',\n",
    "    \"AGE_X_TITLE\": 'Population (%)',\n",
    "    \"AGE_Y_TITLE\": 'Age Group',\n",
    "    \"AGE_NEIGHBORHOOD_TITLE\": 'Population Chart for {hood} (% of Total)',\n",
    "    \"RACE_CITY_TITLE\": 'Population by Race and Ethnicity for Charlottesville, VA (% of Total)',\n",
    "    \"RACE_X_TITLE\": 'Population (%)',\n",
    "    \"RACE_Y_TITLE\": 'Race and Ethnicity',\n",
    "    \"RACE_NEIGHBORHOOD_TITLE\": 'Population by Race and Ethnicity for {hood} (% of Total)',\n",
    "    \"INCOME_CITY_TITLE\": 'Population by Household Income for Charlottesville, VA (% of Total)',\n",
    "    \"INCOME_X_TITLE\": 'Population (%)',\n",
    "    \"INCOME_Y_TITLE\": 'Income Bracket',\n",
    "    \"INCOME_NEIGHBORHOOD_TITLE\": 'Population by Household Income for {hood} (% of Total)',\n",
    "}"
   ]
  },
  {
   "cell_type": "code",
   "execution_count": 23,
   "metadata": {},
   "outputs": [],
   "source": [
    "# ------------------Census functions------------------#\n",
    "\n",
    "# modules to import\n",
    "import pandas as pd\n",
    "import plotly.express as px\n",
    "import plotly.graph_objects as go\n",
    "\n",
    "# CHANGE THIS LINE TO RELECT PROJECT PATH\n",
    "project_path = \"/project/sdscap-kropko/sdscap-kropko-cvhous/src/starrHill/\"\n",
    "\n",
    "# Neighborhood industry data\n",
    "industryNeighborhood = pd.read_csv(project_path + 'data/industryNeighborhood.csv')\n",
    "# Neighborhood age data\n",
    "ageNeighborhood = pd.read_csv(project_path + \"data/ageNeighborhood.csv\")\n",
    "# Neighborhood race data\n",
    "raceNeighborhood = pd.read_csv(project_path + 'data/raceEthnicityNeighborhood.csv')\n",
    "# Neighborhood income data\n",
    "incomeNeighborhood = pd.read_csv(project_path + 'data/incomeNeighborhood.csv')\n",
    "\n",
    "## Adds ticker annotations to figures\n",
    "## in: figure, dataset, list of indices, column\n",
    "## out: figure with annotations added\n",
    "def addFigAnnotations(fig, data, num, column):\n",
    "    \n",
    "    for idx in num:\n",
    "        fig.add_annotation(dict(font=dict(color = \"rgb(7,13,30)\", size = 11),\n",
    "                               x = 1.004,\n",
    "                               y = data[column][idx],\n",
    "                               showarrow=False,\n",
    "                               text=data['ag'][idx],\n",
    "                               textangle=0,\n",
    "                               xanchor='right',\n",
    "                               xref='paper',\n",
    "                               yref='y'))\n",
    "    return fig\n",
    "\n",
    "## Adds ticker annotations to figure frames\n",
    "## in: frame, dataset, list of indices, index of frame in frame list, column\n",
    "## out: frame with annotations added to layout\n",
    "def addFrameAnnotations(frame, data, num, frameIndex, column):\n",
    "    ## build list of annotations\n",
    "    annotations = [\n",
    "        go.layout.Annotation(\n",
    "            dict(font=dict(color = \"rgb(7,13,30)\", size = 11), \n",
    "                 x = 1.004, \n",
    "                 y = data[column][idx + frameIndex * len(num)], \n",
    "                 showarrow=False, \n",
    "                 text=data['ag'][idx + frameIndex * len(num)], \n",
    "                 textangle=0, \n",
    "                 xanchor='right',\n",
    "                 xref='paper',\n",
    "                 yref='y')\n",
    "        ) for idx in num]\n",
    "    ## Add annotations list to frame layout\n",
    "    frame.layout = go.Layout(annotations = annotations)\n",
    "    return frame\n",
    "\n",
    "\n",
    "## Function for creating plot of industry employment populations by neighborhood\n",
    "## out: figure\n",
    "def plotIndustryByNeighborhood(n, compare = False):\n",
    "    fig = px.bar(industryNeighborhood, \n",
    "                 x=n,\n",
    "                 y='Industry', \n",
    "                 labels={'value':text['IND_X_TITLE'],\n",
    "                         'Industry':text['IND_Y_TITLE']}, \n",
    "                 animation_frame = \"Year\",\n",
    "                 orientation=\"h\", custom_data = [\"Desc\"], \n",
    "                 title = text['IND_NEIGHBORHOOD_TITLE'].format(hood=n))\n",
    "    ## Fix bar order\n",
    "    fig.update_yaxes(categoryorder=\"total ascending\")\n",
    "    ## Change text displayed when mouse hovering over bar\n",
    "    fig.update_traces(hovertemplate = text['IND_NEIGHBORHOOD_HOVER'])\n",
    "    fig.update_layout(margin=go.layout.Margin(l=200, r=10, b=0, t=30, pad=15), \n",
    "                      plot_bgcolor=\"rgba(0,0,0,0)\", \n",
    "                      paper_bgcolor=\"rgba(0,0,0,0)\", \n",
    "                      autosize=True, \n",
    "                      font=dict(size=13, color=\"rgb(7,13,30)\"),\n",
    "                      legend=dict(yanchor=\"bottom\", \n",
    "                                  x=0.85, \n",
    "                                  y=0, \n",
    "                                  xanchor=\"right\", \n",
    "                                  bgcolor=\"DimGray\"), \n",
    "                      hoverlabel_align = 'left', \n",
    "                      titlefont={'size': 14}, \n",
    "                      title_x = 0.55)\n",
    "    ## get index of neighborhood selection\n",
    "    hood_index = industryNeighborhood.columns.get_loc(n)\n",
    "    ## update dataset with correct ticker for neighborhood selection\n",
    "    industryNeighborhood['ag'] = [f'({industryNeighborhood.iloc[i, hood_index+19]:,} : {industryNeighborhood.iloc[i, hood_index]:.2f}%)' \n",
    "                               for i in range(industryNeighborhood.shape[0])]\n",
    "    ## Adds (count : pct) ticker at far right of chart\n",
    "    fig = addFigAnnotations(fig, industryNeighborhood, [i for i in range(13)], 'Industry')\n",
    "    if compare:\n",
    "        ## Fixed x axis size for each frame\n",
    "        fig.update_xaxes(ticktext = [\"0\", \"5\", \"10\", \"15\", \"20\", \n",
    "                                    \"25\", \"30\", \"35\", \"40\", \"45\", \n",
    "                                    \"50\", \"55\", \"60\"], \n",
    "                        tickvals = [i*5 for i in range(13)], \n",
    "                        range = [0, 76],\n",
    "                        gridcolor='Black')\n",
    "    else:\n",
    "        ## Fixed x axis size for each frame\n",
    "        fig.update_xaxes(ticktext = [\"0\", \"5\", \"10\", \"15\", \"20\", \n",
    "                                    \"25\", \"30\", \"35\", \"40\", \"45\", \n",
    "                                    \"50\", \"55\", \"60\"], \n",
    "                        tickvals = [i*5 for i in range(13)], \n",
    "                        range = [0, 65],\n",
    "                        gridcolor='Black')\n",
    "    ## move slider's and buttons' positions slightly left\n",
    "    fig['layout']['updatemenus'][0]['x']=-0.04\n",
    "    fig['layout']['sliders'][0]['x']=-0.04\n",
    "    ## Loop through frames to edit hover and by-frame ticker annotations\n",
    "    for idx, f in enumerate(fig.frames):\n",
    "        for dat in f.data:\n",
    "            dat.hovertemplate = text['IND_NEIGHBORHOOD_HOVER']\n",
    "        f = addFrameAnnotations(f, industryNeighborhood, \n",
    "                                [i for i in range(13)], \n",
    "                                idx, 'Industry')\n",
    "\n",
    "    return fig\n",
    "\n",
    "\n",
    "## Function for creating plot of age by sex by neighborhood\n",
    "## out: figure\n",
    "def plotAgeNeighborhood(n):\n",
    "    # begin building figure\n",
    "    fig = px.bar(ageNeighborhood, \n",
    "                 y=\"Age\", \n",
    "                 x=[n + \"_M\", n + \"_F\"],\n",
    "                 animation_frame='Year', \n",
    "                 barmode='group',\n",
    "                 orientation=\"h\",\n",
    "                 height = 600,\n",
    "                 title=text['AGE_NEIGHBORHOOD_TITLE'].format(hood=n), \n",
    "                 labels={'variable':text['AGE_LEGEND_TITLE'], \n",
    "                         'value':text['AGE_X_TITLE'],\n",
    "                         'Age':text['AGE_Y_TITLE']}, \n",
    "                 color_discrete_map={'Male': '#5886a5','Female': '#58a577'})\n",
    "    # update layout\n",
    "    fig.update_layout(margin=go.layout.Margin(l=200, r=10, b=0, t=30, pad=15),\n",
    "                      plot_bgcolor=\"rgba(0,0,0,0)\",\n",
    "                      paper_bgcolor=\"rgba(0,0,0,0)\",\n",
    "                      font=dict(size=13, color=\"rgb(7,13,30)\"),\n",
    "                      legend=dict(yanchor=\"bottom\", \n",
    "                                  x=0.90, \n",
    "                                  y=0.85, \n",
    "                                  xanchor=\"right\",\n",
    "                                  bgcolor=\"DimGray\"),\n",
    "                      titlefont={'size': 14},\n",
    "                      title_x = 0.56)\n",
    "    ## Fixed x axis size for each frame\n",
    "    fig.update_xaxes(tickvals = [i*5 for i in range(8)], \n",
    "                     range = [0, 40],\n",
    "                     gridcolor='Black')\n",
    "    # update legend and hovers\n",
    "    newnames = {n + \"_M\":'Male', n + \"_F\":'Female'}\n",
    "    fig.for_each_trace(lambda t: t.update(name = newnames[t.name],\n",
    "                                          legendgroup = newnames[t.name],\n",
    "                                          hovertemplate = t.hovertemplate.replace(t.name, newnames[t.name])))\n",
    "    # update legend and hovers for animated frames\n",
    "    for idx, f in enumerate(fig.frames):\n",
    "        for dat in f.data:\n",
    "            dat.update(name = newnames[dat.name], \n",
    "                       legendgroup = newnames[dat.name], \n",
    "                       hovertemplate = dat.hovertemplate.replace(dat.name, newnames[dat.name]))\n",
    "    fig['layout']['updatemenus'][0]['x']=-0.04\n",
    "    fig['layout']['sliders'][0]['x']=-0.04\n",
    "\n",
    "    return fig\n",
    "\n",
    "## Function for creating race plot for the individual neighborhoods\n",
    "## in: neighborhood, t/f whether the plot is for the comparison page\n",
    "## out: figure\n",
    "def plotRaceNeighborhood(n, compare = False):\n",
    "    # begin building figure\n",
    "    fig = px.bar(raceNeighborhood, \n",
    "                 y=\"Race and Ethnicity\", \n",
    "                 x=n,\n",
    "                 animation_frame='Year',\n",
    "                 orientation=\"h\",\n",
    "                 title=text['RACE_NEIGHBORHOOD_TITLE'].format(hood=n), \n",
    "                 labels={n:text['RACE_X_TITLE'],\n",
    "                         'Race and Ethnicity':text['RACE_Y_TITLE']})\n",
    "    ## Fix bar order\n",
    "    fig.update_yaxes(categoryorder=\"total ascending\")\n",
    "    # update layout\n",
    "    fig.update_layout(margin=go.layout.Margin(l=200, r=10, b=0, t=30, pad=15),\n",
    "                      plot_bgcolor=\"rgba(0,0,0,0)\",\n",
    "                      paper_bgcolor=\"rgba(0,0,0,0)\",\n",
    "                      autosize=True,\n",
    "                      font=dict(size=13, color=\"rgb(7,13,30)\"),\n",
    "                      legend=dict(yanchor=\"bottom\", \n",
    "                                  x=0.90, \n",
    "                                  y=0.85, \n",
    "                                  xanchor=\"right\",\n",
    "                                  bgcolor=\"DimGray\"),\n",
    "                      titlefont={'size': 14},\n",
    "                      title_x = 0.59)\n",
    "    ## get index of neighborhood selection\n",
    "    hood_index = raceNeighborhood.columns.get_loc(n)\n",
    "    ## update dataset with correct ticker for neighborhood selection\n",
    "    raceNeighborhood['ag'] = [f'({raceNeighborhood.iloc[i, hood_index+19]:,} : {raceNeighborhood.iloc[i, hood_index]:.2f}%)' \n",
    "                               for i in range(raceNeighborhood.shape[0])]\n",
    "    ## Adds (count : pct) ticker at far right of chart\n",
    "    fig = addFigAnnotations(fig, raceNeighborhood, [i for i in range(8)], 'Race and Ethnicity')\n",
    "    if compare:\n",
    "        ## Fixed x axis size for each frame\n",
    "        fig.update_xaxes(tickvals = [i*10 for i in range(10)], \n",
    "                        range = [0, 122],\n",
    "                        gridcolor='Black')\n",
    "    else:\n",
    "        ## Fixed x axis size for each frame\n",
    "        fig.update_xaxes(tickvals = [i*10 for i in range(11)], \n",
    "                        range = [0, 109],\n",
    "                        gridcolor='Black')\n",
    "    fig['layout']['updatemenus'][0]['x']=-0.04\n",
    "    fig['layout']['sliders'][0]['x']=-0.04\n",
    "    ## Loop through frames to edit hover and by-frame ticker annotations\n",
    "    for idx, f in enumerate(fig.frames):\n",
    "        f = addFrameAnnotations(f, raceNeighborhood, \n",
    "                                [i for i in range(8)], \n",
    "                                idx, 'Race and Ethnicity')\n",
    "\n",
    "    return fig\n",
    "\n",
    "## Function for creating income plot for the individual neighborhoods\n",
    "## in: neighborhood, t/f whether the plot is for the comparison page\n",
    "## out: figure\n",
    "def plotIncomeNeighborhood(n, compare = False):\n",
    "    # begin building figure\n",
    "    fig = px.bar(incomeNeighborhood, \n",
    "                 y=\"Bracket\", \n",
    "                 x=n,\n",
    "                 animation_frame='Year',\n",
    "                 orientation=\"h\",\n",
    "                 title=text['INCOME_NEIGHBORHOOD_TITLE'].format(hood=n), \n",
    "                 height=600,\n",
    "                 labels={n:text['INCOME_X_TITLE'],\n",
    "                         'Race':text['INCOME_Y_TITLE']})\n",
    "    # update layout\n",
    "    fig.update_layout(margin=go.layout.Margin(l=200, r=10, b=0, t=30, pad=15),\n",
    "                      plot_bgcolor=\"rgba(0,0,0,0)\",\n",
    "                      paper_bgcolor=\"rgba(0,0,0,0)\",\n",
    "                      font=dict(size=13, color=\"rgb(7,13,30)\"),\n",
    "                      legend=dict(yanchor=\"bottom\", \n",
    "                                  x=0.90, \n",
    "                                  y=0.85, \n",
    "                                  xanchor=\"right\",\n",
    "                                  bgcolor=\"DimGray\"),\n",
    "                      titlefont={'size': 14},\n",
    "                      title_x = 0.555)\n",
    "    ## get index of neighborhood selection\n",
    "    hood_index = incomeNeighborhood.columns.get_loc(n)\n",
    "    ## update dataset with correct ticker for neighborhood selection\n",
    "    incomeNeighborhood['ag'] = [f'({incomeNeighborhood.iloc[i, hood_index+19]:,} : {incomeNeighborhood.iloc[i, hood_index]:.2f}%)' \n",
    "                               for i in range(incomeNeighborhood.shape[0])]\n",
    "    ## Adds (count : pct) ticker at far right of chart\n",
    "    fig = addFigAnnotations(fig, incomeNeighborhood, [i for i in range(16)], 'Bracket')\n",
    "    if compare:\n",
    "        ## Fixed x axis size for each frame\n",
    "        fig.update_xaxes(tickvals = [i*5 for i in range(8)], \n",
    "                        range = [0, 43],\n",
    "                        gridcolor='Black')\n",
    "    else:\n",
    "        ## Fixed x axis size for each frame\n",
    "        fig.update_xaxes(tickvals = [i*5 for i in range(8)], \n",
    "                        range = [0, 40],\n",
    "                        gridcolor='Black')\n",
    "    fig['layout']['updatemenus'][0]['x']=-0.04\n",
    "    fig['layout']['sliders'][0]['x']=-0.04\n",
    "    ## Loop through frames to edit hover and by-frame ticker annotations\n",
    "    for idx, f in enumerate(fig.frames):\n",
    "        f = addFrameAnnotations(f, incomeNeighborhood, \n",
    "                                [i for i in range(16)], \n",
    "                                idx, 'Bracket')\n",
    "    \n",
    "    return fig"
   ]
  },
  {
   "cell_type": "code",
   "execution_count": 24,
   "metadata": {},
   "outputs": [
    {
     "data": {
      "application/vnd.plotly.v1+json": {
       "config": {
        "plotlyServerURL": "https://plot.ly"
       },
       "data": [
        {
         "alignmentgroup": "True",
         "customdata": [
          [
           "Agriculture,<br>Forestry, Fishing &<br>Hunting, Mining"
          ],
          [
           "Construction"
          ],
          [
           "Manufacturing"
          ],
          [
           "Wholesale Trade"
          ],
          [
           "Retail Trade"
          ],
          [
           "Transportation,<br>Warehousing, Utilities"
          ],
          [
           "Information"
          ],
          [
           "Finance &<br>Insurance, Real Estate,<br>Rental & Leasing"
          ],
          [
           "Professional, Scientific,<br>Management, Administrative,<br>Waste Management Services"
          ],
          [
           "Educational Services,<br>Health Care & Social Assistance"
          ],
          [
           "Arts, Entertainment,<br>Recreation, Accommodation &<br>Food Services"
          ],
          [
           "Other Services"
          ],
          [
           "Public Administration"
          ]
         ],
         "hovertemplate": "%{value:.2f}% of Total Employed<br>Industries: <b>%{customdata}</b><extra></extra>",
         "legendgroup": "",
         "marker": {
          "color": "#636efa",
          "pattern": {
           "shape": ""
          }
         },
         "name": "",
         "offsetgroup": "",
         "orientation": "h",
         "showlegend": false,
         "textposition": "auto",
         "type": "bar",
         "x": [
          0,
          3.732809430255403,
          1.5717092337917484,
          0,
          6.4833005893909625,
          2.75049115913556,
          4.12573673870334,
          2.5540275049115917,
          22.593320235756384,
          47.93713163064833,
          5.893909626719057,
          2.357563850687623,
          0
         ],
         "xaxis": "x",
         "y": [
          "Agriculture",
          "Construction",
          "Manufacturing",
          "Wholesale",
          "Retail",
          "Transportation",
          "Information",
          "Finance & Insurance",
          "Professional",
          "Education & Healthcare",
          "Entertainment",
          "Other Services",
          "Public Administration"
         ],
         "yaxis": "y"
        }
       ],
       "frames": [
        {
         "data": [
          {
           "alignmentgroup": "True",
           "customdata": [
            [
             "Agriculture,<br>Forestry, Fishing &<br>Hunting, Mining"
            ],
            [
             "Construction"
            ],
            [
             "Manufacturing"
            ],
            [
             "Wholesale Trade"
            ],
            [
             "Retail Trade"
            ],
            [
             "Transportation,<br>Warehousing, Utilities"
            ],
            [
             "Information"
            ],
            [
             "Finance &<br>Insurance, Real Estate,<br>Rental & Leasing"
            ],
            [
             "Professional, Scientific,<br>Management, Administrative,<br>Waste Management Services"
            ],
            [
             "Educational Services,<br>Health Care & Social Assistance"
            ],
            [
             "Arts, Entertainment,<br>Recreation, Accommodation &<br>Food Services"
            ],
            [
             "Other Services"
            ],
            [
             "Public Administration"
            ]
           ],
           "hovertemplate": "%{value:.2f}% of Total Employed<br>Industries: <b>%{customdata}</b><extra></extra>",
           "legendgroup": "",
           "marker": {
            "color": "#636efa",
            "pattern": {
             "shape": ""
            }
           },
           "name": "",
           "offsetgroup": "",
           "orientation": "h",
           "showlegend": false,
           "textposition": "auto",
           "type": "bar",
           "x": [
            0,
            3.732809430255403,
            1.5717092337917484,
            0,
            6.4833005893909625,
            2.75049115913556,
            4.12573673870334,
            2.5540275049115917,
            22.593320235756384,
            47.93713163064833,
            5.893909626719057,
            2.357563850687623,
            0
           ],
           "xaxis": "x",
           "y": [
            "Agriculture",
            "Construction",
            "Manufacturing",
            "Wholesale",
            "Retail",
            "Transportation",
            "Information",
            "Finance & Insurance",
            "Professional",
            "Education & Healthcare",
            "Entertainment",
            "Other Services",
            "Public Administration"
           ],
           "yaxis": "y"
          }
         ],
         "layout": {
          "annotations": [
           {
            "font": {
             "color": "rgb(7,13,30)",
             "size": 11
            },
            "showarrow": false,
            "text": "(0 : 0.00%)",
            "textangle": 0,
            "x": 1.004,
            "xanchor": "right",
            "xref": "paper",
            "y": "Agriculture",
            "yref": "y"
           },
           {
            "font": {
             "color": "rgb(7,13,30)",
             "size": 11
            },
            "showarrow": false,
            "text": "(19 : 3.73%)",
            "textangle": 0,
            "x": 1.004,
            "xanchor": "right",
            "xref": "paper",
            "y": "Construction",
            "yref": "y"
           },
           {
            "font": {
             "color": "rgb(7,13,30)",
             "size": 11
            },
            "showarrow": false,
            "text": "(8 : 1.57%)",
            "textangle": 0,
            "x": 1.004,
            "xanchor": "right",
            "xref": "paper",
            "y": "Manufacturing",
            "yref": "y"
           },
           {
            "font": {
             "color": "rgb(7,13,30)",
             "size": 11
            },
            "showarrow": false,
            "text": "(0 : 0.00%)",
            "textangle": 0,
            "x": 1.004,
            "xanchor": "right",
            "xref": "paper",
            "y": "Wholesale",
            "yref": "y"
           },
           {
            "font": {
             "color": "rgb(7,13,30)",
             "size": 11
            },
            "showarrow": false,
            "text": "(33 : 6.48%)",
            "textangle": 0,
            "x": 1.004,
            "xanchor": "right",
            "xref": "paper",
            "y": "Retail",
            "yref": "y"
           },
           {
            "font": {
             "color": "rgb(7,13,30)",
             "size": 11
            },
            "showarrow": false,
            "text": "(14 : 2.75%)",
            "textangle": 0,
            "x": 1.004,
            "xanchor": "right",
            "xref": "paper",
            "y": "Transportation",
            "yref": "y"
           },
           {
            "font": {
             "color": "rgb(7,13,30)",
             "size": 11
            },
            "showarrow": false,
            "text": "(21 : 4.13%)",
            "textangle": 0,
            "x": 1.004,
            "xanchor": "right",
            "xref": "paper",
            "y": "Information",
            "yref": "y"
           },
           {
            "font": {
             "color": "rgb(7,13,30)",
             "size": 11
            },
            "showarrow": false,
            "text": "(13 : 2.55%)",
            "textangle": 0,
            "x": 1.004,
            "xanchor": "right",
            "xref": "paper",
            "y": "Finance & Insurance",
            "yref": "y"
           },
           {
            "font": {
             "color": "rgb(7,13,30)",
             "size": 11
            },
            "showarrow": false,
            "text": "(115 : 22.59%)",
            "textangle": 0,
            "x": 1.004,
            "xanchor": "right",
            "xref": "paper",
            "y": "Professional",
            "yref": "y"
           },
           {
            "font": {
             "color": "rgb(7,13,30)",
             "size": 11
            },
            "showarrow": false,
            "text": "(244 : 47.94%)",
            "textangle": 0,
            "x": 1.004,
            "xanchor": "right",
            "xref": "paper",
            "y": "Education & Healthcare",
            "yref": "y"
           },
           {
            "font": {
             "color": "rgb(7,13,30)",
             "size": 11
            },
            "showarrow": false,
            "text": "(30 : 5.89%)",
            "textangle": 0,
            "x": 1.004,
            "xanchor": "right",
            "xref": "paper",
            "y": "Entertainment",
            "yref": "y"
           },
           {
            "font": {
             "color": "rgb(7,13,30)",
             "size": 11
            },
            "showarrow": false,
            "text": "(12 : 2.36%)",
            "textangle": 0,
            "x": 1.004,
            "xanchor": "right",
            "xref": "paper",
            "y": "Other Services",
            "yref": "y"
           },
           {
            "font": {
             "color": "rgb(7,13,30)",
             "size": 11
            },
            "showarrow": false,
            "text": "(0 : 0.00%)",
            "textangle": 0,
            "x": 1.004,
            "xanchor": "right",
            "xref": "paper",
            "y": "Public Administration",
            "yref": "y"
           }
          ]
         },
         "name": "2013"
        },
        {
         "data": [
          {
           "alignmentgroup": "True",
           "customdata": [
            [
             "Agriculture,<br>Forestry, Fishing &<br>Hunting, Mining"
            ],
            [
             "Construction"
            ],
            [
             "Manufacturing"
            ],
            [
             "Wholesale Trade"
            ],
            [
             "Retail Trade"
            ],
            [
             "Transportation,<br>Warehousing, Utilities"
            ],
            [
             "Information"
            ],
            [
             "Finance &<br>Insurance, Real Estate,<br>Rental & Leasing"
            ],
            [
             "Professional, Scientific,<br>Management, Administrative,<br>Waste Management Services"
            ],
            [
             "Educational Services,<br>Health Care & Social Assistance"
            ],
            [
             "Arts, Entertainment,<br>Recreation, Accommodation &<br>Food Services"
            ],
            [
             "Other Services"
            ],
            [
             "Public Administration"
            ]
           ],
           "hovertemplate": "%{value:.2f}% of Total Employed<br>Industries: <b>%{customdata}</b><extra></extra>",
           "legendgroup": "",
           "marker": {
            "color": "#636efa",
            "pattern": {
             "shape": ""
            }
           },
           "name": "",
           "offsetgroup": "",
           "orientation": "h",
           "showlegend": false,
           "textposition": "auto",
           "type": "bar",
           "x": [
            0,
            1.894736842105263,
            2.1052631578947367,
            0,
            6.105263157894737,
            3.1578947368421053,
            4.2105263157894735,
            2.9473684210526314,
            18.94736842105263,
            53.26315789473684,
            4.842105263157895,
            2.526315789473684,
            0
           ],
           "xaxis": "x",
           "y": [
            "Agriculture",
            "Construction",
            "Manufacturing",
            "Wholesale",
            "Retail",
            "Transportation",
            "Information",
            "Finance & Insurance",
            "Professional",
            "Education & Healthcare",
            "Entertainment",
            "Other Services",
            "Public Administration"
           ],
           "yaxis": "y"
          }
         ],
         "layout": {
          "annotations": [
           {
            "font": {
             "color": "rgb(7,13,30)",
             "size": 11
            },
            "showarrow": false,
            "text": "(0 : 0.00%)",
            "textangle": 0,
            "x": 1.004,
            "xanchor": "right",
            "xref": "paper",
            "y": "Agriculture",
            "yref": "y"
           },
           {
            "font": {
             "color": "rgb(7,13,30)",
             "size": 11
            },
            "showarrow": false,
            "text": "(9 : 1.89%)",
            "textangle": 0,
            "x": 1.004,
            "xanchor": "right",
            "xref": "paper",
            "y": "Construction",
            "yref": "y"
           },
           {
            "font": {
             "color": "rgb(7,13,30)",
             "size": 11
            },
            "showarrow": false,
            "text": "(10 : 2.11%)",
            "textangle": 0,
            "x": 1.004,
            "xanchor": "right",
            "xref": "paper",
            "y": "Manufacturing",
            "yref": "y"
           },
           {
            "font": {
             "color": "rgb(7,13,30)",
             "size": 11
            },
            "showarrow": false,
            "text": "(0 : 0.00%)",
            "textangle": 0,
            "x": 1.004,
            "xanchor": "right",
            "xref": "paper",
            "y": "Wholesale",
            "yref": "y"
           },
           {
            "font": {
             "color": "rgb(7,13,30)",
             "size": 11
            },
            "showarrow": false,
            "text": "(29 : 6.11%)",
            "textangle": 0,
            "x": 1.004,
            "xanchor": "right",
            "xref": "paper",
            "y": "Retail",
            "yref": "y"
           },
           {
            "font": {
             "color": "rgb(7,13,30)",
             "size": 11
            },
            "showarrow": false,
            "text": "(15 : 3.16%)",
            "textangle": 0,
            "x": 1.004,
            "xanchor": "right",
            "xref": "paper",
            "y": "Transportation",
            "yref": "y"
           },
           {
            "font": {
             "color": "rgb(7,13,30)",
             "size": 11
            },
            "showarrow": false,
            "text": "(20 : 4.21%)",
            "textangle": 0,
            "x": 1.004,
            "xanchor": "right",
            "xref": "paper",
            "y": "Information",
            "yref": "y"
           },
           {
            "font": {
             "color": "rgb(7,13,30)",
             "size": 11
            },
            "showarrow": false,
            "text": "(14 : 2.95%)",
            "textangle": 0,
            "x": 1.004,
            "xanchor": "right",
            "xref": "paper",
            "y": "Finance & Insurance",
            "yref": "y"
           },
           {
            "font": {
             "color": "rgb(7,13,30)",
             "size": 11
            },
            "showarrow": false,
            "text": "(90 : 18.95%)",
            "textangle": 0,
            "x": 1.004,
            "xanchor": "right",
            "xref": "paper",
            "y": "Professional",
            "yref": "y"
           },
           {
            "font": {
             "color": "rgb(7,13,30)",
             "size": 11
            },
            "showarrow": false,
            "text": "(253 : 53.26%)",
            "textangle": 0,
            "x": 1.004,
            "xanchor": "right",
            "xref": "paper",
            "y": "Education & Healthcare",
            "yref": "y"
           },
           {
            "font": {
             "color": "rgb(7,13,30)",
             "size": 11
            },
            "showarrow": false,
            "text": "(23 : 4.84%)",
            "textangle": 0,
            "x": 1.004,
            "xanchor": "right",
            "xref": "paper",
            "y": "Entertainment",
            "yref": "y"
           },
           {
            "font": {
             "color": "rgb(7,13,30)",
             "size": 11
            },
            "showarrow": false,
            "text": "(12 : 2.53%)",
            "textangle": 0,
            "x": 1.004,
            "xanchor": "right",
            "xref": "paper",
            "y": "Other Services",
            "yref": "y"
           },
           {
            "font": {
             "color": "rgb(7,13,30)",
             "size": 11
            },
            "showarrow": false,
            "text": "(0 : 0.00%)",
            "textangle": 0,
            "x": 1.004,
            "xanchor": "right",
            "xref": "paper",
            "y": "Public Administration",
            "yref": "y"
           }
          ]
         },
         "name": "2014"
        },
        {
         "data": [
          {
           "alignmentgroup": "True",
           "customdata": [
            [
             "Agriculture,<br>Forestry, Fishing &<br>Hunting, Mining"
            ],
            [
             "Construction"
            ],
            [
             "Manufacturing"
            ],
            [
             "Wholesale Trade"
            ],
            [
             "Retail Trade"
            ],
            [
             "Transportation,<br>Warehousing, Utilities"
            ],
            [
             "Information"
            ],
            [
             "Finance &<br>Insurance, Real Estate,<br>Rental & Leasing"
            ],
            [
             "Professional, Scientific,<br>Management, Administrative,<br>Waste Management Services"
            ],
            [
             "Educational Services,<br>Health Care & Social Assistance"
            ],
            [
             "Arts, Entertainment,<br>Recreation, Accommodation &<br>Food Services"
            ],
            [
             "Other Services"
            ],
            [
             "Public Administration"
            ]
           ],
           "hovertemplate": "%{value:.2f}% of Total Employed<br>Industries: <b>%{customdata}</b><extra></extra>",
           "legendgroup": "",
           "marker": {
            "color": "#636efa",
            "pattern": {
             "shape": ""
            }
           },
           "name": "",
           "offsetgroup": "",
           "orientation": "h",
           "showlegend": false,
           "textposition": "auto",
           "type": "bar",
           "x": [
            0,
            5.389221556886228,
            2.395209580838323,
            0,
            7.7844311377245505,
            0,
            1.1976047904191616,
            0,
            20.15968063872256,
            53.49301397205589,
            7.385229540918163,
            0,
            2.1956087824351296
           ],
           "xaxis": "x",
           "y": [
            "Agriculture",
            "Construction",
            "Manufacturing",
            "Wholesale",
            "Retail",
            "Transportation",
            "Information",
            "Finance & Insurance",
            "Professional",
            "Education & Healthcare",
            "Entertainment",
            "Other Services",
            "Public Administration"
           ],
           "yaxis": "y"
          }
         ],
         "layout": {
          "annotations": [
           {
            "font": {
             "color": "rgb(7,13,30)",
             "size": 11
            },
            "showarrow": false,
            "text": "(0 : 0.00%)",
            "textangle": 0,
            "x": 1.004,
            "xanchor": "right",
            "xref": "paper",
            "y": "Agriculture",
            "yref": "y"
           },
           {
            "font": {
             "color": "rgb(7,13,30)",
             "size": 11
            },
            "showarrow": false,
            "text": "(27 : 5.39%)",
            "textangle": 0,
            "x": 1.004,
            "xanchor": "right",
            "xref": "paper",
            "y": "Construction",
            "yref": "y"
           },
           {
            "font": {
             "color": "rgb(7,13,30)",
             "size": 11
            },
            "showarrow": false,
            "text": "(12 : 2.40%)",
            "textangle": 0,
            "x": 1.004,
            "xanchor": "right",
            "xref": "paper",
            "y": "Manufacturing",
            "yref": "y"
           },
           {
            "font": {
             "color": "rgb(7,13,30)",
             "size": 11
            },
            "showarrow": false,
            "text": "(0 : 0.00%)",
            "textangle": 0,
            "x": 1.004,
            "xanchor": "right",
            "xref": "paper",
            "y": "Wholesale",
            "yref": "y"
           },
           {
            "font": {
             "color": "rgb(7,13,30)",
             "size": 11
            },
            "showarrow": false,
            "text": "(39 : 7.78%)",
            "textangle": 0,
            "x": 1.004,
            "xanchor": "right",
            "xref": "paper",
            "y": "Retail",
            "yref": "y"
           },
           {
            "font": {
             "color": "rgb(7,13,30)",
             "size": 11
            },
            "showarrow": false,
            "text": "(0 : 0.00%)",
            "textangle": 0,
            "x": 1.004,
            "xanchor": "right",
            "xref": "paper",
            "y": "Transportation",
            "yref": "y"
           },
           {
            "font": {
             "color": "rgb(7,13,30)",
             "size": 11
            },
            "showarrow": false,
            "text": "(6 : 1.20%)",
            "textangle": 0,
            "x": 1.004,
            "xanchor": "right",
            "xref": "paper",
            "y": "Information",
            "yref": "y"
           },
           {
            "font": {
             "color": "rgb(7,13,30)",
             "size": 11
            },
            "showarrow": false,
            "text": "(0 : 0.00%)",
            "textangle": 0,
            "x": 1.004,
            "xanchor": "right",
            "xref": "paper",
            "y": "Finance & Insurance",
            "yref": "y"
           },
           {
            "font": {
             "color": "rgb(7,13,30)",
             "size": 11
            },
            "showarrow": false,
            "text": "(101 : 20.16%)",
            "textangle": 0,
            "x": 1.004,
            "xanchor": "right",
            "xref": "paper",
            "y": "Professional",
            "yref": "y"
           },
           {
            "font": {
             "color": "rgb(7,13,30)",
             "size": 11
            },
            "showarrow": false,
            "text": "(268 : 53.49%)",
            "textangle": 0,
            "x": 1.004,
            "xanchor": "right",
            "xref": "paper",
            "y": "Education & Healthcare",
            "yref": "y"
           },
           {
            "font": {
             "color": "rgb(7,13,30)",
             "size": 11
            },
            "showarrow": false,
            "text": "(37 : 7.39%)",
            "textangle": 0,
            "x": 1.004,
            "xanchor": "right",
            "xref": "paper",
            "y": "Entertainment",
            "yref": "y"
           },
           {
            "font": {
             "color": "rgb(7,13,30)",
             "size": 11
            },
            "showarrow": false,
            "text": "(0 : 0.00%)",
            "textangle": 0,
            "x": 1.004,
            "xanchor": "right",
            "xref": "paper",
            "y": "Other Services",
            "yref": "y"
           },
           {
            "font": {
             "color": "rgb(7,13,30)",
             "size": 11
            },
            "showarrow": false,
            "text": "(11 : 2.20%)",
            "textangle": 0,
            "x": 1.004,
            "xanchor": "right",
            "xref": "paper",
            "y": "Public Administration",
            "yref": "y"
           }
          ]
         },
         "name": "2015"
        },
        {
         "data": [
          {
           "alignmentgroup": "True",
           "customdata": [
            [
             "Agriculture,<br>Forestry, Fishing &<br>Hunting, Mining"
            ],
            [
             "Construction"
            ],
            [
             "Manufacturing"
            ],
            [
             "Wholesale Trade"
            ],
            [
             "Retail Trade"
            ],
            [
             "Transportation,<br>Warehousing, Utilities"
            ],
            [
             "Information"
            ],
            [
             "Finance &<br>Insurance, Real Estate,<br>Rental & Leasing"
            ],
            [
             "Professional, Scientific,<br>Management, Administrative,<br>Waste Management Services"
            ],
            [
             "Educational Services,<br>Health Care & Social Assistance"
            ],
            [
             "Arts, Entertainment,<br>Recreation, Accommodation &<br>Food Services"
            ],
            [
             "Other Services"
            ],
            [
             "Public Administration"
            ]
           ],
           "hovertemplate": "%{value:.2f}% of Total Employed<br>Industries: <b>%{customdata}</b><extra></extra>",
           "legendgroup": "",
           "marker": {
            "color": "#636efa",
            "pattern": {
             "shape": ""
            }
           },
           "name": "",
           "offsetgroup": "",
           "orientation": "h",
           "showlegend": false,
           "textposition": "auto",
           "type": "bar",
           "x": [
            0,
            7.186858316221766,
            1.8480492813141685,
            0,
            8.213552361396303,
            0,
            2.053388090349076,
            2.053388090349076,
            13.5523613963039,
            52.56673511293634,
            7.802874743326488,
            2.6694045174537986,
            2.053388090349076
           ],
           "xaxis": "x",
           "y": [
            "Agriculture",
            "Construction",
            "Manufacturing",
            "Wholesale",
            "Retail",
            "Transportation",
            "Information",
            "Finance & Insurance",
            "Professional",
            "Education & Healthcare",
            "Entertainment",
            "Other Services",
            "Public Administration"
           ],
           "yaxis": "y"
          }
         ],
         "layout": {
          "annotations": [
           {
            "font": {
             "color": "rgb(7,13,30)",
             "size": 11
            },
            "showarrow": false,
            "text": "(0 : 0.00%)",
            "textangle": 0,
            "x": 1.004,
            "xanchor": "right",
            "xref": "paper",
            "y": "Agriculture",
            "yref": "y"
           },
           {
            "font": {
             "color": "rgb(7,13,30)",
             "size": 11
            },
            "showarrow": false,
            "text": "(35 : 7.19%)",
            "textangle": 0,
            "x": 1.004,
            "xanchor": "right",
            "xref": "paper",
            "y": "Construction",
            "yref": "y"
           },
           {
            "font": {
             "color": "rgb(7,13,30)",
             "size": 11
            },
            "showarrow": false,
            "text": "(9 : 1.85%)",
            "textangle": 0,
            "x": 1.004,
            "xanchor": "right",
            "xref": "paper",
            "y": "Manufacturing",
            "yref": "y"
           },
           {
            "font": {
             "color": "rgb(7,13,30)",
             "size": 11
            },
            "showarrow": false,
            "text": "(0 : 0.00%)",
            "textangle": 0,
            "x": 1.004,
            "xanchor": "right",
            "xref": "paper",
            "y": "Wholesale",
            "yref": "y"
           },
           {
            "font": {
             "color": "rgb(7,13,30)",
             "size": 11
            },
            "showarrow": false,
            "text": "(40 : 8.21%)",
            "textangle": 0,
            "x": 1.004,
            "xanchor": "right",
            "xref": "paper",
            "y": "Retail",
            "yref": "y"
           },
           {
            "font": {
             "color": "rgb(7,13,30)",
             "size": 11
            },
            "showarrow": false,
            "text": "(0 : 0.00%)",
            "textangle": 0,
            "x": 1.004,
            "xanchor": "right",
            "xref": "paper",
            "y": "Transportation",
            "yref": "y"
           },
           {
            "font": {
             "color": "rgb(7,13,30)",
             "size": 11
            },
            "showarrow": false,
            "text": "(10 : 2.05%)",
            "textangle": 0,
            "x": 1.004,
            "xanchor": "right",
            "xref": "paper",
            "y": "Information",
            "yref": "y"
           },
           {
            "font": {
             "color": "rgb(7,13,30)",
             "size": 11
            },
            "showarrow": false,
            "text": "(10 : 2.05%)",
            "textangle": 0,
            "x": 1.004,
            "xanchor": "right",
            "xref": "paper",
            "y": "Finance & Insurance",
            "yref": "y"
           },
           {
            "font": {
             "color": "rgb(7,13,30)",
             "size": 11
            },
            "showarrow": false,
            "text": "(66 : 13.55%)",
            "textangle": 0,
            "x": 1.004,
            "xanchor": "right",
            "xref": "paper",
            "y": "Professional",
            "yref": "y"
           },
           {
            "font": {
             "color": "rgb(7,13,30)",
             "size": 11
            },
            "showarrow": false,
            "text": "(256 : 52.57%)",
            "textangle": 0,
            "x": 1.004,
            "xanchor": "right",
            "xref": "paper",
            "y": "Education & Healthcare",
            "yref": "y"
           },
           {
            "font": {
             "color": "rgb(7,13,30)",
             "size": 11
            },
            "showarrow": false,
            "text": "(38 : 7.80%)",
            "textangle": 0,
            "x": 1.004,
            "xanchor": "right",
            "xref": "paper",
            "y": "Entertainment",
            "yref": "y"
           },
           {
            "font": {
             "color": "rgb(7,13,30)",
             "size": 11
            },
            "showarrow": false,
            "text": "(13 : 2.67%)",
            "textangle": 0,
            "x": 1.004,
            "xanchor": "right",
            "xref": "paper",
            "y": "Other Services",
            "yref": "y"
           },
           {
            "font": {
             "color": "rgb(7,13,30)",
             "size": 11
            },
            "showarrow": false,
            "text": "(10 : 2.05%)",
            "textangle": 0,
            "x": 1.004,
            "xanchor": "right",
            "xref": "paper",
            "y": "Public Administration",
            "yref": "y"
           }
          ]
         },
         "name": "2016"
        },
        {
         "data": [
          {
           "alignmentgroup": "True",
           "customdata": [
            [
             "Agriculture,<br>Forestry, Fishing &<br>Hunting, Mining"
            ],
            [
             "Construction"
            ],
            [
             "Manufacturing"
            ],
            [
             "Wholesale Trade"
            ],
            [
             "Retail Trade"
            ],
            [
             "Transportation,<br>Warehousing, Utilities"
            ],
            [
             "Information"
            ],
            [
             "Finance &<br>Insurance, Real Estate,<br>Rental & Leasing"
            ],
            [
             "Professional, Scientific,<br>Management, Administrative,<br>Waste Management Services"
            ],
            [
             "Educational Services,<br>Health Care & Social Assistance"
            ],
            [
             "Arts, Entertainment,<br>Recreation, Accommodation &<br>Food Services"
            ],
            [
             "Other Services"
            ],
            [
             "Public Administration"
            ]
           ],
           "hovertemplate": "%{value:.2f}% of Total Employed<br>Industries: <b>%{customdata}</b><extra></extra>",
           "legendgroup": "",
           "marker": {
            "color": "#636efa",
            "pattern": {
             "shape": ""
            }
           },
           "name": "",
           "offsetgroup": "",
           "orientation": "h",
           "showlegend": false,
           "textposition": "auto",
           "type": "bar",
           "x": [
            0,
            6.744186046511628,
            0,
            0,
            3.488372093023256,
            0,
            3.255813953488372,
            9.069767441860463,
            17.441860465116278,
            47.44186046511628,
            7.906976744186046,
            2.558139534883721,
            2.0930232558139537
           ],
           "xaxis": "x",
           "y": [
            "Agriculture",
            "Construction",
            "Manufacturing",
            "Wholesale",
            "Retail",
            "Transportation",
            "Information",
            "Finance & Insurance",
            "Professional",
            "Education & Healthcare",
            "Entertainment",
            "Other Services",
            "Public Administration"
           ],
           "yaxis": "y"
          }
         ],
         "layout": {
          "annotations": [
           {
            "font": {
             "color": "rgb(7,13,30)",
             "size": 11
            },
            "showarrow": false,
            "text": "(0 : 0.00%)",
            "textangle": 0,
            "x": 1.004,
            "xanchor": "right",
            "xref": "paper",
            "y": "Agriculture",
            "yref": "y"
           },
           {
            "font": {
             "color": "rgb(7,13,30)",
             "size": 11
            },
            "showarrow": false,
            "text": "(29 : 6.74%)",
            "textangle": 0,
            "x": 1.004,
            "xanchor": "right",
            "xref": "paper",
            "y": "Construction",
            "yref": "y"
           },
           {
            "font": {
             "color": "rgb(7,13,30)",
             "size": 11
            },
            "showarrow": false,
            "text": "(0 : 0.00%)",
            "textangle": 0,
            "x": 1.004,
            "xanchor": "right",
            "xref": "paper",
            "y": "Manufacturing",
            "yref": "y"
           },
           {
            "font": {
             "color": "rgb(7,13,30)",
             "size": 11
            },
            "showarrow": false,
            "text": "(0 : 0.00%)",
            "textangle": 0,
            "x": 1.004,
            "xanchor": "right",
            "xref": "paper",
            "y": "Wholesale",
            "yref": "y"
           },
           {
            "font": {
             "color": "rgb(7,13,30)",
             "size": 11
            },
            "showarrow": false,
            "text": "(15 : 3.49%)",
            "textangle": 0,
            "x": 1.004,
            "xanchor": "right",
            "xref": "paper",
            "y": "Retail",
            "yref": "y"
           },
           {
            "font": {
             "color": "rgb(7,13,30)",
             "size": 11
            },
            "showarrow": false,
            "text": "(0 : 0.00%)",
            "textangle": 0,
            "x": 1.004,
            "xanchor": "right",
            "xref": "paper",
            "y": "Transportation",
            "yref": "y"
           },
           {
            "font": {
             "color": "rgb(7,13,30)",
             "size": 11
            },
            "showarrow": false,
            "text": "(14 : 3.26%)",
            "textangle": 0,
            "x": 1.004,
            "xanchor": "right",
            "xref": "paper",
            "y": "Information",
            "yref": "y"
           },
           {
            "font": {
             "color": "rgb(7,13,30)",
             "size": 11
            },
            "showarrow": false,
            "text": "(39 : 9.07%)",
            "textangle": 0,
            "x": 1.004,
            "xanchor": "right",
            "xref": "paper",
            "y": "Finance & Insurance",
            "yref": "y"
           },
           {
            "font": {
             "color": "rgb(7,13,30)",
             "size": 11
            },
            "showarrow": false,
            "text": "(75 : 17.44%)",
            "textangle": 0,
            "x": 1.004,
            "xanchor": "right",
            "xref": "paper",
            "y": "Professional",
            "yref": "y"
           },
           {
            "font": {
             "color": "rgb(7,13,30)",
             "size": 11
            },
            "showarrow": false,
            "text": "(204 : 47.44%)",
            "textangle": 0,
            "x": 1.004,
            "xanchor": "right",
            "xref": "paper",
            "y": "Education & Healthcare",
            "yref": "y"
           },
           {
            "font": {
             "color": "rgb(7,13,30)",
             "size": 11
            },
            "showarrow": false,
            "text": "(34 : 7.91%)",
            "textangle": 0,
            "x": 1.004,
            "xanchor": "right",
            "xref": "paper",
            "y": "Entertainment",
            "yref": "y"
           },
           {
            "font": {
             "color": "rgb(7,13,30)",
             "size": 11
            },
            "showarrow": false,
            "text": "(11 : 2.56%)",
            "textangle": 0,
            "x": 1.004,
            "xanchor": "right",
            "xref": "paper",
            "y": "Other Services",
            "yref": "y"
           },
           {
            "font": {
             "color": "rgb(7,13,30)",
             "size": 11
            },
            "showarrow": false,
            "text": "(9 : 2.09%)",
            "textangle": 0,
            "x": 1.004,
            "xanchor": "right",
            "xref": "paper",
            "y": "Public Administration",
            "yref": "y"
           }
          ]
         },
         "name": "2017"
        },
        {
         "data": [
          {
           "alignmentgroup": "True",
           "customdata": [
            [
             "Agriculture,<br>Forestry, Fishing &<br>Hunting, Mining"
            ],
            [
             "Construction"
            ],
            [
             "Manufacturing"
            ],
            [
             "Wholesale Trade"
            ],
            [
             "Retail Trade"
            ],
            [
             "Transportation,<br>Warehousing, Utilities"
            ],
            [
             "Information"
            ],
            [
             "Finance &<br>Insurance, Real Estate,<br>Rental & Leasing"
            ],
            [
             "Professional, Scientific,<br>Management, Administrative,<br>Waste Management Services"
            ],
            [
             "Educational Services,<br>Health Care & Social Assistance"
            ],
            [
             "Arts, Entertainment,<br>Recreation, Accommodation &<br>Food Services"
            ],
            [
             "Other Services"
            ],
            [
             "Public Administration"
            ]
           ],
           "hovertemplate": "%{value:.2f}% of Total Employed<br>Industries: <b>%{customdata}</b><extra></extra>",
           "legendgroup": "",
           "marker": {
            "color": "#636efa",
            "pattern": {
             "shape": ""
            }
           },
           "name": "",
           "offsetgroup": "",
           "orientation": "h",
           "showlegend": false,
           "textposition": "auto",
           "type": "bar",
           "x": [
            0,
            1.9723865877712032,
            0,
            0,
            2.9585798816568047,
            0,
            2.366863905325444,
            9.467455621301776,
            16.962524654832347,
            51.08481262327416,
            11.045364891518735,
            2.366863905325444,
            1.7751479289940828
           ],
           "xaxis": "x",
           "y": [
            "Agriculture",
            "Construction",
            "Manufacturing",
            "Wholesale",
            "Retail",
            "Transportation",
            "Information",
            "Finance & Insurance",
            "Professional",
            "Education & Healthcare",
            "Entertainment",
            "Other Services",
            "Public Administration"
           ],
           "yaxis": "y"
          }
         ],
         "layout": {
          "annotations": [
           {
            "font": {
             "color": "rgb(7,13,30)",
             "size": 11
            },
            "showarrow": false,
            "text": "(0 : 0.00%)",
            "textangle": 0,
            "x": 1.004,
            "xanchor": "right",
            "xref": "paper",
            "y": "Agriculture",
            "yref": "y"
           },
           {
            "font": {
             "color": "rgb(7,13,30)",
             "size": 11
            },
            "showarrow": false,
            "text": "(10 : 1.97%)",
            "textangle": 0,
            "x": 1.004,
            "xanchor": "right",
            "xref": "paper",
            "y": "Construction",
            "yref": "y"
           },
           {
            "font": {
             "color": "rgb(7,13,30)",
             "size": 11
            },
            "showarrow": false,
            "text": "(0 : 0.00%)",
            "textangle": 0,
            "x": 1.004,
            "xanchor": "right",
            "xref": "paper",
            "y": "Manufacturing",
            "yref": "y"
           },
           {
            "font": {
             "color": "rgb(7,13,30)",
             "size": 11
            },
            "showarrow": false,
            "text": "(0 : 0.00%)",
            "textangle": 0,
            "x": 1.004,
            "xanchor": "right",
            "xref": "paper",
            "y": "Wholesale",
            "yref": "y"
           },
           {
            "font": {
             "color": "rgb(7,13,30)",
             "size": 11
            },
            "showarrow": false,
            "text": "(15 : 2.96%)",
            "textangle": 0,
            "x": 1.004,
            "xanchor": "right",
            "xref": "paper",
            "y": "Retail",
            "yref": "y"
           },
           {
            "font": {
             "color": "rgb(7,13,30)",
             "size": 11
            },
            "showarrow": false,
            "text": "(0 : 0.00%)",
            "textangle": 0,
            "x": 1.004,
            "xanchor": "right",
            "xref": "paper",
            "y": "Transportation",
            "yref": "y"
           },
           {
            "font": {
             "color": "rgb(7,13,30)",
             "size": 11
            },
            "showarrow": false,
            "text": "(12 : 2.37%)",
            "textangle": 0,
            "x": 1.004,
            "xanchor": "right",
            "xref": "paper",
            "y": "Information",
            "yref": "y"
           },
           {
            "font": {
             "color": "rgb(7,13,30)",
             "size": 11
            },
            "showarrow": false,
            "text": "(48 : 9.47%)",
            "textangle": 0,
            "x": 1.004,
            "xanchor": "right",
            "xref": "paper",
            "y": "Finance & Insurance",
            "yref": "y"
           },
           {
            "font": {
             "color": "rgb(7,13,30)",
             "size": 11
            },
            "showarrow": false,
            "text": "(86 : 16.96%)",
            "textangle": 0,
            "x": 1.004,
            "xanchor": "right",
            "xref": "paper",
            "y": "Professional",
            "yref": "y"
           },
           {
            "font": {
             "color": "rgb(7,13,30)",
             "size": 11
            },
            "showarrow": false,
            "text": "(259 : 51.08%)",
            "textangle": 0,
            "x": 1.004,
            "xanchor": "right",
            "xref": "paper",
            "y": "Education & Healthcare",
            "yref": "y"
           },
           {
            "font": {
             "color": "rgb(7,13,30)",
             "size": 11
            },
            "showarrow": false,
            "text": "(56 : 11.05%)",
            "textangle": 0,
            "x": 1.004,
            "xanchor": "right",
            "xref": "paper",
            "y": "Entertainment",
            "yref": "y"
           },
           {
            "font": {
             "color": "rgb(7,13,30)",
             "size": 11
            },
            "showarrow": false,
            "text": "(12 : 2.37%)",
            "textangle": 0,
            "x": 1.004,
            "xanchor": "right",
            "xref": "paper",
            "y": "Other Services",
            "yref": "y"
           },
           {
            "font": {
             "color": "rgb(7,13,30)",
             "size": 11
            },
            "showarrow": false,
            "text": "(9 : 1.78%)",
            "textangle": 0,
            "x": 1.004,
            "xanchor": "right",
            "xref": "paper",
            "y": "Public Administration",
            "yref": "y"
           }
          ]
         },
         "name": "2018"
        },
        {
         "data": [
          {
           "alignmentgroup": "True",
           "customdata": [
            [
             "Agriculture,<br>Forestry, Fishing &<br>Hunting, Mining"
            ],
            [
             "Construction"
            ],
            [
             "Manufacturing"
            ],
            [
             "Wholesale Trade"
            ],
            [
             "Retail Trade"
            ],
            [
             "Transportation,<br>Warehousing, Utilities"
            ],
            [
             "Information"
            ],
            [
             "Finance &<br>Insurance, Real Estate,<br>Rental & Leasing"
            ],
            [
             "Professional, Scientific,<br>Management, Administrative,<br>Waste Management Services"
            ],
            [
             "Educational Services,<br>Health Care & Social Assistance"
            ],
            [
             "Arts, Entertainment,<br>Recreation, Accommodation &<br>Food Services"
            ],
            [
             "Other Services"
            ],
            [
             "Public Administration"
            ]
           ],
           "hovertemplate": "%{value:.2f}% of Total Employed<br>Industries: <b>%{customdata}</b><extra></extra>",
           "legendgroup": "",
           "marker": {
            "color": "#636efa",
            "pattern": {
             "shape": ""
            }
           },
           "name": "",
           "offsetgroup": "",
           "orientation": "h",
           "showlegend": false,
           "textposition": "auto",
           "type": "bar",
           "x": [
            0,
            2.5700934579439254,
            0,
            0,
            3.504672897196261,
            3.2710280373831777,
            3.037383177570093,
            11.91588785046729,
            24.53271028037383,
            33.64485981308411,
            12.850467289719626,
            3.037383177570093,
            1.6355140186915889
           ],
           "xaxis": "x",
           "y": [
            "Agriculture",
            "Construction",
            "Manufacturing",
            "Wholesale",
            "Retail",
            "Transportation",
            "Information",
            "Finance & Insurance",
            "Professional",
            "Education & Healthcare",
            "Entertainment",
            "Other Services",
            "Public Administration"
           ],
           "yaxis": "y"
          }
         ],
         "layout": {
          "annotations": [
           {
            "font": {
             "color": "rgb(7,13,30)",
             "size": 11
            },
            "showarrow": false,
            "text": "(0 : 0.00%)",
            "textangle": 0,
            "x": 1.004,
            "xanchor": "right",
            "xref": "paper",
            "y": "Agriculture",
            "yref": "y"
           },
           {
            "font": {
             "color": "rgb(7,13,30)",
             "size": 11
            },
            "showarrow": false,
            "text": "(11 : 2.57%)",
            "textangle": 0,
            "x": 1.004,
            "xanchor": "right",
            "xref": "paper",
            "y": "Construction",
            "yref": "y"
           },
           {
            "font": {
             "color": "rgb(7,13,30)",
             "size": 11
            },
            "showarrow": false,
            "text": "(0 : 0.00%)",
            "textangle": 0,
            "x": 1.004,
            "xanchor": "right",
            "xref": "paper",
            "y": "Manufacturing",
            "yref": "y"
           },
           {
            "font": {
             "color": "rgb(7,13,30)",
             "size": 11
            },
            "showarrow": false,
            "text": "(0 : 0.00%)",
            "textangle": 0,
            "x": 1.004,
            "xanchor": "right",
            "xref": "paper",
            "y": "Wholesale",
            "yref": "y"
           },
           {
            "font": {
             "color": "rgb(7,13,30)",
             "size": 11
            },
            "showarrow": false,
            "text": "(15 : 3.50%)",
            "textangle": 0,
            "x": 1.004,
            "xanchor": "right",
            "xref": "paper",
            "y": "Retail",
            "yref": "y"
           },
           {
            "font": {
             "color": "rgb(7,13,30)",
             "size": 11
            },
            "showarrow": false,
            "text": "(14 : 3.27%)",
            "textangle": 0,
            "x": 1.004,
            "xanchor": "right",
            "xref": "paper",
            "y": "Transportation",
            "yref": "y"
           },
           {
            "font": {
             "color": "rgb(7,13,30)",
             "size": 11
            },
            "showarrow": false,
            "text": "(13 : 3.04%)",
            "textangle": 0,
            "x": 1.004,
            "xanchor": "right",
            "xref": "paper",
            "y": "Information",
            "yref": "y"
           },
           {
            "font": {
             "color": "rgb(7,13,30)",
             "size": 11
            },
            "showarrow": false,
            "text": "(51 : 11.92%)",
            "textangle": 0,
            "x": 1.004,
            "xanchor": "right",
            "xref": "paper",
            "y": "Finance & Insurance",
            "yref": "y"
           },
           {
            "font": {
             "color": "rgb(7,13,30)",
             "size": 11
            },
            "showarrow": false,
            "text": "(105 : 24.53%)",
            "textangle": 0,
            "x": 1.004,
            "xanchor": "right",
            "xref": "paper",
            "y": "Professional",
            "yref": "y"
           },
           {
            "font": {
             "color": "rgb(7,13,30)",
             "size": 11
            },
            "showarrow": false,
            "text": "(144 : 33.64%)",
            "textangle": 0,
            "x": 1.004,
            "xanchor": "right",
            "xref": "paper",
            "y": "Education & Healthcare",
            "yref": "y"
           },
           {
            "font": {
             "color": "rgb(7,13,30)",
             "size": 11
            },
            "showarrow": false,
            "text": "(55 : 12.85%)",
            "textangle": 0,
            "x": 1.004,
            "xanchor": "right",
            "xref": "paper",
            "y": "Entertainment",
            "yref": "y"
           },
           {
            "font": {
             "color": "rgb(7,13,30)",
             "size": 11
            },
            "showarrow": false,
            "text": "(13 : 3.04%)",
            "textangle": 0,
            "x": 1.004,
            "xanchor": "right",
            "xref": "paper",
            "y": "Other Services",
            "yref": "y"
           },
           {
            "font": {
             "color": "rgb(7,13,30)",
             "size": 11
            },
            "showarrow": false,
            "text": "(7 : 1.64%)",
            "textangle": 0,
            "x": 1.004,
            "xanchor": "right",
            "xref": "paper",
            "y": "Public Administration",
            "yref": "y"
           }
          ]
         },
         "name": "2019"
        },
        {
         "data": [
          {
           "alignmentgroup": "True",
           "customdata": [
            [
             "Agriculture,<br>Forestry, Fishing &<br>Hunting, Mining"
            ],
            [
             "Construction"
            ],
            [
             "Manufacturing"
            ],
            [
             "Wholesale Trade"
            ],
            [
             "Retail Trade"
            ],
            [
             "Transportation,<br>Warehousing, Utilities"
            ],
            [
             "Information"
            ],
            [
             "Finance &<br>Insurance, Real Estate,<br>Rental & Leasing"
            ],
            [
             "Professional, Scientific,<br>Management, Administrative,<br>Waste Management Services"
            ],
            [
             "Educational Services,<br>Health Care & Social Assistance"
            ],
            [
             "Arts, Entertainment,<br>Recreation, Accommodation &<br>Food Services"
            ],
            [
             "Other Services"
            ],
            [
             "Public Administration"
            ]
           ],
           "hovertemplate": "%{value:.2f}% of Total Employed<br>Industries: <b>%{customdata}</b><extra></extra>",
           "legendgroup": "",
           "marker": {
            "color": "#636efa",
            "pattern": {
             "shape": ""
            }
           },
           "name": "",
           "offsetgroup": "",
           "orientation": "h",
           "showlegend": false,
           "textposition": "auto",
           "type": "bar",
           "x": [
            0,
            1.33630289532294,
            0,
            0,
            1.11358574610245,
            2.89532293986637,
            2.67260579064588,
            14.476614699331847,
            37.8619153674833,
            29.844097995545656,
            7.12694877505568,
            2.67260579064588,
            0
           ],
           "xaxis": "x",
           "y": [
            "Agriculture",
            "Construction",
            "Manufacturing",
            "Wholesale",
            "Retail",
            "Transportation",
            "Information",
            "Finance & Insurance",
            "Professional",
            "Education & Healthcare",
            "Entertainment",
            "Other Services",
            "Public Administration"
           ],
           "yaxis": "y"
          }
         ],
         "layout": {
          "annotations": [
           {
            "font": {
             "color": "rgb(7,13,30)",
             "size": 11
            },
            "showarrow": false,
            "text": "(0 : 0.00%)",
            "textangle": 0,
            "x": 1.004,
            "xanchor": "right",
            "xref": "paper",
            "y": "Agriculture",
            "yref": "y"
           },
           {
            "font": {
             "color": "rgb(7,13,30)",
             "size": 11
            },
            "showarrow": false,
            "text": "(6 : 1.34%)",
            "textangle": 0,
            "x": 1.004,
            "xanchor": "right",
            "xref": "paper",
            "y": "Construction",
            "yref": "y"
           },
           {
            "font": {
             "color": "rgb(7,13,30)",
             "size": 11
            },
            "showarrow": false,
            "text": "(0 : 0.00%)",
            "textangle": 0,
            "x": 1.004,
            "xanchor": "right",
            "xref": "paper",
            "y": "Manufacturing",
            "yref": "y"
           },
           {
            "font": {
             "color": "rgb(7,13,30)",
             "size": 11
            },
            "showarrow": false,
            "text": "(0 : 0.00%)",
            "textangle": 0,
            "x": 1.004,
            "xanchor": "right",
            "xref": "paper",
            "y": "Wholesale",
            "yref": "y"
           },
           {
            "font": {
             "color": "rgb(7,13,30)",
             "size": 11
            },
            "showarrow": false,
            "text": "(5 : 1.11%)",
            "textangle": 0,
            "x": 1.004,
            "xanchor": "right",
            "xref": "paper",
            "y": "Retail",
            "yref": "y"
           },
           {
            "font": {
             "color": "rgb(7,13,30)",
             "size": 11
            },
            "showarrow": false,
            "text": "(13 : 2.90%)",
            "textangle": 0,
            "x": 1.004,
            "xanchor": "right",
            "xref": "paper",
            "y": "Transportation",
            "yref": "y"
           },
           {
            "font": {
             "color": "rgb(7,13,30)",
             "size": 11
            },
            "showarrow": false,
            "text": "(12 : 2.67%)",
            "textangle": 0,
            "x": 1.004,
            "xanchor": "right",
            "xref": "paper",
            "y": "Information",
            "yref": "y"
           },
           {
            "font": {
             "color": "rgb(7,13,30)",
             "size": 11
            },
            "showarrow": false,
            "text": "(65 : 14.48%)",
            "textangle": 0,
            "x": 1.004,
            "xanchor": "right",
            "xref": "paper",
            "y": "Finance & Insurance",
            "yref": "y"
           },
           {
            "font": {
             "color": "rgb(7,13,30)",
             "size": 11
            },
            "showarrow": false,
            "text": "(170 : 37.86%)",
            "textangle": 0,
            "x": 1.004,
            "xanchor": "right",
            "xref": "paper",
            "y": "Professional",
            "yref": "y"
           },
           {
            "font": {
             "color": "rgb(7,13,30)",
             "size": 11
            },
            "showarrow": false,
            "text": "(134 : 29.84%)",
            "textangle": 0,
            "x": 1.004,
            "xanchor": "right",
            "xref": "paper",
            "y": "Education & Healthcare",
            "yref": "y"
           },
           {
            "font": {
             "color": "rgb(7,13,30)",
             "size": 11
            },
            "showarrow": false,
            "text": "(32 : 7.13%)",
            "textangle": 0,
            "x": 1.004,
            "xanchor": "right",
            "xref": "paper",
            "y": "Entertainment",
            "yref": "y"
           },
           {
            "font": {
             "color": "rgb(7,13,30)",
             "size": 11
            },
            "showarrow": false,
            "text": "(12 : 2.67%)",
            "textangle": 0,
            "x": 1.004,
            "xanchor": "right",
            "xref": "paper",
            "y": "Other Services",
            "yref": "y"
           },
           {
            "font": {
             "color": "rgb(7,13,30)",
             "size": 11
            },
            "showarrow": false,
            "text": "(0 : 0.00%)",
            "textangle": 0,
            "x": 1.004,
            "xanchor": "right",
            "xref": "paper",
            "y": "Public Administration",
            "yref": "y"
           }
          ]
         },
         "name": "2020"
        }
       ],
       "layout": {
        "annotations": [
         {
          "font": {
           "color": "rgb(7,13,30)",
           "size": 11
          },
          "showarrow": false,
          "text": "(0 : 0.00%)",
          "textangle": 0,
          "x": 1.004,
          "xanchor": "right",
          "xref": "paper",
          "y": "Agriculture",
          "yref": "y"
         },
         {
          "font": {
           "color": "rgb(7,13,30)",
           "size": 11
          },
          "showarrow": false,
          "text": "(19 : 3.73%)",
          "textangle": 0,
          "x": 1.004,
          "xanchor": "right",
          "xref": "paper",
          "y": "Construction",
          "yref": "y"
         },
         {
          "font": {
           "color": "rgb(7,13,30)",
           "size": 11
          },
          "showarrow": false,
          "text": "(8 : 1.57%)",
          "textangle": 0,
          "x": 1.004,
          "xanchor": "right",
          "xref": "paper",
          "y": "Manufacturing",
          "yref": "y"
         },
         {
          "font": {
           "color": "rgb(7,13,30)",
           "size": 11
          },
          "showarrow": false,
          "text": "(0 : 0.00%)",
          "textangle": 0,
          "x": 1.004,
          "xanchor": "right",
          "xref": "paper",
          "y": "Wholesale",
          "yref": "y"
         },
         {
          "font": {
           "color": "rgb(7,13,30)",
           "size": 11
          },
          "showarrow": false,
          "text": "(33 : 6.48%)",
          "textangle": 0,
          "x": 1.004,
          "xanchor": "right",
          "xref": "paper",
          "y": "Retail",
          "yref": "y"
         },
         {
          "font": {
           "color": "rgb(7,13,30)",
           "size": 11
          },
          "showarrow": false,
          "text": "(14 : 2.75%)",
          "textangle": 0,
          "x": 1.004,
          "xanchor": "right",
          "xref": "paper",
          "y": "Transportation",
          "yref": "y"
         },
         {
          "font": {
           "color": "rgb(7,13,30)",
           "size": 11
          },
          "showarrow": false,
          "text": "(21 : 4.13%)",
          "textangle": 0,
          "x": 1.004,
          "xanchor": "right",
          "xref": "paper",
          "y": "Information",
          "yref": "y"
         },
         {
          "font": {
           "color": "rgb(7,13,30)",
           "size": 11
          },
          "showarrow": false,
          "text": "(13 : 2.55%)",
          "textangle": 0,
          "x": 1.004,
          "xanchor": "right",
          "xref": "paper",
          "y": "Finance & Insurance",
          "yref": "y"
         },
         {
          "font": {
           "color": "rgb(7,13,30)",
           "size": 11
          },
          "showarrow": false,
          "text": "(115 : 22.59%)",
          "textangle": 0,
          "x": 1.004,
          "xanchor": "right",
          "xref": "paper",
          "y": "Professional",
          "yref": "y"
         },
         {
          "font": {
           "color": "rgb(7,13,30)",
           "size": 11
          },
          "showarrow": false,
          "text": "(244 : 47.94%)",
          "textangle": 0,
          "x": 1.004,
          "xanchor": "right",
          "xref": "paper",
          "y": "Education & Healthcare",
          "yref": "y"
         },
         {
          "font": {
           "color": "rgb(7,13,30)",
           "size": 11
          },
          "showarrow": false,
          "text": "(30 : 5.89%)",
          "textangle": 0,
          "x": 1.004,
          "xanchor": "right",
          "xref": "paper",
          "y": "Entertainment",
          "yref": "y"
         },
         {
          "font": {
           "color": "rgb(7,13,30)",
           "size": 11
          },
          "showarrow": false,
          "text": "(12 : 2.36%)",
          "textangle": 0,
          "x": 1.004,
          "xanchor": "right",
          "xref": "paper",
          "y": "Other Services",
          "yref": "y"
         },
         {
          "font": {
           "color": "rgb(7,13,30)",
           "size": 11
          },
          "showarrow": false,
          "text": "(0 : 0.00%)",
          "textangle": 0,
          "x": 1.004,
          "xanchor": "right",
          "xref": "paper",
          "y": "Public Administration",
          "yref": "y"
         }
        ],
        "autosize": true,
        "barmode": "relative",
        "font": {
         "color": "rgb(7,13,30)",
         "size": 13
        },
        "hoverlabel": {
         "align": "left"
        },
        "legend": {
         "bgcolor": "DimGray",
         "tracegroupgap": 0,
         "x": 0.85,
         "xanchor": "right",
         "y": 0,
         "yanchor": "bottom"
        },
        "margin": {
         "b": 0,
         "l": 200,
         "pad": 15,
         "r": 10,
         "t": 30
        },
        "paper_bgcolor": "rgba(0, 0, 0, 0)",
        "plot_bgcolor": "rgba(0, 0, 0, 0)",
        "sliders": [
         {
          "active": 0,
          "currentvalue": {
           "prefix": "Year="
          },
          "len": 0.9,
          "pad": {
           "b": 10,
           "t": 60
          },
          "steps": [
           {
            "args": [
             [
              "2013"
             ],
             {
              "frame": {
               "duration": 0,
               "redraw": true
              },
              "fromcurrent": true,
              "mode": "immediate",
              "transition": {
               "duration": 0,
               "easing": "linear"
              }
             }
            ],
            "label": "2013",
            "method": "animate"
           },
           {
            "args": [
             [
              "2014"
             ],
             {
              "frame": {
               "duration": 0,
               "redraw": true
              },
              "fromcurrent": true,
              "mode": "immediate",
              "transition": {
               "duration": 0,
               "easing": "linear"
              }
             }
            ],
            "label": "2014",
            "method": "animate"
           },
           {
            "args": [
             [
              "2015"
             ],
             {
              "frame": {
               "duration": 0,
               "redraw": true
              },
              "fromcurrent": true,
              "mode": "immediate",
              "transition": {
               "duration": 0,
               "easing": "linear"
              }
             }
            ],
            "label": "2015",
            "method": "animate"
           },
           {
            "args": [
             [
              "2016"
             ],
             {
              "frame": {
               "duration": 0,
               "redraw": true
              },
              "fromcurrent": true,
              "mode": "immediate",
              "transition": {
               "duration": 0,
               "easing": "linear"
              }
             }
            ],
            "label": "2016",
            "method": "animate"
           },
           {
            "args": [
             [
              "2017"
             ],
             {
              "frame": {
               "duration": 0,
               "redraw": true
              },
              "fromcurrent": true,
              "mode": "immediate",
              "transition": {
               "duration": 0,
               "easing": "linear"
              }
             }
            ],
            "label": "2017",
            "method": "animate"
           },
           {
            "args": [
             [
              "2018"
             ],
             {
              "frame": {
               "duration": 0,
               "redraw": true
              },
              "fromcurrent": true,
              "mode": "immediate",
              "transition": {
               "duration": 0,
               "easing": "linear"
              }
             }
            ],
            "label": "2018",
            "method": "animate"
           },
           {
            "args": [
             [
              "2019"
             ],
             {
              "frame": {
               "duration": 0,
               "redraw": true
              },
              "fromcurrent": true,
              "mode": "immediate",
              "transition": {
               "duration": 0,
               "easing": "linear"
              }
             }
            ],
            "label": "2019",
            "method": "animate"
           },
           {
            "args": [
             [
              "2020"
             ],
             {
              "frame": {
               "duration": 0,
               "redraw": true
              },
              "fromcurrent": true,
              "mode": "immediate",
              "transition": {
               "duration": 0,
               "easing": "linear"
              }
             }
            ],
            "label": "2020",
            "method": "animate"
           }
          ],
          "x": -0.04,
          "xanchor": "left",
          "y": 0,
          "yanchor": "top"
         }
        ],
        "template": {
         "data": {
          "bar": [
           {
            "error_x": {
             "color": "#2a3f5f"
            },
            "error_y": {
             "color": "#2a3f5f"
            },
            "marker": {
             "line": {
              "color": "#E5ECF6",
              "width": 0.5
             },
             "pattern": {
              "fillmode": "overlay",
              "size": 10,
              "solidity": 0.2
             }
            },
            "type": "bar"
           }
          ],
          "barpolar": [
           {
            "marker": {
             "line": {
              "color": "#E5ECF6",
              "width": 0.5
             },
             "pattern": {
              "fillmode": "overlay",
              "size": 10,
              "solidity": 0.2
             }
            },
            "type": "barpolar"
           }
          ],
          "carpet": [
           {
            "aaxis": {
             "endlinecolor": "#2a3f5f",
             "gridcolor": "white",
             "linecolor": "white",
             "minorgridcolor": "white",
             "startlinecolor": "#2a3f5f"
            },
            "baxis": {
             "endlinecolor": "#2a3f5f",
             "gridcolor": "white",
             "linecolor": "white",
             "minorgridcolor": "white",
             "startlinecolor": "#2a3f5f"
            },
            "type": "carpet"
           }
          ],
          "choropleth": [
           {
            "colorbar": {
             "outlinewidth": 0,
             "ticks": ""
            },
            "type": "choropleth"
           }
          ],
          "contour": [
           {
            "colorbar": {
             "outlinewidth": 0,
             "ticks": ""
            },
            "colorscale": [
             [
              0,
              "#0d0887"
             ],
             [
              0.1111111111111111,
              "#46039f"
             ],
             [
              0.2222222222222222,
              "#7201a8"
             ],
             [
              0.3333333333333333,
              "#9c179e"
             ],
             [
              0.4444444444444444,
              "#bd3786"
             ],
             [
              0.5555555555555556,
              "#d8576b"
             ],
             [
              0.6666666666666666,
              "#ed7953"
             ],
             [
              0.7777777777777778,
              "#fb9f3a"
             ],
             [
              0.8888888888888888,
              "#fdca26"
             ],
             [
              1,
              "#f0f921"
             ]
            ],
            "type": "contour"
           }
          ],
          "contourcarpet": [
           {
            "colorbar": {
             "outlinewidth": 0,
             "ticks": ""
            },
            "type": "contourcarpet"
           }
          ],
          "heatmap": [
           {
            "colorbar": {
             "outlinewidth": 0,
             "ticks": ""
            },
            "colorscale": [
             [
              0,
              "#0d0887"
             ],
             [
              0.1111111111111111,
              "#46039f"
             ],
             [
              0.2222222222222222,
              "#7201a8"
             ],
             [
              0.3333333333333333,
              "#9c179e"
             ],
             [
              0.4444444444444444,
              "#bd3786"
             ],
             [
              0.5555555555555556,
              "#d8576b"
             ],
             [
              0.6666666666666666,
              "#ed7953"
             ],
             [
              0.7777777777777778,
              "#fb9f3a"
             ],
             [
              0.8888888888888888,
              "#fdca26"
             ],
             [
              1,
              "#f0f921"
             ]
            ],
            "type": "heatmap"
           }
          ],
          "heatmapgl": [
           {
            "colorbar": {
             "outlinewidth": 0,
             "ticks": ""
            },
            "colorscale": [
             [
              0,
              "#0d0887"
             ],
             [
              0.1111111111111111,
              "#46039f"
             ],
             [
              0.2222222222222222,
              "#7201a8"
             ],
             [
              0.3333333333333333,
              "#9c179e"
             ],
             [
              0.4444444444444444,
              "#bd3786"
             ],
             [
              0.5555555555555556,
              "#d8576b"
             ],
             [
              0.6666666666666666,
              "#ed7953"
             ],
             [
              0.7777777777777778,
              "#fb9f3a"
             ],
             [
              0.8888888888888888,
              "#fdca26"
             ],
             [
              1,
              "#f0f921"
             ]
            ],
            "type": "heatmapgl"
           }
          ],
          "histogram": [
           {
            "marker": {
             "pattern": {
              "fillmode": "overlay",
              "size": 10,
              "solidity": 0.2
             }
            },
            "type": "histogram"
           }
          ],
          "histogram2d": [
           {
            "colorbar": {
             "outlinewidth": 0,
             "ticks": ""
            },
            "colorscale": [
             [
              0,
              "#0d0887"
             ],
             [
              0.1111111111111111,
              "#46039f"
             ],
             [
              0.2222222222222222,
              "#7201a8"
             ],
             [
              0.3333333333333333,
              "#9c179e"
             ],
             [
              0.4444444444444444,
              "#bd3786"
             ],
             [
              0.5555555555555556,
              "#d8576b"
             ],
             [
              0.6666666666666666,
              "#ed7953"
             ],
             [
              0.7777777777777778,
              "#fb9f3a"
             ],
             [
              0.8888888888888888,
              "#fdca26"
             ],
             [
              1,
              "#f0f921"
             ]
            ],
            "type": "histogram2d"
           }
          ],
          "histogram2dcontour": [
           {
            "colorbar": {
             "outlinewidth": 0,
             "ticks": ""
            },
            "colorscale": [
             [
              0,
              "#0d0887"
             ],
             [
              0.1111111111111111,
              "#46039f"
             ],
             [
              0.2222222222222222,
              "#7201a8"
             ],
             [
              0.3333333333333333,
              "#9c179e"
             ],
             [
              0.4444444444444444,
              "#bd3786"
             ],
             [
              0.5555555555555556,
              "#d8576b"
             ],
             [
              0.6666666666666666,
              "#ed7953"
             ],
             [
              0.7777777777777778,
              "#fb9f3a"
             ],
             [
              0.8888888888888888,
              "#fdca26"
             ],
             [
              1,
              "#f0f921"
             ]
            ],
            "type": "histogram2dcontour"
           }
          ],
          "mesh3d": [
           {
            "colorbar": {
             "outlinewidth": 0,
             "ticks": ""
            },
            "type": "mesh3d"
           }
          ],
          "parcoords": [
           {
            "line": {
             "colorbar": {
              "outlinewidth": 0,
              "ticks": ""
             }
            },
            "type": "parcoords"
           }
          ],
          "pie": [
           {
            "automargin": true,
            "type": "pie"
           }
          ],
          "scatter": [
           {
            "marker": {
             "colorbar": {
              "outlinewidth": 0,
              "ticks": ""
             }
            },
            "type": "scatter"
           }
          ],
          "scatter3d": [
           {
            "line": {
             "colorbar": {
              "outlinewidth": 0,
              "ticks": ""
             }
            },
            "marker": {
             "colorbar": {
              "outlinewidth": 0,
              "ticks": ""
             }
            },
            "type": "scatter3d"
           }
          ],
          "scattercarpet": [
           {
            "marker": {
             "colorbar": {
              "outlinewidth": 0,
              "ticks": ""
             }
            },
            "type": "scattercarpet"
           }
          ],
          "scattergeo": [
           {
            "marker": {
             "colorbar": {
              "outlinewidth": 0,
              "ticks": ""
             }
            },
            "type": "scattergeo"
           }
          ],
          "scattergl": [
           {
            "marker": {
             "colorbar": {
              "outlinewidth": 0,
              "ticks": ""
             }
            },
            "type": "scattergl"
           }
          ],
          "scattermapbox": [
           {
            "marker": {
             "colorbar": {
              "outlinewidth": 0,
              "ticks": ""
             }
            },
            "type": "scattermapbox"
           }
          ],
          "scatterpolar": [
           {
            "marker": {
             "colorbar": {
              "outlinewidth": 0,
              "ticks": ""
             }
            },
            "type": "scatterpolar"
           }
          ],
          "scatterpolargl": [
           {
            "marker": {
             "colorbar": {
              "outlinewidth": 0,
              "ticks": ""
             }
            },
            "type": "scatterpolargl"
           }
          ],
          "scatterternary": [
           {
            "marker": {
             "colorbar": {
              "outlinewidth": 0,
              "ticks": ""
             }
            },
            "type": "scatterternary"
           }
          ],
          "surface": [
           {
            "colorbar": {
             "outlinewidth": 0,
             "ticks": ""
            },
            "colorscale": [
             [
              0,
              "#0d0887"
             ],
             [
              0.1111111111111111,
              "#46039f"
             ],
             [
              0.2222222222222222,
              "#7201a8"
             ],
             [
              0.3333333333333333,
              "#9c179e"
             ],
             [
              0.4444444444444444,
              "#bd3786"
             ],
             [
              0.5555555555555556,
              "#d8576b"
             ],
             [
              0.6666666666666666,
              "#ed7953"
             ],
             [
              0.7777777777777778,
              "#fb9f3a"
             ],
             [
              0.8888888888888888,
              "#fdca26"
             ],
             [
              1,
              "#f0f921"
             ]
            ],
            "type": "surface"
           }
          ],
          "table": [
           {
            "cells": {
             "fill": {
              "color": "#EBF0F8"
             },
             "line": {
              "color": "white"
             }
            },
            "header": {
             "fill": {
              "color": "#C8D4E3"
             },
             "line": {
              "color": "white"
             }
            },
            "type": "table"
           }
          ]
         },
         "layout": {
          "annotationdefaults": {
           "arrowcolor": "#2a3f5f",
           "arrowhead": 0,
           "arrowwidth": 1
          },
          "autotypenumbers": "strict",
          "coloraxis": {
           "colorbar": {
            "outlinewidth": 0,
            "ticks": ""
           }
          },
          "colorscale": {
           "diverging": [
            [
             0,
             "#8e0152"
            ],
            [
             0.1,
             "#c51b7d"
            ],
            [
             0.2,
             "#de77ae"
            ],
            [
             0.3,
             "#f1b6da"
            ],
            [
             0.4,
             "#fde0ef"
            ],
            [
             0.5,
             "#f7f7f7"
            ],
            [
             0.6,
             "#e6f5d0"
            ],
            [
             0.7,
             "#b8e186"
            ],
            [
             0.8,
             "#7fbc41"
            ],
            [
             0.9,
             "#4d9221"
            ],
            [
             1,
             "#276419"
            ]
           ],
           "sequential": [
            [
             0,
             "#0d0887"
            ],
            [
             0.1111111111111111,
             "#46039f"
            ],
            [
             0.2222222222222222,
             "#7201a8"
            ],
            [
             0.3333333333333333,
             "#9c179e"
            ],
            [
             0.4444444444444444,
             "#bd3786"
            ],
            [
             0.5555555555555556,
             "#d8576b"
            ],
            [
             0.6666666666666666,
             "#ed7953"
            ],
            [
             0.7777777777777778,
             "#fb9f3a"
            ],
            [
             0.8888888888888888,
             "#fdca26"
            ],
            [
             1,
             "#f0f921"
            ]
           ],
           "sequentialminus": [
            [
             0,
             "#0d0887"
            ],
            [
             0.1111111111111111,
             "#46039f"
            ],
            [
             0.2222222222222222,
             "#7201a8"
            ],
            [
             0.3333333333333333,
             "#9c179e"
            ],
            [
             0.4444444444444444,
             "#bd3786"
            ],
            [
             0.5555555555555556,
             "#d8576b"
            ],
            [
             0.6666666666666666,
             "#ed7953"
            ],
            [
             0.7777777777777778,
             "#fb9f3a"
            ],
            [
             0.8888888888888888,
             "#fdca26"
            ],
            [
             1,
             "#f0f921"
            ]
           ]
          },
          "colorway": [
           "#636efa",
           "#EF553B",
           "#00cc96",
           "#ab63fa",
           "#FFA15A",
           "#19d3f3",
           "#FF6692",
           "#B6E880",
           "#FF97FF",
           "#FECB52"
          ],
          "font": {
           "color": "#2a3f5f"
          },
          "geo": {
           "bgcolor": "white",
           "lakecolor": "white",
           "landcolor": "#E5ECF6",
           "showlakes": true,
           "showland": true,
           "subunitcolor": "white"
          },
          "hoverlabel": {
           "align": "left"
          },
          "hovermode": "closest",
          "mapbox": {
           "style": "light"
          },
          "paper_bgcolor": "white",
          "plot_bgcolor": "#E5ECF6",
          "polar": {
           "angularaxis": {
            "gridcolor": "white",
            "linecolor": "white",
            "ticks": ""
           },
           "bgcolor": "#E5ECF6",
           "radialaxis": {
            "gridcolor": "white",
            "linecolor": "white",
            "ticks": ""
           }
          },
          "scene": {
           "xaxis": {
            "backgroundcolor": "#E5ECF6",
            "gridcolor": "white",
            "gridwidth": 2,
            "linecolor": "white",
            "showbackground": true,
            "ticks": "",
            "zerolinecolor": "white"
           },
           "yaxis": {
            "backgroundcolor": "#E5ECF6",
            "gridcolor": "white",
            "gridwidth": 2,
            "linecolor": "white",
            "showbackground": true,
            "ticks": "",
            "zerolinecolor": "white"
           },
           "zaxis": {
            "backgroundcolor": "#E5ECF6",
            "gridcolor": "white",
            "gridwidth": 2,
            "linecolor": "white",
            "showbackground": true,
            "ticks": "",
            "zerolinecolor": "white"
           }
          },
          "shapedefaults": {
           "line": {
            "color": "#2a3f5f"
           }
          },
          "ternary": {
           "aaxis": {
            "gridcolor": "white",
            "linecolor": "white",
            "ticks": ""
           },
           "baxis": {
            "gridcolor": "white",
            "linecolor": "white",
            "ticks": ""
           },
           "bgcolor": "#E5ECF6",
           "caxis": {
            "gridcolor": "white",
            "linecolor": "white",
            "ticks": ""
           }
          },
          "title": {
           "x": 0.05
          },
          "xaxis": {
           "automargin": true,
           "gridcolor": "white",
           "linecolor": "white",
           "ticks": "",
           "title": {
            "standoff": 15
           },
           "zerolinecolor": "white",
           "zerolinewidth": 2
          },
          "yaxis": {
           "automargin": true,
           "gridcolor": "white",
           "linecolor": "white",
           "ticks": "",
           "title": {
            "standoff": 15
           },
           "zerolinecolor": "white",
           "zerolinewidth": 2
          }
         }
        },
        "title": {
         "font": {
          "size": 14
         },
         "text": "Industries of Starr Hill Residents (% of Total Employed Age 16+ Civilians)",
         "x": 0.55
        },
        "updatemenus": [
         {
          "buttons": [
           {
            "args": [
             null,
             {
              "frame": {
               "duration": 500,
               "redraw": true
              },
              "fromcurrent": true,
              "mode": "immediate",
              "transition": {
               "duration": 500,
               "easing": "linear"
              }
             }
            ],
            "label": "&#9654;",
            "method": "animate"
           },
           {
            "args": [
             [
              null
             ],
             {
              "frame": {
               "duration": 0,
               "redraw": true
              },
              "fromcurrent": true,
              "mode": "immediate",
              "transition": {
               "duration": 0,
               "easing": "linear"
              }
             }
            ],
            "label": "&#9724;",
            "method": "animate"
           }
          ],
          "direction": "left",
          "pad": {
           "r": 10,
           "t": 70
          },
          "showactive": false,
          "type": "buttons",
          "x": -0.04,
          "xanchor": "right",
          "y": 0,
          "yanchor": "top"
         }
        ],
        "xaxis": {
         "anchor": "y",
         "domain": [
          0,
          1
         ],
         "gridcolor": "Black",
         "range": [
          0,
          65
         ],
         "ticktext": [
          "0",
          "5",
          "10",
          "15",
          "20",
          "25",
          "30",
          "35",
          "40",
          "45",
          "50",
          "55",
          "60"
         ],
         "tickvals": [
          0,
          5,
          10,
          15,
          20,
          25,
          30,
          35,
          40,
          45,
          50,
          55,
          60
         ],
         "title": {
          "text": "Starr Hill"
         },
         "type": "linear"
        },
        "yaxis": {
         "anchor": "x",
         "autorange": true,
         "categoryorder": "total ascending",
         "domain": [
          0,
          1
         ],
         "range": [
          -0.5,
          12.5
         ],
         "title": {
          "text": "Industries"
         },
         "type": "category"
        }
       }
      },
      "image/png": "[encoded data removed]",
      "text/html": [
       "<div>                            <div id=\"953a3fcf-6342-4de7-b08f-b2d9483864c6\" class=\"plotly-graph-div\" style=\"height:525px; width:100%;\"></div>            <script type=\"text/javascript\">                require([\"plotly\"], function(Plotly) {                    window.PLOTLYENV=window.PLOTLYENV || {};                                    if (document.getElementById(\"953a3fcf-6342-4de7-b08f-b2d9483864c6\")) {                    Plotly.newPlot(                        \"953a3fcf-6342-4de7-b08f-b2d9483864c6\",                        [{\"alignmentgroup\":\"True\",\"customdata\":[[\"Agriculture,<br>Forestry, Fishing &<br>Hunting, Mining\"],[\"Construction\"],[\"Manufacturing\"],[\"Wholesale Trade\"],[\"Retail Trade\"],[\"Transportation,<br>Warehousing, Utilities\"],[\"Information\"],[\"Finance &<br>Insurance, Real Estate,<br>Rental & Leasing\"],[\"Professional, Scientific,<br>Management, Administrative,<br>Waste Management Services\"],[\"Educational Services,<br>Health Care & Social Assistance\"],[\"Arts, Entertainment,<br>Recreation, Accommodation &<br>Food Services\"],[\"Other Services\"],[\"Public Administration\"]],\"hovertemplate\":\"%{value:.2f}% of Total Employed<br>Industries: <b>%{customdata}</b><extra></extra>\",\"legendgroup\":\"\",\"marker\":{\"color\":\"#636efa\",\"pattern\":{\"shape\":\"\"}},\"name\":\"\",\"offsetgroup\":\"\",\"orientation\":\"h\",\"showlegend\":false,\"textposition\":\"auto\",\"x\":[0.0,3.732809430255403,1.5717092337917484,0.0,6.4833005893909625,2.75049115913556,4.12573673870334,2.5540275049115917,22.593320235756384,47.93713163064833,5.893909626719057,2.357563850687623,0.0],\"xaxis\":\"x\",\"y\":[\"Agriculture\",\"Construction\",\"Manufacturing\",\"Wholesale\",\"Retail\",\"Transportation\",\"Information\",\"Finance & Insurance\",\"Professional\",\"Education & Healthcare\",\"Entertainment\",\"Other Services\",\"Public Administration\"],\"yaxis\":\"y\",\"type\":\"bar\"}],                        {\"template\":{\"data\":{\"bar\":[{\"error_x\":{\"color\":\"#2a3f5f\"},\"error_y\":{\"color\":\"#2a3f5f\"},\"marker\":{\"line\":{\"color\":\"#E5ECF6\",\"width\":0.5},\"pattern\":{\"fillmode\":\"overlay\",\"size\":10,\"solidity\":0.2}},\"type\":\"bar\"}],\"barpolar\":[{\"marker\":{\"line\":{\"color\":\"#E5ECF6\",\"width\":0.5},\"pattern\":{\"fillmode\":\"overlay\",\"size\":10,\"solidity\":0.2}},\"type\":\"barpolar\"}],\"carpet\":[{\"aaxis\":{\"endlinecolor\":\"#2a3f5f\",\"gridcolor\":\"white\",\"linecolor\":\"white\",\"minorgridcolor\":\"white\",\"startlinecolor\":\"#2a3f5f\"},\"baxis\":{\"endlinecolor\":\"#2a3f5f\",\"gridcolor\":\"white\",\"linecolor\":\"white\",\"minorgridcolor\":\"white\",\"startlinecolor\":\"#2a3f5f\"},\"type\":\"carpet\"}],\"choropleth\":[{\"colorbar\":{\"outlinewidth\":0,\"ticks\":\"\"},\"type\":\"choropleth\"}],\"contour\":[{\"colorbar\":{\"outlinewidth\":0,\"ticks\":\"\"},\"colorscale\":[[0.0,\"#0d0887\"],[0.1111111111111111,\"#46039f\"],[0.2222222222222222,\"#7201a8\"],[0.3333333333333333,\"#9c179e\"],[0.4444444444444444,\"#bd3786\"],[0.5555555555555556,\"#d8576b\"],[0.6666666666666666,\"#ed7953\"],[0.7777777777777778,\"#fb9f3a\"],[0.8888888888888888,\"#fdca26\"],[1.0,\"#f0f921\"]],\"type\":\"contour\"}],\"contourcarpet\":[{\"colorbar\":{\"outlinewidth\":0,\"ticks\":\"\"},\"type\":\"contourcarpet\"}],\"heatmap\":[{\"colorbar\":{\"outlinewidth\":0,\"ticks\":\"\"},\"colorscale\":[[0.0,\"#0d0887\"],[0.1111111111111111,\"#46039f\"],[0.2222222222222222,\"#7201a8\"],[0.3333333333333333,\"#9c179e\"],[0.4444444444444444,\"#bd3786\"],[0.5555555555555556,\"#d8576b\"],[0.6666666666666666,\"#ed7953\"],[0.7777777777777778,\"#fb9f3a\"],[0.8888888888888888,\"#fdca26\"],[1.0,\"#f0f921\"]],\"type\":\"heatmap\"}],\"heatmapgl\":[{\"colorbar\":{\"outlinewidth\":0,\"ticks\":\"\"},\"colorscale\":[[0.0,\"#0d0887\"],[0.1111111111111111,\"#46039f\"],[0.2222222222222222,\"#7201a8\"],[0.3333333333333333,\"#9c179e\"],[0.4444444444444444,\"#bd3786\"],[0.5555555555555556,\"#d8576b\"],[0.6666666666666666,\"#ed7953\"],[0.7777777777777778,\"#fb9f3a\"],[0.8888888888888888,\"#fdca26\"],[1.0,\"#f0f921\"]],\"type\":\"heatmapgl\"}],\"histogram\":[{\"marker\":{\"pattern\":{\"fillmode\":\"overlay\",\"size\":10,\"solidity\":0.2}},\"type\":\"histogram\"}],\"histogram2d\":[{\"colorbar\":{\"outlinewidth\":0,\"ticks\":\"\"},\"colorscale\":[[0.0,\"#0d0887\"],[0.1111111111111111,\"#46039f\"],[0.2222222222222222,\"#7201a8\"],[0.3333333333333333,\"#9c179e\"],[0.4444444444444444,\"#bd3786\"],[0.5555555555555556,\"#d8576b\"],[0.6666666666666666,\"#ed7953\"],[0.7777777777777778,\"#fb9f3a\"],[0.8888888888888888,\"#fdca26\"],[1.0,\"#f0f921\"]],\"type\":\"histogram2d\"}],\"histogram2dcontour\":[{\"colorbar\":{\"outlinewidth\":0,\"ticks\":\"\"},\"colorscale\":[[0.0,\"#0d0887\"],[0.1111111111111111,\"#46039f\"],[0.2222222222222222,\"#7201a8\"],[0.3333333333333333,\"#9c179e\"],[0.4444444444444444,\"#bd3786\"],[0.5555555555555556,\"#d8576b\"],[0.6666666666666666,\"#ed7953\"],[0.7777777777777778,\"#fb9f3a\"],[0.8888888888888888,\"#fdca26\"],[1.0,\"#f0f921\"]],\"type\":\"histogram2dcontour\"}],\"mesh3d\":[{\"colorbar\":{\"outlinewidth\":0,\"ticks\":\"\"},\"type\":\"mesh3d\"}],\"parcoords\":[{\"line\":{\"colorbar\":{\"outlinewidth\":0,\"ticks\":\"\"}},\"type\":\"parcoords\"}],\"pie\":[{\"automargin\":true,\"type\":\"pie\"}],\"scatter\":[{\"marker\":{\"colorbar\":{\"outlinewidth\":0,\"ticks\":\"\"}},\"type\":\"scatter\"}],\"scatter3d\":[{\"line\":{\"colorbar\":{\"outlinewidth\":0,\"ticks\":\"\"}},\"marker\":{\"colorbar\":{\"outlinewidth\":0,\"ticks\":\"\"}},\"type\":\"scatter3d\"}],\"scattercarpet\":[{\"marker\":{\"colorbar\":{\"outlinewidth\":0,\"ticks\":\"\"}},\"type\":\"scattercarpet\"}],\"scattergeo\":[{\"marker\":{\"colorbar\":{\"outlinewidth\":0,\"ticks\":\"\"}},\"type\":\"scattergeo\"}],\"scattergl\":[{\"marker\":{\"colorbar\":{\"outlinewidth\":0,\"ticks\":\"\"}},\"type\":\"scattergl\"}],\"scattermapbox\":[{\"marker\":{\"colorbar\":{\"outlinewidth\":0,\"ticks\":\"\"}},\"type\":\"scattermapbox\"}],\"scatterpolar\":[{\"marker\":{\"colorbar\":{\"outlinewidth\":0,\"ticks\":\"\"}},\"type\":\"scatterpolar\"}],\"scatterpolargl\":[{\"marker\":{\"colorbar\":{\"outlinewidth\":0,\"ticks\":\"\"}},\"type\":\"scatterpolargl\"}],\"scatterternary\":[{\"marker\":{\"colorbar\":{\"outlinewidth\":0,\"ticks\":\"\"}},\"type\":\"scatterternary\"}],\"surface\":[{\"colorbar\":{\"outlinewidth\":0,\"ticks\":\"\"},\"colorscale\":[[0.0,\"#0d0887\"],[0.1111111111111111,\"#46039f\"],[0.2222222222222222,\"#7201a8\"],[0.3333333333333333,\"#9c179e\"],[0.4444444444444444,\"#bd3786\"],[0.5555555555555556,\"#d8576b\"],[0.6666666666666666,\"#ed7953\"],[0.7777777777777778,\"#fb9f3a\"],[0.8888888888888888,\"#fdca26\"],[1.0,\"#f0f921\"]],\"type\":\"surface\"}],\"table\":[{\"cells\":{\"fill\":{\"color\":\"#EBF0F8\"},\"line\":{\"color\":\"white\"}},\"header\":{\"fill\":{\"color\":\"#C8D4E3\"},\"line\":{\"color\":\"white\"}},\"type\":\"table\"}]},\"layout\":{\"annotationdefaults\":{\"arrowcolor\":\"#2a3f5f\",\"arrowhead\":0,\"arrowwidth\":1},\"autotypenumbers\":\"strict\",\"coloraxis\":{\"colorbar\":{\"outlinewidth\":0,\"ticks\":\"\"}},\"colorscale\":{\"diverging\":[[0,\"#8e0152\"],[0.1,\"#c51b7d\"],[0.2,\"#de77ae\"],[0.3,\"#f1b6da\"],[0.4,\"#fde0ef\"],[0.5,\"#f7f7f7\"],[0.6,\"#e6f5d0\"],[0.7,\"#b8e186\"],[0.8,\"#7fbc41\"],[0.9,\"#4d9221\"],[1,\"#276419\"]],\"sequential\":[[0.0,\"#0d0887\"],[0.1111111111111111,\"#46039f\"],[0.2222222222222222,\"#7201a8\"],[0.3333333333333333,\"#9c179e\"],[0.4444444444444444,\"#bd3786\"],[0.5555555555555556,\"#d8576b\"],[0.6666666666666666,\"#ed7953\"],[0.7777777777777778,\"#fb9f3a\"],[0.8888888888888888,\"#fdca26\"],[1.0,\"#f0f921\"]],\"sequentialminus\":[[0.0,\"#0d0887\"],[0.1111111111111111,\"#46039f\"],[0.2222222222222222,\"#7201a8\"],[0.3333333333333333,\"#9c179e\"],[0.4444444444444444,\"#bd3786\"],[0.5555555555555556,\"#d8576b\"],[0.6666666666666666,\"#ed7953\"],[0.7777777777777778,\"#fb9f3a\"],[0.8888888888888888,\"#fdca26\"],[1.0,\"#f0f921\"]]},\"colorway\":[\"#636efa\",\"#EF553B\",\"#00cc96\",\"#ab63fa\",\"#FFA15A\",\"#19d3f3\",\"#FF6692\",\"#B6E880\",\"#FF97FF\",\"#FECB52\"],\"font\":{\"color\":\"#2a3f5f\"},\"geo\":{\"bgcolor\":\"white\",\"lakecolor\":\"white\",\"landcolor\":\"#E5ECF6\",\"showlakes\":true,\"showland\":true,\"subunitcolor\":\"white\"},\"hoverlabel\":{\"align\":\"left\"},\"hovermode\":\"closest\",\"mapbox\":{\"style\":\"light\"},\"paper_bgcolor\":\"white\",\"plot_bgcolor\":\"#E5ECF6\",\"polar\":{\"angularaxis\":{\"gridcolor\":\"white\",\"linecolor\":\"white\",\"ticks\":\"\"},\"bgcolor\":\"#E5ECF6\",\"radialaxis\":{\"gridcolor\":\"white\",\"linecolor\":\"white\",\"ticks\":\"\"}},\"scene\":{\"xaxis\":{\"backgroundcolor\":\"#E5ECF6\",\"gridcolor\":\"white\",\"gridwidth\":2,\"linecolor\":\"white\",\"showbackground\":true,\"ticks\":\"\",\"zerolinecolor\":\"white\"},\"yaxis\":{\"backgroundcolor\":\"#E5ECF6\",\"gridcolor\":\"white\",\"gridwidth\":2,\"linecolor\":\"white\",\"showbackground\":true,\"ticks\":\"\",\"zerolinecolor\":\"white\"},\"zaxis\":{\"backgroundcolor\":\"#E5ECF6\",\"gridcolor\":\"white\",\"gridwidth\":2,\"linecolor\":\"white\",\"showbackground\":true,\"ticks\":\"\",\"zerolinecolor\":\"white\"}},\"shapedefaults\":{\"line\":{\"color\":\"#2a3f5f\"}},\"ternary\":{\"aaxis\":{\"gridcolor\":\"white\",\"linecolor\":\"white\",\"ticks\":\"\"},\"baxis\":{\"gridcolor\":\"white\",\"linecolor\":\"white\",\"ticks\":\"\"},\"bgcolor\":\"#E5ECF6\",\"caxis\":{\"gridcolor\":\"white\",\"linecolor\":\"white\",\"ticks\":\"\"}},\"title\":{\"x\":0.05},\"xaxis\":{\"automargin\":true,\"gridcolor\":\"white\",\"linecolor\":\"white\",\"ticks\":\"\",\"title\":{\"standoff\":15},\"zerolinecolor\":\"white\",\"zerolinewidth\":2},\"yaxis\":{\"automargin\":true,\"gridcolor\":\"white\",\"linecolor\":\"white\",\"ticks\":\"\",\"title\":{\"standoff\":15},\"zerolinecolor\":\"white\",\"zerolinewidth\":2}}},\"xaxis\":{\"anchor\":\"y\",\"domain\":[0.0,1.0],\"title\":{\"text\":\"Starr Hill\"},\"ticktext\":[\"0\",\"5\",\"10\",\"15\",\"20\",\"25\",\"30\",\"35\",\"40\",\"45\",\"50\",\"55\",\"60\"],\"tickvals\":[0,5,10,15,20,25,30,35,40,45,50,55,60],\"range\":[0,65],\"gridcolor\":\"Black\"},\"yaxis\":{\"anchor\":\"x\",\"domain\":[0.0,1.0],\"title\":{\"text\":\"Industries\"},\"categoryorder\":\"total ascending\"},\"legend\":{\"tracegroupgap\":0,\"yanchor\":\"bottom\",\"x\":0.85,\"y\":0,\"xanchor\":\"right\",\"bgcolor\":\"DimGray\"},\"title\":{\"text\":\"Industries of Starr Hill Residents (% of Total Employed Age 16+ Civilians)\",\"font\":{\"size\":14},\"x\":0.55},\"barmode\":\"relative\",\"updatemenus\":[{\"buttons\":[{\"args\":[null,{\"frame\":{\"duration\":500,\"redraw\":true},\"mode\":\"immediate\",\"fromcurrent\":true,\"transition\":{\"duration\":500,\"easing\":\"linear\"}}],\"label\":\"&#9654;\",\"method\":\"animate\"},{\"args\":[[null],{\"frame\":{\"duration\":0,\"redraw\":true},\"mode\":\"immediate\",\"fromcurrent\":true,\"transition\":{\"duration\":0,\"easing\":\"linear\"}}],\"label\":\"&#9724;\",\"method\":\"animate\"}],\"direction\":\"left\",\"pad\":{\"r\":10,\"t\":70},\"showactive\":false,\"type\":\"buttons\",\"x\":-0.04,\"xanchor\":\"right\",\"y\":0,\"yanchor\":\"top\"}],\"sliders\":[{\"active\":0,\"currentvalue\":{\"prefix\":\"Year=\"},\"len\":0.9,\"pad\":{\"b\":10,\"t\":60},\"steps\":[{\"args\":[[\"2013\"],{\"frame\":{\"duration\":0,\"redraw\":true},\"mode\":\"immediate\",\"fromcurrent\":true,\"transition\":{\"duration\":0,\"easing\":\"linear\"}}],\"label\":\"2013\",\"method\":\"animate\"},{\"args\":[[\"2014\"],{\"frame\":{\"duration\":0,\"redraw\":true},\"mode\":\"immediate\",\"fromcurrent\":true,\"transition\":{\"duration\":0,\"easing\":\"linear\"}}],\"label\":\"2014\",\"method\":\"animate\"},{\"args\":[[\"2015\"],{\"frame\":{\"duration\":0,\"redraw\":true},\"mode\":\"immediate\",\"fromcurrent\":true,\"transition\":{\"duration\":0,\"easing\":\"linear\"}}],\"label\":\"2015\",\"method\":\"animate\"},{\"args\":[[\"2016\"],{\"frame\":{\"duration\":0,\"redraw\":true},\"mode\":\"immediate\",\"fromcurrent\":true,\"transition\":{\"duration\":0,\"easing\":\"linear\"}}],\"label\":\"2016\",\"method\":\"animate\"},{\"args\":[[\"2017\"],{\"frame\":{\"duration\":0,\"redraw\":true},\"mode\":\"immediate\",\"fromcurrent\":true,\"transition\":{\"duration\":0,\"easing\":\"linear\"}}],\"label\":\"2017\",\"method\":\"animate\"},{\"args\":[[\"2018\"],{\"frame\":{\"duration\":0,\"redraw\":true},\"mode\":\"immediate\",\"fromcurrent\":true,\"transition\":{\"duration\":0,\"easing\":\"linear\"}}],\"label\":\"2018\",\"method\":\"animate\"},{\"args\":[[\"2019\"],{\"frame\":{\"duration\":0,\"redraw\":true},\"mode\":\"immediate\",\"fromcurrent\":true,\"transition\":{\"duration\":0,\"easing\":\"linear\"}}],\"label\":\"2019\",\"method\":\"animate\"},{\"args\":[[\"2020\"],{\"frame\":{\"duration\":0,\"redraw\":true},\"mode\":\"immediate\",\"fromcurrent\":true,\"transition\":{\"duration\":0,\"easing\":\"linear\"}}],\"label\":\"2020\",\"method\":\"animate\"}],\"x\":-0.04,\"xanchor\":\"left\",\"y\":0,\"yanchor\":\"top\"}],\"font\":{\"size\":13,\"color\":\"rgb(7,13,30)\"},\"hoverlabel\":{\"align\":\"left\"},\"margin\":{\"b\":0,\"l\":200,\"pad\":15,\"r\":10,\"t\":30},\"plot_bgcolor\":\"rgba(0,0,0,0)\",\"paper_bgcolor\":\"rgba(0,0,0,0)\",\"autosize\":true,\"annotations\":[{\"font\":{\"color\":\"rgb(7,13,30)\",\"size\":11},\"showarrow\":false,\"text\":\"(0 : 0.00%)\",\"textangle\":0,\"x\":1.004,\"xanchor\":\"right\",\"xref\":\"paper\",\"y\":\"Agriculture\",\"yref\":\"y\"},{\"font\":{\"color\":\"rgb(7,13,30)\",\"size\":11},\"showarrow\":false,\"text\":\"(19 : 3.73%)\",\"textangle\":0,\"x\":1.004,\"xanchor\":\"right\",\"xref\":\"paper\",\"y\":\"Construction\",\"yref\":\"y\"},{\"font\":{\"color\":\"rgb(7,13,30)\",\"size\":11},\"showarrow\":false,\"text\":\"(8 : 1.57%)\",\"textangle\":0,\"x\":1.004,\"xanchor\":\"right\",\"xref\":\"paper\",\"y\":\"Manufacturing\",\"yref\":\"y\"},{\"font\":{\"color\":\"rgb(7,13,30)\",\"size\":11},\"showarrow\":false,\"text\":\"(0 : 0.00%)\",\"textangle\":0,\"x\":1.004,\"xanchor\":\"right\",\"xref\":\"paper\",\"y\":\"Wholesale\",\"yref\":\"y\"},{\"font\":{\"color\":\"rgb(7,13,30)\",\"size\":11},\"showarrow\":false,\"text\":\"(33 : 6.48%)\",\"textangle\":0,\"x\":1.004,\"xanchor\":\"right\",\"xref\":\"paper\",\"y\":\"Retail\",\"yref\":\"y\"},{\"font\":{\"color\":\"rgb(7,13,30)\",\"size\":11},\"showarrow\":false,\"text\":\"(14 : 2.75%)\",\"textangle\":0,\"x\":1.004,\"xanchor\":\"right\",\"xref\":\"paper\",\"y\":\"Transportation\",\"yref\":\"y\"},{\"font\":{\"color\":\"rgb(7,13,30)\",\"size\":11},\"showarrow\":false,\"text\":\"(21 : 4.13%)\",\"textangle\":0,\"x\":1.004,\"xanchor\":\"right\",\"xref\":\"paper\",\"y\":\"Information\",\"yref\":\"y\"},{\"font\":{\"color\":\"rgb(7,13,30)\",\"size\":11},\"showarrow\":false,\"text\":\"(13 : 2.55%)\",\"textangle\":0,\"x\":1.004,\"xanchor\":\"right\",\"xref\":\"paper\",\"y\":\"Finance & Insurance\",\"yref\":\"y\"},{\"font\":{\"color\":\"rgb(7,13,30)\",\"size\":11},\"showarrow\":false,\"text\":\"(115 : 22.59%)\",\"textangle\":0,\"x\":1.004,\"xanchor\":\"right\",\"xref\":\"paper\",\"y\":\"Professional\",\"yref\":\"y\"},{\"font\":{\"color\":\"rgb(7,13,30)\",\"size\":11},\"showarrow\":false,\"text\":\"(244 : 47.94%)\",\"textangle\":0,\"x\":1.004,\"xanchor\":\"right\",\"xref\":\"paper\",\"y\":\"Education & Healthcare\",\"yref\":\"y\"},{\"font\":{\"color\":\"rgb(7,13,30)\",\"size\":11},\"showarrow\":false,\"text\":\"(30 : 5.89%)\",\"textangle\":0,\"x\":1.004,\"xanchor\":\"right\",\"xref\":\"paper\",\"y\":\"Entertainment\",\"yref\":\"y\"},{\"font\":{\"color\":\"rgb(7,13,30)\",\"size\":11},\"showarrow\":false,\"text\":\"(12 : 2.36%)\",\"textangle\":0,\"x\":1.004,\"xanchor\":\"right\",\"xref\":\"paper\",\"y\":\"Other Services\",\"yref\":\"y\"},{\"font\":{\"color\":\"rgb(7,13,30)\",\"size\":11},\"showarrow\":false,\"text\":\"(0 : 0.00%)\",\"textangle\":0,\"x\":1.004,\"xanchor\":\"right\",\"xref\":\"paper\",\"y\":\"Public Administration\",\"yref\":\"y\"}]},                        {\"responsive\": true}                    ).then(function(){\n",
       "                            Plotly.addFrames('953a3fcf-6342-4de7-b08f-b2d9483864c6', [{\"data\":[{\"alignmentgroup\":\"True\",\"customdata\":[[\"Agriculture,<br>Forestry, Fishing &<br>Hunting, Mining\"],[\"Construction\"],[\"Manufacturing\"],[\"Wholesale Trade\"],[\"Retail Trade\"],[\"Transportation,<br>Warehousing, Utilities\"],[\"Information\"],[\"Finance &<br>Insurance, Real Estate,<br>Rental & Leasing\"],[\"Professional, Scientific,<br>Management, Administrative,<br>Waste Management Services\"],[\"Educational Services,<br>Health Care & Social Assistance\"],[\"Arts, Entertainment,<br>Recreation, Accommodation &<br>Food Services\"],[\"Other Services\"],[\"Public Administration\"]],\"hovertemplate\":\"%{value:.2f}% of Total Employed<br>Industries: <b>%{customdata}</b><extra></extra>\",\"legendgroup\":\"\",\"marker\":{\"color\":\"#636efa\",\"pattern\":{\"shape\":\"\"}},\"name\":\"\",\"offsetgroup\":\"\",\"orientation\":\"h\",\"showlegend\":false,\"textposition\":\"auto\",\"x\":[0.0,3.732809430255403,1.5717092337917484,0.0,6.4833005893909625,2.75049115913556,4.12573673870334,2.5540275049115917,22.593320235756384,47.93713163064833,5.893909626719057,2.357563850687623,0.0],\"xaxis\":\"x\",\"y\":[\"Agriculture\",\"Construction\",\"Manufacturing\",\"Wholesale\",\"Retail\",\"Transportation\",\"Information\",\"Finance & Insurance\",\"Professional\",\"Education & Healthcare\",\"Entertainment\",\"Other Services\",\"Public Administration\"],\"yaxis\":\"y\",\"type\":\"bar\"}],\"name\":\"2013\",\"layout\":{\"annotations\":[{\"font\":{\"color\":\"rgb(7,13,30)\",\"size\":11},\"showarrow\":false,\"text\":\"(0 : 0.00%)\",\"textangle\":0,\"x\":1.004,\"xanchor\":\"right\",\"xref\":\"paper\",\"y\":\"Agriculture\",\"yref\":\"y\"},{\"font\":{\"color\":\"rgb(7,13,30)\",\"size\":11},\"showarrow\":false,\"text\":\"(19 : 3.73%)\",\"textangle\":0,\"x\":1.004,\"xanchor\":\"right\",\"xref\":\"paper\",\"y\":\"Construction\",\"yref\":\"y\"},{\"font\":{\"color\":\"rgb(7,13,30)\",\"size\":11},\"showarrow\":false,\"text\":\"(8 : 1.57%)\",\"textangle\":0,\"x\":1.004,\"xanchor\":\"right\",\"xref\":\"paper\",\"y\":\"Manufacturing\",\"yref\":\"y\"},{\"font\":{\"color\":\"rgb(7,13,30)\",\"size\":11},\"showarrow\":false,\"text\":\"(0 : 0.00%)\",\"textangle\":0,\"x\":1.004,\"xanchor\":\"right\",\"xref\":\"paper\",\"y\":\"Wholesale\",\"yref\":\"y\"},{\"font\":{\"color\":\"rgb(7,13,30)\",\"size\":11},\"showarrow\":false,\"text\":\"(33 : 6.48%)\",\"textangle\":0,\"x\":1.004,\"xanchor\":\"right\",\"xref\":\"paper\",\"y\":\"Retail\",\"yref\":\"y\"},{\"font\":{\"color\":\"rgb(7,13,30)\",\"size\":11},\"showarrow\":false,\"text\":\"(14 : 2.75%)\",\"textangle\":0,\"x\":1.004,\"xanchor\":\"right\",\"xref\":\"paper\",\"y\":\"Transportation\",\"yref\":\"y\"},{\"font\":{\"color\":\"rgb(7,13,30)\",\"size\":11},\"showarrow\":false,\"text\":\"(21 : 4.13%)\",\"textangle\":0,\"x\":1.004,\"xanchor\":\"right\",\"xref\":\"paper\",\"y\":\"Information\",\"yref\":\"y\"},{\"font\":{\"color\":\"rgb(7,13,30)\",\"size\":11},\"showarrow\":false,\"text\":\"(13 : 2.55%)\",\"textangle\":0,\"x\":1.004,\"xanchor\":\"right\",\"xref\":\"paper\",\"y\":\"Finance & Insurance\",\"yref\":\"y\"},{\"font\":{\"color\":\"rgb(7,13,30)\",\"size\":11},\"showarrow\":false,\"text\":\"(115 : 22.59%)\",\"textangle\":0,\"x\":1.004,\"xanchor\":\"right\",\"xref\":\"paper\",\"y\":\"Professional\",\"yref\":\"y\"},{\"font\":{\"color\":\"rgb(7,13,30)\",\"size\":11},\"showarrow\":false,\"text\":\"(244 : 47.94%)\",\"textangle\":0,\"x\":1.004,\"xanchor\":\"right\",\"xref\":\"paper\",\"y\":\"Education & Healthcare\",\"yref\":\"y\"},{\"font\":{\"color\":\"rgb(7,13,30)\",\"size\":11},\"showarrow\":false,\"text\":\"(30 : 5.89%)\",\"textangle\":0,\"x\":1.004,\"xanchor\":\"right\",\"xref\":\"paper\",\"y\":\"Entertainment\",\"yref\":\"y\"},{\"font\":{\"color\":\"rgb(7,13,30)\",\"size\":11},\"showarrow\":false,\"text\":\"(12 : 2.36%)\",\"textangle\":0,\"x\":1.004,\"xanchor\":\"right\",\"xref\":\"paper\",\"y\":\"Other Services\",\"yref\":\"y\"},{\"font\":{\"color\":\"rgb(7,13,30)\",\"size\":11},\"showarrow\":false,\"text\":\"(0 : 0.00%)\",\"textangle\":0,\"x\":1.004,\"xanchor\":\"right\",\"xref\":\"paper\",\"y\":\"Public Administration\",\"yref\":\"y\"}]}},{\"data\":[{\"alignmentgroup\":\"True\",\"customdata\":[[\"Agriculture,<br>Forestry, Fishing &<br>Hunting, Mining\"],[\"Construction\"],[\"Manufacturing\"],[\"Wholesale Trade\"],[\"Retail Trade\"],[\"Transportation,<br>Warehousing, Utilities\"],[\"Information\"],[\"Finance &<br>Insurance, Real Estate,<br>Rental & Leasing\"],[\"Professional, Scientific,<br>Management, Administrative,<br>Waste Management Services\"],[\"Educational Services,<br>Health Care & Social Assistance\"],[\"Arts, Entertainment,<br>Recreation, Accommodation &<br>Food Services\"],[\"Other Services\"],[\"Public Administration\"]],\"hovertemplate\":\"%{value:.2f}% of Total Employed<br>Industries: <b>%{customdata}</b><extra></extra>\",\"legendgroup\":\"\",\"marker\":{\"color\":\"#636efa\",\"pattern\":{\"shape\":\"\"}},\"name\":\"\",\"offsetgroup\":\"\",\"orientation\":\"h\",\"showlegend\":false,\"textposition\":\"auto\",\"x\":[0.0,1.894736842105263,2.1052631578947367,0.0,6.105263157894737,3.1578947368421053,4.2105263157894735,2.9473684210526314,18.94736842105263,53.26315789473684,4.842105263157895,2.526315789473684,0.0],\"xaxis\":\"x\",\"y\":[\"Agriculture\",\"Construction\",\"Manufacturing\",\"Wholesale\",\"Retail\",\"Transportation\",\"Information\",\"Finance & Insurance\",\"Professional\",\"Education & Healthcare\",\"Entertainment\",\"Other Services\",\"Public Administration\"],\"yaxis\":\"y\",\"type\":\"bar\"}],\"name\":\"2014\",\"layout\":{\"annotations\":[{\"font\":{\"color\":\"rgb(7,13,30)\",\"size\":11},\"showarrow\":false,\"text\":\"(0 : 0.00%)\",\"textangle\":0,\"x\":1.004,\"xanchor\":\"right\",\"xref\":\"paper\",\"y\":\"Agriculture\",\"yref\":\"y\"},{\"font\":{\"color\":\"rgb(7,13,30)\",\"size\":11},\"showarrow\":false,\"text\":\"(9 : 1.89%)\",\"textangle\":0,\"x\":1.004,\"xanchor\":\"right\",\"xref\":\"paper\",\"y\":\"Construction\",\"yref\":\"y\"},{\"font\":{\"color\":\"rgb(7,13,30)\",\"size\":11},\"showarrow\":false,\"text\":\"(10 : 2.11%)\",\"textangle\":0,\"x\":1.004,\"xanchor\":\"right\",\"xref\":\"paper\",\"y\":\"Manufacturing\",\"yref\":\"y\"},{\"font\":{\"color\":\"rgb(7,13,30)\",\"size\":11},\"showarrow\":false,\"text\":\"(0 : 0.00%)\",\"textangle\":0,\"x\":1.004,\"xanchor\":\"right\",\"xref\":\"paper\",\"y\":\"Wholesale\",\"yref\":\"y\"},{\"font\":{\"color\":\"rgb(7,13,30)\",\"size\":11},\"showarrow\":false,\"text\":\"(29 : 6.11%)\",\"textangle\":0,\"x\":1.004,\"xanchor\":\"right\",\"xref\":\"paper\",\"y\":\"Retail\",\"yref\":\"y\"},{\"font\":{\"color\":\"rgb(7,13,30)\",\"size\":11},\"showarrow\":false,\"text\":\"(15 : 3.16%)\",\"textangle\":0,\"x\":1.004,\"xanchor\":\"right\",\"xref\":\"paper\",\"y\":\"Transportation\",\"yref\":\"y\"},{\"font\":{\"color\":\"rgb(7,13,30)\",\"size\":11},\"showarrow\":false,\"text\":\"(20 : 4.21%)\",\"textangle\":0,\"x\":1.004,\"xanchor\":\"right\",\"xref\":\"paper\",\"y\":\"Information\",\"yref\":\"y\"},{\"font\":{\"color\":\"rgb(7,13,30)\",\"size\":11},\"showarrow\":false,\"text\":\"(14 : 2.95%)\",\"textangle\":0,\"x\":1.004,\"xanchor\":\"right\",\"xref\":\"paper\",\"y\":\"Finance & Insurance\",\"yref\":\"y\"},{\"font\":{\"color\":\"rgb(7,13,30)\",\"size\":11},\"showarrow\":false,\"text\":\"(90 : 18.95%)\",\"textangle\":0,\"x\":1.004,\"xanchor\":\"right\",\"xref\":\"paper\",\"y\":\"Professional\",\"yref\":\"y\"},{\"font\":{\"color\":\"rgb(7,13,30)\",\"size\":11},\"showarrow\":false,\"text\":\"(253 : 53.26%)\",\"textangle\":0,\"x\":1.004,\"xanchor\":\"right\",\"xref\":\"paper\",\"y\":\"Education & Healthcare\",\"yref\":\"y\"},{\"font\":{\"color\":\"rgb(7,13,30)\",\"size\":11},\"showarrow\":false,\"text\":\"(23 : 4.84%)\",\"textangle\":0,\"x\":1.004,\"xanchor\":\"right\",\"xref\":\"paper\",\"y\":\"Entertainment\",\"yref\":\"y\"},{\"font\":{\"color\":\"rgb(7,13,30)\",\"size\":11},\"showarrow\":false,\"text\":\"(12 : 2.53%)\",\"textangle\":0,\"x\":1.004,\"xanchor\":\"right\",\"xref\":\"paper\",\"y\":\"Other Services\",\"yref\":\"y\"},{\"font\":{\"color\":\"rgb(7,13,30)\",\"size\":11},\"showarrow\":false,\"text\":\"(0 : 0.00%)\",\"textangle\":0,\"x\":1.004,\"xanchor\":\"right\",\"xref\":\"paper\",\"y\":\"Public Administration\",\"yref\":\"y\"}]}},{\"data\":[{\"alignmentgroup\":\"True\",\"customdata\":[[\"Agriculture,<br>Forestry, Fishing &<br>Hunting, Mining\"],[\"Construction\"],[\"Manufacturing\"],[\"Wholesale Trade\"],[\"Retail Trade\"],[\"Transportation,<br>Warehousing, Utilities\"],[\"Information\"],[\"Finance &<br>Insurance, Real Estate,<br>Rental & Leasing\"],[\"Professional, Scientific,<br>Management, Administrative,<br>Waste Management Services\"],[\"Educational Services,<br>Health Care & Social Assistance\"],[\"Arts, Entertainment,<br>Recreation, Accommodation &<br>Food Services\"],[\"Other Services\"],[\"Public Administration\"]],\"hovertemplate\":\"%{value:.2f}% of Total Employed<br>Industries: <b>%{customdata}</b><extra></extra>\",\"legendgroup\":\"\",\"marker\":{\"color\":\"#636efa\",\"pattern\":{\"shape\":\"\"}},\"name\":\"\",\"offsetgroup\":\"\",\"orientation\":\"h\",\"showlegend\":false,\"textposition\":\"auto\",\"x\":[0.0,5.389221556886228,2.395209580838323,0.0,7.7844311377245505,0.0,1.1976047904191616,0.0,20.15968063872256,53.49301397205589,7.385229540918163,0.0,2.1956087824351296],\"xaxis\":\"x\",\"y\":[\"Agriculture\",\"Construction\",\"Manufacturing\",\"Wholesale\",\"Retail\",\"Transportation\",\"Information\",\"Finance & Insurance\",\"Professional\",\"Education & Healthcare\",\"Entertainment\",\"Other Services\",\"Public Administration\"],\"yaxis\":\"y\",\"type\":\"bar\"}],\"name\":\"2015\",\"layout\":{\"annotations\":[{\"font\":{\"color\":\"rgb(7,13,30)\",\"size\":11},\"showarrow\":false,\"text\":\"(0 : 0.00%)\",\"textangle\":0,\"x\":1.004,\"xanchor\":\"right\",\"xref\":\"paper\",\"y\":\"Agriculture\",\"yref\":\"y\"},{\"font\":{\"color\":\"rgb(7,13,30)\",\"size\":11},\"showarrow\":false,\"text\":\"(27 : 5.39%)\",\"textangle\":0,\"x\":1.004,\"xanchor\":\"right\",\"xref\":\"paper\",\"y\":\"Construction\",\"yref\":\"y\"},{\"font\":{\"color\":\"rgb(7,13,30)\",\"size\":11},\"showarrow\":false,\"text\":\"(12 : 2.40%)\",\"textangle\":0,\"x\":1.004,\"xanchor\":\"right\",\"xref\":\"paper\",\"y\":\"Manufacturing\",\"yref\":\"y\"},{\"font\":{\"color\":\"rgb(7,13,30)\",\"size\":11},\"showarrow\":false,\"text\":\"(0 : 0.00%)\",\"textangle\":0,\"x\":1.004,\"xanchor\":\"right\",\"xref\":\"paper\",\"y\":\"Wholesale\",\"yref\":\"y\"},{\"font\":{\"color\":\"rgb(7,13,30)\",\"size\":11},\"showarrow\":false,\"text\":\"(39 : 7.78%)\",\"textangle\":0,\"x\":1.004,\"xanchor\":\"right\",\"xref\":\"paper\",\"y\":\"Retail\",\"yref\":\"y\"},{\"font\":{\"color\":\"rgb(7,13,30)\",\"size\":11},\"showarrow\":false,\"text\":\"(0 : 0.00%)\",\"textangle\":0,\"x\":1.004,\"xanchor\":\"right\",\"xref\":\"paper\",\"y\":\"Transportation\",\"yref\":\"y\"},{\"font\":{\"color\":\"rgb(7,13,30)\",\"size\":11},\"showarrow\":false,\"text\":\"(6 : 1.20%)\",\"textangle\":0,\"x\":1.004,\"xanchor\":\"right\",\"xref\":\"paper\",\"y\":\"Information\",\"yref\":\"y\"},{\"font\":{\"color\":\"rgb(7,13,30)\",\"size\":11},\"showarrow\":false,\"text\":\"(0 : 0.00%)\",\"textangle\":0,\"x\":1.004,\"xanchor\":\"right\",\"xref\":\"paper\",\"y\":\"Finance & Insurance\",\"yref\":\"y\"},{\"font\":{\"color\":\"rgb(7,13,30)\",\"size\":11},\"showarrow\":false,\"text\":\"(101 : 20.16%)\",\"textangle\":0,\"x\":1.004,\"xanchor\":\"right\",\"xref\":\"paper\",\"y\":\"Professional\",\"yref\":\"y\"},{\"font\":{\"color\":\"rgb(7,13,30)\",\"size\":11},\"showarrow\":false,\"text\":\"(268 : 53.49%)\",\"textangle\":0,\"x\":1.004,\"xanchor\":\"right\",\"xref\":\"paper\",\"y\":\"Education & Healthcare\",\"yref\":\"y\"},{\"font\":{\"color\":\"rgb(7,13,30)\",\"size\":11},\"showarrow\":false,\"text\":\"(37 : 7.39%)\",\"textangle\":0,\"x\":1.004,\"xanchor\":\"right\",\"xref\":\"paper\",\"y\":\"Entertainment\",\"yref\":\"y\"},{\"font\":{\"color\":\"rgb(7,13,30)\",\"size\":11},\"showarrow\":false,\"text\":\"(0 : 0.00%)\",\"textangle\":0,\"x\":1.004,\"xanchor\":\"right\",\"xref\":\"paper\",\"y\":\"Other Services\",\"yref\":\"y\"},{\"font\":{\"color\":\"rgb(7,13,30)\",\"size\":11},\"showarrow\":false,\"text\":\"(11 : 2.20%)\",\"textangle\":0,\"x\":1.004,\"xanchor\":\"right\",\"xref\":\"paper\",\"y\":\"Public Administration\",\"yref\":\"y\"}]}},{\"data\":[{\"alignmentgroup\":\"True\",\"customdata\":[[\"Agriculture,<br>Forestry, Fishing &<br>Hunting, Mining\"],[\"Construction\"],[\"Manufacturing\"],[\"Wholesale Trade\"],[\"Retail Trade\"],[\"Transportation,<br>Warehousing, Utilities\"],[\"Information\"],[\"Finance &<br>Insurance, Real Estate,<br>Rental & Leasing\"],[\"Professional, Scientific,<br>Management, Administrative,<br>Waste Management Services\"],[\"Educational Services,<br>Health Care & Social Assistance\"],[\"Arts, Entertainment,<br>Recreation, Accommodation &<br>Food Services\"],[\"Other Services\"],[\"Public Administration\"]],\"hovertemplate\":\"%{value:.2f}% of Total Employed<br>Industries: <b>%{customdata}</b><extra></extra>\",\"legendgroup\":\"\",\"marker\":{\"color\":\"#636efa\",\"pattern\":{\"shape\":\"\"}},\"name\":\"\",\"offsetgroup\":\"\",\"orientation\":\"h\",\"showlegend\":false,\"textposition\":\"auto\",\"x\":[0.0,7.186858316221766,1.8480492813141685,0.0,8.213552361396303,0.0,2.053388090349076,2.053388090349076,13.5523613963039,52.56673511293634,7.802874743326488,2.6694045174537986,2.053388090349076],\"xaxis\":\"x\",\"y\":[\"Agriculture\",\"Construction\",\"Manufacturing\",\"Wholesale\",\"Retail\",\"Transportation\",\"Information\",\"Finance & Insurance\",\"Professional\",\"Education & Healthcare\",\"Entertainment\",\"Other Services\",\"Public Administration\"],\"yaxis\":\"y\",\"type\":\"bar\"}],\"name\":\"2016\",\"layout\":{\"annotations\":[{\"font\":{\"color\":\"rgb(7,13,30)\",\"size\":11},\"showarrow\":false,\"text\":\"(0 : 0.00%)\",\"textangle\":0,\"x\":1.004,\"xanchor\":\"right\",\"xref\":\"paper\",\"y\":\"Agriculture\",\"yref\":\"y\"},{\"font\":{\"color\":\"rgb(7,13,30)\",\"size\":11},\"showarrow\":false,\"text\":\"(35 : 7.19%)\",\"textangle\":0,\"x\":1.004,\"xanchor\":\"right\",\"xref\":\"paper\",\"y\":\"Construction\",\"yref\":\"y\"},{\"font\":{\"color\":\"rgb(7,13,30)\",\"size\":11},\"showarrow\":false,\"text\":\"(9 : 1.85%)\",\"textangle\":0,\"x\":1.004,\"xanchor\":\"right\",\"xref\":\"paper\",\"y\":\"Manufacturing\",\"yref\":\"y\"},{\"font\":{\"color\":\"rgb(7,13,30)\",\"size\":11},\"showarrow\":false,\"text\":\"(0 : 0.00%)\",\"textangle\":0,\"x\":1.004,\"xanchor\":\"right\",\"xref\":\"paper\",\"y\":\"Wholesale\",\"yref\":\"y\"},{\"font\":{\"color\":\"rgb(7,13,30)\",\"size\":11},\"showarrow\":false,\"text\":\"(40 : 8.21%)\",\"textangle\":0,\"x\":1.004,\"xanchor\":\"right\",\"xref\":\"paper\",\"y\":\"Retail\",\"yref\":\"y\"},{\"font\":{\"color\":\"rgb(7,13,30)\",\"size\":11},\"showarrow\":false,\"text\":\"(0 : 0.00%)\",\"textangle\":0,\"x\":1.004,\"xanchor\":\"right\",\"xref\":\"paper\",\"y\":\"Transportation\",\"yref\":\"y\"},{\"font\":{\"color\":\"rgb(7,13,30)\",\"size\":11},\"showarrow\":false,\"text\":\"(10 : 2.05%)\",\"textangle\":0,\"x\":1.004,\"xanchor\":\"right\",\"xref\":\"paper\",\"y\":\"Information\",\"yref\":\"y\"},{\"font\":{\"color\":\"rgb(7,13,30)\",\"size\":11},\"showarrow\":false,\"text\":\"(10 : 2.05%)\",\"textangle\":0,\"x\":1.004,\"xanchor\":\"right\",\"xref\":\"paper\",\"y\":\"Finance & Insurance\",\"yref\":\"y\"},{\"font\":{\"color\":\"rgb(7,13,30)\",\"size\":11},\"showarrow\":false,\"text\":\"(66 : 13.55%)\",\"textangle\":0,\"x\":1.004,\"xanchor\":\"right\",\"xref\":\"paper\",\"y\":\"Professional\",\"yref\":\"y\"},{\"font\":{\"color\":\"rgb(7,13,30)\",\"size\":11},\"showarrow\":false,\"text\":\"(256 : 52.57%)\",\"textangle\":0,\"x\":1.004,\"xanchor\":\"right\",\"xref\":\"paper\",\"y\":\"Education & Healthcare\",\"yref\":\"y\"},{\"font\":{\"color\":\"rgb(7,13,30)\",\"size\":11},\"showarrow\":false,\"text\":\"(38 : 7.80%)\",\"textangle\":0,\"x\":1.004,\"xanchor\":\"right\",\"xref\":\"paper\",\"y\":\"Entertainment\",\"yref\":\"y\"},{\"font\":{\"color\":\"rgb(7,13,30)\",\"size\":11},\"showarrow\":false,\"text\":\"(13 : 2.67%)\",\"textangle\":0,\"x\":1.004,\"xanchor\":\"right\",\"xref\":\"paper\",\"y\":\"Other Services\",\"yref\":\"y\"},{\"font\":{\"color\":\"rgb(7,13,30)\",\"size\":11},\"showarrow\":false,\"text\":\"(10 : 2.05%)\",\"textangle\":0,\"x\":1.004,\"xanchor\":\"right\",\"xref\":\"paper\",\"y\":\"Public Administration\",\"yref\":\"y\"}]}},{\"data\":[{\"alignmentgroup\":\"True\",\"customdata\":[[\"Agriculture,<br>Forestry, Fishing &<br>Hunting, Mining\"],[\"Construction\"],[\"Manufacturing\"],[\"Wholesale Trade\"],[\"Retail Trade\"],[\"Transportation,<br>Warehousing, Utilities\"],[\"Information\"],[\"Finance &<br>Insurance, Real Estate,<br>Rental & Leasing\"],[\"Professional, Scientific,<br>Management, Administrative,<br>Waste Management Services\"],[\"Educational Services,<br>Health Care & Social Assistance\"],[\"Arts, Entertainment,<br>Recreation, Accommodation &<br>Food Services\"],[\"Other Services\"],[\"Public Administration\"]],\"hovertemplate\":\"%{value:.2f}% of Total Employed<br>Industries: <b>%{customdata}</b><extra></extra>\",\"legendgroup\":\"\",\"marker\":{\"color\":\"#636efa\",\"pattern\":{\"shape\":\"\"}},\"name\":\"\",\"offsetgroup\":\"\",\"orientation\":\"h\",\"showlegend\":false,\"textposition\":\"auto\",\"x\":[0.0,6.744186046511628,0.0,0.0,3.488372093023256,0.0,3.255813953488372,9.069767441860463,17.441860465116278,47.44186046511628,7.906976744186046,2.558139534883721,2.0930232558139537],\"xaxis\":\"x\",\"y\":[\"Agriculture\",\"Construction\",\"Manufacturing\",\"Wholesale\",\"Retail\",\"Transportation\",\"Information\",\"Finance & Insurance\",\"Professional\",\"Education & Healthcare\",\"Entertainment\",\"Other Services\",\"Public Administration\"],\"yaxis\":\"y\",\"type\":\"bar\"}],\"name\":\"2017\",\"layout\":{\"annotations\":[{\"font\":{\"color\":\"rgb(7,13,30)\",\"size\":11},\"showarrow\":false,\"text\":\"(0 : 0.00%)\",\"textangle\":0,\"x\":1.004,\"xanchor\":\"right\",\"xref\":\"paper\",\"y\":\"Agriculture\",\"yref\":\"y\"},{\"font\":{\"color\":\"rgb(7,13,30)\",\"size\":11},\"showarrow\":false,\"text\":\"(29 : 6.74%)\",\"textangle\":0,\"x\":1.004,\"xanchor\":\"right\",\"xref\":\"paper\",\"y\":\"Construction\",\"yref\":\"y\"},{\"font\":{\"color\":\"rgb(7,13,30)\",\"size\":11},\"showarrow\":false,\"text\":\"(0 : 0.00%)\",\"textangle\":0,\"x\":1.004,\"xanchor\":\"right\",\"xref\":\"paper\",\"y\":\"Manufacturing\",\"yref\":\"y\"},{\"font\":{\"color\":\"rgb(7,13,30)\",\"size\":11},\"showarrow\":false,\"text\":\"(0 : 0.00%)\",\"textangle\":0,\"x\":1.004,\"xanchor\":\"right\",\"xref\":\"paper\",\"y\":\"Wholesale\",\"yref\":\"y\"},{\"font\":{\"color\":\"rgb(7,13,30)\",\"size\":11},\"showarrow\":false,\"text\":\"(15 : 3.49%)\",\"textangle\":0,\"x\":1.004,\"xanchor\":\"right\",\"xref\":\"paper\",\"y\":\"Retail\",\"yref\":\"y\"},{\"font\":{\"color\":\"rgb(7,13,30)\",\"size\":11},\"showarrow\":false,\"text\":\"(0 : 0.00%)\",\"textangle\":0,\"x\":1.004,\"xanchor\":\"right\",\"xref\":\"paper\",\"y\":\"Transportation\",\"yref\":\"y\"},{\"font\":{\"color\":\"rgb(7,13,30)\",\"size\":11},\"showarrow\":false,\"text\":\"(14 : 3.26%)\",\"textangle\":0,\"x\":1.004,\"xanchor\":\"right\",\"xref\":\"paper\",\"y\":\"Information\",\"yref\":\"y\"},{\"font\":{\"color\":\"rgb(7,13,30)\",\"size\":11},\"showarrow\":false,\"text\":\"(39 : 9.07%)\",\"textangle\":0,\"x\":1.004,\"xanchor\":\"right\",\"xref\":\"paper\",\"y\":\"Finance & Insurance\",\"yref\":\"y\"},{\"font\":{\"color\":\"rgb(7,13,30)\",\"size\":11},\"showarrow\":false,\"text\":\"(75 : 17.44%)\",\"textangle\":0,\"x\":1.004,\"xanchor\":\"right\",\"xref\":\"paper\",\"y\":\"Professional\",\"yref\":\"y\"},{\"font\":{\"color\":\"rgb(7,13,30)\",\"size\":11},\"showarrow\":false,\"text\":\"(204 : 47.44%)\",\"textangle\":0,\"x\":1.004,\"xanchor\":\"right\",\"xref\":\"paper\",\"y\":\"Education & Healthcare\",\"yref\":\"y\"},{\"font\":{\"color\":\"rgb(7,13,30)\",\"size\":11},\"showarrow\":false,\"text\":\"(34 : 7.91%)\",\"textangle\":0,\"x\":1.004,\"xanchor\":\"right\",\"xref\":\"paper\",\"y\":\"Entertainment\",\"yref\":\"y\"},{\"font\":{\"color\":\"rgb(7,13,30)\",\"size\":11},\"showarrow\":false,\"text\":\"(11 : 2.56%)\",\"textangle\":0,\"x\":1.004,\"xanchor\":\"right\",\"xref\":\"paper\",\"y\":\"Other Services\",\"yref\":\"y\"},{\"font\":{\"color\":\"rgb(7,13,30)\",\"size\":11},\"showarrow\":false,\"text\":\"(9 : 2.09%)\",\"textangle\":0,\"x\":1.004,\"xanchor\":\"right\",\"xref\":\"paper\",\"y\":\"Public Administration\",\"yref\":\"y\"}]}},{\"data\":[{\"alignmentgroup\":\"True\",\"customdata\":[[\"Agriculture,<br>Forestry, Fishing &<br>Hunting, Mining\"],[\"Construction\"],[\"Manufacturing\"],[\"Wholesale Trade\"],[\"Retail Trade\"],[\"Transportation,<br>Warehousing, Utilities\"],[\"Information\"],[\"Finance &<br>Insurance, Real Estate,<br>Rental & Leasing\"],[\"Professional, Scientific,<br>Management, Administrative,<br>Waste Management Services\"],[\"Educational Services,<br>Health Care & Social Assistance\"],[\"Arts, Entertainment,<br>Recreation, Accommodation &<br>Food Services\"],[\"Other Services\"],[\"Public Administration\"]],\"hovertemplate\":\"%{value:.2f}% of Total Employed<br>Industries: <b>%{customdata}</b><extra></extra>\",\"legendgroup\":\"\",\"marker\":{\"color\":\"#636efa\",\"pattern\":{\"shape\":\"\"}},\"name\":\"\",\"offsetgroup\":\"\",\"orientation\":\"h\",\"showlegend\":false,\"textposition\":\"auto\",\"x\":[0.0,1.9723865877712032,0.0,0.0,2.9585798816568047,0.0,2.366863905325444,9.467455621301776,16.962524654832347,51.08481262327416,11.045364891518735,2.366863905325444,1.7751479289940828],\"xaxis\":\"x\",\"y\":[\"Agriculture\",\"Construction\",\"Manufacturing\",\"Wholesale\",\"Retail\",\"Transportation\",\"Information\",\"Finance & Insurance\",\"Professional\",\"Education & Healthcare\",\"Entertainment\",\"Other Services\",\"Public Administration\"],\"yaxis\":\"y\",\"type\":\"bar\"}],\"name\":\"2018\",\"layout\":{\"annotations\":[{\"font\":{\"color\":\"rgb(7,13,30)\",\"size\":11},\"showarrow\":false,\"text\":\"(0 : 0.00%)\",\"textangle\":0,\"x\":1.004,\"xanchor\":\"right\",\"xref\":\"paper\",\"y\":\"Agriculture\",\"yref\":\"y\"},{\"font\":{\"color\":\"rgb(7,13,30)\",\"size\":11},\"showarrow\":false,\"text\":\"(10 : 1.97%)\",\"textangle\":0,\"x\":1.004,\"xanchor\":\"right\",\"xref\":\"paper\",\"y\":\"Construction\",\"yref\":\"y\"},{\"font\":{\"color\":\"rgb(7,13,30)\",\"size\":11},\"showarrow\":false,\"text\":\"(0 : 0.00%)\",\"textangle\":0,\"x\":1.004,\"xanchor\":\"right\",\"xref\":\"paper\",\"y\":\"Manufacturing\",\"yref\":\"y\"},{\"font\":{\"color\":\"rgb(7,13,30)\",\"size\":11},\"showarrow\":false,\"text\":\"(0 : 0.00%)\",\"textangle\":0,\"x\":1.004,\"xanchor\":\"right\",\"xref\":\"paper\",\"y\":\"Wholesale\",\"yref\":\"y\"},{\"font\":{\"color\":\"rgb(7,13,30)\",\"size\":11},\"showarrow\":false,\"text\":\"(15 : 2.96%)\",\"textangle\":0,\"x\":1.004,\"xanchor\":\"right\",\"xref\":\"paper\",\"y\":\"Retail\",\"yref\":\"y\"},{\"font\":{\"color\":\"rgb(7,13,30)\",\"size\":11},\"showarrow\":false,\"text\":\"(0 : 0.00%)\",\"textangle\":0,\"x\":1.004,\"xanchor\":\"right\",\"xref\":\"paper\",\"y\":\"Transportation\",\"yref\":\"y\"},{\"font\":{\"color\":\"rgb(7,13,30)\",\"size\":11},\"showarrow\":false,\"text\":\"(12 : 2.37%)\",\"textangle\":0,\"x\":1.004,\"xanchor\":\"right\",\"xref\":\"paper\",\"y\":\"Information\",\"yref\":\"y\"},{\"font\":{\"color\":\"rgb(7,13,30)\",\"size\":11},\"showarrow\":false,\"text\":\"(48 : 9.47%)\",\"textangle\":0,\"x\":1.004,\"xanchor\":\"right\",\"xref\":\"paper\",\"y\":\"Finance & Insurance\",\"yref\":\"y\"},{\"font\":{\"color\":\"rgb(7,13,30)\",\"size\":11},\"showarrow\":false,\"text\":\"(86 : 16.96%)\",\"textangle\":0,\"x\":1.004,\"xanchor\":\"right\",\"xref\":\"paper\",\"y\":\"Professional\",\"yref\":\"y\"},{\"font\":{\"color\":\"rgb(7,13,30)\",\"size\":11},\"showarrow\":false,\"text\":\"(259 : 51.08%)\",\"textangle\":0,\"x\":1.004,\"xanchor\":\"right\",\"xref\":\"paper\",\"y\":\"Education & Healthcare\",\"yref\":\"y\"},{\"font\":{\"color\":\"rgb(7,13,30)\",\"size\":11},\"showarrow\":false,\"text\":\"(56 : 11.05%)\",\"textangle\":0,\"x\":1.004,\"xanchor\":\"right\",\"xref\":\"paper\",\"y\":\"Entertainment\",\"yref\":\"y\"},{\"font\":{\"color\":\"rgb(7,13,30)\",\"size\":11},\"showarrow\":false,\"text\":\"(12 : 2.37%)\",\"textangle\":0,\"x\":1.004,\"xanchor\":\"right\",\"xref\":\"paper\",\"y\":\"Other Services\",\"yref\":\"y\"},{\"font\":{\"color\":\"rgb(7,13,30)\",\"size\":11},\"showarrow\":false,\"text\":\"(9 : 1.78%)\",\"textangle\":0,\"x\":1.004,\"xanchor\":\"right\",\"xref\":\"paper\",\"y\":\"Public Administration\",\"yref\":\"y\"}]}},{\"data\":[{\"alignmentgroup\":\"True\",\"customdata\":[[\"Agriculture,<br>Forestry, Fishing &<br>Hunting, Mining\"],[\"Construction\"],[\"Manufacturing\"],[\"Wholesale Trade\"],[\"Retail Trade\"],[\"Transportation,<br>Warehousing, Utilities\"],[\"Information\"],[\"Finance &<br>Insurance, Real Estate,<br>Rental & Leasing\"],[\"Professional, Scientific,<br>Management, Administrative,<br>Waste Management Services\"],[\"Educational Services,<br>Health Care & Social Assistance\"],[\"Arts, Entertainment,<br>Recreation, Accommodation &<br>Food Services\"],[\"Other Services\"],[\"Public Administration\"]],\"hovertemplate\":\"%{value:.2f}% of Total Employed<br>Industries: <b>%{customdata}</b><extra></extra>\",\"legendgroup\":\"\",\"marker\":{\"color\":\"#636efa\",\"pattern\":{\"shape\":\"\"}},\"name\":\"\",\"offsetgroup\":\"\",\"orientation\":\"h\",\"showlegend\":false,\"textposition\":\"auto\",\"x\":[0.0,2.5700934579439254,0.0,0.0,3.504672897196261,3.2710280373831777,3.037383177570093,11.91588785046729,24.53271028037383,33.64485981308411,12.850467289719626,3.037383177570093,1.6355140186915889],\"xaxis\":\"x\",\"y\":[\"Agriculture\",\"Construction\",\"Manufacturing\",\"Wholesale\",\"Retail\",\"Transportation\",\"Information\",\"Finance & Insurance\",\"Professional\",\"Education & Healthcare\",\"Entertainment\",\"Other Services\",\"Public Administration\"],\"yaxis\":\"y\",\"type\":\"bar\"}],\"name\":\"2019\",\"layout\":{\"annotations\":[{\"font\":{\"color\":\"rgb(7,13,30)\",\"size\":11},\"showarrow\":false,\"text\":\"(0 : 0.00%)\",\"textangle\":0,\"x\":1.004,\"xanchor\":\"right\",\"xref\":\"paper\",\"y\":\"Agriculture\",\"yref\":\"y\"},{\"font\":{\"color\":\"rgb(7,13,30)\",\"size\":11},\"showarrow\":false,\"text\":\"(11 : 2.57%)\",\"textangle\":0,\"x\":1.004,\"xanchor\":\"right\",\"xref\":\"paper\",\"y\":\"Construction\",\"yref\":\"y\"},{\"font\":{\"color\":\"rgb(7,13,30)\",\"size\":11},\"showarrow\":false,\"text\":\"(0 : 0.00%)\",\"textangle\":0,\"x\":1.004,\"xanchor\":\"right\",\"xref\":\"paper\",\"y\":\"Manufacturing\",\"yref\":\"y\"},{\"font\":{\"color\":\"rgb(7,13,30)\",\"size\":11},\"showarrow\":false,\"text\":\"(0 : 0.00%)\",\"textangle\":0,\"x\":1.004,\"xanchor\":\"right\",\"xref\":\"paper\",\"y\":\"Wholesale\",\"yref\":\"y\"},{\"font\":{\"color\":\"rgb(7,13,30)\",\"size\":11},\"showarrow\":false,\"text\":\"(15 : 3.50%)\",\"textangle\":0,\"x\":1.004,\"xanchor\":\"right\",\"xref\":\"paper\",\"y\":\"Retail\",\"yref\":\"y\"},{\"font\":{\"color\":\"rgb(7,13,30)\",\"size\":11},\"showarrow\":false,\"text\":\"(14 : 3.27%)\",\"textangle\":0,\"x\":1.004,\"xanchor\":\"right\",\"xref\":\"paper\",\"y\":\"Transportation\",\"yref\":\"y\"},{\"font\":{\"color\":\"rgb(7,13,30)\",\"size\":11},\"showarrow\":false,\"text\":\"(13 : 3.04%)\",\"textangle\":0,\"x\":1.004,\"xanchor\":\"right\",\"xref\":\"paper\",\"y\":\"Information\",\"yref\":\"y\"},{\"font\":{\"color\":\"rgb(7,13,30)\",\"size\":11},\"showarrow\":false,\"text\":\"(51 : 11.92%)\",\"textangle\":0,\"x\":1.004,\"xanchor\":\"right\",\"xref\":\"paper\",\"y\":\"Finance & Insurance\",\"yref\":\"y\"},{\"font\":{\"color\":\"rgb(7,13,30)\",\"size\":11},\"showarrow\":false,\"text\":\"(105 : 24.53%)\",\"textangle\":0,\"x\":1.004,\"xanchor\":\"right\",\"xref\":\"paper\",\"y\":\"Professional\",\"yref\":\"y\"},{\"font\":{\"color\":\"rgb(7,13,30)\",\"size\":11},\"showarrow\":false,\"text\":\"(144 : 33.64%)\",\"textangle\":0,\"x\":1.004,\"xanchor\":\"right\",\"xref\":\"paper\",\"y\":\"Education & Healthcare\",\"yref\":\"y\"},{\"font\":{\"color\":\"rgb(7,13,30)\",\"size\":11},\"showarrow\":false,\"text\":\"(55 : 12.85%)\",\"textangle\":0,\"x\":1.004,\"xanchor\":\"right\",\"xref\":\"paper\",\"y\":\"Entertainment\",\"yref\":\"y\"},{\"font\":{\"color\":\"rgb(7,13,30)\",\"size\":11},\"showarrow\":false,\"text\":\"(13 : 3.04%)\",\"textangle\":0,\"x\":1.004,\"xanchor\":\"right\",\"xref\":\"paper\",\"y\":\"Other Services\",\"yref\":\"y\"},{\"font\":{\"color\":\"rgb(7,13,30)\",\"size\":11},\"showarrow\":false,\"text\":\"(7 : 1.64%)\",\"textangle\":0,\"x\":1.004,\"xanchor\":\"right\",\"xref\":\"paper\",\"y\":\"Public Administration\",\"yref\":\"y\"}]}},{\"data\":[{\"alignmentgroup\":\"True\",\"customdata\":[[\"Agriculture,<br>Forestry, Fishing &<br>Hunting, Mining\"],[\"Construction\"],[\"Manufacturing\"],[\"Wholesale Trade\"],[\"Retail Trade\"],[\"Transportation,<br>Warehousing, Utilities\"],[\"Information\"],[\"Finance &<br>Insurance, Real Estate,<br>Rental & Leasing\"],[\"Professional, Scientific,<br>Management, Administrative,<br>Waste Management Services\"],[\"Educational Services,<br>Health Care & Social Assistance\"],[\"Arts, Entertainment,<br>Recreation, Accommodation &<br>Food Services\"],[\"Other Services\"],[\"Public Administration\"]],\"hovertemplate\":\"%{value:.2f}% of Total Employed<br>Industries: <b>%{customdata}</b><extra></extra>\",\"legendgroup\":\"\",\"marker\":{\"color\":\"#636efa\",\"pattern\":{\"shape\":\"\"}},\"name\":\"\",\"offsetgroup\":\"\",\"orientation\":\"h\",\"showlegend\":false,\"textposition\":\"auto\",\"x\":[0.0,1.33630289532294,0.0,0.0,1.11358574610245,2.89532293986637,2.67260579064588,14.476614699331847,37.8619153674833,29.844097995545656,7.12694877505568,2.67260579064588,0.0],\"xaxis\":\"x\",\"y\":[\"Agriculture\",\"Construction\",\"Manufacturing\",\"Wholesale\",\"Retail\",\"Transportation\",\"Information\",\"Finance & Insurance\",\"Professional\",\"Education & Healthcare\",\"Entertainment\",\"Other Services\",\"Public Administration\"],\"yaxis\":\"y\",\"type\":\"bar\"}],\"name\":\"2020\",\"layout\":{\"annotations\":[{\"font\":{\"color\":\"rgb(7,13,30)\",\"size\":11},\"showarrow\":false,\"text\":\"(0 : 0.00%)\",\"textangle\":0,\"x\":1.004,\"xanchor\":\"right\",\"xref\":\"paper\",\"y\":\"Agriculture\",\"yref\":\"y\"},{\"font\":{\"color\":\"rgb(7,13,30)\",\"size\":11},\"showarrow\":false,\"text\":\"(6 : 1.34%)\",\"textangle\":0,\"x\":1.004,\"xanchor\":\"right\",\"xref\":\"paper\",\"y\":\"Construction\",\"yref\":\"y\"},{\"font\":{\"color\":\"rgb(7,13,30)\",\"size\":11},\"showarrow\":false,\"text\":\"(0 : 0.00%)\",\"textangle\":0,\"x\":1.004,\"xanchor\":\"right\",\"xref\":\"paper\",\"y\":\"Manufacturing\",\"yref\":\"y\"},{\"font\":{\"color\":\"rgb(7,13,30)\",\"size\":11},\"showarrow\":false,\"text\":\"(0 : 0.00%)\",\"textangle\":0,\"x\":1.004,\"xanchor\":\"right\",\"xref\":\"paper\",\"y\":\"Wholesale\",\"yref\":\"y\"},{\"font\":{\"color\":\"rgb(7,13,30)\",\"size\":11},\"showarrow\":false,\"text\":\"(5 : 1.11%)\",\"textangle\":0,\"x\":1.004,\"xanchor\":\"right\",\"xref\":\"paper\",\"y\":\"Retail\",\"yref\":\"y\"},{\"font\":{\"color\":\"rgb(7,13,30)\",\"size\":11},\"showarrow\":false,\"text\":\"(13 : 2.90%)\",\"textangle\":0,\"x\":1.004,\"xanchor\":\"right\",\"xref\":\"paper\",\"y\":\"Transportation\",\"yref\":\"y\"},{\"font\":{\"color\":\"rgb(7,13,30)\",\"size\":11},\"showarrow\":false,\"text\":\"(12 : 2.67%)\",\"textangle\":0,\"x\":1.004,\"xanchor\":\"right\",\"xref\":\"paper\",\"y\":\"Information\",\"yref\":\"y\"},{\"font\":{\"color\":\"rgb(7,13,30)\",\"size\":11},\"showarrow\":false,\"text\":\"(65 : 14.48%)\",\"textangle\":0,\"x\":1.004,\"xanchor\":\"right\",\"xref\":\"paper\",\"y\":\"Finance & Insurance\",\"yref\":\"y\"},{\"font\":{\"color\":\"rgb(7,13,30)\",\"size\":11},\"showarrow\":false,\"text\":\"(170 : 37.86%)\",\"textangle\":0,\"x\":1.004,\"xanchor\":\"right\",\"xref\":\"paper\",\"y\":\"Professional\",\"yref\":\"y\"},{\"font\":{\"color\":\"rgb(7,13,30)\",\"size\":11},\"showarrow\":false,\"text\":\"(134 : 29.84%)\",\"textangle\":0,\"x\":1.004,\"xanchor\":\"right\",\"xref\":\"paper\",\"y\":\"Education & Healthcare\",\"yref\":\"y\"},{\"font\":{\"color\":\"rgb(7,13,30)\",\"size\":11},\"showarrow\":false,\"text\":\"(32 : 7.13%)\",\"textangle\":0,\"x\":1.004,\"xanchor\":\"right\",\"xref\":\"paper\",\"y\":\"Entertainment\",\"yref\":\"y\"},{\"font\":{\"color\":\"rgb(7,13,30)\",\"size\":11},\"showarrow\":false,\"text\":\"(12 : 2.67%)\",\"textangle\":0,\"x\":1.004,\"xanchor\":\"right\",\"xref\":\"paper\",\"y\":\"Other Services\",\"yref\":\"y\"},{\"font\":{\"color\":\"rgb(7,13,30)\",\"size\":11},\"showarrow\":false,\"text\":\"(0 : 0.00%)\",\"textangle\":0,\"x\":1.004,\"xanchor\":\"right\",\"xref\":\"paper\",\"y\":\"Public Administration\",\"yref\":\"y\"}]}}]);\n",
       "                        }).then(function(){\n",
       "                            \n",
       "var gd = document.getElementById('953a3fcf-6342-4de7-b08f-b2d9483864c6');\n",
       "var x = new MutationObserver(function (mutations, observer) {{\n",
       "        var display = window.getComputedStyle(gd).display;\n",
       "        if (!display || display === 'none') {{\n",
       "            console.log([gd, 'removed!']);\n",
       "            Plotly.purge(gd);\n",
       "            observer.disconnect();\n",
       "        }}\n",
       "}});\n",
       "\n",
       "// Listen for the removal of the full notebook cells\n",
       "var notebookContainer = gd.closest('#notebook-container');\n",
       "if (notebookContainer) {{\n",
       "    x.observe(notebookContainer, {childList: true});\n",
       "}}\n",
       "\n",
       "// Listen for the clearing of the current output cell\n",
       "var outputEl = gd.closest('.output');\n",
       "if (outputEl) {{\n",
       "    x.observe(outputEl, {childList: true});\n",
       "}}\n",
       "\n",
       "                        })                };                });            </script>        </div>"
      ]
     },
     "metadata": {},
     "output_type": "display_data"
    }
   ],
   "source": [
    "plotIndustryByNeighborhood('Starr Hill')"
   ]
  },
  {
   "cell_type": "code",
   "execution_count": 25,
   "metadata": {},
   "outputs": [
    {
     "data": {
      "application/vnd.plotly.v1+json": {
       "config": {
        "plotlyServerURL": "https://plot.ly"
       },
       "data": [
        {
         "alignmentgroup": "True",
         "hovertemplate": "Sex=Male<br>Year=2013<br>Population (%)=%{x}<br>Age Group=%{y}<extra></extra>",
         "legendgroup": "Male",
         "marker": {
          "color": "#00cc96",
          "pattern": {
           "shape": ""
          }
         },
         "name": "Male",
         "offsetgroup": "Starr Hill_M",
         "orientation": "h",
         "showlegend": true,
         "textposition": "auto",
         "type": "bar",
         "x": [
          0,
          1.3349514563106797,
          0,
          1.2135922330097086,
          0.8495145631067961,
          16.990291262135923,
          1.2135922330097086,
          1.699029126213592,
          4.004854368932039,
          6.310679611650485,
          0.7281553398058253,
          3.155339805825242,
          4.733009708737864,
          1.699029126213592,
          1.8203883495145632,
          2.3058252427184467,
          0.7281553398058253,
          0.3640776699029126
         ],
         "xaxis": "x",
         "y": [
          "0 to 4",
          "5 to 9",
          "10 to 14",
          "15 to 19",
          "20 to 24",
          "25 to 29",
          "30 to 34",
          "35 to 39",
          "40 to 44",
          "45 to 49",
          "50 to 54",
          "55 to 59",
          "60 to 64",
          "65 to 69",
          "70 to 74",
          "75 to 79",
          "80 to 84",
          "85 and up"
         ],
         "yaxis": "y"
        },
        {
         "alignmentgroup": "True",
         "hovertemplate": "Sex=Female<br>Year=2013<br>Population (%)=%{x}<br>Age Group=%{y}<extra></extra>",
         "legendgroup": "Female",
         "marker": {
          "color": "#ab63fa",
          "pattern": {
           "shape": ""
          }
         },
         "name": "Female",
         "offsetgroup": "Starr Hill_F",
         "orientation": "h",
         "showlegend": true,
         "textposition": "auto",
         "type": "bar",
         "x": [
          0,
          1.4563106796116505,
          0,
          0.7281553398058253,
          6.674757281553398,
          7.645631067961165,
          2.3058252427184467,
          1.699029126213592,
          4.12621359223301,
          1.3349514563106797,
          1.0922330097087378,
          1.3349514563106797,
          3.6407766990291264,
          4.854368932038835,
          3.883495145631068,
          2.912621359223301,
          2.66990291262136,
          4.490291262135922
         ],
         "xaxis": "x",
         "y": [
          "0 to 4",
          "5 to 9",
          "10 to 14",
          "15 to 19",
          "20 to 24",
          "25 to 29",
          "30 to 34",
          "35 to 39",
          "40 to 44",
          "45 to 49",
          "50 to 54",
          "55 to 59",
          "60 to 64",
          "65 to 69",
          "70 to 74",
          "75 to 79",
          "80 to 84",
          "85 and up"
         ],
         "yaxis": "y"
        }
       ],
       "frames": [
        {
         "data": [
          {
           "alignmentgroup": "True",
           "hovertemplate": "Sex=Male<br>Year=2013<br>Population (%)=%{x}<br>Age Group=%{y}<extra></extra>",
           "legendgroup": "Male",
           "marker": {
            "color": "#00cc96",
            "pattern": {
             "shape": ""
            }
           },
           "name": "Male",
           "offsetgroup": "Starr Hill_M",
           "orientation": "h",
           "showlegend": true,
           "textposition": "auto",
           "type": "bar",
           "x": [
            0,
            1.3349514563106797,
            0,
            1.2135922330097086,
            0.8495145631067961,
            16.990291262135923,
            1.2135922330097086,
            1.699029126213592,
            4.004854368932039,
            6.310679611650485,
            0.7281553398058253,
            3.155339805825242,
            4.733009708737864,
            1.699029126213592,
            1.8203883495145632,
            2.3058252427184467,
            0.7281553398058253,
            0.3640776699029126
           ],
           "xaxis": "x",
           "y": [
            "0 to 4",
            "5 to 9",
            "10 to 14",
            "15 to 19",
            "20 to 24",
            "25 to 29",
            "30 to 34",
            "35 to 39",
            "40 to 44",
            "45 to 49",
            "50 to 54",
            "55 to 59",
            "60 to 64",
            "65 to 69",
            "70 to 74",
            "75 to 79",
            "80 to 84",
            "85 and up"
           ],
           "yaxis": "y"
          },
          {
           "alignmentgroup": "True",
           "hovertemplate": "Sex=Female<br>Year=2013<br>Population (%)=%{x}<br>Age Group=%{y}<extra></extra>",
           "legendgroup": "Female",
           "marker": {
            "color": "#ab63fa",
            "pattern": {
             "shape": ""
            }
           },
           "name": "Female",
           "offsetgroup": "Starr Hill_F",
           "orientation": "h",
           "showlegend": true,
           "textposition": "auto",
           "type": "bar",
           "x": [
            0,
            1.4563106796116505,
            0,
            0.7281553398058253,
            6.674757281553398,
            7.645631067961165,
            2.3058252427184467,
            1.699029126213592,
            4.12621359223301,
            1.3349514563106797,
            1.0922330097087378,
            1.3349514563106797,
            3.6407766990291264,
            4.854368932038835,
            3.883495145631068,
            2.912621359223301,
            2.66990291262136,
            4.490291262135922
           ],
           "xaxis": "x",
           "y": [
            "0 to 4",
            "5 to 9",
            "10 to 14",
            "15 to 19",
            "20 to 24",
            "25 to 29",
            "30 to 34",
            "35 to 39",
            "40 to 44",
            "45 to 49",
            "50 to 54",
            "55 to 59",
            "60 to 64",
            "65 to 69",
            "70 to 74",
            "75 to 79",
            "80 to 84",
            "85 and up"
           ],
           "yaxis": "y"
          }
         ],
         "name": "2013"
        },
        {
         "data": [
          {
           "alignmentgroup": "True",
           "hovertemplate": "Sex=Male<br>Year=2014<br>Population (%)=%{x}<br>Age Group=%{y}<extra></extra>",
           "legendgroup": "Male",
           "marker": {
            "color": "#00cc96",
            "pattern": {
             "shape": ""
            }
           },
           "name": "Male",
           "offsetgroup": "Starr Hill_M",
           "orientation": "h",
           "showlegend": true,
           "textposition": "auto",
           "type": "bar",
           "x": [
            0,
            0,
            0,
            0,
            0.819672131147541,
            17.096018735362996,
            3.161592505854801,
            0,
            3.747072599531616,
            7.962529274004684,
            1.053864168618267,
            1.053864168618267,
            3.51288056206089,
            1.756440281030445,
            2.459016393442623,
            1.053864168618267,
            1.990632318501171,
            0.585480093676815
           ],
           "xaxis": "x",
           "y": [
            "0 to 4",
            "5 to 9",
            "10 to 14",
            "15 to 19",
            "20 to 24",
            "25 to 29",
            "30 to 34",
            "35 to 39",
            "40 to 44",
            "45 to 49",
            "50 to 54",
            "55 to 59",
            "60 to 64",
            "65 to 69",
            "70 to 74",
            "75 to 79",
            "80 to 84",
            "85 and up"
           ],
           "yaxis": "y"
          },
          {
           "alignmentgroup": "True",
           "hovertemplate": "Sex=Female<br>Year=2014<br>Population (%)=%{x}<br>Age Group=%{y}<extra></extra>",
           "legendgroup": "Female",
           "marker": {
            "color": "#ab63fa",
            "pattern": {
             "shape": ""
            }
           },
           "name": "Female",
           "offsetgroup": "Starr Hill_F",
           "orientation": "h",
           "showlegend": true,
           "textposition": "auto",
           "type": "bar",
           "x": [
            2.2248243559718968,
            0,
            0,
            0.702576112412178,
            5.737704918032787,
            11.124121779859484,
            1.990632318501171,
            0,
            2.693208430913349,
            1.288056206088993,
            1.17096018735363,
            1.405152224824356,
            2.107728337236534,
            4.8009367681498825,
            2.459016393442623,
            2.107728337236534,
            4.8009367681498825,
            9.133489461358314
           ],
           "xaxis": "x",
           "y": [
            "0 to 4",
            "5 to 9",
            "10 to 14",
            "15 to 19",
            "20 to 24",
            "25 to 29",
            "30 to 34",
            "35 to 39",
            "40 to 44",
            "45 to 49",
            "50 to 54",
            "55 to 59",
            "60 to 64",
            "65 to 69",
            "70 to 74",
            "75 to 79",
            "80 to 84",
            "85 and up"
           ],
           "yaxis": "y"
          }
         ],
         "name": "2014"
        },
        {
         "data": [
          {
           "alignmentgroup": "True",
           "hovertemplate": "Sex=Male<br>Year=2015<br>Population (%)=%{x}<br>Age Group=%{y}<extra></extra>",
           "legendgroup": "Male",
           "marker": {
            "color": "#00cc96",
            "pattern": {
             "shape": ""
            }
           },
           "name": "Male",
           "offsetgroup": "Starr Hill_M",
           "orientation": "h",
           "showlegend": true,
           "textposition": "auto",
           "type": "bar",
           "x": [
            1.080550098231827,
            0,
            1.37524557956778,
            1.8664047151277012,
            2.2593320235756384,
            8.055009823182711,
            4.4204322200392925,
            2.06286836935167,
            3.6345776031434185,
            5.697445972495088,
            1.080550098231827,
            0,
            3.3398821218074657,
            3.3398821218074657,
            1.9646365422396856,
            1.080550098231827,
            2.5540275049115917,
            0.7858546168958742
           ],
           "xaxis": "x",
           "y": [
            "0 to 4",
            "5 to 9",
            "10 to 14",
            "15 to 19",
            "20 to 24",
            "25 to 29",
            "30 to 34",
            "35 to 39",
            "40 to 44",
            "45 to 49",
            "50 to 54",
            "55 to 59",
            "60 to 64",
            "65 to 69",
            "70 to 74",
            "75 to 79",
            "80 to 84",
            "85 and up"
           ],
           "yaxis": "y"
          },
          {
           "alignmentgroup": "True",
           "hovertemplate": "Sex=Female<br>Year=2015<br>Population (%)=%{x}<br>Age Group=%{y}<extra></extra>",
           "legendgroup": "Female",
           "marker": {
            "color": "#ab63fa",
            "pattern": {
             "shape": ""
            }
           },
           "name": "Female",
           "offsetgroup": "Starr Hill_F",
           "orientation": "h",
           "showlegend": true,
           "textposition": "auto",
           "type": "bar",
           "x": [
            1.8664047151277012,
            1.1787819253438114,
            0,
            0.68762278978389,
            5.50098231827112,
            9.233791748526524,
            7.662082514734774,
            3.2416502946954813,
            1.8664047151277012,
            1.4734774066797642,
            0.9823182711198428,
            0.9823182711198428,
            0.8840864440078585,
            2.848722986247544,
            5.992141453831041,
            2.161100196463654,
            1.6699410609037328,
            7.170923379174853
           ],
           "xaxis": "x",
           "y": [
            "0 to 4",
            "5 to 9",
            "10 to 14",
            "15 to 19",
            "20 to 24",
            "25 to 29",
            "30 to 34",
            "35 to 39",
            "40 to 44",
            "45 to 49",
            "50 to 54",
            "55 to 59",
            "60 to 64",
            "65 to 69",
            "70 to 74",
            "75 to 79",
            "80 to 84",
            "85 and up"
           ],
           "yaxis": "y"
          }
         ],
         "name": "2015"
        },
        {
         "data": [
          {
           "alignmentgroup": "True",
           "hovertemplate": "Sex=Male<br>Year=2016<br>Population (%)=%{x}<br>Age Group=%{y}<extra></extra>",
           "legendgroup": "Male",
           "marker": {
            "color": "#00cc96",
            "pattern": {
             "shape": ""
            }
           },
           "name": "Male",
           "offsetgroup": "Starr Hill_M",
           "orientation": "h",
           "showlegend": true,
           "textposition": "auto",
           "type": "bar",
           "x": [
            4.081632653061225,
            0,
            1.6697588126159555,
            3.617810760667904,
            3.339517625231911,
            4.452690166975882,
            4.081632653061225,
            2.5974025974025974,
            2.411873840445269,
            5.194805194805195,
            1.1131725417439704,
            0,
            2.5974025974025974,
            2.87569573283859,
            1.7625231910946195,
            2.3191094619666046,
            2.782931354359926,
            0.3710575139146567
           ],
           "xaxis": "x",
           "y": [
            "0 to 4",
            "5 to 9",
            "10 to 14",
            "15 to 19",
            "20 to 24",
            "25 to 29",
            "30 to 34",
            "35 to 39",
            "40 to 44",
            "45 to 49",
            "50 to 54",
            "55 to 59",
            "60 to 64",
            "65 to 69",
            "70 to 74",
            "75 to 79",
            "80 to 84",
            "85 and up"
           ],
           "yaxis": "y"
          },
          {
           "alignmentgroup": "True",
           "hovertemplate": "Sex=Female<br>Year=2016<br>Population (%)=%{x}<br>Age Group=%{y}<extra></extra>",
           "legendgroup": "Female",
           "marker": {
            "color": "#ab63fa",
            "pattern": {
             "shape": ""
            }
           },
           "name": "Female",
           "offsetgroup": "Starr Hill_F",
           "orientation": "h",
           "showlegend": true,
           "textposition": "auto",
           "type": "bar",
           "x": [
            2.504638218923933,
            1.1131725417439704,
            0,
            0.4638218923933209,
            6.957328385899815,
            10.38961038961039,
            10.018552875695732,
            2.6901669758812616,
            2.0408163265306123,
            0.8348794063079777,
            0,
            1.5769944341372912,
            0,
            1.855287569573284,
            5.936920222634508,
            1.948051948051948,
            0.6493506493506493,
            5.75139146567718
           ],
           "xaxis": "x",
           "y": [
            "0 to 4",
            "5 to 9",
            "10 to 14",
            "15 to 19",
            "20 to 24",
            "25 to 29",
            "30 to 34",
            "35 to 39",
            "40 to 44",
            "45 to 49",
            "50 to 54",
            "55 to 59",
            "60 to 64",
            "65 to 69",
            "70 to 74",
            "75 to 79",
            "80 to 84",
            "85 and up"
           ],
           "yaxis": "y"
          }
         ],
         "name": "2016"
        },
        {
         "data": [
          {
           "alignmentgroup": "True",
           "hovertemplate": "Sex=Male<br>Year=2017<br>Population (%)=%{x}<br>Age Group=%{y}<extra></extra>",
           "legendgroup": "Male",
           "marker": {
            "color": "#00cc96",
            "pattern": {
             "shape": ""
            }
           },
           "name": "Male",
           "offsetgroup": "Starr Hill_M",
           "orientation": "h",
           "showlegend": true,
           "textposition": "auto",
           "type": "bar",
           "x": [
            3.7392138063279,
            0,
            1.5340364333652925,
            0.9587727708533078,
            2.684563758389262,
            2.109300095877277,
            4.88974113135187,
            2.588686481303931,
            1.5340364333652925,
            2.4928092042186,
            1.342281879194631,
            0,
            1.6299137104506232,
            3.8350910834132312,
            2.588686481303931,
            1.5340364333652925,
            3.451581975071908,
            0.2876318312559923
           ],
           "xaxis": "x",
           "y": [
            "0 to 4",
            "5 to 9",
            "10 to 14",
            "15 to 19",
            "20 to 24",
            "25 to 29",
            "30 to 34",
            "35 to 39",
            "40 to 44",
            "45 to 49",
            "50 to 54",
            "55 to 59",
            "60 to 64",
            "65 to 69",
            "70 to 74",
            "75 to 79",
            "80 to 84",
            "85 and up"
           ],
           "yaxis": "y"
          },
          {
           "alignmentgroup": "True",
           "hovertemplate": "Sex=Female<br>Year=2017<br>Population (%)=%{x}<br>Age Group=%{y}<extra></extra>",
           "legendgroup": "Female",
           "marker": {
            "color": "#ab63fa",
            "pattern": {
             "shape": ""
            }
           },
           "name": "Female",
           "offsetgroup": "Starr Hill_F",
           "orientation": "h",
           "showlegend": true,
           "textposition": "auto",
           "type": "bar",
           "x": [
            4.88974113135187,
            0.9587727708533078,
            0,
            0,
            5.465004793863854,
            12.847555129434324,
            7.766059443911793,
            3.7392138063279,
            2.3969319271332696,
            0,
            0.7670182166826462,
            1.2464046021093,
            0,
            1.6299137104506232,
            11.12176414189837,
            1.342281879194631,
            1.725790987535954,
            6.903163950143816
           ],
           "xaxis": "x",
           "y": [
            "0 to 4",
            "5 to 9",
            "10 to 14",
            "15 to 19",
            "20 to 24",
            "25 to 29",
            "30 to 34",
            "35 to 39",
            "40 to 44",
            "45 to 49",
            "50 to 54",
            "55 to 59",
            "60 to 64",
            "65 to 69",
            "70 to 74",
            "75 to 79",
            "80 to 84",
            "85 and up"
           ],
           "yaxis": "y"
          }
         ],
         "name": "2017"
        },
        {
         "data": [
          {
           "alignmentgroup": "True",
           "hovertemplate": "Sex=Male<br>Year=2018<br>Population (%)=%{x}<br>Age Group=%{y}<extra></extra>",
           "legendgroup": "Male",
           "marker": {
            "color": "#00cc96",
            "pattern": {
             "shape": ""
            }
           },
           "name": "Male",
           "offsetgroup": "Starr Hill_M",
           "orientation": "h",
           "showlegend": true,
           "textposition": "auto",
           "type": "bar",
           "x": [
            4.2158516020236085,
            0,
            1.1804384485666104,
            1.2647554806070826,
            2.023608768971332,
            3.4569983136593594,
            4.806070826306914,
            2.360876897133221,
            1.433389544688027,
            3.1197301854974704,
            0,
            0,
            1.6020236087689714,
            5.649241146711636,
            1.6020236087689714,
            1.854974704890388,
            2.4451939291736933,
            1.1804384485666104
           ],
           "xaxis": "x",
           "y": [
            "0 to 4",
            "5 to 9",
            "10 to 14",
            "15 to 19",
            "20 to 24",
            "25 to 29",
            "30 to 34",
            "35 to 39",
            "40 to 44",
            "45 to 49",
            "50 to 54",
            "55 to 59",
            "60 to 64",
            "65 to 69",
            "70 to 74",
            "75 to 79",
            "80 to 84",
            "85 and up"
           ],
           "yaxis": "y"
          },
          {
           "alignmentgroup": "True",
           "hovertemplate": "Sex=Female<br>Year=2018<br>Population (%)=%{x}<br>Age Group=%{y}<extra></extra>",
           "legendgroup": "Female",
           "marker": {
            "color": "#ab63fa",
            "pattern": {
             "shape": ""
            }
           },
           "name": "Female",
           "offsetgroup": "Starr Hill_F",
           "orientation": "h",
           "showlegend": true,
           "textposition": "auto",
           "type": "bar",
           "x": [
            3.709949409780776,
            0.4215851602023608,
            0,
            0,
            4.3844856661045535,
            11.467116357504215,
            9.359190556492411,
            6.661045531197302,
            1.433389544688027,
            0,
            1.6020236087689714,
            0.7588532883642496,
            0,
            1.93929173693086,
            10.286677908937603,
            0.5902192242833052,
            1.349072512647555,
            7.841483979763912
           ],
           "xaxis": "x",
           "y": [
            "0 to 4",
            "5 to 9",
            "10 to 14",
            "15 to 19",
            "20 to 24",
            "25 to 29",
            "30 to 34",
            "35 to 39",
            "40 to 44",
            "45 to 49",
            "50 to 54",
            "55 to 59",
            "60 to 64",
            "65 to 69",
            "70 to 74",
            "75 to 79",
            "80 to 84",
            "85 and up"
           ],
           "yaxis": "y"
          }
         ],
         "name": "2018"
        },
        {
         "data": [
          {
           "alignmentgroup": "True",
           "hovertemplate": "Sex=Male<br>Year=2019<br>Population (%)=%{x}<br>Age Group=%{y}<extra></extra>",
           "legendgroup": "Male",
           "marker": {
            "color": "#00cc96",
            "pattern": {
             "shape": ""
            }
           },
           "name": "Male",
           "offsetgroup": "Starr Hill_M",
           "orientation": "h",
           "showlegend": true,
           "textposition": "auto",
           "type": "bar",
           "x": [
            6.686930091185411,
            0,
            1.0131712259371837,
            0.9118541033434652,
            2.43161094224924,
            6.484295845997973,
            5.47112462006079,
            3.4447821681864235,
            4.356636271529888,
            1.3171225937183384,
            0,
            0,
            1.5197568389057752,
            8.51063829787234,
            1.4184397163120568,
            2.2289766970618032,
            1.9250253292806483,
            1.5197568389057752
           ],
           "xaxis": "x",
           "y": [
            "0 to 4",
            "5 to 9",
            "10 to 14",
            "15 to 19",
            "20 to 24",
            "25 to 29",
            "30 to 34",
            "35 to 39",
            "40 to 44",
            "45 to 49",
            "50 to 54",
            "55 to 59",
            "60 to 64",
            "65 to 69",
            "70 to 74",
            "75 to 79",
            "80 to 84",
            "85 and up"
           ],
           "yaxis": "y"
          },
          {
           "alignmentgroup": "True",
           "hovertemplate": "Sex=Female<br>Year=2019<br>Population (%)=%{x}<br>Age Group=%{y}<extra></extra>",
           "legendgroup": "Female",
           "marker": {
            "color": "#ab63fa",
            "pattern": {
             "shape": ""
            }
           },
           "name": "Female",
           "offsetgroup": "Starr Hill_F",
           "orientation": "h",
           "showlegend": true,
           "textposition": "auto",
           "type": "bar",
           "x": [
            0,
            0.5065856129685917,
            0,
            0,
            4.154002026342452,
            6.382978723404255,
            10.536980749746707,
            4.154002026342452,
            1.7223910840932115,
            0,
            1.4184397163120568,
            0.7092198581560284,
            0,
            0.8105369807497467,
            10.739614994934144,
            0.8105369807497467,
            1.5197568389057752,
            7.29483282674772
           ],
           "xaxis": "x",
           "y": [
            "0 to 4",
            "5 to 9",
            "10 to 14",
            "15 to 19",
            "20 to 24",
            "25 to 29",
            "30 to 34",
            "35 to 39",
            "40 to 44",
            "45 to 49",
            "50 to 54",
            "55 to 59",
            "60 to 64",
            "65 to 69",
            "70 to 74",
            "75 to 79",
            "80 to 84",
            "85 and up"
           ],
           "yaxis": "y"
          }
         ],
         "name": "2019"
        },
        {
         "data": [
          {
           "alignmentgroup": "True",
           "hovertemplate": "Sex=Male<br>Year=2020<br>Population (%)=%{x}<br>Age Group=%{y}<extra></extra>",
           "legendgroup": "Male",
           "marker": {
            "color": "#00cc96",
            "pattern": {
             "shape": ""
            }
           },
           "name": "Male",
           "offsetgroup": "Starr Hill_M",
           "orientation": "h",
           "showlegend": true,
           "textposition": "auto",
           "type": "bar",
           "x": [
            3.654822335025381,
            0,
            0,
            0,
            2.639593908629441,
            16.04060913705584,
            4.2639593908629445,
            2.030456852791878,
            3.451776649746193,
            1.116751269035533,
            0,
            0,
            2.030456852791878,
            4.467005076142132,
            15.126903553299492,
            2.33502538071066,
            1.3197969543147208,
            1.6243654822335023
           ],
           "xaxis": "x",
           "y": [
            "0 to 4",
            "5 to 9",
            "10 to 14",
            "15 to 19",
            "20 to 24",
            "25 to 29",
            "30 to 34",
            "35 to 39",
            "40 to 44",
            "45 to 49",
            "50 to 54",
            "55 to 59",
            "60 to 64",
            "65 to 69",
            "70 to 74",
            "75 to 79",
            "80 to 84",
            "85 and up"
           ],
           "yaxis": "y"
          },
          {
           "alignmentgroup": "True",
           "hovertemplate": "Sex=Female<br>Year=2020<br>Population (%)=%{x}<br>Age Group=%{y}<extra></extra>",
           "legendgroup": "Female",
           "marker": {
            "color": "#ab63fa",
            "pattern": {
             "shape": ""
            }
           },
           "name": "Female",
           "offsetgroup": "Starr Hill_F",
           "orientation": "h",
           "showlegend": true,
           "textposition": "auto",
           "type": "bar",
           "x": [
            0,
            0,
            0,
            0,
            2.030456852791878,
            6.395939086294416,
            6.802030456852792,
            1.6243654822335023,
            2.436548223350254,
            0,
            1.015228426395939,
            0,
            0,
            0.9137055837563453,
            7.715736040609137,
            0.5076142131979695,
            4.974619289340102,
            5.482233502538071
           ],
           "xaxis": "x",
           "y": [
            "0 to 4",
            "5 to 9",
            "10 to 14",
            "15 to 19",
            "20 to 24",
            "25 to 29",
            "30 to 34",
            "35 to 39",
            "40 to 44",
            "45 to 49",
            "50 to 54",
            "55 to 59",
            "60 to 64",
            "65 to 69",
            "70 to 74",
            "75 to 79",
            "80 to 84",
            "85 and up"
           ],
           "yaxis": "y"
          }
         ],
         "name": "2020"
        }
       ],
       "layout": {
        "autosize": true,
        "barmode": "group",
        "font": {
         "color": "rgb(7,13,30)",
         "size": 13
        },
        "legend": {
         "bgcolor": "DimGray",
         "title": {
          "text": "Sex"
         },
         "tracegroupgap": 0,
         "x": 0.9,
         "xanchor": "right",
         "y": 0.85,
         "yanchor": "bottom"
        },
        "margin": {
         "b": 0,
         "l": 200,
         "pad": 15,
         "r": 10,
         "t": 30
        },
        "paper_bgcolor": "rgba(0, 0, 0, 0)",
        "plot_bgcolor": "rgba(0, 0, 0, 0)",
        "sliders": [
         {
          "active": 0,
          "currentvalue": {
           "prefix": "Year="
          },
          "len": 0.9,
          "pad": {
           "b": 10,
           "t": 60
          },
          "steps": [
           {
            "args": [
             [
              "2013"
             ],
             {
              "frame": {
               "duration": 0,
               "redraw": true
              },
              "fromcurrent": true,
              "mode": "immediate",
              "transition": {
               "duration": 0,
               "easing": "linear"
              }
             }
            ],
            "label": "2013",
            "method": "animate"
           },
           {
            "args": [
             [
              "2014"
             ],
             {
              "frame": {
               "duration": 0,
               "redraw": true
              },
              "fromcurrent": true,
              "mode": "immediate",
              "transition": {
               "duration": 0,
               "easing": "linear"
              }
             }
            ],
            "label": "2014",
            "method": "animate"
           },
           {
            "args": [
             [
              "2015"
             ],
             {
              "frame": {
               "duration": 0,
               "redraw": true
              },
              "fromcurrent": true,
              "mode": "immediate",
              "transition": {
               "duration": 0,
               "easing": "linear"
              }
             }
            ],
            "label": "2015",
            "method": "animate"
           },
           {
            "args": [
             [
              "2016"
             ],
             {
              "frame": {
               "duration": 0,
               "redraw": true
              },
              "fromcurrent": true,
              "mode": "immediate",
              "transition": {
               "duration": 0,
               "easing": "linear"
              }
             }
            ],
            "label": "2016",
            "method": "animate"
           },
           {
            "args": [
             [
              "2017"
             ],
             {
              "frame": {
               "duration": 0,
               "redraw": true
              },
              "fromcurrent": true,
              "mode": "immediate",
              "transition": {
               "duration": 0,
               "easing": "linear"
              }
             }
            ],
            "label": "2017",
            "method": "animate"
           },
           {
            "args": [
             [
              "2018"
             ],
             {
              "frame": {
               "duration": 0,
               "redraw": true
              },
              "fromcurrent": true,
              "mode": "immediate",
              "transition": {
               "duration": 0,
               "easing": "linear"
              }
             }
            ],
            "label": "2018",
            "method": "animate"
           },
           {
            "args": [
             [
              "2019"
             ],
             {
              "frame": {
               "duration": 0,
               "redraw": true
              },
              "fromcurrent": true,
              "mode": "immediate",
              "transition": {
               "duration": 0,
               "easing": "linear"
              }
             }
            ],
            "label": "2019",
            "method": "animate"
           },
           {
            "args": [
             [
              "2020"
             ],
             {
              "frame": {
               "duration": 0,
               "redraw": true
              },
              "fromcurrent": true,
              "mode": "immediate",
              "transition": {
               "duration": 0,
               "easing": "linear"
              }
             }
            ],
            "label": "2020",
            "method": "animate"
           }
          ],
          "x": -0.04,
          "xanchor": "left",
          "y": 0,
          "yanchor": "top"
         }
        ],
        "template": {
         "data": {
          "bar": [
           {
            "error_x": {
             "color": "#2a3f5f"
            },
            "error_y": {
             "color": "#2a3f5f"
            },
            "marker": {
             "line": {
              "color": "#E5ECF6",
              "width": 0.5
             },
             "pattern": {
              "fillmode": "overlay",
              "size": 10,
              "solidity": 0.2
             }
            },
            "type": "bar"
           }
          ],
          "barpolar": [
           {
            "marker": {
             "line": {
              "color": "#E5ECF6",
              "width": 0.5
             },
             "pattern": {
              "fillmode": "overlay",
              "size": 10,
              "solidity": 0.2
             }
            },
            "type": "barpolar"
           }
          ],
          "carpet": [
           {
            "aaxis": {
             "endlinecolor": "#2a3f5f",
             "gridcolor": "white",
             "linecolor": "white",
             "minorgridcolor": "white",
             "startlinecolor": "#2a3f5f"
            },
            "baxis": {
             "endlinecolor": "#2a3f5f",
             "gridcolor": "white",
             "linecolor": "white",
             "minorgridcolor": "white",
             "startlinecolor": "#2a3f5f"
            },
            "type": "carpet"
           }
          ],
          "choropleth": [
           {
            "colorbar": {
             "outlinewidth": 0,
             "ticks": ""
            },
            "type": "choropleth"
           }
          ],
          "contour": [
           {
            "colorbar": {
             "outlinewidth": 0,
             "ticks": ""
            },
            "colorscale": [
             [
              0,
              "#0d0887"
             ],
             [
              0.1111111111111111,
              "#46039f"
             ],
             [
              0.2222222222222222,
              "#7201a8"
             ],
             [
              0.3333333333333333,
              "#9c179e"
             ],
             [
              0.4444444444444444,
              "#bd3786"
             ],
             [
              0.5555555555555556,
              "#d8576b"
             ],
             [
              0.6666666666666666,
              "#ed7953"
             ],
             [
              0.7777777777777778,
              "#fb9f3a"
             ],
             [
              0.8888888888888888,
              "#fdca26"
             ],
             [
              1,
              "#f0f921"
             ]
            ],
            "type": "contour"
           }
          ],
          "contourcarpet": [
           {
            "colorbar": {
             "outlinewidth": 0,
             "ticks": ""
            },
            "type": "contourcarpet"
           }
          ],
          "heatmap": [
           {
            "colorbar": {
             "outlinewidth": 0,
             "ticks": ""
            },
            "colorscale": [
             [
              0,
              "#0d0887"
             ],
             [
              0.1111111111111111,
              "#46039f"
             ],
             [
              0.2222222222222222,
              "#7201a8"
             ],
             [
              0.3333333333333333,
              "#9c179e"
             ],
             [
              0.4444444444444444,
              "#bd3786"
             ],
             [
              0.5555555555555556,
              "#d8576b"
             ],
             [
              0.6666666666666666,
              "#ed7953"
             ],
             [
              0.7777777777777778,
              "#fb9f3a"
             ],
             [
              0.8888888888888888,
              "#fdca26"
             ],
             [
              1,
              "#f0f921"
             ]
            ],
            "type": "heatmap"
           }
          ],
          "heatmapgl": [
           {
            "colorbar": {
             "outlinewidth": 0,
             "ticks": ""
            },
            "colorscale": [
             [
              0,
              "#0d0887"
             ],
             [
              0.1111111111111111,
              "#46039f"
             ],
             [
              0.2222222222222222,
              "#7201a8"
             ],
             [
              0.3333333333333333,
              "#9c179e"
             ],
             [
              0.4444444444444444,
              "#bd3786"
             ],
             [
              0.5555555555555556,
              "#d8576b"
             ],
             [
              0.6666666666666666,
              "#ed7953"
             ],
             [
              0.7777777777777778,
              "#fb9f3a"
             ],
             [
              0.8888888888888888,
              "#fdca26"
             ],
             [
              1,
              "#f0f921"
             ]
            ],
            "type": "heatmapgl"
           }
          ],
          "histogram": [
           {
            "marker": {
             "pattern": {
              "fillmode": "overlay",
              "size": 10,
              "solidity": 0.2
             }
            },
            "type": "histogram"
           }
          ],
          "histogram2d": [
           {
            "colorbar": {
             "outlinewidth": 0,
             "ticks": ""
            },
            "colorscale": [
             [
              0,
              "#0d0887"
             ],
             [
              0.1111111111111111,
              "#46039f"
             ],
             [
              0.2222222222222222,
              "#7201a8"
             ],
             [
              0.3333333333333333,
              "#9c179e"
             ],
             [
              0.4444444444444444,
              "#bd3786"
             ],
             [
              0.5555555555555556,
              "#d8576b"
             ],
             [
              0.6666666666666666,
              "#ed7953"
             ],
             [
              0.7777777777777778,
              "#fb9f3a"
             ],
             [
              0.8888888888888888,
              "#fdca26"
             ],
             [
              1,
              "#f0f921"
             ]
            ],
            "type": "histogram2d"
           }
          ],
          "histogram2dcontour": [
           {
            "colorbar": {
             "outlinewidth": 0,
             "ticks": ""
            },
            "colorscale": [
             [
              0,
              "#0d0887"
             ],
             [
              0.1111111111111111,
              "#46039f"
             ],
             [
              0.2222222222222222,
              "#7201a8"
             ],
             [
              0.3333333333333333,
              "#9c179e"
             ],
             [
              0.4444444444444444,
              "#bd3786"
             ],
             [
              0.5555555555555556,
              "#d8576b"
             ],
             [
              0.6666666666666666,
              "#ed7953"
             ],
             [
              0.7777777777777778,
              "#fb9f3a"
             ],
             [
              0.8888888888888888,
              "#fdca26"
             ],
             [
              1,
              "#f0f921"
             ]
            ],
            "type": "histogram2dcontour"
           }
          ],
          "mesh3d": [
           {
            "colorbar": {
             "outlinewidth": 0,
             "ticks": ""
            },
            "type": "mesh3d"
           }
          ],
          "parcoords": [
           {
            "line": {
             "colorbar": {
              "outlinewidth": 0,
              "ticks": ""
             }
            },
            "type": "parcoords"
           }
          ],
          "pie": [
           {
            "automargin": true,
            "type": "pie"
           }
          ],
          "scatter": [
           {
            "marker": {
             "colorbar": {
              "outlinewidth": 0,
              "ticks": ""
             }
            },
            "type": "scatter"
           }
          ],
          "scatter3d": [
           {
            "line": {
             "colorbar": {
              "outlinewidth": 0,
              "ticks": ""
             }
            },
            "marker": {
             "colorbar": {
              "outlinewidth": 0,
              "ticks": ""
             }
            },
            "type": "scatter3d"
           }
          ],
          "scattercarpet": [
           {
            "marker": {
             "colorbar": {
              "outlinewidth": 0,
              "ticks": ""
             }
            },
            "type": "scattercarpet"
           }
          ],
          "scattergeo": [
           {
            "marker": {
             "colorbar": {
              "outlinewidth": 0,
              "ticks": ""
             }
            },
            "type": "scattergeo"
           }
          ],
          "scattergl": [
           {
            "marker": {
             "colorbar": {
              "outlinewidth": 0,
              "ticks": ""
             }
            },
            "type": "scattergl"
           }
          ],
          "scattermapbox": [
           {
            "marker": {
             "colorbar": {
              "outlinewidth": 0,
              "ticks": ""
             }
            },
            "type": "scattermapbox"
           }
          ],
          "scatterpolar": [
           {
            "marker": {
             "colorbar": {
              "outlinewidth": 0,
              "ticks": ""
             }
            },
            "type": "scatterpolar"
           }
          ],
          "scatterpolargl": [
           {
            "marker": {
             "colorbar": {
              "outlinewidth": 0,
              "ticks": ""
             }
            },
            "type": "scatterpolargl"
           }
          ],
          "scatterternary": [
           {
            "marker": {
             "colorbar": {
              "outlinewidth": 0,
              "ticks": ""
             }
            },
            "type": "scatterternary"
           }
          ],
          "surface": [
           {
            "colorbar": {
             "outlinewidth": 0,
             "ticks": ""
            },
            "colorscale": [
             [
              0,
              "#0d0887"
             ],
             [
              0.1111111111111111,
              "#46039f"
             ],
             [
              0.2222222222222222,
              "#7201a8"
             ],
             [
              0.3333333333333333,
              "#9c179e"
             ],
             [
              0.4444444444444444,
              "#bd3786"
             ],
             [
              0.5555555555555556,
              "#d8576b"
             ],
             [
              0.6666666666666666,
              "#ed7953"
             ],
             [
              0.7777777777777778,
              "#fb9f3a"
             ],
             [
              0.8888888888888888,
              "#fdca26"
             ],
             [
              1,
              "#f0f921"
             ]
            ],
            "type": "surface"
           }
          ],
          "table": [
           {
            "cells": {
             "fill": {
              "color": "#EBF0F8"
             },
             "line": {
              "color": "white"
             }
            },
            "header": {
             "fill": {
              "color": "#C8D4E3"
             },
             "line": {
              "color": "white"
             }
            },
            "type": "table"
           }
          ]
         },
         "layout": {
          "annotationdefaults": {
           "arrowcolor": "#2a3f5f",
           "arrowhead": 0,
           "arrowwidth": 1
          },
          "autotypenumbers": "strict",
          "coloraxis": {
           "colorbar": {
            "outlinewidth": 0,
            "ticks": ""
           }
          },
          "colorscale": {
           "diverging": [
            [
             0,
             "#8e0152"
            ],
            [
             0.1,
             "#c51b7d"
            ],
            [
             0.2,
             "#de77ae"
            ],
            [
             0.3,
             "#f1b6da"
            ],
            [
             0.4,
             "#fde0ef"
            ],
            [
             0.5,
             "#f7f7f7"
            ],
            [
             0.6,
             "#e6f5d0"
            ],
            [
             0.7,
             "#b8e186"
            ],
            [
             0.8,
             "#7fbc41"
            ],
            [
             0.9,
             "#4d9221"
            ],
            [
             1,
             "#276419"
            ]
           ],
           "sequential": [
            [
             0,
             "#0d0887"
            ],
            [
             0.1111111111111111,
             "#46039f"
            ],
            [
             0.2222222222222222,
             "#7201a8"
            ],
            [
             0.3333333333333333,
             "#9c179e"
            ],
            [
             0.4444444444444444,
             "#bd3786"
            ],
            [
             0.5555555555555556,
             "#d8576b"
            ],
            [
             0.6666666666666666,
             "#ed7953"
            ],
            [
             0.7777777777777778,
             "#fb9f3a"
            ],
            [
             0.8888888888888888,
             "#fdca26"
            ],
            [
             1,
             "#f0f921"
            ]
           ],
           "sequentialminus": [
            [
             0,
             "#0d0887"
            ],
            [
             0.1111111111111111,
             "#46039f"
            ],
            [
             0.2222222222222222,
             "#7201a8"
            ],
            [
             0.3333333333333333,
             "#9c179e"
            ],
            [
             0.4444444444444444,
             "#bd3786"
            ],
            [
             0.5555555555555556,
             "#d8576b"
            ],
            [
             0.6666666666666666,
             "#ed7953"
            ],
            [
             0.7777777777777778,
             "#fb9f3a"
            ],
            [
             0.8888888888888888,
             "#fdca26"
            ],
            [
             1,
             "#f0f921"
            ]
           ]
          },
          "colorway": [
           "#636efa",
           "#EF553B",
           "#00cc96",
           "#ab63fa",
           "#FFA15A",
           "#19d3f3",
           "#FF6692",
           "#B6E880",
           "#FF97FF",
           "#FECB52"
          ],
          "font": {
           "color": "#2a3f5f"
          },
          "geo": {
           "bgcolor": "white",
           "lakecolor": "white",
           "landcolor": "#E5ECF6",
           "showlakes": true,
           "showland": true,
           "subunitcolor": "white"
          },
          "hoverlabel": {
           "align": "left"
          },
          "hovermode": "closest",
          "mapbox": {
           "style": "light"
          },
          "paper_bgcolor": "white",
          "plot_bgcolor": "#E5ECF6",
          "polar": {
           "angularaxis": {
            "gridcolor": "white",
            "linecolor": "white",
            "ticks": ""
           },
           "bgcolor": "#E5ECF6",
           "radialaxis": {
            "gridcolor": "white",
            "linecolor": "white",
            "ticks": ""
           }
          },
          "scene": {
           "xaxis": {
            "backgroundcolor": "#E5ECF6",
            "gridcolor": "white",
            "gridwidth": 2,
            "linecolor": "white",
            "showbackground": true,
            "ticks": "",
            "zerolinecolor": "white"
           },
           "yaxis": {
            "backgroundcolor": "#E5ECF6",
            "gridcolor": "white",
            "gridwidth": 2,
            "linecolor": "white",
            "showbackground": true,
            "ticks": "",
            "zerolinecolor": "white"
           },
           "zaxis": {
            "backgroundcolor": "#E5ECF6",
            "gridcolor": "white",
            "gridwidth": 2,
            "linecolor": "white",
            "showbackground": true,
            "ticks": "",
            "zerolinecolor": "white"
           }
          },
          "shapedefaults": {
           "line": {
            "color": "#2a3f5f"
           }
          },
          "ternary": {
           "aaxis": {
            "gridcolor": "white",
            "linecolor": "white",
            "ticks": ""
           },
           "baxis": {
            "gridcolor": "white",
            "linecolor": "white",
            "ticks": ""
           },
           "bgcolor": "#E5ECF6",
           "caxis": {
            "gridcolor": "white",
            "linecolor": "white",
            "ticks": ""
           }
          },
          "title": {
           "x": 0.05
          },
          "xaxis": {
           "automargin": true,
           "gridcolor": "white",
           "linecolor": "white",
           "ticks": "",
           "title": {
            "standoff": 15
           },
           "zerolinecolor": "white",
           "zerolinewidth": 2
          },
          "yaxis": {
           "automargin": true,
           "gridcolor": "white",
           "linecolor": "white",
           "ticks": "",
           "title": {
            "standoff": 15
           },
           "zerolinecolor": "white",
           "zerolinewidth": 2
          }
         }
        },
        "title": {
         "font": {
          "size": 14
         },
         "text": "Population Chart for Starr Hill (% of Total)",
         "x": 0.56
        },
        "updatemenus": [
         {
          "buttons": [
           {
            "args": [
             null,
             {
              "frame": {
               "duration": 500,
               "redraw": true
              },
              "fromcurrent": true,
              "mode": "immediate",
              "transition": {
               "duration": 500,
               "easing": "linear"
              }
             }
            ],
            "label": "&#9654;",
            "method": "animate"
           },
           {
            "args": [
             [
              null
             ],
             {
              "frame": {
               "duration": 0,
               "redraw": true
              },
              "fromcurrent": true,
              "mode": "immediate",
              "transition": {
               "duration": 0,
               "easing": "linear"
              }
             }
            ],
            "label": "&#9724;",
            "method": "animate"
           }
          ],
          "direction": "left",
          "pad": {
           "r": 10,
           "t": 70
          },
          "showactive": false,
          "type": "buttons",
          "x": -0.04,
          "xanchor": "right",
          "y": 0,
          "yanchor": "top"
         }
        ],
        "xaxis": {
         "anchor": "y",
         "domain": [
          0,
          1
         ],
         "gridcolor": "Black",
         "range": [
          0,
          40
         ],
         "tickvals": [
          0,
          5,
          10,
          15,
          20,
          25,
          30,
          35
         ],
         "title": {
          "text": "Population (%)"
         },
         "type": "linear"
        },
        "yaxis": {
         "anchor": "x",
         "autorange": true,
         "domain": [
          0,
          1
         ],
         "range": [
          -0.5,
          17.5
         ],
         "title": {
          "text": "Age Group"
         },
         "type": "category"
        }
       }
      },
      "image/png": "[encoded data removed]",
      "text/html": [
       "<div>                            <div id=\"30cf105f-bc61-4c8b-aec6-f0ff389c52dc\" class=\"plotly-graph-div\" style=\"height:600px; width:100%;\"></div>            <script type=\"text/javascript\">                require([\"plotly\"], function(Plotly) {                    window.PLOTLYENV=window.PLOTLYENV || {};                                    if (document.getElementById(\"30cf105f-bc61-4c8b-aec6-f0ff389c52dc\")) {                    Plotly.newPlot(                        \"30cf105f-bc61-4c8b-aec6-f0ff389c52dc\",                        [{\"alignmentgroup\":\"True\",\"hovertemplate\":\"Sex=Male<br>Year=2013<br>Population (%)=%{x}<br>Age Group=%{y}<extra></extra>\",\"legendgroup\":\"Male\",\"marker\":{\"color\":\"#00cc96\",\"pattern\":{\"shape\":\"\"}},\"name\":\"Male\",\"offsetgroup\":\"Starr Hill_M\",\"orientation\":\"h\",\"showlegend\":true,\"textposition\":\"auto\",\"x\":[0.0,1.3349514563106797,0.0,1.2135922330097086,0.8495145631067961,16.990291262135923,1.2135922330097086,1.699029126213592,4.004854368932039,6.310679611650485,0.7281553398058253,3.155339805825242,4.733009708737864,1.699029126213592,1.8203883495145632,2.3058252427184467,0.7281553398058253,0.3640776699029126],\"xaxis\":\"x\",\"y\":[\"0 to 4\",\"5 to 9\",\"10 to 14\",\"15 to 19\",\"20 to 24\",\"25 to 29\",\"30 to 34\",\"35 to 39\",\"40 to 44\",\"45 to 49\",\"50 to 54\",\"55 to 59\",\"60 to 64\",\"65 to 69\",\"70 to 74\",\"75 to 79\",\"80 to 84\",\"85 and up\"],\"yaxis\":\"y\",\"type\":\"bar\"},{\"alignmentgroup\":\"True\",\"hovertemplate\":\"Sex=Female<br>Year=2013<br>Population (%)=%{x}<br>Age Group=%{y}<extra></extra>\",\"legendgroup\":\"Female\",\"marker\":{\"color\":\"#ab63fa\",\"pattern\":{\"shape\":\"\"}},\"name\":\"Female\",\"offsetgroup\":\"Starr Hill_F\",\"orientation\":\"h\",\"showlegend\":true,\"textposition\":\"auto\",\"x\":[0.0,1.4563106796116505,0.0,0.7281553398058253,6.674757281553398,7.645631067961165,2.3058252427184467,1.699029126213592,4.12621359223301,1.3349514563106797,1.0922330097087378,1.3349514563106797,3.6407766990291264,4.854368932038835,3.883495145631068,2.912621359223301,2.66990291262136,4.490291262135922],\"xaxis\":\"x\",\"y\":[\"0 to 4\",\"5 to 9\",\"10 to 14\",\"15 to 19\",\"20 to 24\",\"25 to 29\",\"30 to 34\",\"35 to 39\",\"40 to 44\",\"45 to 49\",\"50 to 54\",\"55 to 59\",\"60 to 64\",\"65 to 69\",\"70 to 74\",\"75 to 79\",\"80 to 84\",\"85 and up\"],\"yaxis\":\"y\",\"type\":\"bar\"}],                        {\"template\":{\"data\":{\"bar\":[{\"error_x\":{\"color\":\"#2a3f5f\"},\"error_y\":{\"color\":\"#2a3f5f\"},\"marker\":{\"line\":{\"color\":\"#E5ECF6\",\"width\":0.5},\"pattern\":{\"fillmode\":\"overlay\",\"size\":10,\"solidity\":0.2}},\"type\":\"bar\"}],\"barpolar\":[{\"marker\":{\"line\":{\"color\":\"#E5ECF6\",\"width\":0.5},\"pattern\":{\"fillmode\":\"overlay\",\"size\":10,\"solidity\":0.2}},\"type\":\"barpolar\"}],\"carpet\":[{\"aaxis\":{\"endlinecolor\":\"#2a3f5f\",\"gridcolor\":\"white\",\"linecolor\":\"white\",\"minorgridcolor\":\"white\",\"startlinecolor\":\"#2a3f5f\"},\"baxis\":{\"endlinecolor\":\"#2a3f5f\",\"gridcolor\":\"white\",\"linecolor\":\"white\",\"minorgridcolor\":\"white\",\"startlinecolor\":\"#2a3f5f\"},\"type\":\"carpet\"}],\"choropleth\":[{\"colorbar\":{\"outlinewidth\":0,\"ticks\":\"\"},\"type\":\"choropleth\"}],\"contour\":[{\"colorbar\":{\"outlinewidth\":0,\"ticks\":\"\"},\"colorscale\":[[0.0,\"#0d0887\"],[0.1111111111111111,\"#46039f\"],[0.2222222222222222,\"#7201a8\"],[0.3333333333333333,\"#9c179e\"],[0.4444444444444444,\"#bd3786\"],[0.5555555555555556,\"#d8576b\"],[0.6666666666666666,\"#ed7953\"],[0.7777777777777778,\"#fb9f3a\"],[0.8888888888888888,\"#fdca26\"],[1.0,\"#f0f921\"]],\"type\":\"contour\"}],\"contourcarpet\":[{\"colorbar\":{\"outlinewidth\":0,\"ticks\":\"\"},\"type\":\"contourcarpet\"}],\"heatmap\":[{\"colorbar\":{\"outlinewidth\":0,\"ticks\":\"\"},\"colorscale\":[[0.0,\"#0d0887\"],[0.1111111111111111,\"#46039f\"],[0.2222222222222222,\"#7201a8\"],[0.3333333333333333,\"#9c179e\"],[0.4444444444444444,\"#bd3786\"],[0.5555555555555556,\"#d8576b\"],[0.6666666666666666,\"#ed7953\"],[0.7777777777777778,\"#fb9f3a\"],[0.8888888888888888,\"#fdca26\"],[1.0,\"#f0f921\"]],\"type\":\"heatmap\"}],\"heatmapgl\":[{\"colorbar\":{\"outlinewidth\":0,\"ticks\":\"\"},\"colorscale\":[[0.0,\"#0d0887\"],[0.1111111111111111,\"#46039f\"],[0.2222222222222222,\"#7201a8\"],[0.3333333333333333,\"#9c179e\"],[0.4444444444444444,\"#bd3786\"],[0.5555555555555556,\"#d8576b\"],[0.6666666666666666,\"#ed7953\"],[0.7777777777777778,\"#fb9f3a\"],[0.8888888888888888,\"#fdca26\"],[1.0,\"#f0f921\"]],\"type\":\"heatmapgl\"}],\"histogram\":[{\"marker\":{\"pattern\":{\"fillmode\":\"overlay\",\"size\":10,\"solidity\":0.2}},\"type\":\"histogram\"}],\"histogram2d\":[{\"colorbar\":{\"outlinewidth\":0,\"ticks\":\"\"},\"colorscale\":[[0.0,\"#0d0887\"],[0.1111111111111111,\"#46039f\"],[0.2222222222222222,\"#7201a8\"],[0.3333333333333333,\"#9c179e\"],[0.4444444444444444,\"#bd3786\"],[0.5555555555555556,\"#d8576b\"],[0.6666666666666666,\"#ed7953\"],[0.7777777777777778,\"#fb9f3a\"],[0.8888888888888888,\"#fdca26\"],[1.0,\"#f0f921\"]],\"type\":\"histogram2d\"}],\"histogram2dcontour\":[{\"colorbar\":{\"outlinewidth\":0,\"ticks\":\"\"},\"colorscale\":[[0.0,\"#0d0887\"],[0.1111111111111111,\"#46039f\"],[0.2222222222222222,\"#7201a8\"],[0.3333333333333333,\"#9c179e\"],[0.4444444444444444,\"#bd3786\"],[0.5555555555555556,\"#d8576b\"],[0.6666666666666666,\"#ed7953\"],[0.7777777777777778,\"#fb9f3a\"],[0.8888888888888888,\"#fdca26\"],[1.0,\"#f0f921\"]],\"type\":\"histogram2dcontour\"}],\"mesh3d\":[{\"colorbar\":{\"outlinewidth\":0,\"ticks\":\"\"},\"type\":\"mesh3d\"}],\"parcoords\":[{\"line\":{\"colorbar\":{\"outlinewidth\":0,\"ticks\":\"\"}},\"type\":\"parcoords\"}],\"pie\":[{\"automargin\":true,\"type\":\"pie\"}],\"scatter\":[{\"marker\":{\"colorbar\":{\"outlinewidth\":0,\"ticks\":\"\"}},\"type\":\"scatter\"}],\"scatter3d\":[{\"line\":{\"colorbar\":{\"outlinewidth\":0,\"ticks\":\"\"}},\"marker\":{\"colorbar\":{\"outlinewidth\":0,\"ticks\":\"\"}},\"type\":\"scatter3d\"}],\"scattercarpet\":[{\"marker\":{\"colorbar\":{\"outlinewidth\":0,\"ticks\":\"\"}},\"type\":\"scattercarpet\"}],\"scattergeo\":[{\"marker\":{\"colorbar\":{\"outlinewidth\":0,\"ticks\":\"\"}},\"type\":\"scattergeo\"}],\"scattergl\":[{\"marker\":{\"colorbar\":{\"outlinewidth\":0,\"ticks\":\"\"}},\"type\":\"scattergl\"}],\"scattermapbox\":[{\"marker\":{\"colorbar\":{\"outlinewidth\":0,\"ticks\":\"\"}},\"type\":\"scattermapbox\"}],\"scatterpolar\":[{\"marker\":{\"colorbar\":{\"outlinewidth\":0,\"ticks\":\"\"}},\"type\":\"scatterpolar\"}],\"scatterpolargl\":[{\"marker\":{\"colorbar\":{\"outlinewidth\":0,\"ticks\":\"\"}},\"type\":\"scatterpolargl\"}],\"scatterternary\":[{\"marker\":{\"colorbar\":{\"outlinewidth\":0,\"ticks\":\"\"}},\"type\":\"scatterternary\"}],\"surface\":[{\"colorbar\":{\"outlinewidth\":0,\"ticks\":\"\"},\"colorscale\":[[0.0,\"#0d0887\"],[0.1111111111111111,\"#46039f\"],[0.2222222222222222,\"#7201a8\"],[0.3333333333333333,\"#9c179e\"],[0.4444444444444444,\"#bd3786\"],[0.5555555555555556,\"#d8576b\"],[0.6666666666666666,\"#ed7953\"],[0.7777777777777778,\"#fb9f3a\"],[0.8888888888888888,\"#fdca26\"],[1.0,\"#f0f921\"]],\"type\":\"surface\"}],\"table\":[{\"cells\":{\"fill\":{\"color\":\"#EBF0F8\"},\"line\":{\"color\":\"white\"}},\"header\":{\"fill\":{\"color\":\"#C8D4E3\"},\"line\":{\"color\":\"white\"}},\"type\":\"table\"}]},\"layout\":{\"annotationdefaults\":{\"arrowcolor\":\"#2a3f5f\",\"arrowhead\":0,\"arrowwidth\":1},\"autotypenumbers\":\"strict\",\"coloraxis\":{\"colorbar\":{\"outlinewidth\":0,\"ticks\":\"\"}},\"colorscale\":{\"diverging\":[[0,\"#8e0152\"],[0.1,\"#c51b7d\"],[0.2,\"#de77ae\"],[0.3,\"#f1b6da\"],[0.4,\"#fde0ef\"],[0.5,\"#f7f7f7\"],[0.6,\"#e6f5d0\"],[0.7,\"#b8e186\"],[0.8,\"#7fbc41\"],[0.9,\"#4d9221\"],[1,\"#276419\"]],\"sequential\":[[0.0,\"#0d0887\"],[0.1111111111111111,\"#46039f\"],[0.2222222222222222,\"#7201a8\"],[0.3333333333333333,\"#9c179e\"],[0.4444444444444444,\"#bd3786\"],[0.5555555555555556,\"#d8576b\"],[0.6666666666666666,\"#ed7953\"],[0.7777777777777778,\"#fb9f3a\"],[0.8888888888888888,\"#fdca26\"],[1.0,\"#f0f921\"]],\"sequentialminus\":[[0.0,\"#0d0887\"],[0.1111111111111111,\"#46039f\"],[0.2222222222222222,\"#7201a8\"],[0.3333333333333333,\"#9c179e\"],[0.4444444444444444,\"#bd3786\"],[0.5555555555555556,\"#d8576b\"],[0.6666666666666666,\"#ed7953\"],[0.7777777777777778,\"#fb9f3a\"],[0.8888888888888888,\"#fdca26\"],[1.0,\"#f0f921\"]]},\"colorway\":[\"#636efa\",\"#EF553B\",\"#00cc96\",\"#ab63fa\",\"#FFA15A\",\"#19d3f3\",\"#FF6692\",\"#B6E880\",\"#FF97FF\",\"#FECB52\"],\"font\":{\"color\":\"#2a3f5f\"},\"geo\":{\"bgcolor\":\"white\",\"lakecolor\":\"white\",\"landcolor\":\"#E5ECF6\",\"showlakes\":true,\"showland\":true,\"subunitcolor\":\"white\"},\"hoverlabel\":{\"align\":\"left\"},\"hovermode\":\"closest\",\"mapbox\":{\"style\":\"light\"},\"paper_bgcolor\":\"white\",\"plot_bgcolor\":\"#E5ECF6\",\"polar\":{\"angularaxis\":{\"gridcolor\":\"white\",\"linecolor\":\"white\",\"ticks\":\"\"},\"bgcolor\":\"#E5ECF6\",\"radialaxis\":{\"gridcolor\":\"white\",\"linecolor\":\"white\",\"ticks\":\"\"}},\"scene\":{\"xaxis\":{\"backgroundcolor\":\"#E5ECF6\",\"gridcolor\":\"white\",\"gridwidth\":2,\"linecolor\":\"white\",\"showbackground\":true,\"ticks\":\"\",\"zerolinecolor\":\"white\"},\"yaxis\":{\"backgroundcolor\":\"#E5ECF6\",\"gridcolor\":\"white\",\"gridwidth\":2,\"linecolor\":\"white\",\"showbackground\":true,\"ticks\":\"\",\"zerolinecolor\":\"white\"},\"zaxis\":{\"backgroundcolor\":\"#E5ECF6\",\"gridcolor\":\"white\",\"gridwidth\":2,\"linecolor\":\"white\",\"showbackground\":true,\"ticks\":\"\",\"zerolinecolor\":\"white\"}},\"shapedefaults\":{\"line\":{\"color\":\"#2a3f5f\"}},\"ternary\":{\"aaxis\":{\"gridcolor\":\"white\",\"linecolor\":\"white\",\"ticks\":\"\"},\"baxis\":{\"gridcolor\":\"white\",\"linecolor\":\"white\",\"ticks\":\"\"},\"bgcolor\":\"#E5ECF6\",\"caxis\":{\"gridcolor\":\"white\",\"linecolor\":\"white\",\"ticks\":\"\"}},\"title\":{\"x\":0.05},\"xaxis\":{\"automargin\":true,\"gridcolor\":\"white\",\"linecolor\":\"white\",\"ticks\":\"\",\"title\":{\"standoff\":15},\"zerolinecolor\":\"white\",\"zerolinewidth\":2},\"yaxis\":{\"automargin\":true,\"gridcolor\":\"white\",\"linecolor\":\"white\",\"ticks\":\"\",\"title\":{\"standoff\":15},\"zerolinecolor\":\"white\",\"zerolinewidth\":2}}},\"xaxis\":{\"anchor\":\"y\",\"domain\":[0.0,1.0],\"title\":{\"text\":\"Population (%)\"},\"tickvals\":[0,5,10,15,20,25,30,35],\"range\":[0,40],\"gridcolor\":\"Black\"},\"yaxis\":{\"anchor\":\"x\",\"domain\":[0.0,1.0],\"title\":{\"text\":\"Age Group\"}},\"legend\":{\"title\":{\"text\":\"Sex\"},\"tracegroupgap\":0,\"yanchor\":\"bottom\",\"x\":0.9,\"y\":0.85,\"xanchor\":\"right\",\"bgcolor\":\"DimGray\"},\"title\":{\"text\":\"Population Chart for Starr Hill (% of Total)\",\"font\":{\"size\":14},\"x\":0.56},\"barmode\":\"group\",\"height\":600,\"updatemenus\":[{\"buttons\":[{\"args\":[null,{\"frame\":{\"duration\":500,\"redraw\":true},\"mode\":\"immediate\",\"fromcurrent\":true,\"transition\":{\"duration\":500,\"easing\":\"linear\"}}],\"label\":\"&#9654;\",\"method\":\"animate\"},{\"args\":[[null],{\"frame\":{\"duration\":0,\"redraw\":true},\"mode\":\"immediate\",\"fromcurrent\":true,\"transition\":{\"duration\":0,\"easing\":\"linear\"}}],\"label\":\"&#9724;\",\"method\":\"animate\"}],\"direction\":\"left\",\"pad\":{\"r\":10,\"t\":70},\"showactive\":false,\"type\":\"buttons\",\"x\":-0.04,\"xanchor\":\"right\",\"y\":0,\"yanchor\":\"top\"}],\"sliders\":[{\"active\":0,\"currentvalue\":{\"prefix\":\"Year=\"},\"len\":0.9,\"pad\":{\"b\":10,\"t\":60},\"steps\":[{\"args\":[[\"2013\"],{\"frame\":{\"duration\":0,\"redraw\":true},\"mode\":\"immediate\",\"fromcurrent\":true,\"transition\":{\"duration\":0,\"easing\":\"linear\"}}],\"label\":\"2013\",\"method\":\"animate\"},{\"args\":[[\"2014\"],{\"frame\":{\"duration\":0,\"redraw\":true},\"mode\":\"immediate\",\"fromcurrent\":true,\"transition\":{\"duration\":0,\"easing\":\"linear\"}}],\"label\":\"2014\",\"method\":\"animate\"},{\"args\":[[\"2015\"],{\"frame\":{\"duration\":0,\"redraw\":true},\"mode\":\"immediate\",\"fromcurrent\":true,\"transition\":{\"duration\":0,\"easing\":\"linear\"}}],\"label\":\"2015\",\"method\":\"animate\"},{\"args\":[[\"2016\"],{\"frame\":{\"duration\":0,\"redraw\":true},\"mode\":\"immediate\",\"fromcurrent\":true,\"transition\":{\"duration\":0,\"easing\":\"linear\"}}],\"label\":\"2016\",\"method\":\"animate\"},{\"args\":[[\"2017\"],{\"frame\":{\"duration\":0,\"redraw\":true},\"mode\":\"immediate\",\"fromcurrent\":true,\"transition\":{\"duration\":0,\"easing\":\"linear\"}}],\"label\":\"2017\",\"method\":\"animate\"},{\"args\":[[\"2018\"],{\"frame\":{\"duration\":0,\"redraw\":true},\"mode\":\"immediate\",\"fromcurrent\":true,\"transition\":{\"duration\":0,\"easing\":\"linear\"}}],\"label\":\"2018\",\"method\":\"animate\"},{\"args\":[[\"2019\"],{\"frame\":{\"duration\":0,\"redraw\":true},\"mode\":\"immediate\",\"fromcurrent\":true,\"transition\":{\"duration\":0,\"easing\":\"linear\"}}],\"label\":\"2019\",\"method\":\"animate\"},{\"args\":[[\"2020\"],{\"frame\":{\"duration\":0,\"redraw\":true},\"mode\":\"immediate\",\"fromcurrent\":true,\"transition\":{\"duration\":0,\"easing\":\"linear\"}}],\"label\":\"2020\",\"method\":\"animate\"}],\"x\":-0.04,\"xanchor\":\"left\",\"y\":0,\"yanchor\":\"top\"}],\"font\":{\"size\":13,\"color\":\"rgb(7,13,30)\"},\"margin\":{\"b\":0,\"l\":200,\"pad\":15,\"r\":10,\"t\":30},\"plot_bgcolor\":\"rgba(0,0,0,0)\",\"paper_bgcolor\":\"rgba(0,0,0,0)\"},                        {\"responsive\": true}                    ).then(function(){\n",
       "                            Plotly.addFrames('30cf105f-bc61-4c8b-aec6-f0ff389c52dc', [{\"data\":[{\"alignmentgroup\":\"True\",\"hovertemplate\":\"Sex=Male<br>Year=2013<br>Population (%)=%{x}<br>Age Group=%{y}<extra></extra>\",\"legendgroup\":\"Male\",\"marker\":{\"color\":\"#00cc96\",\"pattern\":{\"shape\":\"\"}},\"name\":\"Male\",\"offsetgroup\":\"Starr Hill_M\",\"orientation\":\"h\",\"showlegend\":true,\"textposition\":\"auto\",\"x\":[0.0,1.3349514563106797,0.0,1.2135922330097086,0.8495145631067961,16.990291262135923,1.2135922330097086,1.699029126213592,4.004854368932039,6.310679611650485,0.7281553398058253,3.155339805825242,4.733009708737864,1.699029126213592,1.8203883495145632,2.3058252427184467,0.7281553398058253,0.3640776699029126],\"xaxis\":\"x\",\"y\":[\"0 to 4\",\"5 to 9\",\"10 to 14\",\"15 to 19\",\"20 to 24\",\"25 to 29\",\"30 to 34\",\"35 to 39\",\"40 to 44\",\"45 to 49\",\"50 to 54\",\"55 to 59\",\"60 to 64\",\"65 to 69\",\"70 to 74\",\"75 to 79\",\"80 to 84\",\"85 and up\"],\"yaxis\":\"y\",\"type\":\"bar\"},{\"alignmentgroup\":\"True\",\"hovertemplate\":\"Sex=Female<br>Year=2013<br>Population (%)=%{x}<br>Age Group=%{y}<extra></extra>\",\"legendgroup\":\"Female\",\"marker\":{\"color\":\"#ab63fa\",\"pattern\":{\"shape\":\"\"}},\"name\":\"Female\",\"offsetgroup\":\"Starr Hill_F\",\"orientation\":\"h\",\"showlegend\":true,\"textposition\":\"auto\",\"x\":[0.0,1.4563106796116505,0.0,0.7281553398058253,6.674757281553398,7.645631067961165,2.3058252427184467,1.699029126213592,4.12621359223301,1.3349514563106797,1.0922330097087378,1.3349514563106797,3.6407766990291264,4.854368932038835,3.883495145631068,2.912621359223301,2.66990291262136,4.490291262135922],\"xaxis\":\"x\",\"y\":[\"0 to 4\",\"5 to 9\",\"10 to 14\",\"15 to 19\",\"20 to 24\",\"25 to 29\",\"30 to 34\",\"35 to 39\",\"40 to 44\",\"45 to 49\",\"50 to 54\",\"55 to 59\",\"60 to 64\",\"65 to 69\",\"70 to 74\",\"75 to 79\",\"80 to 84\",\"85 and up\"],\"yaxis\":\"y\",\"type\":\"bar\"}],\"name\":\"2013\"},{\"data\":[{\"alignmentgroup\":\"True\",\"hovertemplate\":\"Sex=Male<br>Year=2014<br>Population (%)=%{x}<br>Age Group=%{y}<extra></extra>\",\"legendgroup\":\"Male\",\"marker\":{\"color\":\"#00cc96\",\"pattern\":{\"shape\":\"\"}},\"name\":\"Male\",\"offsetgroup\":\"Starr Hill_M\",\"orientation\":\"h\",\"showlegend\":true,\"textposition\":\"auto\",\"x\":[0.0,0.0,0.0,0.0,0.819672131147541,17.096018735362996,3.161592505854801,0.0,3.747072599531616,7.962529274004684,1.053864168618267,1.053864168618267,3.51288056206089,1.756440281030445,2.459016393442623,1.053864168618267,1.990632318501171,0.585480093676815],\"xaxis\":\"x\",\"y\":[\"0 to 4\",\"5 to 9\",\"10 to 14\",\"15 to 19\",\"20 to 24\",\"25 to 29\",\"30 to 34\",\"35 to 39\",\"40 to 44\",\"45 to 49\",\"50 to 54\",\"55 to 59\",\"60 to 64\",\"65 to 69\",\"70 to 74\",\"75 to 79\",\"80 to 84\",\"85 and up\"],\"yaxis\":\"y\",\"type\":\"bar\"},{\"alignmentgroup\":\"True\",\"hovertemplate\":\"Sex=Female<br>Year=2014<br>Population (%)=%{x}<br>Age Group=%{y}<extra></extra>\",\"legendgroup\":\"Female\",\"marker\":{\"color\":\"#ab63fa\",\"pattern\":{\"shape\":\"\"}},\"name\":\"Female\",\"offsetgroup\":\"Starr Hill_F\",\"orientation\":\"h\",\"showlegend\":true,\"textposition\":\"auto\",\"x\":[2.2248243559718968,0.0,0.0,0.702576112412178,5.737704918032787,11.124121779859484,1.990632318501171,0.0,2.693208430913349,1.288056206088993,1.17096018735363,1.405152224824356,2.107728337236534,4.8009367681498825,2.459016393442623,2.107728337236534,4.8009367681498825,9.133489461358314],\"xaxis\":\"x\",\"y\":[\"0 to 4\",\"5 to 9\",\"10 to 14\",\"15 to 19\",\"20 to 24\",\"25 to 29\",\"30 to 34\",\"35 to 39\",\"40 to 44\",\"45 to 49\",\"50 to 54\",\"55 to 59\",\"60 to 64\",\"65 to 69\",\"70 to 74\",\"75 to 79\",\"80 to 84\",\"85 and up\"],\"yaxis\":\"y\",\"type\":\"bar\"}],\"name\":\"2014\"},{\"data\":[{\"alignmentgroup\":\"True\",\"hovertemplate\":\"Sex=Male<br>Year=2015<br>Population (%)=%{x}<br>Age Group=%{y}<extra></extra>\",\"legendgroup\":\"Male\",\"marker\":{\"color\":\"#00cc96\",\"pattern\":{\"shape\":\"\"}},\"name\":\"Male\",\"offsetgroup\":\"Starr Hill_M\",\"orientation\":\"h\",\"showlegend\":true,\"textposition\":\"auto\",\"x\":[1.080550098231827,0.0,1.37524557956778,1.8664047151277012,2.2593320235756384,8.055009823182711,4.4204322200392925,2.06286836935167,3.6345776031434185,5.697445972495088,1.080550098231827,0.0,3.3398821218074657,3.3398821218074657,1.9646365422396856,1.080550098231827,2.5540275049115917,0.7858546168958742],\"xaxis\":\"x\",\"y\":[\"0 to 4\",\"5 to 9\",\"10 to 14\",\"15 to 19\",\"20 to 24\",\"25 to 29\",\"30 to 34\",\"35 to 39\",\"40 to 44\",\"45 to 49\",\"50 to 54\",\"55 to 59\",\"60 to 64\",\"65 to 69\",\"70 to 74\",\"75 to 79\",\"80 to 84\",\"85 and up\"],\"yaxis\":\"y\",\"type\":\"bar\"},{\"alignmentgroup\":\"True\",\"hovertemplate\":\"Sex=Female<br>Year=2015<br>Population (%)=%{x}<br>Age Group=%{y}<extra></extra>\",\"legendgroup\":\"Female\",\"marker\":{\"color\":\"#ab63fa\",\"pattern\":{\"shape\":\"\"}},\"name\":\"Female\",\"offsetgroup\":\"Starr Hill_F\",\"orientation\":\"h\",\"showlegend\":true,\"textposition\":\"auto\",\"x\":[1.8664047151277012,1.1787819253438114,0.0,0.68762278978389,5.50098231827112,9.233791748526524,7.662082514734774,3.2416502946954813,1.8664047151277012,1.4734774066797642,0.9823182711198428,0.9823182711198428,0.8840864440078585,2.848722986247544,5.992141453831041,2.161100196463654,1.6699410609037328,7.170923379174853],\"xaxis\":\"x\",\"y\":[\"0 to 4\",\"5 to 9\",\"10 to 14\",\"15 to 19\",\"20 to 24\",\"25 to 29\",\"30 to 34\",\"35 to 39\",\"40 to 44\",\"45 to 49\",\"50 to 54\",\"55 to 59\",\"60 to 64\",\"65 to 69\",\"70 to 74\",\"75 to 79\",\"80 to 84\",\"85 and up\"],\"yaxis\":\"y\",\"type\":\"bar\"}],\"name\":\"2015\"},{\"data\":[{\"alignmentgroup\":\"True\",\"hovertemplate\":\"Sex=Male<br>Year=2016<br>Population (%)=%{x}<br>Age Group=%{y}<extra></extra>\",\"legendgroup\":\"Male\",\"marker\":{\"color\":\"#00cc96\",\"pattern\":{\"shape\":\"\"}},\"name\":\"Male\",\"offsetgroup\":\"Starr Hill_M\",\"orientation\":\"h\",\"showlegend\":true,\"textposition\":\"auto\",\"x\":[4.081632653061225,0.0,1.6697588126159555,3.617810760667904,3.339517625231911,4.452690166975882,4.081632653061225,2.5974025974025974,2.411873840445269,5.194805194805195,1.1131725417439704,0.0,2.5974025974025974,2.87569573283859,1.7625231910946195,2.3191094619666046,2.782931354359926,0.3710575139146567],\"xaxis\":\"x\",\"y\":[\"0 to 4\",\"5 to 9\",\"10 to 14\",\"15 to 19\",\"20 to 24\",\"25 to 29\",\"30 to 34\",\"35 to 39\",\"40 to 44\",\"45 to 49\",\"50 to 54\",\"55 to 59\",\"60 to 64\",\"65 to 69\",\"70 to 74\",\"75 to 79\",\"80 to 84\",\"85 and up\"],\"yaxis\":\"y\",\"type\":\"bar\"},{\"alignmentgroup\":\"True\",\"hovertemplate\":\"Sex=Female<br>Year=2016<br>Population (%)=%{x}<br>Age Group=%{y}<extra></extra>\",\"legendgroup\":\"Female\",\"marker\":{\"color\":\"#ab63fa\",\"pattern\":{\"shape\":\"\"}},\"name\":\"Female\",\"offsetgroup\":\"Starr Hill_F\",\"orientation\":\"h\",\"showlegend\":true,\"textposition\":\"auto\",\"x\":[2.504638218923933,1.1131725417439704,0.0,0.4638218923933209,6.957328385899815,10.38961038961039,10.018552875695732,2.6901669758812616,2.0408163265306123,0.8348794063079777,0.0,1.5769944341372912,0.0,1.855287569573284,5.936920222634508,1.948051948051948,0.6493506493506493,5.75139146567718],\"xaxis\":\"x\",\"y\":[\"0 to 4\",\"5 to 9\",\"10 to 14\",\"15 to 19\",\"20 to 24\",\"25 to 29\",\"30 to 34\",\"35 to 39\",\"40 to 44\",\"45 to 49\",\"50 to 54\",\"55 to 59\",\"60 to 64\",\"65 to 69\",\"70 to 74\",\"75 to 79\",\"80 to 84\",\"85 and up\"],\"yaxis\":\"y\",\"type\":\"bar\"}],\"name\":\"2016\"},{\"data\":[{\"alignmentgroup\":\"True\",\"hovertemplate\":\"Sex=Male<br>Year=2017<br>Population (%)=%{x}<br>Age Group=%{y}<extra></extra>\",\"legendgroup\":\"Male\",\"marker\":{\"color\":\"#00cc96\",\"pattern\":{\"shape\":\"\"}},\"name\":\"Male\",\"offsetgroup\":\"Starr Hill_M\",\"orientation\":\"h\",\"showlegend\":true,\"textposition\":\"auto\",\"x\":[3.7392138063279,0.0,1.5340364333652925,0.9587727708533078,2.684563758389262,2.109300095877277,4.88974113135187,2.588686481303931,1.5340364333652925,2.4928092042186,1.342281879194631,0.0,1.6299137104506232,3.8350910834132312,2.588686481303931,1.5340364333652925,3.451581975071908,0.2876318312559923],\"xaxis\":\"x\",\"y\":[\"0 to 4\",\"5 to 9\",\"10 to 14\",\"15 to 19\",\"20 to 24\",\"25 to 29\",\"30 to 34\",\"35 to 39\",\"40 to 44\",\"45 to 49\",\"50 to 54\",\"55 to 59\",\"60 to 64\",\"65 to 69\",\"70 to 74\",\"75 to 79\",\"80 to 84\",\"85 and up\"],\"yaxis\":\"y\",\"type\":\"bar\"},{\"alignmentgroup\":\"True\",\"hovertemplate\":\"Sex=Female<br>Year=2017<br>Population (%)=%{x}<br>Age Group=%{y}<extra></extra>\",\"legendgroup\":\"Female\",\"marker\":{\"color\":\"#ab63fa\",\"pattern\":{\"shape\":\"\"}},\"name\":\"Female\",\"offsetgroup\":\"Starr Hill_F\",\"orientation\":\"h\",\"showlegend\":true,\"textposition\":\"auto\",\"x\":[4.88974113135187,0.9587727708533078,0.0,0.0,5.465004793863854,12.847555129434324,7.766059443911793,3.7392138063279,2.3969319271332696,0.0,0.7670182166826462,1.2464046021093,0.0,1.6299137104506232,11.12176414189837,1.342281879194631,1.725790987535954,6.903163950143816],\"xaxis\":\"x\",\"y\":[\"0 to 4\",\"5 to 9\",\"10 to 14\",\"15 to 19\",\"20 to 24\",\"25 to 29\",\"30 to 34\",\"35 to 39\",\"40 to 44\",\"45 to 49\",\"50 to 54\",\"55 to 59\",\"60 to 64\",\"65 to 69\",\"70 to 74\",\"75 to 79\",\"80 to 84\",\"85 and up\"],\"yaxis\":\"y\",\"type\":\"bar\"}],\"name\":\"2017\"},{\"data\":[{\"alignmentgroup\":\"True\",\"hovertemplate\":\"Sex=Male<br>Year=2018<br>Population (%)=%{x}<br>Age Group=%{y}<extra></extra>\",\"legendgroup\":\"Male\",\"marker\":{\"color\":\"#00cc96\",\"pattern\":{\"shape\":\"\"}},\"name\":\"Male\",\"offsetgroup\":\"Starr Hill_M\",\"orientation\":\"h\",\"showlegend\":true,\"textposition\":\"auto\",\"x\":[4.2158516020236085,0.0,1.1804384485666104,1.2647554806070826,2.023608768971332,3.4569983136593594,4.806070826306914,2.360876897133221,1.433389544688027,3.1197301854974704,0.0,0.0,1.6020236087689714,5.649241146711636,1.6020236087689714,1.854974704890388,2.4451939291736933,1.1804384485666104],\"xaxis\":\"x\",\"y\":[\"0 to 4\",\"5 to 9\",\"10 to 14\",\"15 to 19\",\"20 to 24\",\"25 to 29\",\"30 to 34\",\"35 to 39\",\"40 to 44\",\"45 to 49\",\"50 to 54\",\"55 to 59\",\"60 to 64\",\"65 to 69\",\"70 to 74\",\"75 to 79\",\"80 to 84\",\"85 and up\"],\"yaxis\":\"y\",\"type\":\"bar\"},{\"alignmentgroup\":\"True\",\"hovertemplate\":\"Sex=Female<br>Year=2018<br>Population (%)=%{x}<br>Age Group=%{y}<extra></extra>\",\"legendgroup\":\"Female\",\"marker\":{\"color\":\"#ab63fa\",\"pattern\":{\"shape\":\"\"}},\"name\":\"Female\",\"offsetgroup\":\"Starr Hill_F\",\"orientation\":\"h\",\"showlegend\":true,\"textposition\":\"auto\",\"x\":[3.709949409780776,0.4215851602023608,0.0,0.0,4.3844856661045535,11.467116357504215,9.359190556492411,6.661045531197302,1.433389544688027,0.0,1.6020236087689714,0.7588532883642496,0.0,1.93929173693086,10.286677908937603,0.5902192242833052,1.349072512647555,7.841483979763912],\"xaxis\":\"x\",\"y\":[\"0 to 4\",\"5 to 9\",\"10 to 14\",\"15 to 19\",\"20 to 24\",\"25 to 29\",\"30 to 34\",\"35 to 39\",\"40 to 44\",\"45 to 49\",\"50 to 54\",\"55 to 59\",\"60 to 64\",\"65 to 69\",\"70 to 74\",\"75 to 79\",\"80 to 84\",\"85 and up\"],\"yaxis\":\"y\",\"type\":\"bar\"}],\"name\":\"2018\"},{\"data\":[{\"alignmentgroup\":\"True\",\"hovertemplate\":\"Sex=Male<br>Year=2019<br>Population (%)=%{x}<br>Age Group=%{y}<extra></extra>\",\"legendgroup\":\"Male\",\"marker\":{\"color\":\"#00cc96\",\"pattern\":{\"shape\":\"\"}},\"name\":\"Male\",\"offsetgroup\":\"Starr Hill_M\",\"orientation\":\"h\",\"showlegend\":true,\"textposition\":\"auto\",\"x\":[6.686930091185411,0.0,1.0131712259371837,0.9118541033434652,2.43161094224924,6.484295845997973,5.47112462006079,3.4447821681864235,4.356636271529888,1.3171225937183384,0.0,0.0,1.5197568389057752,8.51063829787234,1.4184397163120568,2.2289766970618032,1.9250253292806483,1.5197568389057752],\"xaxis\":\"x\",\"y\":[\"0 to 4\",\"5 to 9\",\"10 to 14\",\"15 to 19\",\"20 to 24\",\"25 to 29\",\"30 to 34\",\"35 to 39\",\"40 to 44\",\"45 to 49\",\"50 to 54\",\"55 to 59\",\"60 to 64\",\"65 to 69\",\"70 to 74\",\"75 to 79\",\"80 to 84\",\"85 and up\"],\"yaxis\":\"y\",\"type\":\"bar\"},{\"alignmentgroup\":\"True\",\"hovertemplate\":\"Sex=Female<br>Year=2019<br>Population (%)=%{x}<br>Age Group=%{y}<extra></extra>\",\"legendgroup\":\"Female\",\"marker\":{\"color\":\"#ab63fa\",\"pattern\":{\"shape\":\"\"}},\"name\":\"Female\",\"offsetgroup\":\"Starr Hill_F\",\"orientation\":\"h\",\"showlegend\":true,\"textposition\":\"auto\",\"x\":[0.0,0.5065856129685917,0.0,0.0,4.154002026342452,6.382978723404255,10.536980749746707,4.154002026342452,1.7223910840932115,0.0,1.4184397163120568,0.7092198581560284,0.0,0.8105369807497467,10.739614994934144,0.8105369807497467,1.5197568389057752,7.29483282674772],\"xaxis\":\"x\",\"y\":[\"0 to 4\",\"5 to 9\",\"10 to 14\",\"15 to 19\",\"20 to 24\",\"25 to 29\",\"30 to 34\",\"35 to 39\",\"40 to 44\",\"45 to 49\",\"50 to 54\",\"55 to 59\",\"60 to 64\",\"65 to 69\",\"70 to 74\",\"75 to 79\",\"80 to 84\",\"85 and up\"],\"yaxis\":\"y\",\"type\":\"bar\"}],\"name\":\"2019\"},{\"data\":[{\"alignmentgroup\":\"True\",\"hovertemplate\":\"Sex=Male<br>Year=2020<br>Population (%)=%{x}<br>Age Group=%{y}<extra></extra>\",\"legendgroup\":\"Male\",\"marker\":{\"color\":\"#00cc96\",\"pattern\":{\"shape\":\"\"}},\"name\":\"Male\",\"offsetgroup\":\"Starr Hill_M\",\"orientation\":\"h\",\"showlegend\":true,\"textposition\":\"auto\",\"x\":[3.654822335025381,0.0,0.0,0.0,2.639593908629441,16.04060913705584,4.2639593908629445,2.030456852791878,3.451776649746193,1.116751269035533,0.0,0.0,2.030456852791878,4.467005076142132,15.126903553299492,2.33502538071066,1.3197969543147208,1.6243654822335023],\"xaxis\":\"x\",\"y\":[\"0 to 4\",\"5 to 9\",\"10 to 14\",\"15 to 19\",\"20 to 24\",\"25 to 29\",\"30 to 34\",\"35 to 39\",\"40 to 44\",\"45 to 49\",\"50 to 54\",\"55 to 59\",\"60 to 64\",\"65 to 69\",\"70 to 74\",\"75 to 79\",\"80 to 84\",\"85 and up\"],\"yaxis\":\"y\",\"type\":\"bar\"},{\"alignmentgroup\":\"True\",\"hovertemplate\":\"Sex=Female<br>Year=2020<br>Population (%)=%{x}<br>Age Group=%{y}<extra></extra>\",\"legendgroup\":\"Female\",\"marker\":{\"color\":\"#ab63fa\",\"pattern\":{\"shape\":\"\"}},\"name\":\"Female\",\"offsetgroup\":\"Starr Hill_F\",\"orientation\":\"h\",\"showlegend\":true,\"textposition\":\"auto\",\"x\":[0.0,0.0,0.0,0.0,2.030456852791878,6.395939086294416,6.802030456852792,1.6243654822335023,2.436548223350254,0.0,1.015228426395939,0.0,0.0,0.9137055837563453,7.715736040609137,0.5076142131979695,4.974619289340102,5.482233502538071],\"xaxis\":\"x\",\"y\":[\"0 to 4\",\"5 to 9\",\"10 to 14\",\"15 to 19\",\"20 to 24\",\"25 to 29\",\"30 to 34\",\"35 to 39\",\"40 to 44\",\"45 to 49\",\"50 to 54\",\"55 to 59\",\"60 to 64\",\"65 to 69\",\"70 to 74\",\"75 to 79\",\"80 to 84\",\"85 and up\"],\"yaxis\":\"y\",\"type\":\"bar\"}],\"name\":\"2020\"}]);\n",
       "                        }).then(function(){\n",
       "                            \n",
       "var gd = document.getElementById('30cf105f-bc61-4c8b-aec6-f0ff389c52dc');\n",
       "var x = new MutationObserver(function (mutations, observer) {{\n",
       "        var display = window.getComputedStyle(gd).display;\n",
       "        if (!display || display === 'none') {{\n",
       "            console.log([gd, 'removed!']);\n",
       "            Plotly.purge(gd);\n",
       "            observer.disconnect();\n",
       "        }}\n",
       "}});\n",
       "\n",
       "// Listen for the removal of the full notebook cells\n",
       "var notebookContainer = gd.closest('#notebook-container');\n",
       "if (notebookContainer) {{\n",
       "    x.observe(notebookContainer, {childList: true});\n",
       "}}\n",
       "\n",
       "// Listen for the clearing of the current output cell\n",
       "var outputEl = gd.closest('.output');\n",
       "if (outputEl) {{\n",
       "    x.observe(outputEl, {childList: true});\n",
       "}}\n",
       "\n",
       "                        })                };                });            </script>        </div>"
      ]
     },
     "metadata": {},
     "output_type": "display_data"
    }
   ],
   "source": [
    "plotAgeNeighborhood('Starr Hill')"
   ]
  },
  {
   "cell_type": "code",
   "execution_count": 26,
   "metadata": {},
   "outputs": [
    {
     "data": {
      "application/vnd.plotly.v1+json": {
       "config": {
        "plotlyServerURL": "https://plot.ly"
       },
       "data": [
        {
         "alignmentgroup": "True",
         "hovertemplate": "Year=2013<br>Population (%)=%{x}<br>Race and Ethnicity=%{y}<extra></extra>",
         "legendgroup": "",
         "marker": {
          "color": "#636efa",
          "pattern": {
           "shape": ""
          }
         },
         "name": "",
         "offsetgroup": "",
         "orientation": "h",
         "showlegend": false,
         "textposition": "auto",
         "type": "bar",
         "x": [
          82.76699029126213,
          15.29126213592233,
          0,
          0,
          0,
          0,
          0,
          1.941747572815534
         ],
         "xaxis": "x",
         "y": [
          "White, not Hispanic",
          "Black, not Hispanic",
          "American Indian, not Hispanic",
          "Asian, not Hispanic",
          "Pacific Islander, not Hispanic",
          "Some other race, not Hispanic",
          "Two or more races, not Hispanic",
          "Hispanic or Latino (may be of any race)"
         ],
         "yaxis": "y"
        }
       ],
       "frames": [
        {
         "data": [
          {
           "alignmentgroup": "True",
           "hovertemplate": "Year=2013<br>Population (%)=%{x}<br>Race and Ethnicity=%{y}<extra></extra>",
           "legendgroup": "",
           "marker": {
            "color": "#636efa",
            "pattern": {
             "shape": ""
            }
           },
           "name": "",
           "offsetgroup": "",
           "orientation": "h",
           "showlegend": false,
           "textposition": "auto",
           "type": "bar",
           "x": [
            82.76699029126213,
            15.29126213592233,
            0,
            0,
            0,
            0,
            0,
            1.941747572815534
           ],
           "xaxis": "x",
           "y": [
            "White, not Hispanic",
            "Black, not Hispanic",
            "American Indian, not Hispanic",
            "Asian, not Hispanic",
            "Pacific Islander, not Hispanic",
            "Some other race, not Hispanic",
            "Two or more races, not Hispanic",
            "Hispanic or Latino (may be of any race)"
           ],
           "yaxis": "y"
          }
         ],
         "layout": {
          "annotations": [
           {
            "font": {
             "color": "rgb(7,13,30)",
             "size": 11
            },
            "showarrow": false,
            "text": "(682 : 82.77%)",
            "textangle": 0,
            "x": 1.004,
            "xanchor": "right",
            "xref": "paper",
            "y": "White, not Hispanic",
            "yref": "y"
           },
           {
            "font": {
             "color": "rgb(7,13,30)",
             "size": 11
            },
            "showarrow": false,
            "text": "(126 : 15.29%)",
            "textangle": 0,
            "x": 1.004,
            "xanchor": "right",
            "xref": "paper",
            "y": "Black, not Hispanic",
            "yref": "y"
           },
           {
            "font": {
             "color": "rgb(7,13,30)",
             "size": 11
            },
            "showarrow": false,
            "text": "(0 : 0.00%)",
            "textangle": 0,
            "x": 1.004,
            "xanchor": "right",
            "xref": "paper",
            "y": "American Indian, not Hispanic",
            "yref": "y"
           },
           {
            "font": {
             "color": "rgb(7,13,30)",
             "size": 11
            },
            "showarrow": false,
            "text": "(0 : 0.00%)",
            "textangle": 0,
            "x": 1.004,
            "xanchor": "right",
            "xref": "paper",
            "y": "Asian, not Hispanic",
            "yref": "y"
           },
           {
            "font": {
             "color": "rgb(7,13,30)",
             "size": 11
            },
            "showarrow": false,
            "text": "(0 : 0.00%)",
            "textangle": 0,
            "x": 1.004,
            "xanchor": "right",
            "xref": "paper",
            "y": "Pacific Islander, not Hispanic",
            "yref": "y"
           },
           {
            "font": {
             "color": "rgb(7,13,30)",
             "size": 11
            },
            "showarrow": false,
            "text": "(0 : 0.00%)",
            "textangle": 0,
            "x": 1.004,
            "xanchor": "right",
            "xref": "paper",
            "y": "Some other race, not Hispanic",
            "yref": "y"
           },
           {
            "font": {
             "color": "rgb(7,13,30)",
             "size": 11
            },
            "showarrow": false,
            "text": "(0 : 0.00%)",
            "textangle": 0,
            "x": 1.004,
            "xanchor": "right",
            "xref": "paper",
            "y": "Two or more races, not Hispanic",
            "yref": "y"
           },
           {
            "font": {
             "color": "rgb(7,13,30)",
             "size": 11
            },
            "showarrow": false,
            "text": "(16 : 1.94%)",
            "textangle": 0,
            "x": 1.004,
            "xanchor": "right",
            "xref": "paper",
            "y": "Hispanic or Latino (may be of any race)",
            "yref": "y"
           }
          ]
         },
         "name": "2013"
        },
        {
         "data": [
          {
           "alignmentgroup": "True",
           "hovertemplate": "Year=2014<br>Population (%)=%{x}<br>Race and Ethnicity=%{y}<extra></extra>",
           "legendgroup": "",
           "marker": {
            "color": "#636efa",
            "pattern": {
             "shape": ""
            }
           },
           "name": "",
           "offsetgroup": "",
           "orientation": "h",
           "showlegend": false,
           "textposition": "auto",
           "type": "bar",
           "x": [
            74.23887587822014,
            20.140515222482435,
            0,
            0,
            0,
            0,
            0,
            5.620608899297424
           ],
           "xaxis": "x",
           "y": [
            "White, not Hispanic",
            "Black, not Hispanic",
            "American Indian, not Hispanic",
            "Asian, not Hispanic",
            "Pacific Islander, not Hispanic",
            "Some other race, not Hispanic",
            "Two or more races, not Hispanic",
            "Hispanic or Latino (may be of any race)"
           ],
           "yaxis": "y"
          }
         ],
         "layout": {
          "annotations": [
           {
            "font": {
             "color": "rgb(7,13,30)",
             "size": 11
            },
            "showarrow": false,
            "text": "(634 : 74.24%)",
            "textangle": 0,
            "x": 1.004,
            "xanchor": "right",
            "xref": "paper",
            "y": "White, not Hispanic",
            "yref": "y"
           },
           {
            "font": {
             "color": "rgb(7,13,30)",
             "size": 11
            },
            "showarrow": false,
            "text": "(172 : 20.14%)",
            "textangle": 0,
            "x": 1.004,
            "xanchor": "right",
            "xref": "paper",
            "y": "Black, not Hispanic",
            "yref": "y"
           },
           {
            "font": {
             "color": "rgb(7,13,30)",
             "size": 11
            },
            "showarrow": false,
            "text": "(0 : 0.00%)",
            "textangle": 0,
            "x": 1.004,
            "xanchor": "right",
            "xref": "paper",
            "y": "American Indian, not Hispanic",
            "yref": "y"
           },
           {
            "font": {
             "color": "rgb(7,13,30)",
             "size": 11
            },
            "showarrow": false,
            "text": "(0 : 0.00%)",
            "textangle": 0,
            "x": 1.004,
            "xanchor": "right",
            "xref": "paper",
            "y": "Asian, not Hispanic",
            "yref": "y"
           },
           {
            "font": {
             "color": "rgb(7,13,30)",
             "size": 11
            },
            "showarrow": false,
            "text": "(0 : 0.00%)",
            "textangle": 0,
            "x": 1.004,
            "xanchor": "right",
            "xref": "paper",
            "y": "Pacific Islander, not Hispanic",
            "yref": "y"
           },
           {
            "font": {
             "color": "rgb(7,13,30)",
             "size": 11
            },
            "showarrow": false,
            "text": "(0 : 0.00%)",
            "textangle": 0,
            "x": 1.004,
            "xanchor": "right",
            "xref": "paper",
            "y": "Some other race, not Hispanic",
            "yref": "y"
           },
           {
            "font": {
             "color": "rgb(7,13,30)",
             "size": 11
            },
            "showarrow": false,
            "text": "(0 : 0.00%)",
            "textangle": 0,
            "x": 1.004,
            "xanchor": "right",
            "xref": "paper",
            "y": "Two or more races, not Hispanic",
            "yref": "y"
           },
           {
            "font": {
             "color": "rgb(7,13,30)",
             "size": 11
            },
            "showarrow": false,
            "text": "(48 : 5.62%)",
            "textangle": 0,
            "x": 1.004,
            "xanchor": "right",
            "xref": "paper",
            "y": "Hispanic or Latino (may be of any race)",
            "yref": "y"
           }
          ]
         },
         "name": "2014"
        },
        {
         "data": [
          {
           "alignmentgroup": "True",
           "hovertemplate": "Year=2015<br>Population (%)=%{x}<br>Race and Ethnicity=%{y}<extra></extra>",
           "legendgroup": "",
           "marker": {
            "color": "#636efa",
            "pattern": {
             "shape": ""
            }
           },
           "name": "",
           "offsetgroup": "",
           "orientation": "h",
           "showlegend": false,
           "textposition": "auto",
           "type": "bar",
           "x": [
            67.4852652259332,
            17.779960707269154,
            0,
            2.9469548133595285,
            1.080550098231827,
            0,
            5.893909626719057,
            4.81335952848723
           ],
           "xaxis": "x",
           "y": [
            "White, not Hispanic",
            "Black, not Hispanic",
            "American Indian, not Hispanic",
            "Asian, not Hispanic",
            "Pacific Islander, not Hispanic",
            "Some other race, not Hispanic",
            "Two or more races, not Hispanic",
            "Hispanic or Latino (may be of any race)"
           ],
           "yaxis": "y"
          }
         ],
         "layout": {
          "annotations": [
           {
            "font": {
             "color": "rgb(7,13,30)",
             "size": 11
            },
            "showarrow": false,
            "text": "(687 : 67.49%)",
            "textangle": 0,
            "x": 1.004,
            "xanchor": "right",
            "xref": "paper",
            "y": "White, not Hispanic",
            "yref": "y"
           },
           {
            "font": {
             "color": "rgb(7,13,30)",
             "size": 11
            },
            "showarrow": false,
            "text": "(181 : 17.78%)",
            "textangle": 0,
            "x": 1.004,
            "xanchor": "right",
            "xref": "paper",
            "y": "Black, not Hispanic",
            "yref": "y"
           },
           {
            "font": {
             "color": "rgb(7,13,30)",
             "size": 11
            },
            "showarrow": false,
            "text": "(0 : 0.00%)",
            "textangle": 0,
            "x": 1.004,
            "xanchor": "right",
            "xref": "paper",
            "y": "American Indian, not Hispanic",
            "yref": "y"
           },
           {
            "font": {
             "color": "rgb(7,13,30)",
             "size": 11
            },
            "showarrow": false,
            "text": "(30 : 2.95%)",
            "textangle": 0,
            "x": 1.004,
            "xanchor": "right",
            "xref": "paper",
            "y": "Asian, not Hispanic",
            "yref": "y"
           },
           {
            "font": {
             "color": "rgb(7,13,30)",
             "size": 11
            },
            "showarrow": false,
            "text": "(11 : 1.08%)",
            "textangle": 0,
            "x": 1.004,
            "xanchor": "right",
            "xref": "paper",
            "y": "Pacific Islander, not Hispanic",
            "yref": "y"
           },
           {
            "font": {
             "color": "rgb(7,13,30)",
             "size": 11
            },
            "showarrow": false,
            "text": "(0 : 0.00%)",
            "textangle": 0,
            "x": 1.004,
            "xanchor": "right",
            "xref": "paper",
            "y": "Some other race, not Hispanic",
            "yref": "y"
           },
           {
            "font": {
             "color": "rgb(7,13,30)",
             "size": 11
            },
            "showarrow": false,
            "text": "(60 : 5.89%)",
            "textangle": 0,
            "x": 1.004,
            "xanchor": "right",
            "xref": "paper",
            "y": "Two or more races, not Hispanic",
            "yref": "y"
           },
           {
            "font": {
             "color": "rgb(7,13,30)",
             "size": 11
            },
            "showarrow": false,
            "text": "(49 : 4.81%)",
            "textangle": 0,
            "x": 1.004,
            "xanchor": "right",
            "xref": "paper",
            "y": "Hispanic or Latino (may be of any race)",
            "yref": "y"
           }
          ]
         },
         "name": "2015"
        },
        {
         "data": [
          {
           "alignmentgroup": "True",
           "hovertemplate": "Year=2016<br>Population (%)=%{x}<br>Race and Ethnicity=%{y}<extra></extra>",
           "legendgroup": "",
           "marker": {
            "color": "#636efa",
            "pattern": {
             "shape": ""
            }
           },
           "name": "",
           "offsetgroup": "",
           "orientation": "h",
           "showlegend": false,
           "textposition": "auto",
           "type": "bar",
           "x": [
            67.06864564007421,
            14.007421150278294,
            0,
            3.896103896103896,
            1.020408163265306,
            0,
            8.905380333951763,
            5.1020408163265305
           ],
           "xaxis": "x",
           "y": [
            "White, not Hispanic",
            "Black, not Hispanic",
            "American Indian, not Hispanic",
            "Asian, not Hispanic",
            "Pacific Islander, not Hispanic",
            "Some other race, not Hispanic",
            "Two or more races, not Hispanic",
            "Hispanic or Latino (may be of any race)"
           ],
           "yaxis": "y"
          }
         ],
         "layout": {
          "annotations": [
           {
            "font": {
             "color": "rgb(7,13,30)",
             "size": 11
            },
            "showarrow": false,
            "text": "(723 : 67.07%)",
            "textangle": 0,
            "x": 1.004,
            "xanchor": "right",
            "xref": "paper",
            "y": "White, not Hispanic",
            "yref": "y"
           },
           {
            "font": {
             "color": "rgb(7,13,30)",
             "size": 11
            },
            "showarrow": false,
            "text": "(151 : 14.01%)",
            "textangle": 0,
            "x": 1.004,
            "xanchor": "right",
            "xref": "paper",
            "y": "Black, not Hispanic",
            "yref": "y"
           },
           {
            "font": {
             "color": "rgb(7,13,30)",
             "size": 11
            },
            "showarrow": false,
            "text": "(0 : 0.00%)",
            "textangle": 0,
            "x": 1.004,
            "xanchor": "right",
            "xref": "paper",
            "y": "American Indian, not Hispanic",
            "yref": "y"
           },
           {
            "font": {
             "color": "rgb(7,13,30)",
             "size": 11
            },
            "showarrow": false,
            "text": "(42 : 3.90%)",
            "textangle": 0,
            "x": 1.004,
            "xanchor": "right",
            "xref": "paper",
            "y": "Asian, not Hispanic",
            "yref": "y"
           },
           {
            "font": {
             "color": "rgb(7,13,30)",
             "size": 11
            },
            "showarrow": false,
            "text": "(11 : 1.02%)",
            "textangle": 0,
            "x": 1.004,
            "xanchor": "right",
            "xref": "paper",
            "y": "Pacific Islander, not Hispanic",
            "yref": "y"
           },
           {
            "font": {
             "color": "rgb(7,13,30)",
             "size": 11
            },
            "showarrow": false,
            "text": "(0 : 0.00%)",
            "textangle": 0,
            "x": 1.004,
            "xanchor": "right",
            "xref": "paper",
            "y": "Some other race, not Hispanic",
            "yref": "y"
           },
           {
            "font": {
             "color": "rgb(7,13,30)",
             "size": 11
            },
            "showarrow": false,
            "text": "(96 : 8.91%)",
            "textangle": 0,
            "x": 1.004,
            "xanchor": "right",
            "xref": "paper",
            "y": "Two or more races, not Hispanic",
            "yref": "y"
           },
           {
            "font": {
             "color": "rgb(7,13,30)",
             "size": 11
            },
            "showarrow": false,
            "text": "(55 : 5.10%)",
            "textangle": 0,
            "x": 1.004,
            "xanchor": "right",
            "xref": "paper",
            "y": "Hispanic or Latino (may be of any race)",
            "yref": "y"
           }
          ]
         },
         "name": "2016"
        },
        {
         "data": [
          {
           "alignmentgroup": "True",
           "hovertemplate": "Year=2017<br>Population (%)=%{x}<br>Race and Ethnicity=%{y}<extra></extra>",
           "legendgroup": "",
           "marker": {
            "color": "#636efa",
            "pattern": {
             "shape": ""
            }
           },
           "name": "",
           "offsetgroup": "",
           "orientation": "h",
           "showlegend": false,
           "textposition": "auto",
           "type": "bar",
           "x": [
            68.83988494726749,
            11.409395973154362,
            0,
            4.88974113135187,
            0.862895493767977,
            0,
            5.560882070949185,
            8.437200383509108
           ],
           "xaxis": "x",
           "y": [
            "White, not Hispanic",
            "Black, not Hispanic",
            "American Indian, not Hispanic",
            "Asian, not Hispanic",
            "Pacific Islander, not Hispanic",
            "Some other race, not Hispanic",
            "Two or more races, not Hispanic",
            "Hispanic or Latino (may be of any race)"
           ],
           "yaxis": "y"
          }
         ],
         "layout": {
          "annotations": [
           {
            "font": {
             "color": "rgb(7,13,30)",
             "size": 11
            },
            "showarrow": false,
            "text": "(718 : 68.84%)",
            "textangle": 0,
            "x": 1.004,
            "xanchor": "right",
            "xref": "paper",
            "y": "White, not Hispanic",
            "yref": "y"
           },
           {
            "font": {
             "color": "rgb(7,13,30)",
             "size": 11
            },
            "showarrow": false,
            "text": "(119 : 11.41%)",
            "textangle": 0,
            "x": 1.004,
            "xanchor": "right",
            "xref": "paper",
            "y": "Black, not Hispanic",
            "yref": "y"
           },
           {
            "font": {
             "color": "rgb(7,13,30)",
             "size": 11
            },
            "showarrow": false,
            "text": "(0 : 0.00%)",
            "textangle": 0,
            "x": 1.004,
            "xanchor": "right",
            "xref": "paper",
            "y": "American Indian, not Hispanic",
            "yref": "y"
           },
           {
            "font": {
             "color": "rgb(7,13,30)",
             "size": 11
            },
            "showarrow": false,
            "text": "(51 : 4.89%)",
            "textangle": 0,
            "x": 1.004,
            "xanchor": "right",
            "xref": "paper",
            "y": "Asian, not Hispanic",
            "yref": "y"
           },
           {
            "font": {
             "color": "rgb(7,13,30)",
             "size": 11
            },
            "showarrow": false,
            "text": "(9 : 0.86%)",
            "textangle": 0,
            "x": 1.004,
            "xanchor": "right",
            "xref": "paper",
            "y": "Pacific Islander, not Hispanic",
            "yref": "y"
           },
           {
            "font": {
             "color": "rgb(7,13,30)",
             "size": 11
            },
            "showarrow": false,
            "text": "(0 : 0.00%)",
            "textangle": 0,
            "x": 1.004,
            "xanchor": "right",
            "xref": "paper",
            "y": "Some other race, not Hispanic",
            "yref": "y"
           },
           {
            "font": {
             "color": "rgb(7,13,30)",
             "size": 11
            },
            "showarrow": false,
            "text": "(58 : 5.56%)",
            "textangle": 0,
            "x": 1.004,
            "xanchor": "right",
            "xref": "paper",
            "y": "Two or more races, not Hispanic",
            "yref": "y"
           },
           {
            "font": {
             "color": "rgb(7,13,30)",
             "size": 11
            },
            "showarrow": false,
            "text": "(88 : 8.44%)",
            "textangle": 0,
            "x": 1.004,
            "xanchor": "right",
            "xref": "paper",
            "y": "Hispanic or Latino (may be of any race)",
            "yref": "y"
           }
          ]
         },
         "name": "2017"
        },
        {
         "data": [
          {
           "alignmentgroup": "True",
           "hovertemplate": "Year=2018<br>Population (%)=%{x}<br>Race and Ethnicity=%{y}<extra></extra>",
           "legendgroup": "",
           "marker": {
            "color": "#636efa",
            "pattern": {
             "shape": ""
            }
           },
           "name": "",
           "offsetgroup": "",
           "orientation": "h",
           "showlegend": false,
           "textposition": "auto",
           "type": "bar",
           "x": [
            76.98145025295109,
            6.323777403035413,
            0,
            4.3844856661045535,
            1.011804384485666,
            0,
            4.5531197301854975,
            6.745362563237774
           ],
           "xaxis": "x",
           "y": [
            "White, not Hispanic",
            "Black, not Hispanic",
            "American Indian, not Hispanic",
            "Asian, not Hispanic",
            "Pacific Islander, not Hispanic",
            "Some other race, not Hispanic",
            "Two or more races, not Hispanic",
            "Hispanic or Latino (may be of any race)"
           ],
           "yaxis": "y"
          }
         ],
         "layout": {
          "annotations": [
           {
            "font": {
             "color": "rgb(7,13,30)",
             "size": 11
            },
            "showarrow": false,
            "text": "(913 : 76.98%)",
            "textangle": 0,
            "x": 1.004,
            "xanchor": "right",
            "xref": "paper",
            "y": "White, not Hispanic",
            "yref": "y"
           },
           {
            "font": {
             "color": "rgb(7,13,30)",
             "size": 11
            },
            "showarrow": false,
            "text": "(75 : 6.32%)",
            "textangle": 0,
            "x": 1.004,
            "xanchor": "right",
            "xref": "paper",
            "y": "Black, not Hispanic",
            "yref": "y"
           },
           {
            "font": {
             "color": "rgb(7,13,30)",
             "size": 11
            },
            "showarrow": false,
            "text": "(0 : 0.00%)",
            "textangle": 0,
            "x": 1.004,
            "xanchor": "right",
            "xref": "paper",
            "y": "American Indian, not Hispanic",
            "yref": "y"
           },
           {
            "font": {
             "color": "rgb(7,13,30)",
             "size": 11
            },
            "showarrow": false,
            "text": "(52 : 4.38%)",
            "textangle": 0,
            "x": 1.004,
            "xanchor": "right",
            "xref": "paper",
            "y": "Asian, not Hispanic",
            "yref": "y"
           },
           {
            "font": {
             "color": "rgb(7,13,30)",
             "size": 11
            },
            "showarrow": false,
            "text": "(12 : 1.01%)",
            "textangle": 0,
            "x": 1.004,
            "xanchor": "right",
            "xref": "paper",
            "y": "Pacific Islander, not Hispanic",
            "yref": "y"
           },
           {
            "font": {
             "color": "rgb(7,13,30)",
             "size": 11
            },
            "showarrow": false,
            "text": "(0 : 0.00%)",
            "textangle": 0,
            "x": 1.004,
            "xanchor": "right",
            "xref": "paper",
            "y": "Some other race, not Hispanic",
            "yref": "y"
           },
           {
            "font": {
             "color": "rgb(7,13,30)",
             "size": 11
            },
            "showarrow": false,
            "text": "(54 : 4.55%)",
            "textangle": 0,
            "x": 1.004,
            "xanchor": "right",
            "xref": "paper",
            "y": "Two or more races, not Hispanic",
            "yref": "y"
           },
           {
            "font": {
             "color": "rgb(7,13,30)",
             "size": 11
            },
            "showarrow": false,
            "text": "(80 : 6.75%)",
            "textangle": 0,
            "x": 1.004,
            "xanchor": "right",
            "xref": "paper",
            "y": "Hispanic or Latino (may be of any race)",
            "yref": "y"
           }
          ]
         },
         "name": "2018"
        },
        {
         "data": [
          {
           "alignmentgroup": "True",
           "hovertemplate": "Year=2019<br>Population (%)=%{x}<br>Race and Ethnicity=%{y}<extra></extra>",
           "legendgroup": "",
           "marker": {
            "color": "#636efa",
            "pattern": {
             "shape": ""
            }
           },
           "name": "",
           "offsetgroup": "",
           "orientation": "h",
           "showlegend": false,
           "textposition": "auto",
           "type": "bar",
           "x": [
            85.81560283687944,
            1.9250253292806483,
            0,
            2.634245187436677,
            2.532928064842958,
            0,
            5.369807497467072,
            1.7223910840932115
           ],
           "xaxis": "x",
           "y": [
            "White, not Hispanic",
            "Black, not Hispanic",
            "American Indian, not Hispanic",
            "Asian, not Hispanic",
            "Pacific Islander, not Hispanic",
            "Some other race, not Hispanic",
            "Two or more races, not Hispanic",
            "Hispanic or Latino (may be of any race)"
           ],
           "yaxis": "y"
          }
         ],
         "layout": {
          "annotations": [
           {
            "font": {
             "color": "rgb(7,13,30)",
             "size": 11
            },
            "showarrow": false,
            "text": "(847 : 85.82%)",
            "textangle": 0,
            "x": 1.004,
            "xanchor": "right",
            "xref": "paper",
            "y": "White, not Hispanic",
            "yref": "y"
           },
           {
            "font": {
             "color": "rgb(7,13,30)",
             "size": 11
            },
            "showarrow": false,
            "text": "(19 : 1.93%)",
            "textangle": 0,
            "x": 1.004,
            "xanchor": "right",
            "xref": "paper",
            "y": "Black, not Hispanic",
            "yref": "y"
           },
           {
            "font": {
             "color": "rgb(7,13,30)",
             "size": 11
            },
            "showarrow": false,
            "text": "(0 : 0.00%)",
            "textangle": 0,
            "x": 1.004,
            "xanchor": "right",
            "xref": "paper",
            "y": "American Indian, not Hispanic",
            "yref": "y"
           },
           {
            "font": {
             "color": "rgb(7,13,30)",
             "size": 11
            },
            "showarrow": false,
            "text": "(26 : 2.63%)",
            "textangle": 0,
            "x": 1.004,
            "xanchor": "right",
            "xref": "paper",
            "y": "Asian, not Hispanic",
            "yref": "y"
           },
           {
            "font": {
             "color": "rgb(7,13,30)",
             "size": 11
            },
            "showarrow": false,
            "text": "(25 : 2.53%)",
            "textangle": 0,
            "x": 1.004,
            "xanchor": "right",
            "xref": "paper",
            "y": "Pacific Islander, not Hispanic",
            "yref": "y"
           },
           {
            "font": {
             "color": "rgb(7,13,30)",
             "size": 11
            },
            "showarrow": false,
            "text": "(0 : 0.00%)",
            "textangle": 0,
            "x": 1.004,
            "xanchor": "right",
            "xref": "paper",
            "y": "Some other race, not Hispanic",
            "yref": "y"
           },
           {
            "font": {
             "color": "rgb(7,13,30)",
             "size": 11
            },
            "showarrow": false,
            "text": "(53 : 5.37%)",
            "textangle": 0,
            "x": 1.004,
            "xanchor": "right",
            "xref": "paper",
            "y": "Two or more races, not Hispanic",
            "yref": "y"
           },
           {
            "font": {
             "color": "rgb(7,13,30)",
             "size": 11
            },
            "showarrow": false,
            "text": "(17 : 1.72%)",
            "textangle": 0,
            "x": 1.004,
            "xanchor": "right",
            "xref": "paper",
            "y": "Hispanic or Latino (may be of any race)",
            "yref": "y"
           }
          ]
         },
         "name": "2019"
        },
        {
         "data": [
          {
           "alignmentgroup": "True",
           "hovertemplate": "Year=2020<br>Population (%)=%{x}<br>Race and Ethnicity=%{y}<extra></extra>",
           "legendgroup": "",
           "marker": {
            "color": "#636efa",
            "pattern": {
             "shape": ""
            }
           },
           "name": "",
           "offsetgroup": "",
           "orientation": "h",
           "showlegend": false,
           "textposition": "auto",
           "type": "bar",
           "x": [
            95.73604060913704,
            0,
            0,
            1.015228426395939,
            0,
            0,
            1.5228426395939083,
            1.7258883248730963
           ],
           "xaxis": "x",
           "y": [
            "White, not Hispanic",
            "Black, not Hispanic",
            "American Indian, not Hispanic",
            "Asian, not Hispanic",
            "Pacific Islander, not Hispanic",
            "Some other race, not Hispanic",
            "Two or more races, not Hispanic",
            "Hispanic or Latino (may be of any race)"
           ],
           "yaxis": "y"
          }
         ],
         "layout": {
          "annotations": [
           {
            "font": {
             "color": "rgb(7,13,30)",
             "size": 11
            },
            "showarrow": false,
            "text": "(943 : 95.74%)",
            "textangle": 0,
            "x": 1.004,
            "xanchor": "right",
            "xref": "paper",
            "y": "White, not Hispanic",
            "yref": "y"
           },
           {
            "font": {
             "color": "rgb(7,13,30)",
             "size": 11
            },
            "showarrow": false,
            "text": "(0 : 0.00%)",
            "textangle": 0,
            "x": 1.004,
            "xanchor": "right",
            "xref": "paper",
            "y": "Black, not Hispanic",
            "yref": "y"
           },
           {
            "font": {
             "color": "rgb(7,13,30)",
             "size": 11
            },
            "showarrow": false,
            "text": "(0 : 0.00%)",
            "textangle": 0,
            "x": 1.004,
            "xanchor": "right",
            "xref": "paper",
            "y": "American Indian, not Hispanic",
            "yref": "y"
           },
           {
            "font": {
             "color": "rgb(7,13,30)",
             "size": 11
            },
            "showarrow": false,
            "text": "(10 : 1.02%)",
            "textangle": 0,
            "x": 1.004,
            "xanchor": "right",
            "xref": "paper",
            "y": "Asian, not Hispanic",
            "yref": "y"
           },
           {
            "font": {
             "color": "rgb(7,13,30)",
             "size": 11
            },
            "showarrow": false,
            "text": "(0 : 0.00%)",
            "textangle": 0,
            "x": 1.004,
            "xanchor": "right",
            "xref": "paper",
            "y": "Pacific Islander, not Hispanic",
            "yref": "y"
           },
           {
            "font": {
             "color": "rgb(7,13,30)",
             "size": 11
            },
            "showarrow": false,
            "text": "(0 : 0.00%)",
            "textangle": 0,
            "x": 1.004,
            "xanchor": "right",
            "xref": "paper",
            "y": "Some other race, not Hispanic",
            "yref": "y"
           },
           {
            "font": {
             "color": "rgb(7,13,30)",
             "size": 11
            },
            "showarrow": false,
            "text": "(15 : 1.52%)",
            "textangle": 0,
            "x": 1.004,
            "xanchor": "right",
            "xref": "paper",
            "y": "Two or more races, not Hispanic",
            "yref": "y"
           },
           {
            "font": {
             "color": "rgb(7,13,30)",
             "size": 11
            },
            "showarrow": false,
            "text": "(17 : 1.73%)",
            "textangle": 0,
            "x": 1.004,
            "xanchor": "right",
            "xref": "paper",
            "y": "Hispanic or Latino (may be of any race)",
            "yref": "y"
           }
          ]
         },
         "name": "2020"
        }
       ],
       "layout": {
        "annotations": [
         {
          "font": {
           "color": "rgb(7,13,30)",
           "size": 11
          },
          "showarrow": false,
          "text": "(682 : 82.77%)",
          "textangle": 0,
          "x": 1.004,
          "xanchor": "right",
          "xref": "paper",
          "y": "White, not Hispanic",
          "yref": "y"
         },
         {
          "font": {
           "color": "rgb(7,13,30)",
           "size": 11
          },
          "showarrow": false,
          "text": "(126 : 15.29%)",
          "textangle": 0,
          "x": 1.004,
          "xanchor": "right",
          "xref": "paper",
          "y": "Black, not Hispanic",
          "yref": "y"
         },
         {
          "font": {
           "color": "rgb(7,13,30)",
           "size": 11
          },
          "showarrow": false,
          "text": "(0 : 0.00%)",
          "textangle": 0,
          "x": 1.004,
          "xanchor": "right",
          "xref": "paper",
          "y": "American Indian, not Hispanic",
          "yref": "y"
         },
         {
          "font": {
           "color": "rgb(7,13,30)",
           "size": 11
          },
          "showarrow": false,
          "text": "(0 : 0.00%)",
          "textangle": 0,
          "x": 1.004,
          "xanchor": "right",
          "xref": "paper",
          "y": "Asian, not Hispanic",
          "yref": "y"
         },
         {
          "font": {
           "color": "rgb(7,13,30)",
           "size": 11
          },
          "showarrow": false,
          "text": "(0 : 0.00%)",
          "textangle": 0,
          "x": 1.004,
          "xanchor": "right",
          "xref": "paper",
          "y": "Pacific Islander, not Hispanic",
          "yref": "y"
         },
         {
          "font": {
           "color": "rgb(7,13,30)",
           "size": 11
          },
          "showarrow": false,
          "text": "(0 : 0.00%)",
          "textangle": 0,
          "x": 1.004,
          "xanchor": "right",
          "xref": "paper",
          "y": "Some other race, not Hispanic",
          "yref": "y"
         },
         {
          "font": {
           "color": "rgb(7,13,30)",
           "size": 11
          },
          "showarrow": false,
          "text": "(0 : 0.00%)",
          "textangle": 0,
          "x": 1.004,
          "xanchor": "right",
          "xref": "paper",
          "y": "Two or more races, not Hispanic",
          "yref": "y"
         },
         {
          "font": {
           "color": "rgb(7,13,30)",
           "size": 11
          },
          "showarrow": false,
          "text": "(16 : 1.94%)",
          "textangle": 0,
          "x": 1.004,
          "xanchor": "right",
          "xref": "paper",
          "y": "Hispanic or Latino (may be of any race)",
          "yref": "y"
         }
        ],
        "autosize": true,
        "barmode": "relative",
        "font": {
         "color": "rgb(7,13,30)",
         "size": 13
        },
        "legend": {
         "bgcolor": "DimGray",
         "tracegroupgap": 0,
         "x": 0.9,
         "xanchor": "right",
         "y": 0.85,
         "yanchor": "bottom"
        },
        "margin": {
         "b": 0,
         "l": 200,
         "pad": 15,
         "r": 10,
         "t": 30
        },
        "paper_bgcolor": "rgba(0, 0, 0, 0)",
        "plot_bgcolor": "rgba(0, 0, 0, 0)",
        "sliders": [
         {
          "active": 0,
          "currentvalue": {
           "prefix": "Year="
          },
          "len": 0.9,
          "pad": {
           "b": 10,
           "t": 60
          },
          "steps": [
           {
            "args": [
             [
              "2013"
             ],
             {
              "frame": {
               "duration": 0,
               "redraw": true
              },
              "fromcurrent": true,
              "mode": "immediate",
              "transition": {
               "duration": 0,
               "easing": "linear"
              }
             }
            ],
            "label": "2013",
            "method": "animate"
           },
           {
            "args": [
             [
              "2014"
             ],
             {
              "frame": {
               "duration": 0,
               "redraw": true
              },
              "fromcurrent": true,
              "mode": "immediate",
              "transition": {
               "duration": 0,
               "easing": "linear"
              }
             }
            ],
            "label": "2014",
            "method": "animate"
           },
           {
            "args": [
             [
              "2015"
             ],
             {
              "frame": {
               "duration": 0,
               "redraw": true
              },
              "fromcurrent": true,
              "mode": "immediate",
              "transition": {
               "duration": 0,
               "easing": "linear"
              }
             }
            ],
            "label": "2015",
            "method": "animate"
           },
           {
            "args": [
             [
              "2016"
             ],
             {
              "frame": {
               "duration": 0,
               "redraw": true
              },
              "fromcurrent": true,
              "mode": "immediate",
              "transition": {
               "duration": 0,
               "easing": "linear"
              }
             }
            ],
            "label": "2016",
            "method": "animate"
           },
           {
            "args": [
             [
              "2017"
             ],
             {
              "frame": {
               "duration": 0,
               "redraw": true
              },
              "fromcurrent": true,
              "mode": "immediate",
              "transition": {
               "duration": 0,
               "easing": "linear"
              }
             }
            ],
            "label": "2017",
            "method": "animate"
           },
           {
            "args": [
             [
              "2018"
             ],
             {
              "frame": {
               "duration": 0,
               "redraw": true
              },
              "fromcurrent": true,
              "mode": "immediate",
              "transition": {
               "duration": 0,
               "easing": "linear"
              }
             }
            ],
            "label": "2018",
            "method": "animate"
           },
           {
            "args": [
             [
              "2019"
             ],
             {
              "frame": {
               "duration": 0,
               "redraw": true
              },
              "fromcurrent": true,
              "mode": "immediate",
              "transition": {
               "duration": 0,
               "easing": "linear"
              }
             }
            ],
            "label": "2019",
            "method": "animate"
           },
           {
            "args": [
             [
              "2020"
             ],
             {
              "frame": {
               "duration": 0,
               "redraw": true
              },
              "fromcurrent": true,
              "mode": "immediate",
              "transition": {
               "duration": 0,
               "easing": "linear"
              }
             }
            ],
            "label": "2020",
            "method": "animate"
           }
          ],
          "x": -0.04,
          "xanchor": "left",
          "y": 0,
          "yanchor": "top"
         }
        ],
        "template": {
         "data": {
          "bar": [
           {
            "error_x": {
             "color": "#2a3f5f"
            },
            "error_y": {
             "color": "#2a3f5f"
            },
            "marker": {
             "line": {
              "color": "#E5ECF6",
              "width": 0.5
             },
             "pattern": {
              "fillmode": "overlay",
              "size": 10,
              "solidity": 0.2
             }
            },
            "type": "bar"
           }
          ],
          "barpolar": [
           {
            "marker": {
             "line": {
              "color": "#E5ECF6",
              "width": 0.5
             },
             "pattern": {
              "fillmode": "overlay",
              "size": 10,
              "solidity": 0.2
             }
            },
            "type": "barpolar"
           }
          ],
          "carpet": [
           {
            "aaxis": {
             "endlinecolor": "#2a3f5f",
             "gridcolor": "white",
             "linecolor": "white",
             "minorgridcolor": "white",
             "startlinecolor": "#2a3f5f"
            },
            "baxis": {
             "endlinecolor": "#2a3f5f",
             "gridcolor": "white",
             "linecolor": "white",
             "minorgridcolor": "white",
             "startlinecolor": "#2a3f5f"
            },
            "type": "carpet"
           }
          ],
          "choropleth": [
           {
            "colorbar": {
             "outlinewidth": 0,
             "ticks": ""
            },
            "type": "choropleth"
           }
          ],
          "contour": [
           {
            "colorbar": {
             "outlinewidth": 0,
             "ticks": ""
            },
            "colorscale": [
             [
              0,
              "#0d0887"
             ],
             [
              0.1111111111111111,
              "#46039f"
             ],
             [
              0.2222222222222222,
              "#7201a8"
             ],
             [
              0.3333333333333333,
              "#9c179e"
             ],
             [
              0.4444444444444444,
              "#bd3786"
             ],
             [
              0.5555555555555556,
              "#d8576b"
             ],
             [
              0.6666666666666666,
              "#ed7953"
             ],
             [
              0.7777777777777778,
              "#fb9f3a"
             ],
             [
              0.8888888888888888,
              "#fdca26"
             ],
             [
              1,
              "#f0f921"
             ]
            ],
            "type": "contour"
           }
          ],
          "contourcarpet": [
           {
            "colorbar": {
             "outlinewidth": 0,
             "ticks": ""
            },
            "type": "contourcarpet"
           }
          ],
          "heatmap": [
           {
            "colorbar": {
             "outlinewidth": 0,
             "ticks": ""
            },
            "colorscale": [
             [
              0,
              "#0d0887"
             ],
             [
              0.1111111111111111,
              "#46039f"
             ],
             [
              0.2222222222222222,
              "#7201a8"
             ],
             [
              0.3333333333333333,
              "#9c179e"
             ],
             [
              0.4444444444444444,
              "#bd3786"
             ],
             [
              0.5555555555555556,
              "#d8576b"
             ],
             [
              0.6666666666666666,
              "#ed7953"
             ],
             [
              0.7777777777777778,
              "#fb9f3a"
             ],
             [
              0.8888888888888888,
              "#fdca26"
             ],
             [
              1,
              "#f0f921"
             ]
            ],
            "type": "heatmap"
           }
          ],
          "heatmapgl": [
           {
            "colorbar": {
             "outlinewidth": 0,
             "ticks": ""
            },
            "colorscale": [
             [
              0,
              "#0d0887"
             ],
             [
              0.1111111111111111,
              "#46039f"
             ],
             [
              0.2222222222222222,
              "#7201a8"
             ],
             [
              0.3333333333333333,
              "#9c179e"
             ],
             [
              0.4444444444444444,
              "#bd3786"
             ],
             [
              0.5555555555555556,
              "#d8576b"
             ],
             [
              0.6666666666666666,
              "#ed7953"
             ],
             [
              0.7777777777777778,
              "#fb9f3a"
             ],
             [
              0.8888888888888888,
              "#fdca26"
             ],
             [
              1,
              "#f0f921"
             ]
            ],
            "type": "heatmapgl"
           }
          ],
          "histogram": [
           {
            "marker": {
             "pattern": {
              "fillmode": "overlay",
              "size": 10,
              "solidity": 0.2
             }
            },
            "type": "histogram"
           }
          ],
          "histogram2d": [
           {
            "colorbar": {
             "outlinewidth": 0,
             "ticks": ""
            },
            "colorscale": [
             [
              0,
              "#0d0887"
             ],
             [
              0.1111111111111111,
              "#46039f"
             ],
             [
              0.2222222222222222,
              "#7201a8"
             ],
             [
              0.3333333333333333,
              "#9c179e"
             ],
             [
              0.4444444444444444,
              "#bd3786"
             ],
             [
              0.5555555555555556,
              "#d8576b"
             ],
             [
              0.6666666666666666,
              "#ed7953"
             ],
             [
              0.7777777777777778,
              "#fb9f3a"
             ],
             [
              0.8888888888888888,
              "#fdca26"
             ],
             [
              1,
              "#f0f921"
             ]
            ],
            "type": "histogram2d"
           }
          ],
          "histogram2dcontour": [
           {
            "colorbar": {
             "outlinewidth": 0,
             "ticks": ""
            },
            "colorscale": [
             [
              0,
              "#0d0887"
             ],
             [
              0.1111111111111111,
              "#46039f"
             ],
             [
              0.2222222222222222,
              "#7201a8"
             ],
             [
              0.3333333333333333,
              "#9c179e"
             ],
             [
              0.4444444444444444,
              "#bd3786"
             ],
             [
              0.5555555555555556,
              "#d8576b"
             ],
             [
              0.6666666666666666,
              "#ed7953"
             ],
             [
              0.7777777777777778,
              "#fb9f3a"
             ],
             [
              0.8888888888888888,
              "#fdca26"
             ],
             [
              1,
              "#f0f921"
             ]
            ],
            "type": "histogram2dcontour"
           }
          ],
          "mesh3d": [
           {
            "colorbar": {
             "outlinewidth": 0,
             "ticks": ""
            },
            "type": "mesh3d"
           }
          ],
          "parcoords": [
           {
            "line": {
             "colorbar": {
              "outlinewidth": 0,
              "ticks": ""
             }
            },
            "type": "parcoords"
           }
          ],
          "pie": [
           {
            "automargin": true,
            "type": "pie"
           }
          ],
          "scatter": [
           {
            "marker": {
             "colorbar": {
              "outlinewidth": 0,
              "ticks": ""
             }
            },
            "type": "scatter"
           }
          ],
          "scatter3d": [
           {
            "line": {
             "colorbar": {
              "outlinewidth": 0,
              "ticks": ""
             }
            },
            "marker": {
             "colorbar": {
              "outlinewidth": 0,
              "ticks": ""
             }
            },
            "type": "scatter3d"
           }
          ],
          "scattercarpet": [
           {
            "marker": {
             "colorbar": {
              "outlinewidth": 0,
              "ticks": ""
             }
            },
            "type": "scattercarpet"
           }
          ],
          "scattergeo": [
           {
            "marker": {
             "colorbar": {
              "outlinewidth": 0,
              "ticks": ""
             }
            },
            "type": "scattergeo"
           }
          ],
          "scattergl": [
           {
            "marker": {
             "colorbar": {
              "outlinewidth": 0,
              "ticks": ""
             }
            },
            "type": "scattergl"
           }
          ],
          "scattermapbox": [
           {
            "marker": {
             "colorbar": {
              "outlinewidth": 0,
              "ticks": ""
             }
            },
            "type": "scattermapbox"
           }
          ],
          "scatterpolar": [
           {
            "marker": {
             "colorbar": {
              "outlinewidth": 0,
              "ticks": ""
             }
            },
            "type": "scatterpolar"
           }
          ],
          "scatterpolargl": [
           {
            "marker": {
             "colorbar": {
              "outlinewidth": 0,
              "ticks": ""
             }
            },
            "type": "scatterpolargl"
           }
          ],
          "scatterternary": [
           {
            "marker": {
             "colorbar": {
              "outlinewidth": 0,
              "ticks": ""
             }
            },
            "type": "scatterternary"
           }
          ],
          "surface": [
           {
            "colorbar": {
             "outlinewidth": 0,
             "ticks": ""
            },
            "colorscale": [
             [
              0,
              "#0d0887"
             ],
             [
              0.1111111111111111,
              "#46039f"
             ],
             [
              0.2222222222222222,
              "#7201a8"
             ],
             [
              0.3333333333333333,
              "#9c179e"
             ],
             [
              0.4444444444444444,
              "#bd3786"
             ],
             [
              0.5555555555555556,
              "#d8576b"
             ],
             [
              0.6666666666666666,
              "#ed7953"
             ],
             [
              0.7777777777777778,
              "#fb9f3a"
             ],
             [
              0.8888888888888888,
              "#fdca26"
             ],
             [
              1,
              "#f0f921"
             ]
            ],
            "type": "surface"
           }
          ],
          "table": [
           {
            "cells": {
             "fill": {
              "color": "#EBF0F8"
             },
             "line": {
              "color": "white"
             }
            },
            "header": {
             "fill": {
              "color": "#C8D4E3"
             },
             "line": {
              "color": "white"
             }
            },
            "type": "table"
           }
          ]
         },
         "layout": {
          "annotationdefaults": {
           "arrowcolor": "#2a3f5f",
           "arrowhead": 0,
           "arrowwidth": 1
          },
          "autotypenumbers": "strict",
          "coloraxis": {
           "colorbar": {
            "outlinewidth": 0,
            "ticks": ""
           }
          },
          "colorscale": {
           "diverging": [
            [
             0,
             "#8e0152"
            ],
            [
             0.1,
             "#c51b7d"
            ],
            [
             0.2,
             "#de77ae"
            ],
            [
             0.3,
             "#f1b6da"
            ],
            [
             0.4,
             "#fde0ef"
            ],
            [
             0.5,
             "#f7f7f7"
            ],
            [
             0.6,
             "#e6f5d0"
            ],
            [
             0.7,
             "#b8e186"
            ],
            [
             0.8,
             "#7fbc41"
            ],
            [
             0.9,
             "#4d9221"
            ],
            [
             1,
             "#276419"
            ]
           ],
           "sequential": [
            [
             0,
             "#0d0887"
            ],
            [
             0.1111111111111111,
             "#46039f"
            ],
            [
             0.2222222222222222,
             "#7201a8"
            ],
            [
             0.3333333333333333,
             "#9c179e"
            ],
            [
             0.4444444444444444,
             "#bd3786"
            ],
            [
             0.5555555555555556,
             "#d8576b"
            ],
            [
             0.6666666666666666,
             "#ed7953"
            ],
            [
             0.7777777777777778,
             "#fb9f3a"
            ],
            [
             0.8888888888888888,
             "#fdca26"
            ],
            [
             1,
             "#f0f921"
            ]
           ],
           "sequentialminus": [
            [
             0,
             "#0d0887"
            ],
            [
             0.1111111111111111,
             "#46039f"
            ],
            [
             0.2222222222222222,
             "#7201a8"
            ],
            [
             0.3333333333333333,
             "#9c179e"
            ],
            [
             0.4444444444444444,
             "#bd3786"
            ],
            [
             0.5555555555555556,
             "#d8576b"
            ],
            [
             0.6666666666666666,
             "#ed7953"
            ],
            [
             0.7777777777777778,
             "#fb9f3a"
            ],
            [
             0.8888888888888888,
             "#fdca26"
            ],
            [
             1,
             "#f0f921"
            ]
           ]
          },
          "colorway": [
           "#636efa",
           "#EF553B",
           "#00cc96",
           "#ab63fa",
           "#FFA15A",
           "#19d3f3",
           "#FF6692",
           "#B6E880",
           "#FF97FF",
           "#FECB52"
          ],
          "font": {
           "color": "#2a3f5f"
          },
          "geo": {
           "bgcolor": "white",
           "lakecolor": "white",
           "landcolor": "#E5ECF6",
           "showlakes": true,
           "showland": true,
           "subunitcolor": "white"
          },
          "hoverlabel": {
           "align": "left"
          },
          "hovermode": "closest",
          "mapbox": {
           "style": "light"
          },
          "paper_bgcolor": "white",
          "plot_bgcolor": "#E5ECF6",
          "polar": {
           "angularaxis": {
            "gridcolor": "white",
            "linecolor": "white",
            "ticks": ""
           },
           "bgcolor": "#E5ECF6",
           "radialaxis": {
            "gridcolor": "white",
            "linecolor": "white",
            "ticks": ""
           }
          },
          "scene": {
           "xaxis": {
            "backgroundcolor": "#E5ECF6",
            "gridcolor": "white",
            "gridwidth": 2,
            "linecolor": "white",
            "showbackground": true,
            "ticks": "",
            "zerolinecolor": "white"
           },
           "yaxis": {
            "backgroundcolor": "#E5ECF6",
            "gridcolor": "white",
            "gridwidth": 2,
            "linecolor": "white",
            "showbackground": true,
            "ticks": "",
            "zerolinecolor": "white"
           },
           "zaxis": {
            "backgroundcolor": "#E5ECF6",
            "gridcolor": "white",
            "gridwidth": 2,
            "linecolor": "white",
            "showbackground": true,
            "ticks": "",
            "zerolinecolor": "white"
           }
          },
          "shapedefaults": {
           "line": {
            "color": "#2a3f5f"
           }
          },
          "ternary": {
           "aaxis": {
            "gridcolor": "white",
            "linecolor": "white",
            "ticks": ""
           },
           "baxis": {
            "gridcolor": "white",
            "linecolor": "white",
            "ticks": ""
           },
           "bgcolor": "#E5ECF6",
           "caxis": {
            "gridcolor": "white",
            "linecolor": "white",
            "ticks": ""
           }
          },
          "title": {
           "x": 0.05
          },
          "xaxis": {
           "automargin": true,
           "gridcolor": "white",
           "linecolor": "white",
           "ticks": "",
           "title": {
            "standoff": 15
           },
           "zerolinecolor": "white",
           "zerolinewidth": 2
          },
          "yaxis": {
           "automargin": true,
           "gridcolor": "white",
           "linecolor": "white",
           "ticks": "",
           "title": {
            "standoff": 15
           },
           "zerolinecolor": "white",
           "zerolinewidth": 2
          }
         }
        },
        "title": {
         "font": {
          "size": 14
         },
         "text": "Population by Race and Ethnicity for Starr Hill (% of Total)",
         "x": 0.59
        },
        "updatemenus": [
         {
          "active": 0,
          "buttons": [
           {
            "args": [
             null,
             {
              "frame": {
               "duration": 500,
               "redraw": true
              },
              "fromcurrent": true,
              "mode": "immediate",
              "transition": {
               "duration": 500,
               "easing": "linear"
              }
             }
            ],
            "label": "&#9654;",
            "method": "animate"
           },
           {
            "args": [
             [
              null
             ],
             {
              "frame": {
               "duration": 0,
               "redraw": true
              },
              "fromcurrent": true,
              "mode": "immediate",
              "transition": {
               "duration": 0,
               "easing": "linear"
              }
             }
            ],
            "label": "&#9724;",
            "method": "animate"
           }
          ],
          "direction": "left",
          "pad": {
           "r": 10,
           "t": 70
          },
          "showactive": false,
          "type": "buttons",
          "x": -0.04,
          "xanchor": "right",
          "y": 0,
          "yanchor": "top"
         }
        ],
        "xaxis": {
         "anchor": "y",
         "domain": [
          0,
          1
         ],
         "gridcolor": "Black",
         "range": [
          0,
          109
         ],
         "tickvals": [
          0,
          10,
          20,
          30,
          40,
          50,
          60,
          70,
          80,
          90,
          100
         ],
         "title": {
          "text": "Population (%)"
         },
         "type": "linear"
        },
        "yaxis": {
         "anchor": "x",
         "autorange": true,
         "categoryorder": "total ascending",
         "domain": [
          0,
          1
         ],
         "range": [
          -0.5,
          7.5
         ],
         "title": {
          "text": "Race and Ethnicity"
         },
         "type": "category"
        }
       }
      },
      "image/png": "[encoded data removed]",
      "text/html": [
       "<div>                            <div id=\"c59ed79b-243d-4505-9019-64cbfb87e60b\" class=\"plotly-graph-div\" style=\"height:525px; width:100%;\"></div>            <script type=\"text/javascript\">                require([\"plotly\"], function(Plotly) {                    window.PLOTLYENV=window.PLOTLYENV || {};                                    if (document.getElementById(\"c59ed79b-243d-4505-9019-64cbfb87e60b\")) {                    Plotly.newPlot(                        \"c59ed79b-243d-4505-9019-64cbfb87e60b\",                        [{\"alignmentgroup\":\"True\",\"hovertemplate\":\"Year=2013<br>Population (%)=%{x}<br>Race and Ethnicity=%{y}<extra></extra>\",\"legendgroup\":\"\",\"marker\":{\"color\":\"#636efa\",\"pattern\":{\"shape\":\"\"}},\"name\":\"\",\"offsetgroup\":\"\",\"orientation\":\"h\",\"showlegend\":false,\"textposition\":\"auto\",\"x\":[82.76699029126213,15.29126213592233,0.0,0.0,0.0,0.0,0.0,1.941747572815534],\"xaxis\":\"x\",\"y\":[\"White, not Hispanic\",\"Black, not Hispanic\",\"American Indian, not Hispanic\",\"Asian, not Hispanic\",\"Pacific Islander, not Hispanic\",\"Some other race, not Hispanic\",\"Two or more races, not Hispanic\",\"Hispanic or Latino (may be of any race)\"],\"yaxis\":\"y\",\"type\":\"bar\"}],                        {\"template\":{\"data\":{\"bar\":[{\"error_x\":{\"color\":\"#2a3f5f\"},\"error_y\":{\"color\":\"#2a3f5f\"},\"marker\":{\"line\":{\"color\":\"#E5ECF6\",\"width\":0.5},\"pattern\":{\"fillmode\":\"overlay\",\"size\":10,\"solidity\":0.2}},\"type\":\"bar\"}],\"barpolar\":[{\"marker\":{\"line\":{\"color\":\"#E5ECF6\",\"width\":0.5},\"pattern\":{\"fillmode\":\"overlay\",\"size\":10,\"solidity\":0.2}},\"type\":\"barpolar\"}],\"carpet\":[{\"aaxis\":{\"endlinecolor\":\"#2a3f5f\",\"gridcolor\":\"white\",\"linecolor\":\"white\",\"minorgridcolor\":\"white\",\"startlinecolor\":\"#2a3f5f\"},\"baxis\":{\"endlinecolor\":\"#2a3f5f\",\"gridcolor\":\"white\",\"linecolor\":\"white\",\"minorgridcolor\":\"white\",\"startlinecolor\":\"#2a3f5f\"},\"type\":\"carpet\"}],\"choropleth\":[{\"colorbar\":{\"outlinewidth\":0,\"ticks\":\"\"},\"type\":\"choropleth\"}],\"contour\":[{\"colorbar\":{\"outlinewidth\":0,\"ticks\":\"\"},\"colorscale\":[[0.0,\"#0d0887\"],[0.1111111111111111,\"#46039f\"],[0.2222222222222222,\"#7201a8\"],[0.3333333333333333,\"#9c179e\"],[0.4444444444444444,\"#bd3786\"],[0.5555555555555556,\"#d8576b\"],[0.6666666666666666,\"#ed7953\"],[0.7777777777777778,\"#fb9f3a\"],[0.8888888888888888,\"#fdca26\"],[1.0,\"#f0f921\"]],\"type\":\"contour\"}],\"contourcarpet\":[{\"colorbar\":{\"outlinewidth\":0,\"ticks\":\"\"},\"type\":\"contourcarpet\"}],\"heatmap\":[{\"colorbar\":{\"outlinewidth\":0,\"ticks\":\"\"},\"colorscale\":[[0.0,\"#0d0887\"],[0.1111111111111111,\"#46039f\"],[0.2222222222222222,\"#7201a8\"],[0.3333333333333333,\"#9c179e\"],[0.4444444444444444,\"#bd3786\"],[0.5555555555555556,\"#d8576b\"],[0.6666666666666666,\"#ed7953\"],[0.7777777777777778,\"#fb9f3a\"],[0.8888888888888888,\"#fdca26\"],[1.0,\"#f0f921\"]],\"type\":\"heatmap\"}],\"heatmapgl\":[{\"colorbar\":{\"outlinewidth\":0,\"ticks\":\"\"},\"colorscale\":[[0.0,\"#0d0887\"],[0.1111111111111111,\"#46039f\"],[0.2222222222222222,\"#7201a8\"],[0.3333333333333333,\"#9c179e\"],[0.4444444444444444,\"#bd3786\"],[0.5555555555555556,\"#d8576b\"],[0.6666666666666666,\"#ed7953\"],[0.7777777777777778,\"#fb9f3a\"],[0.8888888888888888,\"#fdca26\"],[1.0,\"#f0f921\"]],\"type\":\"heatmapgl\"}],\"histogram\":[{\"marker\":{\"pattern\":{\"fillmode\":\"overlay\",\"size\":10,\"solidity\":0.2}},\"type\":\"histogram\"}],\"histogram2d\":[{\"colorbar\":{\"outlinewidth\":0,\"ticks\":\"\"},\"colorscale\":[[0.0,\"#0d0887\"],[0.1111111111111111,\"#46039f\"],[0.2222222222222222,\"#7201a8\"],[0.3333333333333333,\"#9c179e\"],[0.4444444444444444,\"#bd3786\"],[0.5555555555555556,\"#d8576b\"],[0.6666666666666666,\"#ed7953\"],[0.7777777777777778,\"#fb9f3a\"],[0.8888888888888888,\"#fdca26\"],[1.0,\"#f0f921\"]],\"type\":\"histogram2d\"}],\"histogram2dcontour\":[{\"colorbar\":{\"outlinewidth\":0,\"ticks\":\"\"},\"colorscale\":[[0.0,\"#0d0887\"],[0.1111111111111111,\"#46039f\"],[0.2222222222222222,\"#7201a8\"],[0.3333333333333333,\"#9c179e\"],[0.4444444444444444,\"#bd3786\"],[0.5555555555555556,\"#d8576b\"],[0.6666666666666666,\"#ed7953\"],[0.7777777777777778,\"#fb9f3a\"],[0.8888888888888888,\"#fdca26\"],[1.0,\"#f0f921\"]],\"type\":\"histogram2dcontour\"}],\"mesh3d\":[{\"colorbar\":{\"outlinewidth\":0,\"ticks\":\"\"},\"type\":\"mesh3d\"}],\"parcoords\":[{\"line\":{\"colorbar\":{\"outlinewidth\":0,\"ticks\":\"\"}},\"type\":\"parcoords\"}],\"pie\":[{\"automargin\":true,\"type\":\"pie\"}],\"scatter\":[{\"marker\":{\"colorbar\":{\"outlinewidth\":0,\"ticks\":\"\"}},\"type\":\"scatter\"}],\"scatter3d\":[{\"line\":{\"colorbar\":{\"outlinewidth\":0,\"ticks\":\"\"}},\"marker\":{\"colorbar\":{\"outlinewidth\":0,\"ticks\":\"\"}},\"type\":\"scatter3d\"}],\"scattercarpet\":[{\"marker\":{\"colorbar\":{\"outlinewidth\":0,\"ticks\":\"\"}},\"type\":\"scattercarpet\"}],\"scattergeo\":[{\"marker\":{\"colorbar\":{\"outlinewidth\":0,\"ticks\":\"\"}},\"type\":\"scattergeo\"}],\"scattergl\":[{\"marker\":{\"colorbar\":{\"outlinewidth\":0,\"ticks\":\"\"}},\"type\":\"scattergl\"}],\"scattermapbox\":[{\"marker\":{\"colorbar\":{\"outlinewidth\":0,\"ticks\":\"\"}},\"type\":\"scattermapbox\"}],\"scatterpolar\":[{\"marker\":{\"colorbar\":{\"outlinewidth\":0,\"ticks\":\"\"}},\"type\":\"scatterpolar\"}],\"scatterpolargl\":[{\"marker\":{\"colorbar\":{\"outlinewidth\":0,\"ticks\":\"\"}},\"type\":\"scatterpolargl\"}],\"scatterternary\":[{\"marker\":{\"colorbar\":{\"outlinewidth\":0,\"ticks\":\"\"}},\"type\":\"scatterternary\"}],\"surface\":[{\"colorbar\":{\"outlinewidth\":0,\"ticks\":\"\"},\"colorscale\":[[0.0,\"#0d0887\"],[0.1111111111111111,\"#46039f\"],[0.2222222222222222,\"#7201a8\"],[0.3333333333333333,\"#9c179e\"],[0.4444444444444444,\"#bd3786\"],[0.5555555555555556,\"#d8576b\"],[0.6666666666666666,\"#ed7953\"],[0.7777777777777778,\"#fb9f3a\"],[0.8888888888888888,\"#fdca26\"],[1.0,\"#f0f921\"]],\"type\":\"surface\"}],\"table\":[{\"cells\":{\"fill\":{\"color\":\"#EBF0F8\"},\"line\":{\"color\":\"white\"}},\"header\":{\"fill\":{\"color\":\"#C8D4E3\"},\"line\":{\"color\":\"white\"}},\"type\":\"table\"}]},\"layout\":{\"annotationdefaults\":{\"arrowcolor\":\"#2a3f5f\",\"arrowhead\":0,\"arrowwidth\":1},\"autotypenumbers\":\"strict\",\"coloraxis\":{\"colorbar\":{\"outlinewidth\":0,\"ticks\":\"\"}},\"colorscale\":{\"diverging\":[[0,\"#8e0152\"],[0.1,\"#c51b7d\"],[0.2,\"#de77ae\"],[0.3,\"#f1b6da\"],[0.4,\"#fde0ef\"],[0.5,\"#f7f7f7\"],[0.6,\"#e6f5d0\"],[0.7,\"#b8e186\"],[0.8,\"#7fbc41\"],[0.9,\"#4d9221\"],[1,\"#276419\"]],\"sequential\":[[0.0,\"#0d0887\"],[0.1111111111111111,\"#46039f\"],[0.2222222222222222,\"#7201a8\"],[0.3333333333333333,\"#9c179e\"],[0.4444444444444444,\"#bd3786\"],[0.5555555555555556,\"#d8576b\"],[0.6666666666666666,\"#ed7953\"],[0.7777777777777778,\"#fb9f3a\"],[0.8888888888888888,\"#fdca26\"],[1.0,\"#f0f921\"]],\"sequentialminus\":[[0.0,\"#0d0887\"],[0.1111111111111111,\"#46039f\"],[0.2222222222222222,\"#7201a8\"],[0.3333333333333333,\"#9c179e\"],[0.4444444444444444,\"#bd3786\"],[0.5555555555555556,\"#d8576b\"],[0.6666666666666666,\"#ed7953\"],[0.7777777777777778,\"#fb9f3a\"],[0.8888888888888888,\"#fdca26\"],[1.0,\"#f0f921\"]]},\"colorway\":[\"#636efa\",\"#EF553B\",\"#00cc96\",\"#ab63fa\",\"#FFA15A\",\"#19d3f3\",\"#FF6692\",\"#B6E880\",\"#FF97FF\",\"#FECB52\"],\"font\":{\"color\":\"#2a3f5f\"},\"geo\":{\"bgcolor\":\"white\",\"lakecolor\":\"white\",\"landcolor\":\"#E5ECF6\",\"showlakes\":true,\"showland\":true,\"subunitcolor\":\"white\"},\"hoverlabel\":{\"align\":\"left\"},\"hovermode\":\"closest\",\"mapbox\":{\"style\":\"light\"},\"paper_bgcolor\":\"white\",\"plot_bgcolor\":\"#E5ECF6\",\"polar\":{\"angularaxis\":{\"gridcolor\":\"white\",\"linecolor\":\"white\",\"ticks\":\"\"},\"bgcolor\":\"#E5ECF6\",\"radialaxis\":{\"gridcolor\":\"white\",\"linecolor\":\"white\",\"ticks\":\"\"}},\"scene\":{\"xaxis\":{\"backgroundcolor\":\"#E5ECF6\",\"gridcolor\":\"white\",\"gridwidth\":2,\"linecolor\":\"white\",\"showbackground\":true,\"ticks\":\"\",\"zerolinecolor\":\"white\"},\"yaxis\":{\"backgroundcolor\":\"#E5ECF6\",\"gridcolor\":\"white\",\"gridwidth\":2,\"linecolor\":\"white\",\"showbackground\":true,\"ticks\":\"\",\"zerolinecolor\":\"white\"},\"zaxis\":{\"backgroundcolor\":\"#E5ECF6\",\"gridcolor\":\"white\",\"gridwidth\":2,\"linecolor\":\"white\",\"showbackground\":true,\"ticks\":\"\",\"zerolinecolor\":\"white\"}},\"shapedefaults\":{\"line\":{\"color\":\"#2a3f5f\"}},\"ternary\":{\"aaxis\":{\"gridcolor\":\"white\",\"linecolor\":\"white\",\"ticks\":\"\"},\"baxis\":{\"gridcolor\":\"white\",\"linecolor\":\"white\",\"ticks\":\"\"},\"bgcolor\":\"#E5ECF6\",\"caxis\":{\"gridcolor\":\"white\",\"linecolor\":\"white\",\"ticks\":\"\"}},\"title\":{\"x\":0.05},\"xaxis\":{\"automargin\":true,\"gridcolor\":\"white\",\"linecolor\":\"white\",\"ticks\":\"\",\"title\":{\"standoff\":15},\"zerolinecolor\":\"white\",\"zerolinewidth\":2},\"yaxis\":{\"automargin\":true,\"gridcolor\":\"white\",\"linecolor\":\"white\",\"ticks\":\"\",\"title\":{\"standoff\":15},\"zerolinecolor\":\"white\",\"zerolinewidth\":2}}},\"xaxis\":{\"anchor\":\"y\",\"domain\":[0.0,1.0],\"title\":{\"text\":\"Population (%)\"},\"tickvals\":[0,10,20,30,40,50,60,70,80,90,100],\"range\":[0,109],\"gridcolor\":\"Black\"},\"yaxis\":{\"anchor\":\"x\",\"domain\":[0.0,1.0],\"title\":{\"text\":\"Race and Ethnicity\"},\"categoryorder\":\"total ascending\"},\"legend\":{\"tracegroupgap\":0,\"yanchor\":\"bottom\",\"x\":0.9,\"y\":0.85,\"xanchor\":\"right\",\"bgcolor\":\"DimGray\"},\"title\":{\"text\":\"Population by Race and Ethnicity for Starr Hill (% of Total)\",\"font\":{\"size\":14},\"x\":0.59},\"barmode\":\"relative\",\"updatemenus\":[{\"buttons\":[{\"args\":[null,{\"frame\":{\"duration\":500,\"redraw\":true},\"mode\":\"immediate\",\"fromcurrent\":true,\"transition\":{\"duration\":500,\"easing\":\"linear\"}}],\"label\":\"&#9654;\",\"method\":\"animate\"},{\"args\":[[null],{\"frame\":{\"duration\":0,\"redraw\":true},\"mode\":\"immediate\",\"fromcurrent\":true,\"transition\":{\"duration\":0,\"easing\":\"linear\"}}],\"label\":\"&#9724;\",\"method\":\"animate\"}],\"direction\":\"left\",\"pad\":{\"r\":10,\"t\":70},\"showactive\":false,\"type\":\"buttons\",\"x\":-0.04,\"xanchor\":\"right\",\"y\":0,\"yanchor\":\"top\"}],\"sliders\":[{\"active\":0,\"currentvalue\":{\"prefix\":\"Year=\"},\"len\":0.9,\"pad\":{\"b\":10,\"t\":60},\"steps\":[{\"args\":[[\"2013\"],{\"frame\":{\"duration\":0,\"redraw\":true},\"mode\":\"immediate\",\"fromcurrent\":true,\"transition\":{\"duration\":0,\"easing\":\"linear\"}}],\"label\":\"2013\",\"method\":\"animate\"},{\"args\":[[\"2014\"],{\"frame\":{\"duration\":0,\"redraw\":true},\"mode\":\"immediate\",\"fromcurrent\":true,\"transition\":{\"duration\":0,\"easing\":\"linear\"}}],\"label\":\"2014\",\"method\":\"animate\"},{\"args\":[[\"2015\"],{\"frame\":{\"duration\":0,\"redraw\":true},\"mode\":\"immediate\",\"fromcurrent\":true,\"transition\":{\"duration\":0,\"easing\":\"linear\"}}],\"label\":\"2015\",\"method\":\"animate\"},{\"args\":[[\"2016\"],{\"frame\":{\"duration\":0,\"redraw\":true},\"mode\":\"immediate\",\"fromcurrent\":true,\"transition\":{\"duration\":0,\"easing\":\"linear\"}}],\"label\":\"2016\",\"method\":\"animate\"},{\"args\":[[\"2017\"],{\"frame\":{\"duration\":0,\"redraw\":true},\"mode\":\"immediate\",\"fromcurrent\":true,\"transition\":{\"duration\":0,\"easing\":\"linear\"}}],\"label\":\"2017\",\"method\":\"animate\"},{\"args\":[[\"2018\"],{\"frame\":{\"duration\":0,\"redraw\":true},\"mode\":\"immediate\",\"fromcurrent\":true,\"transition\":{\"duration\":0,\"easing\":\"linear\"}}],\"label\":\"2018\",\"method\":\"animate\"},{\"args\":[[\"2019\"],{\"frame\":{\"duration\":0,\"redraw\":true},\"mode\":\"immediate\",\"fromcurrent\":true,\"transition\":{\"duration\":0,\"easing\":\"linear\"}}],\"label\":\"2019\",\"method\":\"animate\"},{\"args\":[[\"2020\"],{\"frame\":{\"duration\":0,\"redraw\":true},\"mode\":\"immediate\",\"fromcurrent\":true,\"transition\":{\"duration\":0,\"easing\":\"linear\"}}],\"label\":\"2020\",\"method\":\"animate\"}],\"x\":-0.04,\"xanchor\":\"left\",\"y\":0,\"yanchor\":\"top\"}],\"font\":{\"size\":13,\"color\":\"rgb(7,13,30)\"},\"margin\":{\"b\":0,\"l\":200,\"pad\":15,\"r\":10,\"t\":30},\"plot_bgcolor\":\"rgba(0,0,0,0)\",\"paper_bgcolor\":\"rgba(0,0,0,0)\",\"autosize\":true,\"annotations\":[{\"font\":{\"color\":\"rgb(7,13,30)\",\"size\":11},\"showarrow\":false,\"text\":\"(682 : 82.77%)\",\"textangle\":0,\"x\":1.004,\"xanchor\":\"right\",\"xref\":\"paper\",\"y\":\"White, not Hispanic\",\"yref\":\"y\"},{\"font\":{\"color\":\"rgb(7,13,30)\",\"size\":11},\"showarrow\":false,\"text\":\"(126 : 15.29%)\",\"textangle\":0,\"x\":1.004,\"xanchor\":\"right\",\"xref\":\"paper\",\"y\":\"Black, not Hispanic\",\"yref\":\"y\"},{\"font\":{\"color\":\"rgb(7,13,30)\",\"size\":11},\"showarrow\":false,\"text\":\"(0 : 0.00%)\",\"textangle\":0,\"x\":1.004,\"xanchor\":\"right\",\"xref\":\"paper\",\"y\":\"American Indian, not Hispanic\",\"yref\":\"y\"},{\"font\":{\"color\":\"rgb(7,13,30)\",\"size\":11},\"showarrow\":false,\"text\":\"(0 : 0.00%)\",\"textangle\":0,\"x\":1.004,\"xanchor\":\"right\",\"xref\":\"paper\",\"y\":\"Asian, not Hispanic\",\"yref\":\"y\"},{\"font\":{\"color\":\"rgb(7,13,30)\",\"size\":11},\"showarrow\":false,\"text\":\"(0 : 0.00%)\",\"textangle\":0,\"x\":1.004,\"xanchor\":\"right\",\"xref\":\"paper\",\"y\":\"Pacific Islander, not Hispanic\",\"yref\":\"y\"},{\"font\":{\"color\":\"rgb(7,13,30)\",\"size\":11},\"showarrow\":false,\"text\":\"(0 : 0.00%)\",\"textangle\":0,\"x\":1.004,\"xanchor\":\"right\",\"xref\":\"paper\",\"y\":\"Some other race, not Hispanic\",\"yref\":\"y\"},{\"font\":{\"color\":\"rgb(7,13,30)\",\"size\":11},\"showarrow\":false,\"text\":\"(0 : 0.00%)\",\"textangle\":0,\"x\":1.004,\"xanchor\":\"right\",\"xref\":\"paper\",\"y\":\"Two or more races, not Hispanic\",\"yref\":\"y\"},{\"font\":{\"color\":\"rgb(7,13,30)\",\"size\":11},\"showarrow\":false,\"text\":\"(16 : 1.94%)\",\"textangle\":0,\"x\":1.004,\"xanchor\":\"right\",\"xref\":\"paper\",\"y\":\"Hispanic or Latino (may be of any race)\",\"yref\":\"y\"}]},                        {\"responsive\": true}                    ).then(function(){\n",
       "                            Plotly.addFrames('c59ed79b-243d-4505-9019-64cbfb87e60b', [{\"data\":[{\"alignmentgroup\":\"True\",\"hovertemplate\":\"Year=2013<br>Population (%)=%{x}<br>Race and Ethnicity=%{y}<extra></extra>\",\"legendgroup\":\"\",\"marker\":{\"color\":\"#636efa\",\"pattern\":{\"shape\":\"\"}},\"name\":\"\",\"offsetgroup\":\"\",\"orientation\":\"h\",\"showlegend\":false,\"textposition\":\"auto\",\"x\":[82.76699029126213,15.29126213592233,0.0,0.0,0.0,0.0,0.0,1.941747572815534],\"xaxis\":\"x\",\"y\":[\"White, not Hispanic\",\"Black, not Hispanic\",\"American Indian, not Hispanic\",\"Asian, not Hispanic\",\"Pacific Islander, not Hispanic\",\"Some other race, not Hispanic\",\"Two or more races, not Hispanic\",\"Hispanic or Latino (may be of any race)\"],\"yaxis\":\"y\",\"type\":\"bar\"}],\"name\":\"2013\",\"layout\":{\"annotations\":[{\"font\":{\"color\":\"rgb(7,13,30)\",\"size\":11},\"showarrow\":false,\"text\":\"(682 : 82.77%)\",\"textangle\":0,\"x\":1.004,\"xanchor\":\"right\",\"xref\":\"paper\",\"y\":\"White, not Hispanic\",\"yref\":\"y\"},{\"font\":{\"color\":\"rgb(7,13,30)\",\"size\":11},\"showarrow\":false,\"text\":\"(126 : 15.29%)\",\"textangle\":0,\"x\":1.004,\"xanchor\":\"right\",\"xref\":\"paper\",\"y\":\"Black, not Hispanic\",\"yref\":\"y\"},{\"font\":{\"color\":\"rgb(7,13,30)\",\"size\":11},\"showarrow\":false,\"text\":\"(0 : 0.00%)\",\"textangle\":0,\"x\":1.004,\"xanchor\":\"right\",\"xref\":\"paper\",\"y\":\"American Indian, not Hispanic\",\"yref\":\"y\"},{\"font\":{\"color\":\"rgb(7,13,30)\",\"size\":11},\"showarrow\":false,\"text\":\"(0 : 0.00%)\",\"textangle\":0,\"x\":1.004,\"xanchor\":\"right\",\"xref\":\"paper\",\"y\":\"Asian, not Hispanic\",\"yref\":\"y\"},{\"font\":{\"color\":\"rgb(7,13,30)\",\"size\":11},\"showarrow\":false,\"text\":\"(0 : 0.00%)\",\"textangle\":0,\"x\":1.004,\"xanchor\":\"right\",\"xref\":\"paper\",\"y\":\"Pacific Islander, not Hispanic\",\"yref\":\"y\"},{\"font\":{\"color\":\"rgb(7,13,30)\",\"size\":11},\"showarrow\":false,\"text\":\"(0 : 0.00%)\",\"textangle\":0,\"x\":1.004,\"xanchor\":\"right\",\"xref\":\"paper\",\"y\":\"Some other race, not Hispanic\",\"yref\":\"y\"},{\"font\":{\"color\":\"rgb(7,13,30)\",\"size\":11},\"showarrow\":false,\"text\":\"(0 : 0.00%)\",\"textangle\":0,\"x\":1.004,\"xanchor\":\"right\",\"xref\":\"paper\",\"y\":\"Two or more races, not Hispanic\",\"yref\":\"y\"},{\"font\":{\"color\":\"rgb(7,13,30)\",\"size\":11},\"showarrow\":false,\"text\":\"(16 : 1.94%)\",\"textangle\":0,\"x\":1.004,\"xanchor\":\"right\",\"xref\":\"paper\",\"y\":\"Hispanic or Latino (may be of any race)\",\"yref\":\"y\"}]}},{\"data\":[{\"alignmentgroup\":\"True\",\"hovertemplate\":\"Year=2014<br>Population (%)=%{x}<br>Race and Ethnicity=%{y}<extra></extra>\",\"legendgroup\":\"\",\"marker\":{\"color\":\"#636efa\",\"pattern\":{\"shape\":\"\"}},\"name\":\"\",\"offsetgroup\":\"\",\"orientation\":\"h\",\"showlegend\":false,\"textposition\":\"auto\",\"x\":[74.23887587822014,20.140515222482435,0.0,0.0,0.0,0.0,0.0,5.620608899297424],\"xaxis\":\"x\",\"y\":[\"White, not Hispanic\",\"Black, not Hispanic\",\"American Indian, not Hispanic\",\"Asian, not Hispanic\",\"Pacific Islander, not Hispanic\",\"Some other race, not Hispanic\",\"Two or more races, not Hispanic\",\"Hispanic or Latino (may be of any race)\"],\"yaxis\":\"y\",\"type\":\"bar\"}],\"name\":\"2014\",\"layout\":{\"annotations\":[{\"font\":{\"color\":\"rgb(7,13,30)\",\"size\":11},\"showarrow\":false,\"text\":\"(634 : 74.24%)\",\"textangle\":0,\"x\":1.004,\"xanchor\":\"right\",\"xref\":\"paper\",\"y\":\"White, not Hispanic\",\"yref\":\"y\"},{\"font\":{\"color\":\"rgb(7,13,30)\",\"size\":11},\"showarrow\":false,\"text\":\"(172 : 20.14%)\",\"textangle\":0,\"x\":1.004,\"xanchor\":\"right\",\"xref\":\"paper\",\"y\":\"Black, not Hispanic\",\"yref\":\"y\"},{\"font\":{\"color\":\"rgb(7,13,30)\",\"size\":11},\"showarrow\":false,\"text\":\"(0 : 0.00%)\",\"textangle\":0,\"x\":1.004,\"xanchor\":\"right\",\"xref\":\"paper\",\"y\":\"American Indian, not Hispanic\",\"yref\":\"y\"},{\"font\":{\"color\":\"rgb(7,13,30)\",\"size\":11},\"showarrow\":false,\"text\":\"(0 : 0.00%)\",\"textangle\":0,\"x\":1.004,\"xanchor\":\"right\",\"xref\":\"paper\",\"y\":\"Asian, not Hispanic\",\"yref\":\"y\"},{\"font\":{\"color\":\"rgb(7,13,30)\",\"size\":11},\"showarrow\":false,\"text\":\"(0 : 0.00%)\",\"textangle\":0,\"x\":1.004,\"xanchor\":\"right\",\"xref\":\"paper\",\"y\":\"Pacific Islander, not Hispanic\",\"yref\":\"y\"},{\"font\":{\"color\":\"rgb(7,13,30)\",\"size\":11},\"showarrow\":false,\"text\":\"(0 : 0.00%)\",\"textangle\":0,\"x\":1.004,\"xanchor\":\"right\",\"xref\":\"paper\",\"y\":\"Some other race, not Hispanic\",\"yref\":\"y\"},{\"font\":{\"color\":\"rgb(7,13,30)\",\"size\":11},\"showarrow\":false,\"text\":\"(0 : 0.00%)\",\"textangle\":0,\"x\":1.004,\"xanchor\":\"right\",\"xref\":\"paper\",\"y\":\"Two or more races, not Hispanic\",\"yref\":\"y\"},{\"font\":{\"color\":\"rgb(7,13,30)\",\"size\":11},\"showarrow\":false,\"text\":\"(48 : 5.62%)\",\"textangle\":0,\"x\":1.004,\"xanchor\":\"right\",\"xref\":\"paper\",\"y\":\"Hispanic or Latino (may be of any race)\",\"yref\":\"y\"}]}},{\"data\":[{\"alignmentgroup\":\"True\",\"hovertemplate\":\"Year=2015<br>Population (%)=%{x}<br>Race and Ethnicity=%{y}<extra></extra>\",\"legendgroup\":\"\",\"marker\":{\"color\":\"#636efa\",\"pattern\":{\"shape\":\"\"}},\"name\":\"\",\"offsetgroup\":\"\",\"orientation\":\"h\",\"showlegend\":false,\"textposition\":\"auto\",\"x\":[67.4852652259332,17.779960707269154,0.0,2.9469548133595285,1.080550098231827,0.0,5.893909626719057,4.81335952848723],\"xaxis\":\"x\",\"y\":[\"White, not Hispanic\",\"Black, not Hispanic\",\"American Indian, not Hispanic\",\"Asian, not Hispanic\",\"Pacific Islander, not Hispanic\",\"Some other race, not Hispanic\",\"Two or more races, not Hispanic\",\"Hispanic or Latino (may be of any race)\"],\"yaxis\":\"y\",\"type\":\"bar\"}],\"name\":\"2015\",\"layout\":{\"annotations\":[{\"font\":{\"color\":\"rgb(7,13,30)\",\"size\":11},\"showarrow\":false,\"text\":\"(687 : 67.49%)\",\"textangle\":0,\"x\":1.004,\"xanchor\":\"right\",\"xref\":\"paper\",\"y\":\"White, not Hispanic\",\"yref\":\"y\"},{\"font\":{\"color\":\"rgb(7,13,30)\",\"size\":11},\"showarrow\":false,\"text\":\"(181 : 17.78%)\",\"textangle\":0,\"x\":1.004,\"xanchor\":\"right\",\"xref\":\"paper\",\"y\":\"Black, not Hispanic\",\"yref\":\"y\"},{\"font\":{\"color\":\"rgb(7,13,30)\",\"size\":11},\"showarrow\":false,\"text\":\"(0 : 0.00%)\",\"textangle\":0,\"x\":1.004,\"xanchor\":\"right\",\"xref\":\"paper\",\"y\":\"American Indian, not Hispanic\",\"yref\":\"y\"},{\"font\":{\"color\":\"rgb(7,13,30)\",\"size\":11},\"showarrow\":false,\"text\":\"(30 : 2.95%)\",\"textangle\":0,\"x\":1.004,\"xanchor\":\"right\",\"xref\":\"paper\",\"y\":\"Asian, not Hispanic\",\"yref\":\"y\"},{\"font\":{\"color\":\"rgb(7,13,30)\",\"size\":11},\"showarrow\":false,\"text\":\"(11 : 1.08%)\",\"textangle\":0,\"x\":1.004,\"xanchor\":\"right\",\"xref\":\"paper\",\"y\":\"Pacific Islander, not Hispanic\",\"yref\":\"y\"},{\"font\":{\"color\":\"rgb(7,13,30)\",\"size\":11},\"showarrow\":false,\"text\":\"(0 : 0.00%)\",\"textangle\":0,\"x\":1.004,\"xanchor\":\"right\",\"xref\":\"paper\",\"y\":\"Some other race, not Hispanic\",\"yref\":\"y\"},{\"font\":{\"color\":\"rgb(7,13,30)\",\"size\":11},\"showarrow\":false,\"text\":\"(60 : 5.89%)\",\"textangle\":0,\"x\":1.004,\"xanchor\":\"right\",\"xref\":\"paper\",\"y\":\"Two or more races, not Hispanic\",\"yref\":\"y\"},{\"font\":{\"color\":\"rgb(7,13,30)\",\"size\":11},\"showarrow\":false,\"text\":\"(49 : 4.81%)\",\"textangle\":0,\"x\":1.004,\"xanchor\":\"right\",\"xref\":\"paper\",\"y\":\"Hispanic or Latino (may be of any race)\",\"yref\":\"y\"}]}},{\"data\":[{\"alignmentgroup\":\"True\",\"hovertemplate\":\"Year=2016<br>Population (%)=%{x}<br>Race and Ethnicity=%{y}<extra></extra>\",\"legendgroup\":\"\",\"marker\":{\"color\":\"#636efa\",\"pattern\":{\"shape\":\"\"}},\"name\":\"\",\"offsetgroup\":\"\",\"orientation\":\"h\",\"showlegend\":false,\"textposition\":\"auto\",\"x\":[67.06864564007421,14.007421150278294,0.0,3.896103896103896,1.020408163265306,0.0,8.905380333951763,5.1020408163265305],\"xaxis\":\"x\",\"y\":[\"White, not Hispanic\",\"Black, not Hispanic\",\"American Indian, not Hispanic\",\"Asian, not Hispanic\",\"Pacific Islander, not Hispanic\",\"Some other race, not Hispanic\",\"Two or more races, not Hispanic\",\"Hispanic or Latino (may be of any race)\"],\"yaxis\":\"y\",\"type\":\"bar\"}],\"name\":\"2016\",\"layout\":{\"annotations\":[{\"font\":{\"color\":\"rgb(7,13,30)\",\"size\":11},\"showarrow\":false,\"text\":\"(723 : 67.07%)\",\"textangle\":0,\"x\":1.004,\"xanchor\":\"right\",\"xref\":\"paper\",\"y\":\"White, not Hispanic\",\"yref\":\"y\"},{\"font\":{\"color\":\"rgb(7,13,30)\",\"size\":11},\"showarrow\":false,\"text\":\"(151 : 14.01%)\",\"textangle\":0,\"x\":1.004,\"xanchor\":\"right\",\"xref\":\"paper\",\"y\":\"Black, not Hispanic\",\"yref\":\"y\"},{\"font\":{\"color\":\"rgb(7,13,30)\",\"size\":11},\"showarrow\":false,\"text\":\"(0 : 0.00%)\",\"textangle\":0,\"x\":1.004,\"xanchor\":\"right\",\"xref\":\"paper\",\"y\":\"American Indian, not Hispanic\",\"yref\":\"y\"},{\"font\":{\"color\":\"rgb(7,13,30)\",\"size\":11},\"showarrow\":false,\"text\":\"(42 : 3.90%)\",\"textangle\":0,\"x\":1.004,\"xanchor\":\"right\",\"xref\":\"paper\",\"y\":\"Asian, not Hispanic\",\"yref\":\"y\"},{\"font\":{\"color\":\"rgb(7,13,30)\",\"size\":11},\"showarrow\":false,\"text\":\"(11 : 1.02%)\",\"textangle\":0,\"x\":1.004,\"xanchor\":\"right\",\"xref\":\"paper\",\"y\":\"Pacific Islander, not Hispanic\",\"yref\":\"y\"},{\"font\":{\"color\":\"rgb(7,13,30)\",\"size\":11},\"showarrow\":false,\"text\":\"(0 : 0.00%)\",\"textangle\":0,\"x\":1.004,\"xanchor\":\"right\",\"xref\":\"paper\",\"y\":\"Some other race, not Hispanic\",\"yref\":\"y\"},{\"font\":{\"color\":\"rgb(7,13,30)\",\"size\":11},\"showarrow\":false,\"text\":\"(96 : 8.91%)\",\"textangle\":0,\"x\":1.004,\"xanchor\":\"right\",\"xref\":\"paper\",\"y\":\"Two or more races, not Hispanic\",\"yref\":\"y\"},{\"font\":{\"color\":\"rgb(7,13,30)\",\"size\":11},\"showarrow\":false,\"text\":\"(55 : 5.10%)\",\"textangle\":0,\"x\":1.004,\"xanchor\":\"right\",\"xref\":\"paper\",\"y\":\"Hispanic or Latino (may be of any race)\",\"yref\":\"y\"}]}},{\"data\":[{\"alignmentgroup\":\"True\",\"hovertemplate\":\"Year=2017<br>Population (%)=%{x}<br>Race and Ethnicity=%{y}<extra></extra>\",\"legendgroup\":\"\",\"marker\":{\"color\":\"#636efa\",\"pattern\":{\"shape\":\"\"}},\"name\":\"\",\"offsetgroup\":\"\",\"orientation\":\"h\",\"showlegend\":false,\"textposition\":\"auto\",\"x\":[68.83988494726749,11.409395973154362,0.0,4.88974113135187,0.862895493767977,0.0,5.560882070949185,8.437200383509108],\"xaxis\":\"x\",\"y\":[\"White, not Hispanic\",\"Black, not Hispanic\",\"American Indian, not Hispanic\",\"Asian, not Hispanic\",\"Pacific Islander, not Hispanic\",\"Some other race, not Hispanic\",\"Two or more races, not Hispanic\",\"Hispanic or Latino (may be of any race)\"],\"yaxis\":\"y\",\"type\":\"bar\"}],\"name\":\"2017\",\"layout\":{\"annotations\":[{\"font\":{\"color\":\"rgb(7,13,30)\",\"size\":11},\"showarrow\":false,\"text\":\"(718 : 68.84%)\",\"textangle\":0,\"x\":1.004,\"xanchor\":\"right\",\"xref\":\"paper\",\"y\":\"White, not Hispanic\",\"yref\":\"y\"},{\"font\":{\"color\":\"rgb(7,13,30)\",\"size\":11},\"showarrow\":false,\"text\":\"(119 : 11.41%)\",\"textangle\":0,\"x\":1.004,\"xanchor\":\"right\",\"xref\":\"paper\",\"y\":\"Black, not Hispanic\",\"yref\":\"y\"},{\"font\":{\"color\":\"rgb(7,13,30)\",\"size\":11},\"showarrow\":false,\"text\":\"(0 : 0.00%)\",\"textangle\":0,\"x\":1.004,\"xanchor\":\"right\",\"xref\":\"paper\",\"y\":\"American Indian, not Hispanic\",\"yref\":\"y\"},{\"font\":{\"color\":\"rgb(7,13,30)\",\"size\":11},\"showarrow\":false,\"text\":\"(51 : 4.89%)\",\"textangle\":0,\"x\":1.004,\"xanchor\":\"right\",\"xref\":\"paper\",\"y\":\"Asian, not Hispanic\",\"yref\":\"y\"},{\"font\":{\"color\":\"rgb(7,13,30)\",\"size\":11},\"showarrow\":false,\"text\":\"(9 : 0.86%)\",\"textangle\":0,\"x\":1.004,\"xanchor\":\"right\",\"xref\":\"paper\",\"y\":\"Pacific Islander, not Hispanic\",\"yref\":\"y\"},{\"font\":{\"color\":\"rgb(7,13,30)\",\"size\":11},\"showarrow\":false,\"text\":\"(0 : 0.00%)\",\"textangle\":0,\"x\":1.004,\"xanchor\":\"right\",\"xref\":\"paper\",\"y\":\"Some other race, not Hispanic\",\"yref\":\"y\"},{\"font\":{\"color\":\"rgb(7,13,30)\",\"size\":11},\"showarrow\":false,\"text\":\"(58 : 5.56%)\",\"textangle\":0,\"x\":1.004,\"xanchor\":\"right\",\"xref\":\"paper\",\"y\":\"Two or more races, not Hispanic\",\"yref\":\"y\"},{\"font\":{\"color\":\"rgb(7,13,30)\",\"size\":11},\"showarrow\":false,\"text\":\"(88 : 8.44%)\",\"textangle\":0,\"x\":1.004,\"xanchor\":\"right\",\"xref\":\"paper\",\"y\":\"Hispanic or Latino (may be of any race)\",\"yref\":\"y\"}]}},{\"data\":[{\"alignmentgroup\":\"True\",\"hovertemplate\":\"Year=2018<br>Population (%)=%{x}<br>Race and Ethnicity=%{y}<extra></extra>\",\"legendgroup\":\"\",\"marker\":{\"color\":\"#636efa\",\"pattern\":{\"shape\":\"\"}},\"name\":\"\",\"offsetgroup\":\"\",\"orientation\":\"h\",\"showlegend\":false,\"textposition\":\"auto\",\"x\":[76.98145025295109,6.323777403035413,0.0,4.3844856661045535,1.011804384485666,0.0,4.5531197301854975,6.745362563237774],\"xaxis\":\"x\",\"y\":[\"White, not Hispanic\",\"Black, not Hispanic\",\"American Indian, not Hispanic\",\"Asian, not Hispanic\",\"Pacific Islander, not Hispanic\",\"Some other race, not Hispanic\",\"Two or more races, not Hispanic\",\"Hispanic or Latino (may be of any race)\"],\"yaxis\":\"y\",\"type\":\"bar\"}],\"name\":\"2018\",\"layout\":{\"annotations\":[{\"font\":{\"color\":\"rgb(7,13,30)\",\"size\":11},\"showarrow\":false,\"text\":\"(913 : 76.98%)\",\"textangle\":0,\"x\":1.004,\"xanchor\":\"right\",\"xref\":\"paper\",\"y\":\"White, not Hispanic\",\"yref\":\"y\"},{\"font\":{\"color\":\"rgb(7,13,30)\",\"size\":11},\"showarrow\":false,\"text\":\"(75 : 6.32%)\",\"textangle\":0,\"x\":1.004,\"xanchor\":\"right\",\"xref\":\"paper\",\"y\":\"Black, not Hispanic\",\"yref\":\"y\"},{\"font\":{\"color\":\"rgb(7,13,30)\",\"size\":11},\"showarrow\":false,\"text\":\"(0 : 0.00%)\",\"textangle\":0,\"x\":1.004,\"xanchor\":\"right\",\"xref\":\"paper\",\"y\":\"American Indian, not Hispanic\",\"yref\":\"y\"},{\"font\":{\"color\":\"rgb(7,13,30)\",\"size\":11},\"showarrow\":false,\"text\":\"(52 : 4.38%)\",\"textangle\":0,\"x\":1.004,\"xanchor\":\"right\",\"xref\":\"paper\",\"y\":\"Asian, not Hispanic\",\"yref\":\"y\"},{\"font\":{\"color\":\"rgb(7,13,30)\",\"size\":11},\"showarrow\":false,\"text\":\"(12 : 1.01%)\",\"textangle\":0,\"x\":1.004,\"xanchor\":\"right\",\"xref\":\"paper\",\"y\":\"Pacific Islander, not Hispanic\",\"yref\":\"y\"},{\"font\":{\"color\":\"rgb(7,13,30)\",\"size\":11},\"showarrow\":false,\"text\":\"(0 : 0.00%)\",\"textangle\":0,\"x\":1.004,\"xanchor\":\"right\",\"xref\":\"paper\",\"y\":\"Some other race, not Hispanic\",\"yref\":\"y\"},{\"font\":{\"color\":\"rgb(7,13,30)\",\"size\":11},\"showarrow\":false,\"text\":\"(54 : 4.55%)\",\"textangle\":0,\"x\":1.004,\"xanchor\":\"right\",\"xref\":\"paper\",\"y\":\"Two or more races, not Hispanic\",\"yref\":\"y\"},{\"font\":{\"color\":\"rgb(7,13,30)\",\"size\":11},\"showarrow\":false,\"text\":\"(80 : 6.75%)\",\"textangle\":0,\"x\":1.004,\"xanchor\":\"right\",\"xref\":\"paper\",\"y\":\"Hispanic or Latino (may be of any race)\",\"yref\":\"y\"}]}},{\"data\":[{\"alignmentgroup\":\"True\",\"hovertemplate\":\"Year=2019<br>Population (%)=%{x}<br>Race and Ethnicity=%{y}<extra></extra>\",\"legendgroup\":\"\",\"marker\":{\"color\":\"#636efa\",\"pattern\":{\"shape\":\"\"}},\"name\":\"\",\"offsetgroup\":\"\",\"orientation\":\"h\",\"showlegend\":false,\"textposition\":\"auto\",\"x\":[85.81560283687944,1.9250253292806483,0.0,2.634245187436677,2.532928064842958,0.0,5.369807497467072,1.7223910840932115],\"xaxis\":\"x\",\"y\":[\"White, not Hispanic\",\"Black, not Hispanic\",\"American Indian, not Hispanic\",\"Asian, not Hispanic\",\"Pacific Islander, not Hispanic\",\"Some other race, not Hispanic\",\"Two or more races, not Hispanic\",\"Hispanic or Latino (may be of any race)\"],\"yaxis\":\"y\",\"type\":\"bar\"}],\"name\":\"2019\",\"layout\":{\"annotations\":[{\"font\":{\"color\":\"rgb(7,13,30)\",\"size\":11},\"showarrow\":false,\"text\":\"(847 : 85.82%)\",\"textangle\":0,\"x\":1.004,\"xanchor\":\"right\",\"xref\":\"paper\",\"y\":\"White, not Hispanic\",\"yref\":\"y\"},{\"font\":{\"color\":\"rgb(7,13,30)\",\"size\":11},\"showarrow\":false,\"text\":\"(19 : 1.93%)\",\"textangle\":0,\"x\":1.004,\"xanchor\":\"right\",\"xref\":\"paper\",\"y\":\"Black, not Hispanic\",\"yref\":\"y\"},{\"font\":{\"color\":\"rgb(7,13,30)\",\"size\":11},\"showarrow\":false,\"text\":\"(0 : 0.00%)\",\"textangle\":0,\"x\":1.004,\"xanchor\":\"right\",\"xref\":\"paper\",\"y\":\"American Indian, not Hispanic\",\"yref\":\"y\"},{\"font\":{\"color\":\"rgb(7,13,30)\",\"size\":11},\"showarrow\":false,\"text\":\"(26 : 2.63%)\",\"textangle\":0,\"x\":1.004,\"xanchor\":\"right\",\"xref\":\"paper\",\"y\":\"Asian, not Hispanic\",\"yref\":\"y\"},{\"font\":{\"color\":\"rgb(7,13,30)\",\"size\":11},\"showarrow\":false,\"text\":\"(25 : 2.53%)\",\"textangle\":0,\"x\":1.004,\"xanchor\":\"right\",\"xref\":\"paper\",\"y\":\"Pacific Islander, not Hispanic\",\"yref\":\"y\"},{\"font\":{\"color\":\"rgb(7,13,30)\",\"size\":11},\"showarrow\":false,\"text\":\"(0 : 0.00%)\",\"textangle\":0,\"x\":1.004,\"xanchor\":\"right\",\"xref\":\"paper\",\"y\":\"Some other race, not Hispanic\",\"yref\":\"y\"},{\"font\":{\"color\":\"rgb(7,13,30)\",\"size\":11},\"showarrow\":false,\"text\":\"(53 : 5.37%)\",\"textangle\":0,\"x\":1.004,\"xanchor\":\"right\",\"xref\":\"paper\",\"y\":\"Two or more races, not Hispanic\",\"yref\":\"y\"},{\"font\":{\"color\":\"rgb(7,13,30)\",\"size\":11},\"showarrow\":false,\"text\":\"(17 : 1.72%)\",\"textangle\":0,\"x\":1.004,\"xanchor\":\"right\",\"xref\":\"paper\",\"y\":\"Hispanic or Latino (may be of any race)\",\"yref\":\"y\"}]}},{\"data\":[{\"alignmentgroup\":\"True\",\"hovertemplate\":\"Year=2020<br>Population (%)=%{x}<br>Race and Ethnicity=%{y}<extra></extra>\",\"legendgroup\":\"\",\"marker\":{\"color\":\"#636efa\",\"pattern\":{\"shape\":\"\"}},\"name\":\"\",\"offsetgroup\":\"\",\"orientation\":\"h\",\"showlegend\":false,\"textposition\":\"auto\",\"x\":[95.73604060913704,0.0,0.0,1.015228426395939,0.0,0.0,1.5228426395939083,1.7258883248730963],\"xaxis\":\"x\",\"y\":[\"White, not Hispanic\",\"Black, not Hispanic\",\"American Indian, not Hispanic\",\"Asian, not Hispanic\",\"Pacific Islander, not Hispanic\",\"Some other race, not Hispanic\",\"Two or more races, not Hispanic\",\"Hispanic or Latino (may be of any race)\"],\"yaxis\":\"y\",\"type\":\"bar\"}],\"name\":\"2020\",\"layout\":{\"annotations\":[{\"font\":{\"color\":\"rgb(7,13,30)\",\"size\":11},\"showarrow\":false,\"text\":\"(943 : 95.74%)\",\"textangle\":0,\"x\":1.004,\"xanchor\":\"right\",\"xref\":\"paper\",\"y\":\"White, not Hispanic\",\"yref\":\"y\"},{\"font\":{\"color\":\"rgb(7,13,30)\",\"size\":11},\"showarrow\":false,\"text\":\"(0 : 0.00%)\",\"textangle\":0,\"x\":1.004,\"xanchor\":\"right\",\"xref\":\"paper\",\"y\":\"Black, not Hispanic\",\"yref\":\"y\"},{\"font\":{\"color\":\"rgb(7,13,30)\",\"size\":11},\"showarrow\":false,\"text\":\"(0 : 0.00%)\",\"textangle\":0,\"x\":1.004,\"xanchor\":\"right\",\"xref\":\"paper\",\"y\":\"American Indian, not Hispanic\",\"yref\":\"y\"},{\"font\":{\"color\":\"rgb(7,13,30)\",\"size\":11},\"showarrow\":false,\"text\":\"(10 : 1.02%)\",\"textangle\":0,\"x\":1.004,\"xanchor\":\"right\",\"xref\":\"paper\",\"y\":\"Asian, not Hispanic\",\"yref\":\"y\"},{\"font\":{\"color\":\"rgb(7,13,30)\",\"size\":11},\"showarrow\":false,\"text\":\"(0 : 0.00%)\",\"textangle\":0,\"x\":1.004,\"xanchor\":\"right\",\"xref\":\"paper\",\"y\":\"Pacific Islander, not Hispanic\",\"yref\":\"y\"},{\"font\":{\"color\":\"rgb(7,13,30)\",\"size\":11},\"showarrow\":false,\"text\":\"(0 : 0.00%)\",\"textangle\":0,\"x\":1.004,\"xanchor\":\"right\",\"xref\":\"paper\",\"y\":\"Some other race, not Hispanic\",\"yref\":\"y\"},{\"font\":{\"color\":\"rgb(7,13,30)\",\"size\":11},\"showarrow\":false,\"text\":\"(15 : 1.52%)\",\"textangle\":0,\"x\":1.004,\"xanchor\":\"right\",\"xref\":\"paper\",\"y\":\"Two or more races, not Hispanic\",\"yref\":\"y\"},{\"font\":{\"color\":\"rgb(7,13,30)\",\"size\":11},\"showarrow\":false,\"text\":\"(17 : 1.73%)\",\"textangle\":0,\"x\":1.004,\"xanchor\":\"right\",\"xref\":\"paper\",\"y\":\"Hispanic or Latino (may be of any race)\",\"yref\":\"y\"}]}}]);\n",
       "                        }).then(function(){\n",
       "                            \n",
       "var gd = document.getElementById('c59ed79b-243d-4505-9019-64cbfb87e60b');\n",
       "var x = new MutationObserver(function (mutations, observer) {{\n",
       "        var display = window.getComputedStyle(gd).display;\n",
       "        if (!display || display === 'none') {{\n",
       "            console.log([gd, 'removed!']);\n",
       "            Plotly.purge(gd);\n",
       "            observer.disconnect();\n",
       "        }}\n",
       "}});\n",
       "\n",
       "// Listen for the removal of the full notebook cells\n",
       "var notebookContainer = gd.closest('#notebook-container');\n",
       "if (notebookContainer) {{\n",
       "    x.observe(notebookContainer, {childList: true});\n",
       "}}\n",
       "\n",
       "// Listen for the clearing of the current output cell\n",
       "var outputEl = gd.closest('.output');\n",
       "if (outputEl) {{\n",
       "    x.observe(outputEl, {childList: true});\n",
       "}}\n",
       "\n",
       "                        })                };                });            </script>        </div>"
      ]
     },
     "metadata": {},
     "output_type": "display_data"
    }
   ],
   "source": [
    "plotRaceNeighborhood('Starr Hill')"
   ]
  },
  {
   "cell_type": "code",
   "execution_count": 27,
   "metadata": {},
   "outputs": [
    {
     "data": {
      "application/vnd.plotly.v1+json": {
       "config": {
        "plotlyServerURL": "https://plot.ly"
       },
       "data": [
        {
         "alignmentgroup": "True",
         "hovertemplate": "Year=2013<br>Population (%)=%{x}<br>Bracket=%{y}<extra></extra>",
         "legendgroup": "",
         "marker": {
          "color": "#636efa",
          "pattern": {
           "shape": ""
          }
         },
         "name": "",
         "offsetgroup": "",
         "orientation": "h",
         "showlegend": false,
         "textposition": "auto",
         "type": "bar",
         "x": [
          9.30232558139535,
          6.440071556350627,
          4.114490161001789,
          7.155635062611807,
          6.082289803220036,
          5.366726296958855,
          0,
          3.5778175313059037,
          0,
          8.765652951699463,
          7.334525939177102,
          13.237924865831843,
          13.059033989266547,
          4.293381037567084,
          2.862254025044723,
          8.407871198568873
         ],
         "xaxis": "x",
         "y": [
          "Less than $10,000",
          "$10,000 to 14,999",
          "$15,000 to 19,999",
          "$20,000 to 24,999",
          "$25,000 to 29,999",
          "$30,000 to 34,999",
          "$35,000 to 39,999",
          "$40,000 to 44,999",
          "$45,000 to 49,999",
          "$50,000 to 59,999",
          "$60,000 to 74,999",
          "$75,000 to 99,999",
          "$100,000 to 124,999",
          "$125,000 to 149,999",
          "$150,000 to 199,999",
          "$200,000 or more"
         ],
         "yaxis": "y"
        }
       ],
       "frames": [
        {
         "data": [
          {
           "alignmentgroup": "True",
           "hovertemplate": "Year=2013<br>Population (%)=%{x}<br>Bracket=%{y}<extra></extra>",
           "legendgroup": "",
           "marker": {
            "color": "#636efa",
            "pattern": {
             "shape": ""
            }
           },
           "name": "",
           "offsetgroup": "",
           "orientation": "h",
           "showlegend": false,
           "textposition": "auto",
           "type": "bar",
           "x": [
            9.30232558139535,
            6.440071556350627,
            4.114490161001789,
            7.155635062611807,
            6.082289803220036,
            5.366726296958855,
            0,
            3.5778175313059037,
            0,
            8.765652951699463,
            7.334525939177102,
            13.237924865831843,
            13.059033989266547,
            4.293381037567084,
            2.862254025044723,
            8.407871198568873
           ],
           "xaxis": "x",
           "y": [
            "Less than $10,000",
            "$10,000 to 14,999",
            "$15,000 to 19,999",
            "$20,000 to 24,999",
            "$25,000 to 29,999",
            "$30,000 to 34,999",
            "$35,000 to 39,999",
            "$40,000 to 44,999",
            "$45,000 to 49,999",
            "$50,000 to 59,999",
            "$60,000 to 74,999",
            "$75,000 to 99,999",
            "$100,000 to 124,999",
            "$125,000 to 149,999",
            "$150,000 to 199,999",
            "$200,000 or more"
           ],
           "yaxis": "y"
          }
         ],
         "layout": {
          "annotations": [
           {
            "font": {
             "color": "rgb(7,13,30)",
             "size": 11
            },
            "showarrow": false,
            "text": "(52 : 9.30%)",
            "textangle": 0,
            "x": 1.004,
            "xanchor": "right",
            "xref": "paper",
            "y": "Less than $10,000",
            "yref": "y"
           },
           {
            "font": {
             "color": "rgb(7,13,30)",
             "size": 11
            },
            "showarrow": false,
            "text": "(36 : 6.44%)",
            "textangle": 0,
            "x": 1.004,
            "xanchor": "right",
            "xref": "paper",
            "y": "$10,000 to 14,999",
            "yref": "y"
           },
           {
            "font": {
             "color": "rgb(7,13,30)",
             "size": 11
            },
            "showarrow": false,
            "text": "(23 : 4.11%)",
            "textangle": 0,
            "x": 1.004,
            "xanchor": "right",
            "xref": "paper",
            "y": "$15,000 to 19,999",
            "yref": "y"
           },
           {
            "font": {
             "color": "rgb(7,13,30)",
             "size": 11
            },
            "showarrow": false,
            "text": "(40 : 7.16%)",
            "textangle": 0,
            "x": 1.004,
            "xanchor": "right",
            "xref": "paper",
            "y": "$20,000 to 24,999",
            "yref": "y"
           },
           {
            "font": {
             "color": "rgb(7,13,30)",
             "size": 11
            },
            "showarrow": false,
            "text": "(34 : 6.08%)",
            "textangle": 0,
            "x": 1.004,
            "xanchor": "right",
            "xref": "paper",
            "y": "$25,000 to 29,999",
            "yref": "y"
           },
           {
            "font": {
             "color": "rgb(7,13,30)",
             "size": 11
            },
            "showarrow": false,
            "text": "(30 : 5.37%)",
            "textangle": 0,
            "x": 1.004,
            "xanchor": "right",
            "xref": "paper",
            "y": "$30,000 to 34,999",
            "yref": "y"
           },
           {
            "font": {
             "color": "rgb(7,13,30)",
             "size": 11
            },
            "showarrow": false,
            "text": "(0 : 0.00%)",
            "textangle": 0,
            "x": 1.004,
            "xanchor": "right",
            "xref": "paper",
            "y": "$35,000 to 39,999",
            "yref": "y"
           },
           {
            "font": {
             "color": "rgb(7,13,30)",
             "size": 11
            },
            "showarrow": false,
            "text": "(20 : 3.58%)",
            "textangle": 0,
            "x": 1.004,
            "xanchor": "right",
            "xref": "paper",
            "y": "$40,000 to 44,999",
            "yref": "y"
           },
           {
            "font": {
             "color": "rgb(7,13,30)",
             "size": 11
            },
            "showarrow": false,
            "text": "(0 : 0.00%)",
            "textangle": 0,
            "x": 1.004,
            "xanchor": "right",
            "xref": "paper",
            "y": "$45,000 to 49,999",
            "yref": "y"
           },
           {
            "font": {
             "color": "rgb(7,13,30)",
             "size": 11
            },
            "showarrow": false,
            "text": "(49 : 8.77%)",
            "textangle": 0,
            "x": 1.004,
            "xanchor": "right",
            "xref": "paper",
            "y": "$50,000 to 59,999",
            "yref": "y"
           },
           {
            "font": {
             "color": "rgb(7,13,30)",
             "size": 11
            },
            "showarrow": false,
            "text": "(41 : 7.33%)",
            "textangle": 0,
            "x": 1.004,
            "xanchor": "right",
            "xref": "paper",
            "y": "$60,000 to 74,999",
            "yref": "y"
           },
           {
            "font": {
             "color": "rgb(7,13,30)",
             "size": 11
            },
            "showarrow": false,
            "text": "(74 : 13.24%)",
            "textangle": 0,
            "x": 1.004,
            "xanchor": "right",
            "xref": "paper",
            "y": "$75,000 to 99,999",
            "yref": "y"
           },
           {
            "font": {
             "color": "rgb(7,13,30)",
             "size": 11
            },
            "showarrow": false,
            "text": "(73 : 13.06%)",
            "textangle": 0,
            "x": 1.004,
            "xanchor": "right",
            "xref": "paper",
            "y": "$100,000 to 124,999",
            "yref": "y"
           },
           {
            "font": {
             "color": "rgb(7,13,30)",
             "size": 11
            },
            "showarrow": false,
            "text": "(24 : 4.29%)",
            "textangle": 0,
            "x": 1.004,
            "xanchor": "right",
            "xref": "paper",
            "y": "$125,000 to 149,999",
            "yref": "y"
           },
           {
            "font": {
             "color": "rgb(7,13,30)",
             "size": 11
            },
            "showarrow": false,
            "text": "(16 : 2.86%)",
            "textangle": 0,
            "x": 1.004,
            "xanchor": "right",
            "xref": "paper",
            "y": "$150,000 to 199,999",
            "yref": "y"
           },
           {
            "font": {
             "color": "rgb(7,13,30)",
             "size": 11
            },
            "showarrow": false,
            "text": "(47 : 8.41%)",
            "textangle": 0,
            "x": 1.004,
            "xanchor": "right",
            "xref": "paper",
            "y": "$200,000 or more",
            "yref": "y"
           }
          ]
         },
         "name": "2013"
        },
        {
         "data": [
          {
           "alignmentgroup": "True",
           "hovertemplate": "Year=2014<br>Population (%)=%{x}<br>Bracket=%{y}<extra></extra>",
           "legendgroup": "",
           "marker": {
            "color": "#636efa",
            "pattern": {
             "shape": ""
            }
           },
           "name": "",
           "offsetgroup": "",
           "orientation": "h",
           "showlegend": false,
           "textposition": "auto",
           "type": "bar",
           "x": [
            18.49427168576105,
            7.201309328968904,
            2.2913256955810146,
            8.346972176759412,
            3.109656301145663,
            7.037643207855973,
            0,
            2.2913256955810146,
            1.6366612111292962,
            5.8919803600654665,
            7.037643207855973,
            8.51063829787234,
            11.456628477905074,
            9.819967266775777,
            2.618657937806874,
            4.25531914893617
           ],
           "xaxis": "x",
           "y": [
            "Less than $10,000",
            "$10,000 to 14,999",
            "$15,000 to 19,999",
            "$20,000 to 24,999",
            "$25,000 to 29,999",
            "$30,000 to 34,999",
            "$35,000 to 39,999",
            "$40,000 to 44,999",
            "$45,000 to 49,999",
            "$50,000 to 59,999",
            "$60,000 to 74,999",
            "$75,000 to 99,999",
            "$100,000 to 124,999",
            "$125,000 to 149,999",
            "$150,000 to 199,999",
            "$200,000 or more"
           ],
           "yaxis": "y"
          }
         ],
         "layout": {
          "annotations": [
           {
            "font": {
             "color": "rgb(7,13,30)",
             "size": 11
            },
            "showarrow": false,
            "text": "(113 : 18.49%)",
            "textangle": 0,
            "x": 1.004,
            "xanchor": "right",
            "xref": "paper",
            "y": "Less than $10,000",
            "yref": "y"
           },
           {
            "font": {
             "color": "rgb(7,13,30)",
             "size": 11
            },
            "showarrow": false,
            "text": "(44 : 7.20%)",
            "textangle": 0,
            "x": 1.004,
            "xanchor": "right",
            "xref": "paper",
            "y": "$10,000 to 14,999",
            "yref": "y"
           },
           {
            "font": {
             "color": "rgb(7,13,30)",
             "size": 11
            },
            "showarrow": false,
            "text": "(14 : 2.29%)",
            "textangle": 0,
            "x": 1.004,
            "xanchor": "right",
            "xref": "paper",
            "y": "$15,000 to 19,999",
            "yref": "y"
           },
           {
            "font": {
             "color": "rgb(7,13,30)",
             "size": 11
            },
            "showarrow": false,
            "text": "(51 : 8.35%)",
            "textangle": 0,
            "x": 1.004,
            "xanchor": "right",
            "xref": "paper",
            "y": "$20,000 to 24,999",
            "yref": "y"
           },
           {
            "font": {
             "color": "rgb(7,13,30)",
             "size": 11
            },
            "showarrow": false,
            "text": "(19 : 3.11%)",
            "textangle": 0,
            "x": 1.004,
            "xanchor": "right",
            "xref": "paper",
            "y": "$25,000 to 29,999",
            "yref": "y"
           },
           {
            "font": {
             "color": "rgb(7,13,30)",
             "size": 11
            },
            "showarrow": false,
            "text": "(43 : 7.04%)",
            "textangle": 0,
            "x": 1.004,
            "xanchor": "right",
            "xref": "paper",
            "y": "$30,000 to 34,999",
            "yref": "y"
           },
           {
            "font": {
             "color": "rgb(7,13,30)",
             "size": 11
            },
            "showarrow": false,
            "text": "(0 : 0.00%)",
            "textangle": 0,
            "x": 1.004,
            "xanchor": "right",
            "xref": "paper",
            "y": "$35,000 to 39,999",
            "yref": "y"
           },
           {
            "font": {
             "color": "rgb(7,13,30)",
             "size": 11
            },
            "showarrow": false,
            "text": "(14 : 2.29%)",
            "textangle": 0,
            "x": 1.004,
            "xanchor": "right",
            "xref": "paper",
            "y": "$40,000 to 44,999",
            "yref": "y"
           },
           {
            "font": {
             "color": "rgb(7,13,30)",
             "size": 11
            },
            "showarrow": false,
            "text": "(10 : 1.64%)",
            "textangle": 0,
            "x": 1.004,
            "xanchor": "right",
            "xref": "paper",
            "y": "$45,000 to 49,999",
            "yref": "y"
           },
           {
            "font": {
             "color": "rgb(7,13,30)",
             "size": 11
            },
            "showarrow": false,
            "text": "(36 : 5.89%)",
            "textangle": 0,
            "x": 1.004,
            "xanchor": "right",
            "xref": "paper",
            "y": "$50,000 to 59,999",
            "yref": "y"
           },
           {
            "font": {
             "color": "rgb(7,13,30)",
             "size": 11
            },
            "showarrow": false,
            "text": "(43 : 7.04%)",
            "textangle": 0,
            "x": 1.004,
            "xanchor": "right",
            "xref": "paper",
            "y": "$60,000 to 74,999",
            "yref": "y"
           },
           {
            "font": {
             "color": "rgb(7,13,30)",
             "size": 11
            },
            "showarrow": false,
            "text": "(52 : 8.51%)",
            "textangle": 0,
            "x": 1.004,
            "xanchor": "right",
            "xref": "paper",
            "y": "$75,000 to 99,999",
            "yref": "y"
           },
           {
            "font": {
             "color": "rgb(7,13,30)",
             "size": 11
            },
            "showarrow": false,
            "text": "(70 : 11.46%)",
            "textangle": 0,
            "x": 1.004,
            "xanchor": "right",
            "xref": "paper",
            "y": "$100,000 to 124,999",
            "yref": "y"
           },
           {
            "font": {
             "color": "rgb(7,13,30)",
             "size": 11
            },
            "showarrow": false,
            "text": "(60 : 9.82%)",
            "textangle": 0,
            "x": 1.004,
            "xanchor": "right",
            "xref": "paper",
            "y": "$125,000 to 149,999",
            "yref": "y"
           },
           {
            "font": {
             "color": "rgb(7,13,30)",
             "size": 11
            },
            "showarrow": false,
            "text": "(16 : 2.62%)",
            "textangle": 0,
            "x": 1.004,
            "xanchor": "right",
            "xref": "paper",
            "y": "$150,000 to 199,999",
            "yref": "y"
           },
           {
            "font": {
             "color": "rgb(7,13,30)",
             "size": 11
            },
            "showarrow": false,
            "text": "(26 : 4.26%)",
            "textangle": 0,
            "x": 1.004,
            "xanchor": "right",
            "xref": "paper",
            "y": "$200,000 or more",
            "yref": "y"
           }
          ]
         },
         "name": "2014"
        },
        {
         "data": [
          {
           "alignmentgroup": "True",
           "hovertemplate": "Year=2015<br>Population (%)=%{x}<br>Bracket=%{y}<extra></extra>",
           "legendgroup": "",
           "marker": {
            "color": "#636efa",
            "pattern": {
             "shape": ""
            }
           },
           "name": "",
           "offsetgroup": "",
           "orientation": "h",
           "showlegend": false,
           "textposition": "auto",
           "type": "bar",
           "x": [
            24.401913875598087,
            8.61244019138756,
            0,
            6.85805422647528,
            2.7113237639553427,
            5.901116427432217,
            0,
            3.668261562998405,
            4.625199362041467,
            3.827751196172249,
            5.901116427432217,
            10.207336523125996,
            9.090909090909092,
            8.61244019138756,
            2.073365231259968,
            3.508771929824561
           ],
           "xaxis": "x",
           "y": [
            "Less than $10,000",
            "$10,000 to 14,999",
            "$15,000 to 19,999",
            "$20,000 to 24,999",
            "$25,000 to 29,999",
            "$30,000 to 34,999",
            "$35,000 to 39,999",
            "$40,000 to 44,999",
            "$45,000 to 49,999",
            "$50,000 to 59,999",
            "$60,000 to 74,999",
            "$75,000 to 99,999",
            "$100,000 to 124,999",
            "$125,000 to 149,999",
            "$150,000 to 199,999",
            "$200,000 or more"
           ],
           "yaxis": "y"
          }
         ],
         "layout": {
          "annotations": [
           {
            "font": {
             "color": "rgb(7,13,30)",
             "size": 11
            },
            "showarrow": false,
            "text": "(153 : 24.40%)",
            "textangle": 0,
            "x": 1.004,
            "xanchor": "right",
            "xref": "paper",
            "y": "Less than $10,000",
            "yref": "y"
           },
           {
            "font": {
             "color": "rgb(7,13,30)",
             "size": 11
            },
            "showarrow": false,
            "text": "(54 : 8.61%)",
            "textangle": 0,
            "x": 1.004,
            "xanchor": "right",
            "xref": "paper",
            "y": "$10,000 to 14,999",
            "yref": "y"
           },
           {
            "font": {
             "color": "rgb(7,13,30)",
             "size": 11
            },
            "showarrow": false,
            "text": "(0 : 0.00%)",
            "textangle": 0,
            "x": 1.004,
            "xanchor": "right",
            "xref": "paper",
            "y": "$15,000 to 19,999",
            "yref": "y"
           },
           {
            "font": {
             "color": "rgb(7,13,30)",
             "size": 11
            },
            "showarrow": false,
            "text": "(43 : 6.86%)",
            "textangle": 0,
            "x": 1.004,
            "xanchor": "right",
            "xref": "paper",
            "y": "$20,000 to 24,999",
            "yref": "y"
           },
           {
            "font": {
             "color": "rgb(7,13,30)",
             "size": 11
            },
            "showarrow": false,
            "text": "(17 : 2.71%)",
            "textangle": 0,
            "x": 1.004,
            "xanchor": "right",
            "xref": "paper",
            "y": "$25,000 to 29,999",
            "yref": "y"
           },
           {
            "font": {
             "color": "rgb(7,13,30)",
             "size": 11
            },
            "showarrow": false,
            "text": "(37 : 5.90%)",
            "textangle": 0,
            "x": 1.004,
            "xanchor": "right",
            "xref": "paper",
            "y": "$30,000 to 34,999",
            "yref": "y"
           },
           {
            "font": {
             "color": "rgb(7,13,30)",
             "size": 11
            },
            "showarrow": false,
            "text": "(0 : 0.00%)",
            "textangle": 0,
            "x": 1.004,
            "xanchor": "right",
            "xref": "paper",
            "y": "$35,000 to 39,999",
            "yref": "y"
           },
           {
            "font": {
             "color": "rgb(7,13,30)",
             "size": 11
            },
            "showarrow": false,
            "text": "(23 : 3.67%)",
            "textangle": 0,
            "x": 1.004,
            "xanchor": "right",
            "xref": "paper",
            "y": "$40,000 to 44,999",
            "yref": "y"
           },
           {
            "font": {
             "color": "rgb(7,13,30)",
             "size": 11
            },
            "showarrow": false,
            "text": "(29 : 4.63%)",
            "textangle": 0,
            "x": 1.004,
            "xanchor": "right",
            "xref": "paper",
            "y": "$45,000 to 49,999",
            "yref": "y"
           },
           {
            "font": {
             "color": "rgb(7,13,30)",
             "size": 11
            },
            "showarrow": false,
            "text": "(24 : 3.83%)",
            "textangle": 0,
            "x": 1.004,
            "xanchor": "right",
            "xref": "paper",
            "y": "$50,000 to 59,999",
            "yref": "y"
           },
           {
            "font": {
             "color": "rgb(7,13,30)",
             "size": 11
            },
            "showarrow": false,
            "text": "(37 : 5.90%)",
            "textangle": 0,
            "x": 1.004,
            "xanchor": "right",
            "xref": "paper",
            "y": "$60,000 to 74,999",
            "yref": "y"
           },
           {
            "font": {
             "color": "rgb(7,13,30)",
             "size": 11
            },
            "showarrow": false,
            "text": "(64 : 10.21%)",
            "textangle": 0,
            "x": 1.004,
            "xanchor": "right",
            "xref": "paper",
            "y": "$75,000 to 99,999",
            "yref": "y"
           },
           {
            "font": {
             "color": "rgb(7,13,30)",
             "size": 11
            },
            "showarrow": false,
            "text": "(57 : 9.09%)",
            "textangle": 0,
            "x": 1.004,
            "xanchor": "right",
            "xref": "paper",
            "y": "$100,000 to 124,999",
            "yref": "y"
           },
           {
            "font": {
             "color": "rgb(7,13,30)",
             "size": 11
            },
            "showarrow": false,
            "text": "(54 : 8.61%)",
            "textangle": 0,
            "x": 1.004,
            "xanchor": "right",
            "xref": "paper",
            "y": "$125,000 to 149,999",
            "yref": "y"
           },
           {
            "font": {
             "color": "rgb(7,13,30)",
             "size": 11
            },
            "showarrow": false,
            "text": "(13 : 2.07%)",
            "textangle": 0,
            "x": 1.004,
            "xanchor": "right",
            "xref": "paper",
            "y": "$150,000 to 199,999",
            "yref": "y"
           },
           {
            "font": {
             "color": "rgb(7,13,30)",
             "size": 11
            },
            "showarrow": false,
            "text": "(22 : 3.51%)",
            "textangle": 0,
            "x": 1.004,
            "xanchor": "right",
            "xref": "paper",
            "y": "$200,000 or more",
            "yref": "y"
           }
          ]
         },
         "name": "2015"
        },
        {
         "data": [
          {
           "alignmentgroup": "True",
           "hovertemplate": "Year=2016<br>Population (%)=%{x}<br>Bracket=%{y}<extra></extra>",
           "legendgroup": "",
           "marker": {
            "color": "#636efa",
            "pattern": {
             "shape": ""
            }
           },
           "name": "",
           "offsetgroup": "",
           "orientation": "h",
           "showlegend": false,
           "textposition": "auto",
           "type": "bar",
           "x": [
            18.61252115059221,
            7.952622673434856,
            0,
            7.106598984771574,
            5.583756345177665,
            1.6920473773265652,
            4.568527918781726,
            4.906937394247039,
            6.429780033840948,
            2.707275803722504,
            9.475465313028764,
            9.813874788494076,
            8.29103214890017,
            7.106598984771574,
            1.015228426395939,
            4.737732656514383
           ],
           "xaxis": "x",
           "y": [
            "Less than $10,000",
            "$10,000 to 14,999",
            "$15,000 to 19,999",
            "$20,000 to 24,999",
            "$25,000 to 29,999",
            "$30,000 to 34,999",
            "$35,000 to 39,999",
            "$40,000 to 44,999",
            "$45,000 to 49,999",
            "$50,000 to 59,999",
            "$60,000 to 74,999",
            "$75,000 to 99,999",
            "$100,000 to 124,999",
            "$125,000 to 149,999",
            "$150,000 to 199,999",
            "$200,000 or more"
           ],
           "yaxis": "y"
          }
         ],
         "layout": {
          "annotations": [
           {
            "font": {
             "color": "rgb(7,13,30)",
             "size": 11
            },
            "showarrow": false,
            "text": "(110 : 18.61%)",
            "textangle": 0,
            "x": 1.004,
            "xanchor": "right",
            "xref": "paper",
            "y": "Less than $10,000",
            "yref": "y"
           },
           {
            "font": {
             "color": "rgb(7,13,30)",
             "size": 11
            },
            "showarrow": false,
            "text": "(47 : 7.95%)",
            "textangle": 0,
            "x": 1.004,
            "xanchor": "right",
            "xref": "paper",
            "y": "$10,000 to 14,999",
            "yref": "y"
           },
           {
            "font": {
             "color": "rgb(7,13,30)",
             "size": 11
            },
            "showarrow": false,
            "text": "(0 : 0.00%)",
            "textangle": 0,
            "x": 1.004,
            "xanchor": "right",
            "xref": "paper",
            "y": "$15,000 to 19,999",
            "yref": "y"
           },
           {
            "font": {
             "color": "rgb(7,13,30)",
             "size": 11
            },
            "showarrow": false,
            "text": "(42 : 7.11%)",
            "textangle": 0,
            "x": 1.004,
            "xanchor": "right",
            "xref": "paper",
            "y": "$20,000 to 24,999",
            "yref": "y"
           },
           {
            "font": {
             "color": "rgb(7,13,30)",
             "size": 11
            },
            "showarrow": false,
            "text": "(33 : 5.58%)",
            "textangle": 0,
            "x": 1.004,
            "xanchor": "right",
            "xref": "paper",
            "y": "$25,000 to 29,999",
            "yref": "y"
           },
           {
            "font": {
             "color": "rgb(7,13,30)",
             "size": 11
            },
            "showarrow": false,
            "text": "(10 : 1.69%)",
            "textangle": 0,
            "x": 1.004,
            "xanchor": "right",
            "xref": "paper",
            "y": "$30,000 to 34,999",
            "yref": "y"
           },
           {
            "font": {
             "color": "rgb(7,13,30)",
             "size": 11
            },
            "showarrow": false,
            "text": "(27 : 4.57%)",
            "textangle": 0,
            "x": 1.004,
            "xanchor": "right",
            "xref": "paper",
            "y": "$35,000 to 39,999",
            "yref": "y"
           },
           {
            "font": {
             "color": "rgb(7,13,30)",
             "size": 11
            },
            "showarrow": false,
            "text": "(29 : 4.91%)",
            "textangle": 0,
            "x": 1.004,
            "xanchor": "right",
            "xref": "paper",
            "y": "$40,000 to 44,999",
            "yref": "y"
           },
           {
            "font": {
             "color": "rgb(7,13,30)",
             "size": 11
            },
            "showarrow": false,
            "text": "(38 : 6.43%)",
            "textangle": 0,
            "x": 1.004,
            "xanchor": "right",
            "xref": "paper",
            "y": "$45,000 to 49,999",
            "yref": "y"
           },
           {
            "font": {
             "color": "rgb(7,13,30)",
             "size": 11
            },
            "showarrow": false,
            "text": "(16 : 2.71%)",
            "textangle": 0,
            "x": 1.004,
            "xanchor": "right",
            "xref": "paper",
            "y": "$50,000 to 59,999",
            "yref": "y"
           },
           {
            "font": {
             "color": "rgb(7,13,30)",
             "size": 11
            },
            "showarrow": false,
            "text": "(56 : 9.48%)",
            "textangle": 0,
            "x": 1.004,
            "xanchor": "right",
            "xref": "paper",
            "y": "$60,000 to 74,999",
            "yref": "y"
           },
           {
            "font": {
             "color": "rgb(7,13,30)",
             "size": 11
            },
            "showarrow": false,
            "text": "(58 : 9.81%)",
            "textangle": 0,
            "x": 1.004,
            "xanchor": "right",
            "xref": "paper",
            "y": "$75,000 to 99,999",
            "yref": "y"
           },
           {
            "font": {
             "color": "rgb(7,13,30)",
             "size": 11
            },
            "showarrow": false,
            "text": "(49 : 8.29%)",
            "textangle": 0,
            "x": 1.004,
            "xanchor": "right",
            "xref": "paper",
            "y": "$100,000 to 124,999",
            "yref": "y"
           },
           {
            "font": {
             "color": "rgb(7,13,30)",
             "size": 11
            },
            "showarrow": false,
            "text": "(42 : 7.11%)",
            "textangle": 0,
            "x": 1.004,
            "xanchor": "right",
            "xref": "paper",
            "y": "$125,000 to 149,999",
            "yref": "y"
           },
           {
            "font": {
             "color": "rgb(7,13,30)",
             "size": 11
            },
            "showarrow": false,
            "text": "(6 : 1.02%)",
            "textangle": 0,
            "x": 1.004,
            "xanchor": "right",
            "xref": "paper",
            "y": "$150,000 to 199,999",
            "yref": "y"
           },
           {
            "font": {
             "color": "rgb(7,13,30)",
             "size": 11
            },
            "showarrow": false,
            "text": "(28 : 4.74%)",
            "textangle": 0,
            "x": 1.004,
            "xanchor": "right",
            "xref": "paper",
            "y": "$200,000 or more",
            "yref": "y"
           }
          ]
         },
         "name": "2016"
        },
        {
         "data": [
          {
           "alignmentgroup": "True",
           "hovertemplate": "Year=2017<br>Population (%)=%{x}<br>Bracket=%{y}<extra></extra>",
           "legendgroup": "",
           "marker": {
            "color": "#636efa",
            "pattern": {
             "shape": ""
            }
           },
           "name": "",
           "offsetgroup": "",
           "orientation": "h",
           "showlegend": false,
           "textposition": "auto",
           "type": "bar",
           "x": [
            16.831683168316832,
            9.570957095709572,
            1.8151815181518152,
            2.145214521452145,
            6.435643564356436,
            4.950495049504951,
            4.950495049504951,
            0,
            13.696369636963697,
            0,
            6.105610561056106,
            11.716171617161717,
            2.8052805280528053,
            10.56105610561056,
            1.155115511551155,
            7.260726072607261
           ],
           "xaxis": "x",
           "y": [
            "Less than $10,000",
            "$10,000 to 14,999",
            "$15,000 to 19,999",
            "$20,000 to 24,999",
            "$25,000 to 29,999",
            "$30,000 to 34,999",
            "$35,000 to 39,999",
            "$40,000 to 44,999",
            "$45,000 to 49,999",
            "$50,000 to 59,999",
            "$60,000 to 74,999",
            "$75,000 to 99,999",
            "$100,000 to 124,999",
            "$125,000 to 149,999",
            "$150,000 to 199,999",
            "$200,000 or more"
           ],
           "yaxis": "y"
          }
         ],
         "layout": {
          "annotations": [
           {
            "font": {
             "color": "rgb(7,13,30)",
             "size": 11
            },
            "showarrow": false,
            "text": "(102 : 16.83%)",
            "textangle": 0,
            "x": 1.004,
            "xanchor": "right",
            "xref": "paper",
            "y": "Less than $10,000",
            "yref": "y"
           },
           {
            "font": {
             "color": "rgb(7,13,30)",
             "size": 11
            },
            "showarrow": false,
            "text": "(58 : 9.57%)",
            "textangle": 0,
            "x": 1.004,
            "xanchor": "right",
            "xref": "paper",
            "y": "$10,000 to 14,999",
            "yref": "y"
           },
           {
            "font": {
             "color": "rgb(7,13,30)",
             "size": 11
            },
            "showarrow": false,
            "text": "(11 : 1.82%)",
            "textangle": 0,
            "x": 1.004,
            "xanchor": "right",
            "xref": "paper",
            "y": "$15,000 to 19,999",
            "yref": "y"
           },
           {
            "font": {
             "color": "rgb(7,13,30)",
             "size": 11
            },
            "showarrow": false,
            "text": "(13 : 2.15%)",
            "textangle": 0,
            "x": 1.004,
            "xanchor": "right",
            "xref": "paper",
            "y": "$20,000 to 24,999",
            "yref": "y"
           },
           {
            "font": {
             "color": "rgb(7,13,30)",
             "size": 11
            },
            "showarrow": false,
            "text": "(39 : 6.44%)",
            "textangle": 0,
            "x": 1.004,
            "xanchor": "right",
            "xref": "paper",
            "y": "$25,000 to 29,999",
            "yref": "y"
           },
           {
            "font": {
             "color": "rgb(7,13,30)",
             "size": 11
            },
            "showarrow": false,
            "text": "(30 : 4.95%)",
            "textangle": 0,
            "x": 1.004,
            "xanchor": "right",
            "xref": "paper",
            "y": "$30,000 to 34,999",
            "yref": "y"
           },
           {
            "font": {
             "color": "rgb(7,13,30)",
             "size": 11
            },
            "showarrow": false,
            "text": "(30 : 4.95%)",
            "textangle": 0,
            "x": 1.004,
            "xanchor": "right",
            "xref": "paper",
            "y": "$35,000 to 39,999",
            "yref": "y"
           },
           {
            "font": {
             "color": "rgb(7,13,30)",
             "size": 11
            },
            "showarrow": false,
            "text": "(0 : 0.00%)",
            "textangle": 0,
            "x": 1.004,
            "xanchor": "right",
            "xref": "paper",
            "y": "$40,000 to 44,999",
            "yref": "y"
           },
           {
            "font": {
             "color": "rgb(7,13,30)",
             "size": 11
            },
            "showarrow": false,
            "text": "(83 : 13.70%)",
            "textangle": 0,
            "x": 1.004,
            "xanchor": "right",
            "xref": "paper",
            "y": "$45,000 to 49,999",
            "yref": "y"
           },
           {
            "font": {
             "color": "rgb(7,13,30)",
             "size": 11
            },
            "showarrow": false,
            "text": "(0 : 0.00%)",
            "textangle": 0,
            "x": 1.004,
            "xanchor": "right",
            "xref": "paper",
            "y": "$50,000 to 59,999",
            "yref": "y"
           },
           {
            "font": {
             "color": "rgb(7,13,30)",
             "size": 11
            },
            "showarrow": false,
            "text": "(37 : 6.11%)",
            "textangle": 0,
            "x": 1.004,
            "xanchor": "right",
            "xref": "paper",
            "y": "$60,000 to 74,999",
            "yref": "y"
           },
           {
            "font": {
             "color": "rgb(7,13,30)",
             "size": 11
            },
            "showarrow": false,
            "text": "(71 : 11.72%)",
            "textangle": 0,
            "x": 1.004,
            "xanchor": "right",
            "xref": "paper",
            "y": "$75,000 to 99,999",
            "yref": "y"
           },
           {
            "font": {
             "color": "rgb(7,13,30)",
             "size": 11
            },
            "showarrow": false,
            "text": "(17 : 2.81%)",
            "textangle": 0,
            "x": 1.004,
            "xanchor": "right",
            "xref": "paper",
            "y": "$100,000 to 124,999",
            "yref": "y"
           },
           {
            "font": {
             "color": "rgb(7,13,30)",
             "size": 11
            },
            "showarrow": false,
            "text": "(64 : 10.56%)",
            "textangle": 0,
            "x": 1.004,
            "xanchor": "right",
            "xref": "paper",
            "y": "$125,000 to 149,999",
            "yref": "y"
           },
           {
            "font": {
             "color": "rgb(7,13,30)",
             "size": 11
            },
            "showarrow": false,
            "text": "(7 : 1.16%)",
            "textangle": 0,
            "x": 1.004,
            "xanchor": "right",
            "xref": "paper",
            "y": "$150,000 to 199,999",
            "yref": "y"
           },
           {
            "font": {
             "color": "rgb(7,13,30)",
             "size": 11
            },
            "showarrow": false,
            "text": "(44 : 7.26%)",
            "textangle": 0,
            "x": 1.004,
            "xanchor": "right",
            "xref": "paper",
            "y": "$200,000 or more",
            "yref": "y"
           }
          ]
         },
         "name": "2017"
        },
        {
         "data": [
          {
           "alignmentgroup": "True",
           "hovertemplate": "Year=2018<br>Population (%)=%{x}<br>Bracket=%{y}<extra></extra>",
           "legendgroup": "",
           "marker": {
            "color": "#636efa",
            "pattern": {
             "shape": ""
            }
           },
           "name": "",
           "offsetgroup": "",
           "orientation": "h",
           "showlegend": false,
           "textposition": "auto",
           "type": "bar",
           "x": [
            12.201963534361852,
            13.32398316970547,
            0,
            0,
            5.46984572230014,
            5.890603085553997,
            5.329593267882188,
            0,
            10.098176718092567,
            2.664796633941094,
            6.872370266479663,
            15.007012622720898,
            4.488078541374474,
            8.695652173913043,
            3.3660589060308554,
            6.591865357643759
           ],
           "xaxis": "x",
           "y": [
            "Less than $10,000",
            "$10,000 to 14,999",
            "$15,000 to 19,999",
            "$20,000 to 24,999",
            "$25,000 to 29,999",
            "$30,000 to 34,999",
            "$35,000 to 39,999",
            "$40,000 to 44,999",
            "$45,000 to 49,999",
            "$50,000 to 59,999",
            "$60,000 to 74,999",
            "$75,000 to 99,999",
            "$100,000 to 124,999",
            "$125,000 to 149,999",
            "$150,000 to 199,999",
            "$200,000 or more"
           ],
           "yaxis": "y"
          }
         ],
         "layout": {
          "annotations": [
           {
            "font": {
             "color": "rgb(7,13,30)",
             "size": 11
            },
            "showarrow": false,
            "text": "(87 : 12.20%)",
            "textangle": 0,
            "x": 1.004,
            "xanchor": "right",
            "xref": "paper",
            "y": "Less than $10,000",
            "yref": "y"
           },
           {
            "font": {
             "color": "rgb(7,13,30)",
             "size": 11
            },
            "showarrow": false,
            "text": "(95 : 13.32%)",
            "textangle": 0,
            "x": 1.004,
            "xanchor": "right",
            "xref": "paper",
            "y": "$10,000 to 14,999",
            "yref": "y"
           },
           {
            "font": {
             "color": "rgb(7,13,30)",
             "size": 11
            },
            "showarrow": false,
            "text": "(0 : 0.00%)",
            "textangle": 0,
            "x": 1.004,
            "xanchor": "right",
            "xref": "paper",
            "y": "$15,000 to 19,999",
            "yref": "y"
           },
           {
            "font": {
             "color": "rgb(7,13,30)",
             "size": 11
            },
            "showarrow": false,
            "text": "(0 : 0.00%)",
            "textangle": 0,
            "x": 1.004,
            "xanchor": "right",
            "xref": "paper",
            "y": "$20,000 to 24,999",
            "yref": "y"
           },
           {
            "font": {
             "color": "rgb(7,13,30)",
             "size": 11
            },
            "showarrow": false,
            "text": "(39 : 5.47%)",
            "textangle": 0,
            "x": 1.004,
            "xanchor": "right",
            "xref": "paper",
            "y": "$25,000 to 29,999",
            "yref": "y"
           },
           {
            "font": {
             "color": "rgb(7,13,30)",
             "size": 11
            },
            "showarrow": false,
            "text": "(42 : 5.89%)",
            "textangle": 0,
            "x": 1.004,
            "xanchor": "right",
            "xref": "paper",
            "y": "$30,000 to 34,999",
            "yref": "y"
           },
           {
            "font": {
             "color": "rgb(7,13,30)",
             "size": 11
            },
            "showarrow": false,
            "text": "(38 : 5.33%)",
            "textangle": 0,
            "x": 1.004,
            "xanchor": "right",
            "xref": "paper",
            "y": "$35,000 to 39,999",
            "yref": "y"
           },
           {
            "font": {
             "color": "rgb(7,13,30)",
             "size": 11
            },
            "showarrow": false,
            "text": "(0 : 0.00%)",
            "textangle": 0,
            "x": 1.004,
            "xanchor": "right",
            "xref": "paper",
            "y": "$40,000 to 44,999",
            "yref": "y"
           },
           {
            "font": {
             "color": "rgb(7,13,30)",
             "size": 11
            },
            "showarrow": false,
            "text": "(72 : 10.10%)",
            "textangle": 0,
            "x": 1.004,
            "xanchor": "right",
            "xref": "paper",
            "y": "$45,000 to 49,999",
            "yref": "y"
           },
           {
            "font": {
             "color": "rgb(7,13,30)",
             "size": 11
            },
            "showarrow": false,
            "text": "(19 : 2.66%)",
            "textangle": 0,
            "x": 1.004,
            "xanchor": "right",
            "xref": "paper",
            "y": "$50,000 to 59,999",
            "yref": "y"
           },
           {
            "font": {
             "color": "rgb(7,13,30)",
             "size": 11
            },
            "showarrow": false,
            "text": "(49 : 6.87%)",
            "textangle": 0,
            "x": 1.004,
            "xanchor": "right",
            "xref": "paper",
            "y": "$60,000 to 74,999",
            "yref": "y"
           },
           {
            "font": {
             "color": "rgb(7,13,30)",
             "size": 11
            },
            "showarrow": false,
            "text": "(107 : 15.01%)",
            "textangle": 0,
            "x": 1.004,
            "xanchor": "right",
            "xref": "paper",
            "y": "$75,000 to 99,999",
            "yref": "y"
           },
           {
            "font": {
             "color": "rgb(7,13,30)",
             "size": 11
            },
            "showarrow": false,
            "text": "(32 : 4.49%)",
            "textangle": 0,
            "x": 1.004,
            "xanchor": "right",
            "xref": "paper",
            "y": "$100,000 to 124,999",
            "yref": "y"
           },
           {
            "font": {
             "color": "rgb(7,13,30)",
             "size": 11
            },
            "showarrow": false,
            "text": "(62 : 8.70%)",
            "textangle": 0,
            "x": 1.004,
            "xanchor": "right",
            "xref": "paper",
            "y": "$125,000 to 149,999",
            "yref": "y"
           },
           {
            "font": {
             "color": "rgb(7,13,30)",
             "size": 11
            },
            "showarrow": false,
            "text": "(24 : 3.37%)",
            "textangle": 0,
            "x": 1.004,
            "xanchor": "right",
            "xref": "paper",
            "y": "$150,000 to 199,999",
            "yref": "y"
           },
           {
            "font": {
             "color": "rgb(7,13,30)",
             "size": 11
            },
            "showarrow": false,
            "text": "(47 : 6.59%)",
            "textangle": 0,
            "x": 1.004,
            "xanchor": "right",
            "xref": "paper",
            "y": "$200,000 or more",
            "yref": "y"
           }
          ]
         },
         "name": "2018"
        },
        {
         "data": [
          {
           "alignmentgroup": "True",
           "hovertemplate": "Year=2019<br>Population (%)=%{x}<br>Bracket=%{y}<extra></extra>",
           "legendgroup": "",
           "marker": {
            "color": "#636efa",
            "pattern": {
             "shape": ""
            }
           },
           "name": "",
           "offsetgroup": "",
           "orientation": "h",
           "showlegend": false,
           "textposition": "auto",
           "type": "bar",
           "x": [
            10.333333333333334,
            18.666666666666668,
            2,
            0,
            8.5,
            6.5,
            6,
            0,
            7.333333333333333,
            0,
            4.5,
            12.666666666666666,
            2.6666666666666665,
            4.5,
            4.166666666666667,
            12.166666666666666
           ],
           "xaxis": "x",
           "y": [
            "Less than $10,000",
            "$10,000 to 14,999",
            "$15,000 to 19,999",
            "$20,000 to 24,999",
            "$25,000 to 29,999",
            "$30,000 to 34,999",
            "$35,000 to 39,999",
            "$40,000 to 44,999",
            "$45,000 to 49,999",
            "$50,000 to 59,999",
            "$60,000 to 74,999",
            "$75,000 to 99,999",
            "$100,000 to 124,999",
            "$125,000 to 149,999",
            "$150,000 to 199,999",
            "$200,000 or more"
           ],
           "yaxis": "y"
          }
         ],
         "layout": {
          "annotations": [
           {
            "font": {
             "color": "rgb(7,13,30)",
             "size": 11
            },
            "showarrow": false,
            "text": "(62 : 10.33%)",
            "textangle": 0,
            "x": 1.004,
            "xanchor": "right",
            "xref": "paper",
            "y": "Less than $10,000",
            "yref": "y"
           },
           {
            "font": {
             "color": "rgb(7,13,30)",
             "size": 11
            },
            "showarrow": false,
            "text": "(112 : 18.67%)",
            "textangle": 0,
            "x": 1.004,
            "xanchor": "right",
            "xref": "paper",
            "y": "$10,000 to 14,999",
            "yref": "y"
           },
           {
            "font": {
             "color": "rgb(7,13,30)",
             "size": 11
            },
            "showarrow": false,
            "text": "(12 : 2.00%)",
            "textangle": 0,
            "x": 1.004,
            "xanchor": "right",
            "xref": "paper",
            "y": "$15,000 to 19,999",
            "yref": "y"
           },
           {
            "font": {
             "color": "rgb(7,13,30)",
             "size": 11
            },
            "showarrow": false,
            "text": "(0 : 0.00%)",
            "textangle": 0,
            "x": 1.004,
            "xanchor": "right",
            "xref": "paper",
            "y": "$20,000 to 24,999",
            "yref": "y"
           },
           {
            "font": {
             "color": "rgb(7,13,30)",
             "size": 11
            },
            "showarrow": false,
            "text": "(51 : 8.50%)",
            "textangle": 0,
            "x": 1.004,
            "xanchor": "right",
            "xref": "paper",
            "y": "$25,000 to 29,999",
            "yref": "y"
           },
           {
            "font": {
             "color": "rgb(7,13,30)",
             "size": 11
            },
            "showarrow": false,
            "text": "(39 : 6.50%)",
            "textangle": 0,
            "x": 1.004,
            "xanchor": "right",
            "xref": "paper",
            "y": "$30,000 to 34,999",
            "yref": "y"
           },
           {
            "font": {
             "color": "rgb(7,13,30)",
             "size": 11
            },
            "showarrow": false,
            "text": "(36 : 6.00%)",
            "textangle": 0,
            "x": 1.004,
            "xanchor": "right",
            "xref": "paper",
            "y": "$35,000 to 39,999",
            "yref": "y"
           },
           {
            "font": {
             "color": "rgb(7,13,30)",
             "size": 11
            },
            "showarrow": false,
            "text": "(0 : 0.00%)",
            "textangle": 0,
            "x": 1.004,
            "xanchor": "right",
            "xref": "paper",
            "y": "$40,000 to 44,999",
            "yref": "y"
           },
           {
            "font": {
             "color": "rgb(7,13,30)",
             "size": 11
            },
            "showarrow": false,
            "text": "(44 : 7.33%)",
            "textangle": 0,
            "x": 1.004,
            "xanchor": "right",
            "xref": "paper",
            "y": "$45,000 to 49,999",
            "yref": "y"
           },
           {
            "font": {
             "color": "rgb(7,13,30)",
             "size": 11
            },
            "showarrow": false,
            "text": "(0 : 0.00%)",
            "textangle": 0,
            "x": 1.004,
            "xanchor": "right",
            "xref": "paper",
            "y": "$50,000 to 59,999",
            "yref": "y"
           },
           {
            "font": {
             "color": "rgb(7,13,30)",
             "size": 11
            },
            "showarrow": false,
            "text": "(27 : 4.50%)",
            "textangle": 0,
            "x": 1.004,
            "xanchor": "right",
            "xref": "paper",
            "y": "$60,000 to 74,999",
            "yref": "y"
           },
           {
            "font": {
             "color": "rgb(7,13,30)",
             "size": 11
            },
            "showarrow": false,
            "text": "(76 : 12.67%)",
            "textangle": 0,
            "x": 1.004,
            "xanchor": "right",
            "xref": "paper",
            "y": "$75,000 to 99,999",
            "yref": "y"
           },
           {
            "font": {
             "color": "rgb(7,13,30)",
             "size": 11
            },
            "showarrow": false,
            "text": "(16 : 2.67%)",
            "textangle": 0,
            "x": 1.004,
            "xanchor": "right",
            "xref": "paper",
            "y": "$100,000 to 124,999",
            "yref": "y"
           },
           {
            "font": {
             "color": "rgb(7,13,30)",
             "size": 11
            },
            "showarrow": false,
            "text": "(27 : 4.50%)",
            "textangle": 0,
            "x": 1.004,
            "xanchor": "right",
            "xref": "paper",
            "y": "$125,000 to 149,999",
            "yref": "y"
           },
           {
            "font": {
             "color": "rgb(7,13,30)",
             "size": 11
            },
            "showarrow": false,
            "text": "(25 : 4.17%)",
            "textangle": 0,
            "x": 1.004,
            "xanchor": "right",
            "xref": "paper",
            "y": "$150,000 to 199,999",
            "yref": "y"
           },
           {
            "font": {
             "color": "rgb(7,13,30)",
             "size": 11
            },
            "showarrow": false,
            "text": "(73 : 12.17%)",
            "textangle": 0,
            "x": 1.004,
            "xanchor": "right",
            "xref": "paper",
            "y": "$200,000 or more",
            "yref": "y"
           }
          ]
         },
         "name": "2019"
        },
        {
         "data": [
          {
           "alignmentgroup": "True",
           "hovertemplate": "Year=2020<br>Population (%)=%{x}<br>Bracket=%{y}<extra></extra>",
           "legendgroup": "",
           "marker": {
            "color": "#636efa",
            "pattern": {
             "shape": ""
            }
           },
           "name": "",
           "offsetgroup": "",
           "orientation": "h",
           "showlegend": false,
           "textposition": "auto",
           "type": "bar",
           "x": [
            2.6706231454005933,
            12.01780415430267,
            4.747774480712166,
            0,
            5.786350148367952,
            6.231454005934718,
            5.192878338278931,
            0,
            0.8902077151335311,
            3.4124629080118694,
            1.9287833827893173,
            12.166172106824924,
            21.810089020771517,
            3.70919881305638,
            8.456973293768545,
            10.979228486646884
           ],
           "xaxis": "x",
           "y": [
            "Less than $10,000",
            "$10,000 to 14,999",
            "$15,000 to 19,999",
            "$20,000 to 24,999",
            "$25,000 to 29,999",
            "$30,000 to 34,999",
            "$35,000 to 39,999",
            "$40,000 to 44,999",
            "$45,000 to 49,999",
            "$50,000 to 59,999",
            "$60,000 to 74,999",
            "$75,000 to 99,999",
            "$100,000 to 124,999",
            "$125,000 to 149,999",
            "$150,000 to 199,999",
            "$200,000 or more"
           ],
           "yaxis": "y"
          }
         ],
         "layout": {
          "annotations": [
           {
            "font": {
             "color": "rgb(7,13,30)",
             "size": 11
            },
            "showarrow": false,
            "text": "(18 : 2.67%)",
            "textangle": 0,
            "x": 1.004,
            "xanchor": "right",
            "xref": "paper",
            "y": "Less than $10,000",
            "yref": "y"
           },
           {
            "font": {
             "color": "rgb(7,13,30)",
             "size": 11
            },
            "showarrow": false,
            "text": "(81 : 12.02%)",
            "textangle": 0,
            "x": 1.004,
            "xanchor": "right",
            "xref": "paper",
            "y": "$10,000 to 14,999",
            "yref": "y"
           },
           {
            "font": {
             "color": "rgb(7,13,30)",
             "size": 11
            },
            "showarrow": false,
            "text": "(32 : 4.75%)",
            "textangle": 0,
            "x": 1.004,
            "xanchor": "right",
            "xref": "paper",
            "y": "$15,000 to 19,999",
            "yref": "y"
           },
           {
            "font": {
             "color": "rgb(7,13,30)",
             "size": 11
            },
            "showarrow": false,
            "text": "(0 : 0.00%)",
            "textangle": 0,
            "x": 1.004,
            "xanchor": "right",
            "xref": "paper",
            "y": "$20,000 to 24,999",
            "yref": "y"
           },
           {
            "font": {
             "color": "rgb(7,13,30)",
             "size": 11
            },
            "showarrow": false,
            "text": "(39 : 5.79%)",
            "textangle": 0,
            "x": 1.004,
            "xanchor": "right",
            "xref": "paper",
            "y": "$25,000 to 29,999",
            "yref": "y"
           },
           {
            "font": {
             "color": "rgb(7,13,30)",
             "size": 11
            },
            "showarrow": false,
            "text": "(42 : 6.23%)",
            "textangle": 0,
            "x": 1.004,
            "xanchor": "right",
            "xref": "paper",
            "y": "$30,000 to 34,999",
            "yref": "y"
           },
           {
            "font": {
             "color": "rgb(7,13,30)",
             "size": 11
            },
            "showarrow": false,
            "text": "(35 : 5.19%)",
            "textangle": 0,
            "x": 1.004,
            "xanchor": "right",
            "xref": "paper",
            "y": "$35,000 to 39,999",
            "yref": "y"
           },
           {
            "font": {
             "color": "rgb(7,13,30)",
             "size": 11
            },
            "showarrow": false,
            "text": "(0 : 0.00%)",
            "textangle": 0,
            "x": 1.004,
            "xanchor": "right",
            "xref": "paper",
            "y": "$40,000 to 44,999",
            "yref": "y"
           },
           {
            "font": {
             "color": "rgb(7,13,30)",
             "size": 11
            },
            "showarrow": false,
            "text": "(6 : 0.89%)",
            "textangle": 0,
            "x": 1.004,
            "xanchor": "right",
            "xref": "paper",
            "y": "$45,000 to 49,999",
            "yref": "y"
           },
           {
            "font": {
             "color": "rgb(7,13,30)",
             "size": 11
            },
            "showarrow": false,
            "text": "(23 : 3.41%)",
            "textangle": 0,
            "x": 1.004,
            "xanchor": "right",
            "xref": "paper",
            "y": "$50,000 to 59,999",
            "yref": "y"
           },
           {
            "font": {
             "color": "rgb(7,13,30)",
             "size": 11
            },
            "showarrow": false,
            "text": "(13 : 1.93%)",
            "textangle": 0,
            "x": 1.004,
            "xanchor": "right",
            "xref": "paper",
            "y": "$60,000 to 74,999",
            "yref": "y"
           },
           {
            "font": {
             "color": "rgb(7,13,30)",
             "size": 11
            },
            "showarrow": false,
            "text": "(82 : 12.17%)",
            "textangle": 0,
            "x": 1.004,
            "xanchor": "right",
            "xref": "paper",
            "y": "$75,000 to 99,999",
            "yref": "y"
           },
           {
            "font": {
             "color": "rgb(7,13,30)",
             "size": 11
            },
            "showarrow": false,
            "text": "(147 : 21.81%)",
            "textangle": 0,
            "x": 1.004,
            "xanchor": "right",
            "xref": "paper",
            "y": "$100,000 to 124,999",
            "yref": "y"
           },
           {
            "font": {
             "color": "rgb(7,13,30)",
             "size": 11
            },
            "showarrow": false,
            "text": "(25 : 3.71%)",
            "textangle": 0,
            "x": 1.004,
            "xanchor": "right",
            "xref": "paper",
            "y": "$125,000 to 149,999",
            "yref": "y"
           },
           {
            "font": {
             "color": "rgb(7,13,30)",
             "size": 11
            },
            "showarrow": false,
            "text": "(57 : 8.46%)",
            "textangle": 0,
            "x": 1.004,
            "xanchor": "right",
            "xref": "paper",
            "y": "$150,000 to 199,999",
            "yref": "y"
           },
           {
            "font": {
             "color": "rgb(7,13,30)",
             "size": 11
            },
            "showarrow": false,
            "text": "(74 : 10.98%)",
            "textangle": 0,
            "x": 1.004,
            "xanchor": "right",
            "xref": "paper",
            "y": "$200,000 or more",
            "yref": "y"
           }
          ]
         },
         "name": "2020"
        }
       ],
       "layout": {
        "annotations": [
         {
          "font": {
           "color": "rgb(7,13,30)",
           "size": 11
          },
          "showarrow": false,
          "text": "(52 : 9.30%)",
          "textangle": 0,
          "x": 1.004,
          "xanchor": "right",
          "xref": "paper",
          "y": "Less than $10,000",
          "yref": "y"
         },
         {
          "font": {
           "color": "rgb(7,13,30)",
           "size": 11
          },
          "showarrow": false,
          "text": "(36 : 6.44%)",
          "textangle": 0,
          "x": 1.004,
          "xanchor": "right",
          "xref": "paper",
          "y": "$10,000 to 14,999",
          "yref": "y"
         },
         {
          "font": {
           "color": "rgb(7,13,30)",
           "size": 11
          },
          "showarrow": false,
          "text": "(23 : 4.11%)",
          "textangle": 0,
          "x": 1.004,
          "xanchor": "right",
          "xref": "paper",
          "y": "$15,000 to 19,999",
          "yref": "y"
         },
         {
          "font": {
           "color": "rgb(7,13,30)",
           "size": 11
          },
          "showarrow": false,
          "text": "(40 : 7.16%)",
          "textangle": 0,
          "x": 1.004,
          "xanchor": "right",
          "xref": "paper",
          "y": "$20,000 to 24,999",
          "yref": "y"
         },
         {
          "font": {
           "color": "rgb(7,13,30)",
           "size": 11
          },
          "showarrow": false,
          "text": "(34 : 6.08%)",
          "textangle": 0,
          "x": 1.004,
          "xanchor": "right",
          "xref": "paper",
          "y": "$25,000 to 29,999",
          "yref": "y"
         },
         {
          "font": {
           "color": "rgb(7,13,30)",
           "size": 11
          },
          "showarrow": false,
          "text": "(30 : 5.37%)",
          "textangle": 0,
          "x": 1.004,
          "xanchor": "right",
          "xref": "paper",
          "y": "$30,000 to 34,999",
          "yref": "y"
         },
         {
          "font": {
           "color": "rgb(7,13,30)",
           "size": 11
          },
          "showarrow": false,
          "text": "(0 : 0.00%)",
          "textangle": 0,
          "x": 1.004,
          "xanchor": "right",
          "xref": "paper",
          "y": "$35,000 to 39,999",
          "yref": "y"
         },
         {
          "font": {
           "color": "rgb(7,13,30)",
           "size": 11
          },
          "showarrow": false,
          "text": "(20 : 3.58%)",
          "textangle": 0,
          "x": 1.004,
          "xanchor": "right",
          "xref": "paper",
          "y": "$40,000 to 44,999",
          "yref": "y"
         },
         {
          "font": {
           "color": "rgb(7,13,30)",
           "size": 11
          },
          "showarrow": false,
          "text": "(0 : 0.00%)",
          "textangle": 0,
          "x": 1.004,
          "xanchor": "right",
          "xref": "paper",
          "y": "$45,000 to 49,999",
          "yref": "y"
         },
         {
          "font": {
           "color": "rgb(7,13,30)",
           "size": 11
          },
          "showarrow": false,
          "text": "(49 : 8.77%)",
          "textangle": 0,
          "x": 1.004,
          "xanchor": "right",
          "xref": "paper",
          "y": "$50,000 to 59,999",
          "yref": "y"
         },
         {
          "font": {
           "color": "rgb(7,13,30)",
           "size": 11
          },
          "showarrow": false,
          "text": "(41 : 7.33%)",
          "textangle": 0,
          "x": 1.004,
          "xanchor": "right",
          "xref": "paper",
          "y": "$60,000 to 74,999",
          "yref": "y"
         },
         {
          "font": {
           "color": "rgb(7,13,30)",
           "size": 11
          },
          "showarrow": false,
          "text": "(74 : 13.24%)",
          "textangle": 0,
          "x": 1.004,
          "xanchor": "right",
          "xref": "paper",
          "y": "$75,000 to 99,999",
          "yref": "y"
         },
         {
          "font": {
           "color": "rgb(7,13,30)",
           "size": 11
          },
          "showarrow": false,
          "text": "(73 : 13.06%)",
          "textangle": 0,
          "x": 1.004,
          "xanchor": "right",
          "xref": "paper",
          "y": "$100,000 to 124,999",
          "yref": "y"
         },
         {
          "font": {
           "color": "rgb(7,13,30)",
           "size": 11
          },
          "showarrow": false,
          "text": "(24 : 4.29%)",
          "textangle": 0,
          "x": 1.004,
          "xanchor": "right",
          "xref": "paper",
          "y": "$125,000 to 149,999",
          "yref": "y"
         },
         {
          "font": {
           "color": "rgb(7,13,30)",
           "size": 11
          },
          "showarrow": false,
          "text": "(16 : 2.86%)",
          "textangle": 0,
          "x": 1.004,
          "xanchor": "right",
          "xref": "paper",
          "y": "$150,000 to 199,999",
          "yref": "y"
         },
         {
          "font": {
           "color": "rgb(7,13,30)",
           "size": 11
          },
          "showarrow": false,
          "text": "(47 : 8.41%)",
          "textangle": 0,
          "x": 1.004,
          "xanchor": "right",
          "xref": "paper",
          "y": "$200,000 or more",
          "yref": "y"
         }
        ],
        "autosize": true,
        "barmode": "relative",
        "font": {
         "color": "rgb(7,13,30)",
         "size": 13
        },
        "legend": {
         "bgcolor": "DimGray",
         "tracegroupgap": 0,
         "x": 0.9,
         "xanchor": "right",
         "y": 0.85,
         "yanchor": "bottom"
        },
        "margin": {
         "b": 0,
         "l": 200,
         "pad": 15,
         "r": 10,
         "t": 30
        },
        "paper_bgcolor": "rgba(0, 0, 0, 0)",
        "plot_bgcolor": "rgba(0, 0, 0, 0)",
        "sliders": [
         {
          "active": 0,
          "currentvalue": {
           "prefix": "Year="
          },
          "len": 0.9,
          "pad": {
           "b": 10,
           "t": 60
          },
          "steps": [
           {
            "args": [
             [
              "2013"
             ],
             {
              "frame": {
               "duration": 0,
               "redraw": true
              },
              "fromcurrent": true,
              "mode": "immediate",
              "transition": {
               "duration": 0,
               "easing": "linear"
              }
             }
            ],
            "label": "2013",
            "method": "animate"
           },
           {
            "args": [
             [
              "2014"
             ],
             {
              "frame": {
               "duration": 0,
               "redraw": true
              },
              "fromcurrent": true,
              "mode": "immediate",
              "transition": {
               "duration": 0,
               "easing": "linear"
              }
             }
            ],
            "label": "2014",
            "method": "animate"
           },
           {
            "args": [
             [
              "2015"
             ],
             {
              "frame": {
               "duration": 0,
               "redraw": true
              },
              "fromcurrent": true,
              "mode": "immediate",
              "transition": {
               "duration": 0,
               "easing": "linear"
              }
             }
            ],
            "label": "2015",
            "method": "animate"
           },
           {
            "args": [
             [
              "2016"
             ],
             {
              "frame": {
               "duration": 0,
               "redraw": true
              },
              "fromcurrent": true,
              "mode": "immediate",
              "transition": {
               "duration": 0,
               "easing": "linear"
              }
             }
            ],
            "label": "2016",
            "method": "animate"
           },
           {
            "args": [
             [
              "2017"
             ],
             {
              "frame": {
               "duration": 0,
               "redraw": true
              },
              "fromcurrent": true,
              "mode": "immediate",
              "transition": {
               "duration": 0,
               "easing": "linear"
              }
             }
            ],
            "label": "2017",
            "method": "animate"
           },
           {
            "args": [
             [
              "2018"
             ],
             {
              "frame": {
               "duration": 0,
               "redraw": true
              },
              "fromcurrent": true,
              "mode": "immediate",
              "transition": {
               "duration": 0,
               "easing": "linear"
              }
             }
            ],
            "label": "2018",
            "method": "animate"
           },
           {
            "args": [
             [
              "2019"
             ],
             {
              "frame": {
               "duration": 0,
               "redraw": true
              },
              "fromcurrent": true,
              "mode": "immediate",
              "transition": {
               "duration": 0,
               "easing": "linear"
              }
             }
            ],
            "label": "2019",
            "method": "animate"
           },
           {
            "args": [
             [
              "2020"
             ],
             {
              "frame": {
               "duration": 0,
               "redraw": true
              },
              "fromcurrent": true,
              "mode": "immediate",
              "transition": {
               "duration": 0,
               "easing": "linear"
              }
             }
            ],
            "label": "2020",
            "method": "animate"
           }
          ],
          "x": -0.04,
          "xanchor": "left",
          "y": 0,
          "yanchor": "top"
         }
        ],
        "template": {
         "data": {
          "bar": [
           {
            "error_x": {
             "color": "#2a3f5f"
            },
            "error_y": {
             "color": "#2a3f5f"
            },
            "marker": {
             "line": {
              "color": "#E5ECF6",
              "width": 0.5
             },
             "pattern": {
              "fillmode": "overlay",
              "size": 10,
              "solidity": 0.2
             }
            },
            "type": "bar"
           }
          ],
          "barpolar": [
           {
            "marker": {
             "line": {
              "color": "#E5ECF6",
              "width": 0.5
             },
             "pattern": {
              "fillmode": "overlay",
              "size": 10,
              "solidity": 0.2
             }
            },
            "type": "barpolar"
           }
          ],
          "carpet": [
           {
            "aaxis": {
             "endlinecolor": "#2a3f5f",
             "gridcolor": "white",
             "linecolor": "white",
             "minorgridcolor": "white",
             "startlinecolor": "#2a3f5f"
            },
            "baxis": {
             "endlinecolor": "#2a3f5f",
             "gridcolor": "white",
             "linecolor": "white",
             "minorgridcolor": "white",
             "startlinecolor": "#2a3f5f"
            },
            "type": "carpet"
           }
          ],
          "choropleth": [
           {
            "colorbar": {
             "outlinewidth": 0,
             "ticks": ""
            },
            "type": "choropleth"
           }
          ],
          "contour": [
           {
            "colorbar": {
             "outlinewidth": 0,
             "ticks": ""
            },
            "colorscale": [
             [
              0,
              "#0d0887"
             ],
             [
              0.1111111111111111,
              "#46039f"
             ],
             [
              0.2222222222222222,
              "#7201a8"
             ],
             [
              0.3333333333333333,
              "#9c179e"
             ],
             [
              0.4444444444444444,
              "#bd3786"
             ],
             [
              0.5555555555555556,
              "#d8576b"
             ],
             [
              0.6666666666666666,
              "#ed7953"
             ],
             [
              0.7777777777777778,
              "#fb9f3a"
             ],
             [
              0.8888888888888888,
              "#fdca26"
             ],
             [
              1,
              "#f0f921"
             ]
            ],
            "type": "contour"
           }
          ],
          "contourcarpet": [
           {
            "colorbar": {
             "outlinewidth": 0,
             "ticks": ""
            },
            "type": "contourcarpet"
           }
          ],
          "heatmap": [
           {
            "colorbar": {
             "outlinewidth": 0,
             "ticks": ""
            },
            "colorscale": [
             [
              0,
              "#0d0887"
             ],
             [
              0.1111111111111111,
              "#46039f"
             ],
             [
              0.2222222222222222,
              "#7201a8"
             ],
             [
              0.3333333333333333,
              "#9c179e"
             ],
             [
              0.4444444444444444,
              "#bd3786"
             ],
             [
              0.5555555555555556,
              "#d8576b"
             ],
             [
              0.6666666666666666,
              "#ed7953"
             ],
             [
              0.7777777777777778,
              "#fb9f3a"
             ],
             [
              0.8888888888888888,
              "#fdca26"
             ],
             [
              1,
              "#f0f921"
             ]
            ],
            "type": "heatmap"
           }
          ],
          "heatmapgl": [
           {
            "colorbar": {
             "outlinewidth": 0,
             "ticks": ""
            },
            "colorscale": [
             [
              0,
              "#0d0887"
             ],
             [
              0.1111111111111111,
              "#46039f"
             ],
             [
              0.2222222222222222,
              "#7201a8"
             ],
             [
              0.3333333333333333,
              "#9c179e"
             ],
             [
              0.4444444444444444,
              "#bd3786"
             ],
             [
              0.5555555555555556,
              "#d8576b"
             ],
             [
              0.6666666666666666,
              "#ed7953"
             ],
             [
              0.7777777777777778,
              "#fb9f3a"
             ],
             [
              0.8888888888888888,
              "#fdca26"
             ],
             [
              1,
              "#f0f921"
             ]
            ],
            "type": "heatmapgl"
           }
          ],
          "histogram": [
           {
            "marker": {
             "pattern": {
              "fillmode": "overlay",
              "size": 10,
              "solidity": 0.2
             }
            },
            "type": "histogram"
           }
          ],
          "histogram2d": [
           {
            "colorbar": {
             "outlinewidth": 0,
             "ticks": ""
            },
            "colorscale": [
             [
              0,
              "#0d0887"
             ],
             [
              0.1111111111111111,
              "#46039f"
             ],
             [
              0.2222222222222222,
              "#7201a8"
             ],
             [
              0.3333333333333333,
              "#9c179e"
             ],
             [
              0.4444444444444444,
              "#bd3786"
             ],
             [
              0.5555555555555556,
              "#d8576b"
             ],
             [
              0.6666666666666666,
              "#ed7953"
             ],
             [
              0.7777777777777778,
              "#fb9f3a"
             ],
             [
              0.8888888888888888,
              "#fdca26"
             ],
             [
              1,
              "#f0f921"
             ]
            ],
            "type": "histogram2d"
           }
          ],
          "histogram2dcontour": [
           {
            "colorbar": {
             "outlinewidth": 0,
             "ticks": ""
            },
            "colorscale": [
             [
              0,
              "#0d0887"
             ],
             [
              0.1111111111111111,
              "#46039f"
             ],
             [
              0.2222222222222222,
              "#7201a8"
             ],
             [
              0.3333333333333333,
              "#9c179e"
             ],
             [
              0.4444444444444444,
              "#bd3786"
             ],
             [
              0.5555555555555556,
              "#d8576b"
             ],
             [
              0.6666666666666666,
              "#ed7953"
             ],
             [
              0.7777777777777778,
              "#fb9f3a"
             ],
             [
              0.8888888888888888,
              "#fdca26"
             ],
             [
              1,
              "#f0f921"
             ]
            ],
            "type": "histogram2dcontour"
           }
          ],
          "mesh3d": [
           {
            "colorbar": {
             "outlinewidth": 0,
             "ticks": ""
            },
            "type": "mesh3d"
           }
          ],
          "parcoords": [
           {
            "line": {
             "colorbar": {
              "outlinewidth": 0,
              "ticks": ""
             }
            },
            "type": "parcoords"
           }
          ],
          "pie": [
           {
            "automargin": true,
            "type": "pie"
           }
          ],
          "scatter": [
           {
            "marker": {
             "colorbar": {
              "outlinewidth": 0,
              "ticks": ""
             }
            },
            "type": "scatter"
           }
          ],
          "scatter3d": [
           {
            "line": {
             "colorbar": {
              "outlinewidth": 0,
              "ticks": ""
             }
            },
            "marker": {
             "colorbar": {
              "outlinewidth": 0,
              "ticks": ""
             }
            },
            "type": "scatter3d"
           }
          ],
          "scattercarpet": [
           {
            "marker": {
             "colorbar": {
              "outlinewidth": 0,
              "ticks": ""
             }
            },
            "type": "scattercarpet"
           }
          ],
          "scattergeo": [
           {
            "marker": {
             "colorbar": {
              "outlinewidth": 0,
              "ticks": ""
             }
            },
            "type": "scattergeo"
           }
          ],
          "scattergl": [
           {
            "marker": {
             "colorbar": {
              "outlinewidth": 0,
              "ticks": ""
             }
            },
            "type": "scattergl"
           }
          ],
          "scattermapbox": [
           {
            "marker": {
             "colorbar": {
              "outlinewidth": 0,
              "ticks": ""
             }
            },
            "type": "scattermapbox"
           }
          ],
          "scatterpolar": [
           {
            "marker": {
             "colorbar": {
              "outlinewidth": 0,
              "ticks": ""
             }
            },
            "type": "scatterpolar"
           }
          ],
          "scatterpolargl": [
           {
            "marker": {
             "colorbar": {
              "outlinewidth": 0,
              "ticks": ""
             }
            },
            "type": "scatterpolargl"
           }
          ],
          "scatterternary": [
           {
            "marker": {
             "colorbar": {
              "outlinewidth": 0,
              "ticks": ""
             }
            },
            "type": "scatterternary"
           }
          ],
          "surface": [
           {
            "colorbar": {
             "outlinewidth": 0,
             "ticks": ""
            },
            "colorscale": [
             [
              0,
              "#0d0887"
             ],
             [
              0.1111111111111111,
              "#46039f"
             ],
             [
              0.2222222222222222,
              "#7201a8"
             ],
             [
              0.3333333333333333,
              "#9c179e"
             ],
             [
              0.4444444444444444,
              "#bd3786"
             ],
             [
              0.5555555555555556,
              "#d8576b"
             ],
             [
              0.6666666666666666,
              "#ed7953"
             ],
             [
              0.7777777777777778,
              "#fb9f3a"
             ],
             [
              0.8888888888888888,
              "#fdca26"
             ],
             [
              1,
              "#f0f921"
             ]
            ],
            "type": "surface"
           }
          ],
          "table": [
           {
            "cells": {
             "fill": {
              "color": "#EBF0F8"
             },
             "line": {
              "color": "white"
             }
            },
            "header": {
             "fill": {
              "color": "#C8D4E3"
             },
             "line": {
              "color": "white"
             }
            },
            "type": "table"
           }
          ]
         },
         "layout": {
          "annotationdefaults": {
           "arrowcolor": "#2a3f5f",
           "arrowhead": 0,
           "arrowwidth": 1
          },
          "autotypenumbers": "strict",
          "coloraxis": {
           "colorbar": {
            "outlinewidth": 0,
            "ticks": ""
           }
          },
          "colorscale": {
           "diverging": [
            [
             0,
             "#8e0152"
            ],
            [
             0.1,
             "#c51b7d"
            ],
            [
             0.2,
             "#de77ae"
            ],
            [
             0.3,
             "#f1b6da"
            ],
            [
             0.4,
             "#fde0ef"
            ],
            [
             0.5,
             "#f7f7f7"
            ],
            [
             0.6,
             "#e6f5d0"
            ],
            [
             0.7,
             "#b8e186"
            ],
            [
             0.8,
             "#7fbc41"
            ],
            [
             0.9,
             "#4d9221"
            ],
            [
             1,
             "#276419"
            ]
           ],
           "sequential": [
            [
             0,
             "#0d0887"
            ],
            [
             0.1111111111111111,
             "#46039f"
            ],
            [
             0.2222222222222222,
             "#7201a8"
            ],
            [
             0.3333333333333333,
             "#9c179e"
            ],
            [
             0.4444444444444444,
             "#bd3786"
            ],
            [
             0.5555555555555556,
             "#d8576b"
            ],
            [
             0.6666666666666666,
             "#ed7953"
            ],
            [
             0.7777777777777778,
             "#fb9f3a"
            ],
            [
             0.8888888888888888,
             "#fdca26"
            ],
            [
             1,
             "#f0f921"
            ]
           ],
           "sequentialminus": [
            [
             0,
             "#0d0887"
            ],
            [
             0.1111111111111111,
             "#46039f"
            ],
            [
             0.2222222222222222,
             "#7201a8"
            ],
            [
             0.3333333333333333,
             "#9c179e"
            ],
            [
             0.4444444444444444,
             "#bd3786"
            ],
            [
             0.5555555555555556,
             "#d8576b"
            ],
            [
             0.6666666666666666,
             "#ed7953"
            ],
            [
             0.7777777777777778,
             "#fb9f3a"
            ],
            [
             0.8888888888888888,
             "#fdca26"
            ],
            [
             1,
             "#f0f921"
            ]
           ]
          },
          "colorway": [
           "#636efa",
           "#EF553B",
           "#00cc96",
           "#ab63fa",
           "#FFA15A",
           "#19d3f3",
           "#FF6692",
           "#B6E880",
           "#FF97FF",
           "#FECB52"
          ],
          "font": {
           "color": "#2a3f5f"
          },
          "geo": {
           "bgcolor": "white",
           "lakecolor": "white",
           "landcolor": "#E5ECF6",
           "showlakes": true,
           "showland": true,
           "subunitcolor": "white"
          },
          "hoverlabel": {
           "align": "left"
          },
          "hovermode": "closest",
          "mapbox": {
           "style": "light"
          },
          "paper_bgcolor": "white",
          "plot_bgcolor": "#E5ECF6",
          "polar": {
           "angularaxis": {
            "gridcolor": "white",
            "linecolor": "white",
            "ticks": ""
           },
           "bgcolor": "#E5ECF6",
           "radialaxis": {
            "gridcolor": "white",
            "linecolor": "white",
            "ticks": ""
           }
          },
          "scene": {
           "xaxis": {
            "backgroundcolor": "#E5ECF6",
            "gridcolor": "white",
            "gridwidth": 2,
            "linecolor": "white",
            "showbackground": true,
            "ticks": "",
            "zerolinecolor": "white"
           },
           "yaxis": {
            "backgroundcolor": "#E5ECF6",
            "gridcolor": "white",
            "gridwidth": 2,
            "linecolor": "white",
            "showbackground": true,
            "ticks": "",
            "zerolinecolor": "white"
           },
           "zaxis": {
            "backgroundcolor": "#E5ECF6",
            "gridcolor": "white",
            "gridwidth": 2,
            "linecolor": "white",
            "showbackground": true,
            "ticks": "",
            "zerolinecolor": "white"
           }
          },
          "shapedefaults": {
           "line": {
            "color": "#2a3f5f"
           }
          },
          "ternary": {
           "aaxis": {
            "gridcolor": "white",
            "linecolor": "white",
            "ticks": ""
           },
           "baxis": {
            "gridcolor": "white",
            "linecolor": "white",
            "ticks": ""
           },
           "bgcolor": "#E5ECF6",
           "caxis": {
            "gridcolor": "white",
            "linecolor": "white",
            "ticks": ""
           }
          },
          "title": {
           "x": 0.05
          },
          "xaxis": {
           "automargin": true,
           "gridcolor": "white",
           "linecolor": "white",
           "ticks": "",
           "title": {
            "standoff": 15
           },
           "zerolinecolor": "white",
           "zerolinewidth": 2
          },
          "yaxis": {
           "automargin": true,
           "gridcolor": "white",
           "linecolor": "white",
           "ticks": "",
           "title": {
            "standoff": 15
           },
           "zerolinecolor": "white",
           "zerolinewidth": 2
          }
         }
        },
        "title": {
         "font": {
          "size": 14
         },
         "text": "Population by Household Income for Starr Hill (% of Total)",
         "x": 0.555
        },
        "updatemenus": [
         {
          "buttons": [
           {
            "args": [
             null,
             {
              "frame": {
               "duration": 500,
               "redraw": true
              },
              "fromcurrent": true,
              "mode": "immediate",
              "transition": {
               "duration": 500,
               "easing": "linear"
              }
             }
            ],
            "label": "&#9654;",
            "method": "animate"
           },
           {
            "args": [
             [
              null
             ],
             {
              "frame": {
               "duration": 0,
               "redraw": true
              },
              "fromcurrent": true,
              "mode": "immediate",
              "transition": {
               "duration": 0,
               "easing": "linear"
              }
             }
            ],
            "label": "&#9724;",
            "method": "animate"
           }
          ],
          "direction": "left",
          "pad": {
           "r": 10,
           "t": 70
          },
          "showactive": false,
          "type": "buttons",
          "x": -0.04,
          "xanchor": "right",
          "y": 0,
          "yanchor": "top"
         }
        ],
        "xaxis": {
         "anchor": "y",
         "domain": [
          0,
          1
         ],
         "gridcolor": "Black",
         "range": [
          0,
          40
         ],
         "tickvals": [
          0,
          5,
          10,
          15,
          20,
          25,
          30,
          35
         ],
         "title": {
          "text": "Population (%)"
         },
         "type": "linear"
        },
        "yaxis": {
         "anchor": "x",
         "autorange": true,
         "domain": [
          0,
          1
         ],
         "range": [
          -0.5,
          15.5
         ],
         "title": {
          "text": "Bracket"
         },
         "type": "category"
        }
       }
      },
      "image/png": "[encoded data removed]",
      "text/html": [
       "<div>                            <div id=\"9db8677c-9fef-4461-85d9-55b1dfaba143\" class=\"plotly-graph-div\" style=\"height:600px; width:100%;\"></div>            <script type=\"text/javascript\">                require([\"plotly\"], function(Plotly) {                    window.PLOTLYENV=window.PLOTLYENV || {};                                    if (document.getElementById(\"9db8677c-9fef-4461-85d9-55b1dfaba143\")) {                    Plotly.newPlot(                        \"9db8677c-9fef-4461-85d9-55b1dfaba143\",                        [{\"alignmentgroup\":\"True\",\"hovertemplate\":\"Year=2013<br>Population (%)=%{x}<br>Bracket=%{y}<extra></extra>\",\"legendgroup\":\"\",\"marker\":{\"color\":\"#636efa\",\"pattern\":{\"shape\":\"\"}},\"name\":\"\",\"offsetgroup\":\"\",\"orientation\":\"h\",\"showlegend\":false,\"textposition\":\"auto\",\"x\":[9.30232558139535,6.440071556350627,4.114490161001789,7.155635062611807,6.082289803220036,5.366726296958855,0.0,3.5778175313059037,0.0,8.765652951699463,7.334525939177102,13.237924865831843,13.059033989266547,4.293381037567084,2.862254025044723,8.407871198568873],\"xaxis\":\"x\",\"y\":[\"Less than $10,000\",\"$10,000 to 14,999\",\"$15,000 to 19,999\",\"$20,000 to 24,999\",\"$25,000 to 29,999\",\"$30,000 to 34,999\",\"$35,000 to 39,999\",\"$40,000 to 44,999\",\"$45,000 to 49,999\",\"$50,000 to 59,999\",\"$60,000 to 74,999\",\"$75,000 to 99,999\",\"$100,000 to 124,999\",\"$125,000 to 149,999\",\"$150,000 to 199,999\",\"$200,000 or more\"],\"yaxis\":\"y\",\"type\":\"bar\"}],                        {\"template\":{\"data\":{\"bar\":[{\"error_x\":{\"color\":\"#2a3f5f\"},\"error_y\":{\"color\":\"#2a3f5f\"},\"marker\":{\"line\":{\"color\":\"#E5ECF6\",\"width\":0.5},\"pattern\":{\"fillmode\":\"overlay\",\"size\":10,\"solidity\":0.2}},\"type\":\"bar\"}],\"barpolar\":[{\"marker\":{\"line\":{\"color\":\"#E5ECF6\",\"width\":0.5},\"pattern\":{\"fillmode\":\"overlay\",\"size\":10,\"solidity\":0.2}},\"type\":\"barpolar\"}],\"carpet\":[{\"aaxis\":{\"endlinecolor\":\"#2a3f5f\",\"gridcolor\":\"white\",\"linecolor\":\"white\",\"minorgridcolor\":\"white\",\"startlinecolor\":\"#2a3f5f\"},\"baxis\":{\"endlinecolor\":\"#2a3f5f\",\"gridcolor\":\"white\",\"linecolor\":\"white\",\"minorgridcolor\":\"white\",\"startlinecolor\":\"#2a3f5f\"},\"type\":\"carpet\"}],\"choropleth\":[{\"colorbar\":{\"outlinewidth\":0,\"ticks\":\"\"},\"type\":\"choropleth\"}],\"contour\":[{\"colorbar\":{\"outlinewidth\":0,\"ticks\":\"\"},\"colorscale\":[[0.0,\"#0d0887\"],[0.1111111111111111,\"#46039f\"],[0.2222222222222222,\"#7201a8\"],[0.3333333333333333,\"#9c179e\"],[0.4444444444444444,\"#bd3786\"],[0.5555555555555556,\"#d8576b\"],[0.6666666666666666,\"#ed7953\"],[0.7777777777777778,\"#fb9f3a\"],[0.8888888888888888,\"#fdca26\"],[1.0,\"#f0f921\"]],\"type\":\"contour\"}],\"contourcarpet\":[{\"colorbar\":{\"outlinewidth\":0,\"ticks\":\"\"},\"type\":\"contourcarpet\"}],\"heatmap\":[{\"colorbar\":{\"outlinewidth\":0,\"ticks\":\"\"},\"colorscale\":[[0.0,\"#0d0887\"],[0.1111111111111111,\"#46039f\"],[0.2222222222222222,\"#7201a8\"],[0.3333333333333333,\"#9c179e\"],[0.4444444444444444,\"#bd3786\"],[0.5555555555555556,\"#d8576b\"],[0.6666666666666666,\"#ed7953\"],[0.7777777777777778,\"#fb9f3a\"],[0.8888888888888888,\"#fdca26\"],[1.0,\"#f0f921\"]],\"type\":\"heatmap\"}],\"heatmapgl\":[{\"colorbar\":{\"outlinewidth\":0,\"ticks\":\"\"},\"colorscale\":[[0.0,\"#0d0887\"],[0.1111111111111111,\"#46039f\"],[0.2222222222222222,\"#7201a8\"],[0.3333333333333333,\"#9c179e\"],[0.4444444444444444,\"#bd3786\"],[0.5555555555555556,\"#d8576b\"],[0.6666666666666666,\"#ed7953\"],[0.7777777777777778,\"#fb9f3a\"],[0.8888888888888888,\"#fdca26\"],[1.0,\"#f0f921\"]],\"type\":\"heatmapgl\"}],\"histogram\":[{\"marker\":{\"pattern\":{\"fillmode\":\"overlay\",\"size\":10,\"solidity\":0.2}},\"type\":\"histogram\"}],\"histogram2d\":[{\"colorbar\":{\"outlinewidth\":0,\"ticks\":\"\"},\"colorscale\":[[0.0,\"#0d0887\"],[0.1111111111111111,\"#46039f\"],[0.2222222222222222,\"#7201a8\"],[0.3333333333333333,\"#9c179e\"],[0.4444444444444444,\"#bd3786\"],[0.5555555555555556,\"#d8576b\"],[0.6666666666666666,\"#ed7953\"],[0.7777777777777778,\"#fb9f3a\"],[0.8888888888888888,\"#fdca26\"],[1.0,\"#f0f921\"]],\"type\":\"histogram2d\"}],\"histogram2dcontour\":[{\"colorbar\":{\"outlinewidth\":0,\"ticks\":\"\"},\"colorscale\":[[0.0,\"#0d0887\"],[0.1111111111111111,\"#46039f\"],[0.2222222222222222,\"#7201a8\"],[0.3333333333333333,\"#9c179e\"],[0.4444444444444444,\"#bd3786\"],[0.5555555555555556,\"#d8576b\"],[0.6666666666666666,\"#ed7953\"],[0.7777777777777778,\"#fb9f3a\"],[0.8888888888888888,\"#fdca26\"],[1.0,\"#f0f921\"]],\"type\":\"histogram2dcontour\"}],\"mesh3d\":[{\"colorbar\":{\"outlinewidth\":0,\"ticks\":\"\"},\"type\":\"mesh3d\"}],\"parcoords\":[{\"line\":{\"colorbar\":{\"outlinewidth\":0,\"ticks\":\"\"}},\"type\":\"parcoords\"}],\"pie\":[{\"automargin\":true,\"type\":\"pie\"}],\"scatter\":[{\"marker\":{\"colorbar\":{\"outlinewidth\":0,\"ticks\":\"\"}},\"type\":\"scatter\"}],\"scatter3d\":[{\"line\":{\"colorbar\":{\"outlinewidth\":0,\"ticks\":\"\"}},\"marker\":{\"colorbar\":{\"outlinewidth\":0,\"ticks\":\"\"}},\"type\":\"scatter3d\"}],\"scattercarpet\":[{\"marker\":{\"colorbar\":{\"outlinewidth\":0,\"ticks\":\"\"}},\"type\":\"scattercarpet\"}],\"scattergeo\":[{\"marker\":{\"colorbar\":{\"outlinewidth\":0,\"ticks\":\"\"}},\"type\":\"scattergeo\"}],\"scattergl\":[{\"marker\":{\"colorbar\":{\"outlinewidth\":0,\"ticks\":\"\"}},\"type\":\"scattergl\"}],\"scattermapbox\":[{\"marker\":{\"colorbar\":{\"outlinewidth\":0,\"ticks\":\"\"}},\"type\":\"scattermapbox\"}],\"scatterpolar\":[{\"marker\":{\"colorbar\":{\"outlinewidth\":0,\"ticks\":\"\"}},\"type\":\"scatterpolar\"}],\"scatterpolargl\":[{\"marker\":{\"colorbar\":{\"outlinewidth\":0,\"ticks\":\"\"}},\"type\":\"scatterpolargl\"}],\"scatterternary\":[{\"marker\":{\"colorbar\":{\"outlinewidth\":0,\"ticks\":\"\"}},\"type\":\"scatterternary\"}],\"surface\":[{\"colorbar\":{\"outlinewidth\":0,\"ticks\":\"\"},\"colorscale\":[[0.0,\"#0d0887\"],[0.1111111111111111,\"#46039f\"],[0.2222222222222222,\"#7201a8\"],[0.3333333333333333,\"#9c179e\"],[0.4444444444444444,\"#bd3786\"],[0.5555555555555556,\"#d8576b\"],[0.6666666666666666,\"#ed7953\"],[0.7777777777777778,\"#fb9f3a\"],[0.8888888888888888,\"#fdca26\"],[1.0,\"#f0f921\"]],\"type\":\"surface\"}],\"table\":[{\"cells\":{\"fill\":{\"color\":\"#EBF0F8\"},\"line\":{\"color\":\"white\"}},\"header\":{\"fill\":{\"color\":\"#C8D4E3\"},\"line\":{\"color\":\"white\"}},\"type\":\"table\"}]},\"layout\":{\"annotationdefaults\":{\"arrowcolor\":\"#2a3f5f\",\"arrowhead\":0,\"arrowwidth\":1},\"autotypenumbers\":\"strict\",\"coloraxis\":{\"colorbar\":{\"outlinewidth\":0,\"ticks\":\"\"}},\"colorscale\":{\"diverging\":[[0,\"#8e0152\"],[0.1,\"#c51b7d\"],[0.2,\"#de77ae\"],[0.3,\"#f1b6da\"],[0.4,\"#fde0ef\"],[0.5,\"#f7f7f7\"],[0.6,\"#e6f5d0\"],[0.7,\"#b8e186\"],[0.8,\"#7fbc41\"],[0.9,\"#4d9221\"],[1,\"#276419\"]],\"sequential\":[[0.0,\"#0d0887\"],[0.1111111111111111,\"#46039f\"],[0.2222222222222222,\"#7201a8\"],[0.3333333333333333,\"#9c179e\"],[0.4444444444444444,\"#bd3786\"],[0.5555555555555556,\"#d8576b\"],[0.6666666666666666,\"#ed7953\"],[0.7777777777777778,\"#fb9f3a\"],[0.8888888888888888,\"#fdca26\"],[1.0,\"#f0f921\"]],\"sequentialminus\":[[0.0,\"#0d0887\"],[0.1111111111111111,\"#46039f\"],[0.2222222222222222,\"#7201a8\"],[0.3333333333333333,\"#9c179e\"],[0.4444444444444444,\"#bd3786\"],[0.5555555555555556,\"#d8576b\"],[0.6666666666666666,\"#ed7953\"],[0.7777777777777778,\"#fb9f3a\"],[0.8888888888888888,\"#fdca26\"],[1.0,\"#f0f921\"]]},\"colorway\":[\"#636efa\",\"#EF553B\",\"#00cc96\",\"#ab63fa\",\"#FFA15A\",\"#19d3f3\",\"#FF6692\",\"#B6E880\",\"#FF97FF\",\"#FECB52\"],\"font\":{\"color\":\"#2a3f5f\"},\"geo\":{\"bgcolor\":\"white\",\"lakecolor\":\"white\",\"landcolor\":\"#E5ECF6\",\"showlakes\":true,\"showland\":true,\"subunitcolor\":\"white\"},\"hoverlabel\":{\"align\":\"left\"},\"hovermode\":\"closest\",\"mapbox\":{\"style\":\"light\"},\"paper_bgcolor\":\"white\",\"plot_bgcolor\":\"#E5ECF6\",\"polar\":{\"angularaxis\":{\"gridcolor\":\"white\",\"linecolor\":\"white\",\"ticks\":\"\"},\"bgcolor\":\"#E5ECF6\",\"radialaxis\":{\"gridcolor\":\"white\",\"linecolor\":\"white\",\"ticks\":\"\"}},\"scene\":{\"xaxis\":{\"backgroundcolor\":\"#E5ECF6\",\"gridcolor\":\"white\",\"gridwidth\":2,\"linecolor\":\"white\",\"showbackground\":true,\"ticks\":\"\",\"zerolinecolor\":\"white\"},\"yaxis\":{\"backgroundcolor\":\"#E5ECF6\",\"gridcolor\":\"white\",\"gridwidth\":2,\"linecolor\":\"white\",\"showbackground\":true,\"ticks\":\"\",\"zerolinecolor\":\"white\"},\"zaxis\":{\"backgroundcolor\":\"#E5ECF6\",\"gridcolor\":\"white\",\"gridwidth\":2,\"linecolor\":\"white\",\"showbackground\":true,\"ticks\":\"\",\"zerolinecolor\":\"white\"}},\"shapedefaults\":{\"line\":{\"color\":\"#2a3f5f\"}},\"ternary\":{\"aaxis\":{\"gridcolor\":\"white\",\"linecolor\":\"white\",\"ticks\":\"\"},\"baxis\":{\"gridcolor\":\"white\",\"linecolor\":\"white\",\"ticks\":\"\"},\"bgcolor\":\"#E5ECF6\",\"caxis\":{\"gridcolor\":\"white\",\"linecolor\":\"white\",\"ticks\":\"\"}},\"title\":{\"x\":0.05},\"xaxis\":{\"automargin\":true,\"gridcolor\":\"white\",\"linecolor\":\"white\",\"ticks\":\"\",\"title\":{\"standoff\":15},\"zerolinecolor\":\"white\",\"zerolinewidth\":2},\"yaxis\":{\"automargin\":true,\"gridcolor\":\"white\",\"linecolor\":\"white\",\"ticks\":\"\",\"title\":{\"standoff\":15},\"zerolinecolor\":\"white\",\"zerolinewidth\":2}}},\"xaxis\":{\"anchor\":\"y\",\"domain\":[0.0,1.0],\"title\":{\"text\":\"Population (%)\"},\"tickvals\":[0,5,10,15,20,25,30,35],\"range\":[0,40],\"gridcolor\":\"Black\"},\"yaxis\":{\"anchor\":\"x\",\"domain\":[0.0,1.0],\"title\":{\"text\":\"Bracket\"}},\"legend\":{\"tracegroupgap\":0,\"yanchor\":\"bottom\",\"x\":0.9,\"y\":0.85,\"xanchor\":\"right\",\"bgcolor\":\"DimGray\"},\"title\":{\"text\":\"Population by Household Income for Starr Hill (% of Total)\",\"font\":{\"size\":14},\"x\":0.555},\"barmode\":\"relative\",\"height\":600,\"updatemenus\":[{\"buttons\":[{\"args\":[null,{\"frame\":{\"duration\":500,\"redraw\":true},\"mode\":\"immediate\",\"fromcurrent\":true,\"transition\":{\"duration\":500,\"easing\":\"linear\"}}],\"label\":\"&#9654;\",\"method\":\"animate\"},{\"args\":[[null],{\"frame\":{\"duration\":0,\"redraw\":true},\"mode\":\"immediate\",\"fromcurrent\":true,\"transition\":{\"duration\":0,\"easing\":\"linear\"}}],\"label\":\"&#9724;\",\"method\":\"animate\"}],\"direction\":\"left\",\"pad\":{\"r\":10,\"t\":70},\"showactive\":false,\"type\":\"buttons\",\"x\":-0.04,\"xanchor\":\"right\",\"y\":0,\"yanchor\":\"top\"}],\"sliders\":[{\"active\":0,\"currentvalue\":{\"prefix\":\"Year=\"},\"len\":0.9,\"pad\":{\"b\":10,\"t\":60},\"steps\":[{\"args\":[[\"2013\"],{\"frame\":{\"duration\":0,\"redraw\":true},\"mode\":\"immediate\",\"fromcurrent\":true,\"transition\":{\"duration\":0,\"easing\":\"linear\"}}],\"label\":\"2013\",\"method\":\"animate\"},{\"args\":[[\"2014\"],{\"frame\":{\"duration\":0,\"redraw\":true},\"mode\":\"immediate\",\"fromcurrent\":true,\"transition\":{\"duration\":0,\"easing\":\"linear\"}}],\"label\":\"2014\",\"method\":\"animate\"},{\"args\":[[\"2015\"],{\"frame\":{\"duration\":0,\"redraw\":true},\"mode\":\"immediate\",\"fromcurrent\":true,\"transition\":{\"duration\":0,\"easing\":\"linear\"}}],\"label\":\"2015\",\"method\":\"animate\"},{\"args\":[[\"2016\"],{\"frame\":{\"duration\":0,\"redraw\":true},\"mode\":\"immediate\",\"fromcurrent\":true,\"transition\":{\"duration\":0,\"easing\":\"linear\"}}],\"label\":\"2016\",\"method\":\"animate\"},{\"args\":[[\"2017\"],{\"frame\":{\"duration\":0,\"redraw\":true},\"mode\":\"immediate\",\"fromcurrent\":true,\"transition\":{\"duration\":0,\"easing\":\"linear\"}}],\"label\":\"2017\",\"method\":\"animate\"},{\"args\":[[\"2018\"],{\"frame\":{\"duration\":0,\"redraw\":true},\"mode\":\"immediate\",\"fromcurrent\":true,\"transition\":{\"duration\":0,\"easing\":\"linear\"}}],\"label\":\"2018\",\"method\":\"animate\"},{\"args\":[[\"2019\"],{\"frame\":{\"duration\":0,\"redraw\":true},\"mode\":\"immediate\",\"fromcurrent\":true,\"transition\":{\"duration\":0,\"easing\":\"linear\"}}],\"label\":\"2019\",\"method\":\"animate\"},{\"args\":[[\"2020\"],{\"frame\":{\"duration\":0,\"redraw\":true},\"mode\":\"immediate\",\"fromcurrent\":true,\"transition\":{\"duration\":0,\"easing\":\"linear\"}}],\"label\":\"2020\",\"method\":\"animate\"}],\"x\":-0.04,\"xanchor\":\"left\",\"y\":0,\"yanchor\":\"top\"}],\"font\":{\"size\":13,\"color\":\"rgb(7,13,30)\"},\"margin\":{\"b\":0,\"l\":200,\"pad\":15,\"r\":10,\"t\":30},\"plot_bgcolor\":\"rgba(0,0,0,0)\",\"paper_bgcolor\":\"rgba(0,0,0,0)\",\"annotations\":[{\"font\":{\"color\":\"rgb(7,13,30)\",\"size\":11},\"showarrow\":false,\"text\":\"(52 : 9.30%)\",\"textangle\":0,\"x\":1.004,\"xanchor\":\"right\",\"xref\":\"paper\",\"y\":\"Less than $10,000\",\"yref\":\"y\"},{\"font\":{\"color\":\"rgb(7,13,30)\",\"size\":11},\"showarrow\":false,\"text\":\"(36 : 6.44%)\",\"textangle\":0,\"x\":1.004,\"xanchor\":\"right\",\"xref\":\"paper\",\"y\":\"$10,000 to 14,999\",\"yref\":\"y\"},{\"font\":{\"color\":\"rgb(7,13,30)\",\"size\":11},\"showarrow\":false,\"text\":\"(23 : 4.11%)\",\"textangle\":0,\"x\":1.004,\"xanchor\":\"right\",\"xref\":\"paper\",\"y\":\"$15,000 to 19,999\",\"yref\":\"y\"},{\"font\":{\"color\":\"rgb(7,13,30)\",\"size\":11},\"showarrow\":false,\"text\":\"(40 : 7.16%)\",\"textangle\":0,\"x\":1.004,\"xanchor\":\"right\",\"xref\":\"paper\",\"y\":\"$20,000 to 24,999\",\"yref\":\"y\"},{\"font\":{\"color\":\"rgb(7,13,30)\",\"size\":11},\"showarrow\":false,\"text\":\"(34 : 6.08%)\",\"textangle\":0,\"x\":1.004,\"xanchor\":\"right\",\"xref\":\"paper\",\"y\":\"$25,000 to 29,999\",\"yref\":\"y\"},{\"font\":{\"color\":\"rgb(7,13,30)\",\"size\":11},\"showarrow\":false,\"text\":\"(30 : 5.37%)\",\"textangle\":0,\"x\":1.004,\"xanchor\":\"right\",\"xref\":\"paper\",\"y\":\"$30,000 to 34,999\",\"yref\":\"y\"},{\"font\":{\"color\":\"rgb(7,13,30)\",\"size\":11},\"showarrow\":false,\"text\":\"(0 : 0.00%)\",\"textangle\":0,\"x\":1.004,\"xanchor\":\"right\",\"xref\":\"paper\",\"y\":\"$35,000 to 39,999\",\"yref\":\"y\"},{\"font\":{\"color\":\"rgb(7,13,30)\",\"size\":11},\"showarrow\":false,\"text\":\"(20 : 3.58%)\",\"textangle\":0,\"x\":1.004,\"xanchor\":\"right\",\"xref\":\"paper\",\"y\":\"$40,000 to 44,999\",\"yref\":\"y\"},{\"font\":{\"color\":\"rgb(7,13,30)\",\"size\":11},\"showarrow\":false,\"text\":\"(0 : 0.00%)\",\"textangle\":0,\"x\":1.004,\"xanchor\":\"right\",\"xref\":\"paper\",\"y\":\"$45,000 to 49,999\",\"yref\":\"y\"},{\"font\":{\"color\":\"rgb(7,13,30)\",\"size\":11},\"showarrow\":false,\"text\":\"(49 : 8.77%)\",\"textangle\":0,\"x\":1.004,\"xanchor\":\"right\",\"xref\":\"paper\",\"y\":\"$50,000 to 59,999\",\"yref\":\"y\"},{\"font\":{\"color\":\"rgb(7,13,30)\",\"size\":11},\"showarrow\":false,\"text\":\"(41 : 7.33%)\",\"textangle\":0,\"x\":1.004,\"xanchor\":\"right\",\"xref\":\"paper\",\"y\":\"$60,000 to 74,999\",\"yref\":\"y\"},{\"font\":{\"color\":\"rgb(7,13,30)\",\"size\":11},\"showarrow\":false,\"text\":\"(74 : 13.24%)\",\"textangle\":0,\"x\":1.004,\"xanchor\":\"right\",\"xref\":\"paper\",\"y\":\"$75,000 to 99,999\",\"yref\":\"y\"},{\"font\":{\"color\":\"rgb(7,13,30)\",\"size\":11},\"showarrow\":false,\"text\":\"(73 : 13.06%)\",\"textangle\":0,\"x\":1.004,\"xanchor\":\"right\",\"xref\":\"paper\",\"y\":\"$100,000 to 124,999\",\"yref\":\"y\"},{\"font\":{\"color\":\"rgb(7,13,30)\",\"size\":11},\"showarrow\":false,\"text\":\"(24 : 4.29%)\",\"textangle\":0,\"x\":1.004,\"xanchor\":\"right\",\"xref\":\"paper\",\"y\":\"$125,000 to 149,999\",\"yref\":\"y\"},{\"font\":{\"color\":\"rgb(7,13,30)\",\"size\":11},\"showarrow\":false,\"text\":\"(16 : 2.86%)\",\"textangle\":0,\"x\":1.004,\"xanchor\":\"right\",\"xref\":\"paper\",\"y\":\"$150,000 to 199,999\",\"yref\":\"y\"},{\"font\":{\"color\":\"rgb(7,13,30)\",\"size\":11},\"showarrow\":false,\"text\":\"(47 : 8.41%)\",\"textangle\":0,\"x\":1.004,\"xanchor\":\"right\",\"xref\":\"paper\",\"y\":\"$200,000 or more\",\"yref\":\"y\"}]},                        {\"responsive\": true}                    ).then(function(){\n",
       "                            Plotly.addFrames('9db8677c-9fef-4461-85d9-55b1dfaba143', [{\"data\":[{\"alignmentgroup\":\"True\",\"hovertemplate\":\"Year=2013<br>Population (%)=%{x}<br>Bracket=%{y}<extra></extra>\",\"legendgroup\":\"\",\"marker\":{\"color\":\"#636efa\",\"pattern\":{\"shape\":\"\"}},\"name\":\"\",\"offsetgroup\":\"\",\"orientation\":\"h\",\"showlegend\":false,\"textposition\":\"auto\",\"x\":[9.30232558139535,6.440071556350627,4.114490161001789,7.155635062611807,6.082289803220036,5.366726296958855,0.0,3.5778175313059037,0.0,8.765652951699463,7.334525939177102,13.237924865831843,13.059033989266547,4.293381037567084,2.862254025044723,8.407871198568873],\"xaxis\":\"x\",\"y\":[\"Less than $10,000\",\"$10,000 to 14,999\",\"$15,000 to 19,999\",\"$20,000 to 24,999\",\"$25,000 to 29,999\",\"$30,000 to 34,999\",\"$35,000 to 39,999\",\"$40,000 to 44,999\",\"$45,000 to 49,999\",\"$50,000 to 59,999\",\"$60,000 to 74,999\",\"$75,000 to 99,999\",\"$100,000 to 124,999\",\"$125,000 to 149,999\",\"$150,000 to 199,999\",\"$200,000 or more\"],\"yaxis\":\"y\",\"type\":\"bar\"}],\"name\":\"2013\",\"layout\":{\"annotations\":[{\"font\":{\"color\":\"rgb(7,13,30)\",\"size\":11},\"showarrow\":false,\"text\":\"(52 : 9.30%)\",\"textangle\":0,\"x\":1.004,\"xanchor\":\"right\",\"xref\":\"paper\",\"y\":\"Less than $10,000\",\"yref\":\"y\"},{\"font\":{\"color\":\"rgb(7,13,30)\",\"size\":11},\"showarrow\":false,\"text\":\"(36 : 6.44%)\",\"textangle\":0,\"x\":1.004,\"xanchor\":\"right\",\"xref\":\"paper\",\"y\":\"$10,000 to 14,999\",\"yref\":\"y\"},{\"font\":{\"color\":\"rgb(7,13,30)\",\"size\":11},\"showarrow\":false,\"text\":\"(23 : 4.11%)\",\"textangle\":0,\"x\":1.004,\"xanchor\":\"right\",\"xref\":\"paper\",\"y\":\"$15,000 to 19,999\",\"yref\":\"y\"},{\"font\":{\"color\":\"rgb(7,13,30)\",\"size\":11},\"showarrow\":false,\"text\":\"(40 : 7.16%)\",\"textangle\":0,\"x\":1.004,\"xanchor\":\"right\",\"xref\":\"paper\",\"y\":\"$20,000 to 24,999\",\"yref\":\"y\"},{\"font\":{\"color\":\"rgb(7,13,30)\",\"size\":11},\"showarrow\":false,\"text\":\"(34 : 6.08%)\",\"textangle\":0,\"x\":1.004,\"xanchor\":\"right\",\"xref\":\"paper\",\"y\":\"$25,000 to 29,999\",\"yref\":\"y\"},{\"font\":{\"color\":\"rgb(7,13,30)\",\"size\":11},\"showarrow\":false,\"text\":\"(30 : 5.37%)\",\"textangle\":0,\"x\":1.004,\"xanchor\":\"right\",\"xref\":\"paper\",\"y\":\"$30,000 to 34,999\",\"yref\":\"y\"},{\"font\":{\"color\":\"rgb(7,13,30)\",\"size\":11},\"showarrow\":false,\"text\":\"(0 : 0.00%)\",\"textangle\":0,\"x\":1.004,\"xanchor\":\"right\",\"xref\":\"paper\",\"y\":\"$35,000 to 39,999\",\"yref\":\"y\"},{\"font\":{\"color\":\"rgb(7,13,30)\",\"size\":11},\"showarrow\":false,\"text\":\"(20 : 3.58%)\",\"textangle\":0,\"x\":1.004,\"xanchor\":\"right\",\"xref\":\"paper\",\"y\":\"$40,000 to 44,999\",\"yref\":\"y\"},{\"font\":{\"color\":\"rgb(7,13,30)\",\"size\":11},\"showarrow\":false,\"text\":\"(0 : 0.00%)\",\"textangle\":0,\"x\":1.004,\"xanchor\":\"right\",\"xref\":\"paper\",\"y\":\"$45,000 to 49,999\",\"yref\":\"y\"},{\"font\":{\"color\":\"rgb(7,13,30)\",\"size\":11},\"showarrow\":false,\"text\":\"(49 : 8.77%)\",\"textangle\":0,\"x\":1.004,\"xanchor\":\"right\",\"xref\":\"paper\",\"y\":\"$50,000 to 59,999\",\"yref\":\"y\"},{\"font\":{\"color\":\"rgb(7,13,30)\",\"size\":11},\"showarrow\":false,\"text\":\"(41 : 7.33%)\",\"textangle\":0,\"x\":1.004,\"xanchor\":\"right\",\"xref\":\"paper\",\"y\":\"$60,000 to 74,999\",\"yref\":\"y\"},{\"font\":{\"color\":\"rgb(7,13,30)\",\"size\":11},\"showarrow\":false,\"text\":\"(74 : 13.24%)\",\"textangle\":0,\"x\":1.004,\"xanchor\":\"right\",\"xref\":\"paper\",\"y\":\"$75,000 to 99,999\",\"yref\":\"y\"},{\"font\":{\"color\":\"rgb(7,13,30)\",\"size\":11},\"showarrow\":false,\"text\":\"(73 : 13.06%)\",\"textangle\":0,\"x\":1.004,\"xanchor\":\"right\",\"xref\":\"paper\",\"y\":\"$100,000 to 124,999\",\"yref\":\"y\"},{\"font\":{\"color\":\"rgb(7,13,30)\",\"size\":11},\"showarrow\":false,\"text\":\"(24 : 4.29%)\",\"textangle\":0,\"x\":1.004,\"xanchor\":\"right\",\"xref\":\"paper\",\"y\":\"$125,000 to 149,999\",\"yref\":\"y\"},{\"font\":{\"color\":\"rgb(7,13,30)\",\"size\":11},\"showarrow\":false,\"text\":\"(16 : 2.86%)\",\"textangle\":0,\"x\":1.004,\"xanchor\":\"right\",\"xref\":\"paper\",\"y\":\"$150,000 to 199,999\",\"yref\":\"y\"},{\"font\":{\"color\":\"rgb(7,13,30)\",\"size\":11},\"showarrow\":false,\"text\":\"(47 : 8.41%)\",\"textangle\":0,\"x\":1.004,\"xanchor\":\"right\",\"xref\":\"paper\",\"y\":\"$200,000 or more\",\"yref\":\"y\"}]}},{\"data\":[{\"alignmentgroup\":\"True\",\"hovertemplate\":\"Year=2014<br>Population (%)=%{x}<br>Bracket=%{y}<extra></extra>\",\"legendgroup\":\"\",\"marker\":{\"color\":\"#636efa\",\"pattern\":{\"shape\":\"\"}},\"name\":\"\",\"offsetgroup\":\"\",\"orientation\":\"h\",\"showlegend\":false,\"textposition\":\"auto\",\"x\":[18.49427168576105,7.201309328968904,2.2913256955810146,8.346972176759412,3.109656301145663,7.037643207855973,0.0,2.2913256955810146,1.6366612111292962,5.8919803600654665,7.037643207855973,8.51063829787234,11.456628477905074,9.819967266775777,2.618657937806874,4.25531914893617],\"xaxis\":\"x\",\"y\":[\"Less than $10,000\",\"$10,000 to 14,999\",\"$15,000 to 19,999\",\"$20,000 to 24,999\",\"$25,000 to 29,999\",\"$30,000 to 34,999\",\"$35,000 to 39,999\",\"$40,000 to 44,999\",\"$45,000 to 49,999\",\"$50,000 to 59,999\",\"$60,000 to 74,999\",\"$75,000 to 99,999\",\"$100,000 to 124,999\",\"$125,000 to 149,999\",\"$150,000 to 199,999\",\"$200,000 or more\"],\"yaxis\":\"y\",\"type\":\"bar\"}],\"name\":\"2014\",\"layout\":{\"annotations\":[{\"font\":{\"color\":\"rgb(7,13,30)\",\"size\":11},\"showarrow\":false,\"text\":\"(113 : 18.49%)\",\"textangle\":0,\"x\":1.004,\"xanchor\":\"right\",\"xref\":\"paper\",\"y\":\"Less than $10,000\",\"yref\":\"y\"},{\"font\":{\"color\":\"rgb(7,13,30)\",\"size\":11},\"showarrow\":false,\"text\":\"(44 : 7.20%)\",\"textangle\":0,\"x\":1.004,\"xanchor\":\"right\",\"xref\":\"paper\",\"y\":\"$10,000 to 14,999\",\"yref\":\"y\"},{\"font\":{\"color\":\"rgb(7,13,30)\",\"size\":11},\"showarrow\":false,\"text\":\"(14 : 2.29%)\",\"textangle\":0,\"x\":1.004,\"xanchor\":\"right\",\"xref\":\"paper\",\"y\":\"$15,000 to 19,999\",\"yref\":\"y\"},{\"font\":{\"color\":\"rgb(7,13,30)\",\"size\":11},\"showarrow\":false,\"text\":\"(51 : 8.35%)\",\"textangle\":0,\"x\":1.004,\"xanchor\":\"right\",\"xref\":\"paper\",\"y\":\"$20,000 to 24,999\",\"yref\":\"y\"},{\"font\":{\"color\":\"rgb(7,13,30)\",\"size\":11},\"showarrow\":false,\"text\":\"(19 : 3.11%)\",\"textangle\":0,\"x\":1.004,\"xanchor\":\"right\",\"xref\":\"paper\",\"y\":\"$25,000 to 29,999\",\"yref\":\"y\"},{\"font\":{\"color\":\"rgb(7,13,30)\",\"size\":11},\"showarrow\":false,\"text\":\"(43 : 7.04%)\",\"textangle\":0,\"x\":1.004,\"xanchor\":\"right\",\"xref\":\"paper\",\"y\":\"$30,000 to 34,999\",\"yref\":\"y\"},{\"font\":{\"color\":\"rgb(7,13,30)\",\"size\":11},\"showarrow\":false,\"text\":\"(0 : 0.00%)\",\"textangle\":0,\"x\":1.004,\"xanchor\":\"right\",\"xref\":\"paper\",\"y\":\"$35,000 to 39,999\",\"yref\":\"y\"},{\"font\":{\"color\":\"rgb(7,13,30)\",\"size\":11},\"showarrow\":false,\"text\":\"(14 : 2.29%)\",\"textangle\":0,\"x\":1.004,\"xanchor\":\"right\",\"xref\":\"paper\",\"y\":\"$40,000 to 44,999\",\"yref\":\"y\"},{\"font\":{\"color\":\"rgb(7,13,30)\",\"size\":11},\"showarrow\":false,\"text\":\"(10 : 1.64%)\",\"textangle\":0,\"x\":1.004,\"xanchor\":\"right\",\"xref\":\"paper\",\"y\":\"$45,000 to 49,999\",\"yref\":\"y\"},{\"font\":{\"color\":\"rgb(7,13,30)\",\"size\":11},\"showarrow\":false,\"text\":\"(36 : 5.89%)\",\"textangle\":0,\"x\":1.004,\"xanchor\":\"right\",\"xref\":\"paper\",\"y\":\"$50,000 to 59,999\",\"yref\":\"y\"},{\"font\":{\"color\":\"rgb(7,13,30)\",\"size\":11},\"showarrow\":false,\"text\":\"(43 : 7.04%)\",\"textangle\":0,\"x\":1.004,\"xanchor\":\"right\",\"xref\":\"paper\",\"y\":\"$60,000 to 74,999\",\"yref\":\"y\"},{\"font\":{\"color\":\"rgb(7,13,30)\",\"size\":11},\"showarrow\":false,\"text\":\"(52 : 8.51%)\",\"textangle\":0,\"x\":1.004,\"xanchor\":\"right\",\"xref\":\"paper\",\"y\":\"$75,000 to 99,999\",\"yref\":\"y\"},{\"font\":{\"color\":\"rgb(7,13,30)\",\"size\":11},\"showarrow\":false,\"text\":\"(70 : 11.46%)\",\"textangle\":0,\"x\":1.004,\"xanchor\":\"right\",\"xref\":\"paper\",\"y\":\"$100,000 to 124,999\",\"yref\":\"y\"},{\"font\":{\"color\":\"rgb(7,13,30)\",\"size\":11},\"showarrow\":false,\"text\":\"(60 : 9.82%)\",\"textangle\":0,\"x\":1.004,\"xanchor\":\"right\",\"xref\":\"paper\",\"y\":\"$125,000 to 149,999\",\"yref\":\"y\"},{\"font\":{\"color\":\"rgb(7,13,30)\",\"size\":11},\"showarrow\":false,\"text\":\"(16 : 2.62%)\",\"textangle\":0,\"x\":1.004,\"xanchor\":\"right\",\"xref\":\"paper\",\"y\":\"$150,000 to 199,999\",\"yref\":\"y\"},{\"font\":{\"color\":\"rgb(7,13,30)\",\"size\":11},\"showarrow\":false,\"text\":\"(26 : 4.26%)\",\"textangle\":0,\"x\":1.004,\"xanchor\":\"right\",\"xref\":\"paper\",\"y\":\"$200,000 or more\",\"yref\":\"y\"}]}},{\"data\":[{\"alignmentgroup\":\"True\",\"hovertemplate\":\"Year=2015<br>Population (%)=%{x}<br>Bracket=%{y}<extra></extra>\",\"legendgroup\":\"\",\"marker\":{\"color\":\"#636efa\",\"pattern\":{\"shape\":\"\"}},\"name\":\"\",\"offsetgroup\":\"\",\"orientation\":\"h\",\"showlegend\":false,\"textposition\":\"auto\",\"x\":[24.401913875598087,8.61244019138756,0.0,6.85805422647528,2.7113237639553427,5.901116427432217,0.0,3.668261562998405,4.625199362041467,3.827751196172249,5.901116427432217,10.207336523125996,9.090909090909092,8.61244019138756,2.073365231259968,3.508771929824561],\"xaxis\":\"x\",\"y\":[\"Less than $10,000\",\"$10,000 to 14,999\",\"$15,000 to 19,999\",\"$20,000 to 24,999\",\"$25,000 to 29,999\",\"$30,000 to 34,999\",\"$35,000 to 39,999\",\"$40,000 to 44,999\",\"$45,000 to 49,999\",\"$50,000 to 59,999\",\"$60,000 to 74,999\",\"$75,000 to 99,999\",\"$100,000 to 124,999\",\"$125,000 to 149,999\",\"$150,000 to 199,999\",\"$200,000 or more\"],\"yaxis\":\"y\",\"type\":\"bar\"}],\"name\":\"2015\",\"layout\":{\"annotations\":[{\"font\":{\"color\":\"rgb(7,13,30)\",\"size\":11},\"showarrow\":false,\"text\":\"(153 : 24.40%)\",\"textangle\":0,\"x\":1.004,\"xanchor\":\"right\",\"xref\":\"paper\",\"y\":\"Less than $10,000\",\"yref\":\"y\"},{\"font\":{\"color\":\"rgb(7,13,30)\",\"size\":11},\"showarrow\":false,\"text\":\"(54 : 8.61%)\",\"textangle\":0,\"x\":1.004,\"xanchor\":\"right\",\"xref\":\"paper\",\"y\":\"$10,000 to 14,999\",\"yref\":\"y\"},{\"font\":{\"color\":\"rgb(7,13,30)\",\"size\":11},\"showarrow\":false,\"text\":\"(0 : 0.00%)\",\"textangle\":0,\"x\":1.004,\"xanchor\":\"right\",\"xref\":\"paper\",\"y\":\"$15,000 to 19,999\",\"yref\":\"y\"},{\"font\":{\"color\":\"rgb(7,13,30)\",\"size\":11},\"showarrow\":false,\"text\":\"(43 : 6.86%)\",\"textangle\":0,\"x\":1.004,\"xanchor\":\"right\",\"xref\":\"paper\",\"y\":\"$20,000 to 24,999\",\"yref\":\"y\"},{\"font\":{\"color\":\"rgb(7,13,30)\",\"size\":11},\"showarrow\":false,\"text\":\"(17 : 2.71%)\",\"textangle\":0,\"x\":1.004,\"xanchor\":\"right\",\"xref\":\"paper\",\"y\":\"$25,000 to 29,999\",\"yref\":\"y\"},{\"font\":{\"color\":\"rgb(7,13,30)\",\"size\":11},\"showarrow\":false,\"text\":\"(37 : 5.90%)\",\"textangle\":0,\"x\":1.004,\"xanchor\":\"right\",\"xref\":\"paper\",\"y\":\"$30,000 to 34,999\",\"yref\":\"y\"},{\"font\":{\"color\":\"rgb(7,13,30)\",\"size\":11},\"showarrow\":false,\"text\":\"(0 : 0.00%)\",\"textangle\":0,\"x\":1.004,\"xanchor\":\"right\",\"xref\":\"paper\",\"y\":\"$35,000 to 39,999\",\"yref\":\"y\"},{\"font\":{\"color\":\"rgb(7,13,30)\",\"size\":11},\"showarrow\":false,\"text\":\"(23 : 3.67%)\",\"textangle\":0,\"x\":1.004,\"xanchor\":\"right\",\"xref\":\"paper\",\"y\":\"$40,000 to 44,999\",\"yref\":\"y\"},{\"font\":{\"color\":\"rgb(7,13,30)\",\"size\":11},\"showarrow\":false,\"text\":\"(29 : 4.63%)\",\"textangle\":0,\"x\":1.004,\"xanchor\":\"right\",\"xref\":\"paper\",\"y\":\"$45,000 to 49,999\",\"yref\":\"y\"},{\"font\":{\"color\":\"rgb(7,13,30)\",\"size\":11},\"showarrow\":false,\"text\":\"(24 : 3.83%)\",\"textangle\":0,\"x\":1.004,\"xanchor\":\"right\",\"xref\":\"paper\",\"y\":\"$50,000 to 59,999\",\"yref\":\"y\"},{\"font\":{\"color\":\"rgb(7,13,30)\",\"size\":11},\"showarrow\":false,\"text\":\"(37 : 5.90%)\",\"textangle\":0,\"x\":1.004,\"xanchor\":\"right\",\"xref\":\"paper\",\"y\":\"$60,000 to 74,999\",\"yref\":\"y\"},{\"font\":{\"color\":\"rgb(7,13,30)\",\"size\":11},\"showarrow\":false,\"text\":\"(64 : 10.21%)\",\"textangle\":0,\"x\":1.004,\"xanchor\":\"right\",\"xref\":\"paper\",\"y\":\"$75,000 to 99,999\",\"yref\":\"y\"},{\"font\":{\"color\":\"rgb(7,13,30)\",\"size\":11},\"showarrow\":false,\"text\":\"(57 : 9.09%)\",\"textangle\":0,\"x\":1.004,\"xanchor\":\"right\",\"xref\":\"paper\",\"y\":\"$100,000 to 124,999\",\"yref\":\"y\"},{\"font\":{\"color\":\"rgb(7,13,30)\",\"size\":11},\"showarrow\":false,\"text\":\"(54 : 8.61%)\",\"textangle\":0,\"x\":1.004,\"xanchor\":\"right\",\"xref\":\"paper\",\"y\":\"$125,000 to 149,999\",\"yref\":\"y\"},{\"font\":{\"color\":\"rgb(7,13,30)\",\"size\":11},\"showarrow\":false,\"text\":\"(13 : 2.07%)\",\"textangle\":0,\"x\":1.004,\"xanchor\":\"right\",\"xref\":\"paper\",\"y\":\"$150,000 to 199,999\",\"yref\":\"y\"},{\"font\":{\"color\":\"rgb(7,13,30)\",\"size\":11},\"showarrow\":false,\"text\":\"(22 : 3.51%)\",\"textangle\":0,\"x\":1.004,\"xanchor\":\"right\",\"xref\":\"paper\",\"y\":\"$200,000 or more\",\"yref\":\"y\"}]}},{\"data\":[{\"alignmentgroup\":\"True\",\"hovertemplate\":\"Year=2016<br>Population (%)=%{x}<br>Bracket=%{y}<extra></extra>\",\"legendgroup\":\"\",\"marker\":{\"color\":\"#636efa\",\"pattern\":{\"shape\":\"\"}},\"name\":\"\",\"offsetgroup\":\"\",\"orientation\":\"h\",\"showlegend\":false,\"textposition\":\"auto\",\"x\":[18.61252115059221,7.952622673434856,0.0,7.106598984771574,5.583756345177665,1.6920473773265652,4.568527918781726,4.906937394247039,6.429780033840948,2.707275803722504,9.475465313028764,9.813874788494076,8.29103214890017,7.106598984771574,1.015228426395939,4.737732656514383],\"xaxis\":\"x\",\"y\":[\"Less than $10,000\",\"$10,000 to 14,999\",\"$15,000 to 19,999\",\"$20,000 to 24,999\",\"$25,000 to 29,999\",\"$30,000 to 34,999\",\"$35,000 to 39,999\",\"$40,000 to 44,999\",\"$45,000 to 49,999\",\"$50,000 to 59,999\",\"$60,000 to 74,999\",\"$75,000 to 99,999\",\"$100,000 to 124,999\",\"$125,000 to 149,999\",\"$150,000 to 199,999\",\"$200,000 or more\"],\"yaxis\":\"y\",\"type\":\"bar\"}],\"name\":\"2016\",\"layout\":{\"annotations\":[{\"font\":{\"color\":\"rgb(7,13,30)\",\"size\":11},\"showarrow\":false,\"text\":\"(110 : 18.61%)\",\"textangle\":0,\"x\":1.004,\"xanchor\":\"right\",\"xref\":\"paper\",\"y\":\"Less than $10,000\",\"yref\":\"y\"},{\"font\":{\"color\":\"rgb(7,13,30)\",\"size\":11},\"showarrow\":false,\"text\":\"(47 : 7.95%)\",\"textangle\":0,\"x\":1.004,\"xanchor\":\"right\",\"xref\":\"paper\",\"y\":\"$10,000 to 14,999\",\"yref\":\"y\"},{\"font\":{\"color\":\"rgb(7,13,30)\",\"size\":11},\"showarrow\":false,\"text\":\"(0 : 0.00%)\",\"textangle\":0,\"x\":1.004,\"xanchor\":\"right\",\"xref\":\"paper\",\"y\":\"$15,000 to 19,999\",\"yref\":\"y\"},{\"font\":{\"color\":\"rgb(7,13,30)\",\"size\":11},\"showarrow\":false,\"text\":\"(42 : 7.11%)\",\"textangle\":0,\"x\":1.004,\"xanchor\":\"right\",\"xref\":\"paper\",\"y\":\"$20,000 to 24,999\",\"yref\":\"y\"},{\"font\":{\"color\":\"rgb(7,13,30)\",\"size\":11},\"showarrow\":false,\"text\":\"(33 : 5.58%)\",\"textangle\":0,\"x\":1.004,\"xanchor\":\"right\",\"xref\":\"paper\",\"y\":\"$25,000 to 29,999\",\"yref\":\"y\"},{\"font\":{\"color\":\"rgb(7,13,30)\",\"size\":11},\"showarrow\":false,\"text\":\"(10 : 1.69%)\",\"textangle\":0,\"x\":1.004,\"xanchor\":\"right\",\"xref\":\"paper\",\"y\":\"$30,000 to 34,999\",\"yref\":\"y\"},{\"font\":{\"color\":\"rgb(7,13,30)\",\"size\":11},\"showarrow\":false,\"text\":\"(27 : 4.57%)\",\"textangle\":0,\"x\":1.004,\"xanchor\":\"right\",\"xref\":\"paper\",\"y\":\"$35,000 to 39,999\",\"yref\":\"y\"},{\"font\":{\"color\":\"rgb(7,13,30)\",\"size\":11},\"showarrow\":false,\"text\":\"(29 : 4.91%)\",\"textangle\":0,\"x\":1.004,\"xanchor\":\"right\",\"xref\":\"paper\",\"y\":\"$40,000 to 44,999\",\"yref\":\"y\"},{\"font\":{\"color\":\"rgb(7,13,30)\",\"size\":11},\"showarrow\":false,\"text\":\"(38 : 6.43%)\",\"textangle\":0,\"x\":1.004,\"xanchor\":\"right\",\"xref\":\"paper\",\"y\":\"$45,000 to 49,999\",\"yref\":\"y\"},{\"font\":{\"color\":\"rgb(7,13,30)\",\"size\":11},\"showarrow\":false,\"text\":\"(16 : 2.71%)\",\"textangle\":0,\"x\":1.004,\"xanchor\":\"right\",\"xref\":\"paper\",\"y\":\"$50,000 to 59,999\",\"yref\":\"y\"},{\"font\":{\"color\":\"rgb(7,13,30)\",\"size\":11},\"showarrow\":false,\"text\":\"(56 : 9.48%)\",\"textangle\":0,\"x\":1.004,\"xanchor\":\"right\",\"xref\":\"paper\",\"y\":\"$60,000 to 74,999\",\"yref\":\"y\"},{\"font\":{\"color\":\"rgb(7,13,30)\",\"size\":11},\"showarrow\":false,\"text\":\"(58 : 9.81%)\",\"textangle\":0,\"x\":1.004,\"xanchor\":\"right\",\"xref\":\"paper\",\"y\":\"$75,000 to 99,999\",\"yref\":\"y\"},{\"font\":{\"color\":\"rgb(7,13,30)\",\"size\":11},\"showarrow\":false,\"text\":\"(49 : 8.29%)\",\"textangle\":0,\"x\":1.004,\"xanchor\":\"right\",\"xref\":\"paper\",\"y\":\"$100,000 to 124,999\",\"yref\":\"y\"},{\"font\":{\"color\":\"rgb(7,13,30)\",\"size\":11},\"showarrow\":false,\"text\":\"(42 : 7.11%)\",\"textangle\":0,\"x\":1.004,\"xanchor\":\"right\",\"xref\":\"paper\",\"y\":\"$125,000 to 149,999\",\"yref\":\"y\"},{\"font\":{\"color\":\"rgb(7,13,30)\",\"size\":11},\"showarrow\":false,\"text\":\"(6 : 1.02%)\",\"textangle\":0,\"x\":1.004,\"xanchor\":\"right\",\"xref\":\"paper\",\"y\":\"$150,000 to 199,999\",\"yref\":\"y\"},{\"font\":{\"color\":\"rgb(7,13,30)\",\"size\":11},\"showarrow\":false,\"text\":\"(28 : 4.74%)\",\"textangle\":0,\"x\":1.004,\"xanchor\":\"right\",\"xref\":\"paper\",\"y\":\"$200,000 or more\",\"yref\":\"y\"}]}},{\"data\":[{\"alignmentgroup\":\"True\",\"hovertemplate\":\"Year=2017<br>Population (%)=%{x}<br>Bracket=%{y}<extra></extra>\",\"legendgroup\":\"\",\"marker\":{\"color\":\"#636efa\",\"pattern\":{\"shape\":\"\"}},\"name\":\"\",\"offsetgroup\":\"\",\"orientation\":\"h\",\"showlegend\":false,\"textposition\":\"auto\",\"x\":[16.831683168316832,9.570957095709572,1.8151815181518152,2.145214521452145,6.435643564356436,4.950495049504951,4.950495049504951,0.0,13.696369636963697,0.0,6.105610561056106,11.716171617161717,2.8052805280528053,10.56105610561056,1.155115511551155,7.260726072607261],\"xaxis\":\"x\",\"y\":[\"Less than $10,000\",\"$10,000 to 14,999\",\"$15,000 to 19,999\",\"$20,000 to 24,999\",\"$25,000 to 29,999\",\"$30,000 to 34,999\",\"$35,000 to 39,999\",\"$40,000 to 44,999\",\"$45,000 to 49,999\",\"$50,000 to 59,999\",\"$60,000 to 74,999\",\"$75,000 to 99,999\",\"$100,000 to 124,999\",\"$125,000 to 149,999\",\"$150,000 to 199,999\",\"$200,000 or more\"],\"yaxis\":\"y\",\"type\":\"bar\"}],\"name\":\"2017\",\"layout\":{\"annotations\":[{\"font\":{\"color\":\"rgb(7,13,30)\",\"size\":11},\"showarrow\":false,\"text\":\"(102 : 16.83%)\",\"textangle\":0,\"x\":1.004,\"xanchor\":\"right\",\"xref\":\"paper\",\"y\":\"Less than $10,000\",\"yref\":\"y\"},{\"font\":{\"color\":\"rgb(7,13,30)\",\"size\":11},\"showarrow\":false,\"text\":\"(58 : 9.57%)\",\"textangle\":0,\"x\":1.004,\"xanchor\":\"right\",\"xref\":\"paper\",\"y\":\"$10,000 to 14,999\",\"yref\":\"y\"},{\"font\":{\"color\":\"rgb(7,13,30)\",\"size\":11},\"showarrow\":false,\"text\":\"(11 : 1.82%)\",\"textangle\":0,\"x\":1.004,\"xanchor\":\"right\",\"xref\":\"paper\",\"y\":\"$15,000 to 19,999\",\"yref\":\"y\"},{\"font\":{\"color\":\"rgb(7,13,30)\",\"size\":11},\"showarrow\":false,\"text\":\"(13 : 2.15%)\",\"textangle\":0,\"x\":1.004,\"xanchor\":\"right\",\"xref\":\"paper\",\"y\":\"$20,000 to 24,999\",\"yref\":\"y\"},{\"font\":{\"color\":\"rgb(7,13,30)\",\"size\":11},\"showarrow\":false,\"text\":\"(39 : 6.44%)\",\"textangle\":0,\"x\":1.004,\"xanchor\":\"right\",\"xref\":\"paper\",\"y\":\"$25,000 to 29,999\",\"yref\":\"y\"},{\"font\":{\"color\":\"rgb(7,13,30)\",\"size\":11},\"showarrow\":false,\"text\":\"(30 : 4.95%)\",\"textangle\":0,\"x\":1.004,\"xanchor\":\"right\",\"xref\":\"paper\",\"y\":\"$30,000 to 34,999\",\"yref\":\"y\"},{\"font\":{\"color\":\"rgb(7,13,30)\",\"size\":11},\"showarrow\":false,\"text\":\"(30 : 4.95%)\",\"textangle\":0,\"x\":1.004,\"xanchor\":\"right\",\"xref\":\"paper\",\"y\":\"$35,000 to 39,999\",\"yref\":\"y\"},{\"font\":{\"color\":\"rgb(7,13,30)\",\"size\":11},\"showarrow\":false,\"text\":\"(0 : 0.00%)\",\"textangle\":0,\"x\":1.004,\"xanchor\":\"right\",\"xref\":\"paper\",\"y\":\"$40,000 to 44,999\",\"yref\":\"y\"},{\"font\":{\"color\":\"rgb(7,13,30)\",\"size\":11},\"showarrow\":false,\"text\":\"(83 : 13.70%)\",\"textangle\":0,\"x\":1.004,\"xanchor\":\"right\",\"xref\":\"paper\",\"y\":\"$45,000 to 49,999\",\"yref\":\"y\"},{\"font\":{\"color\":\"rgb(7,13,30)\",\"size\":11},\"showarrow\":false,\"text\":\"(0 : 0.00%)\",\"textangle\":0,\"x\":1.004,\"xanchor\":\"right\",\"xref\":\"paper\",\"y\":\"$50,000 to 59,999\",\"yref\":\"y\"},{\"font\":{\"color\":\"rgb(7,13,30)\",\"size\":11},\"showarrow\":false,\"text\":\"(37 : 6.11%)\",\"textangle\":0,\"x\":1.004,\"xanchor\":\"right\",\"xref\":\"paper\",\"y\":\"$60,000 to 74,999\",\"yref\":\"y\"},{\"font\":{\"color\":\"rgb(7,13,30)\",\"size\":11},\"showarrow\":false,\"text\":\"(71 : 11.72%)\",\"textangle\":0,\"x\":1.004,\"xanchor\":\"right\",\"xref\":\"paper\",\"y\":\"$75,000 to 99,999\",\"yref\":\"y\"},{\"font\":{\"color\":\"rgb(7,13,30)\",\"size\":11},\"showarrow\":false,\"text\":\"(17 : 2.81%)\",\"textangle\":0,\"x\":1.004,\"xanchor\":\"right\",\"xref\":\"paper\",\"y\":\"$100,000 to 124,999\",\"yref\":\"y\"},{\"font\":{\"color\":\"rgb(7,13,30)\",\"size\":11},\"showarrow\":false,\"text\":\"(64 : 10.56%)\",\"textangle\":0,\"x\":1.004,\"xanchor\":\"right\",\"xref\":\"paper\",\"y\":\"$125,000 to 149,999\",\"yref\":\"y\"},{\"font\":{\"color\":\"rgb(7,13,30)\",\"size\":11},\"showarrow\":false,\"text\":\"(7 : 1.16%)\",\"textangle\":0,\"x\":1.004,\"xanchor\":\"right\",\"xref\":\"paper\",\"y\":\"$150,000 to 199,999\",\"yref\":\"y\"},{\"font\":{\"color\":\"rgb(7,13,30)\",\"size\":11},\"showarrow\":false,\"text\":\"(44 : 7.26%)\",\"textangle\":0,\"x\":1.004,\"xanchor\":\"right\",\"xref\":\"paper\",\"y\":\"$200,000 or more\",\"yref\":\"y\"}]}},{\"data\":[{\"alignmentgroup\":\"True\",\"hovertemplate\":\"Year=2018<br>Population (%)=%{x}<br>Bracket=%{y}<extra></extra>\",\"legendgroup\":\"\",\"marker\":{\"color\":\"#636efa\",\"pattern\":{\"shape\":\"\"}},\"name\":\"\",\"offsetgroup\":\"\",\"orientation\":\"h\",\"showlegend\":false,\"textposition\":\"auto\",\"x\":[12.201963534361852,13.32398316970547,0.0,0.0,5.46984572230014,5.890603085553997,5.329593267882188,0.0,10.098176718092567,2.664796633941094,6.872370266479663,15.007012622720898,4.488078541374474,8.695652173913043,3.3660589060308554,6.591865357643759],\"xaxis\":\"x\",\"y\":[\"Less than $10,000\",\"$10,000 to 14,999\",\"$15,000 to 19,999\",\"$20,000 to 24,999\",\"$25,000 to 29,999\",\"$30,000 to 34,999\",\"$35,000 to 39,999\",\"$40,000 to 44,999\",\"$45,000 to 49,999\",\"$50,000 to 59,999\",\"$60,000 to 74,999\",\"$75,000 to 99,999\",\"$100,000 to 124,999\",\"$125,000 to 149,999\",\"$150,000 to 199,999\",\"$200,000 or more\"],\"yaxis\":\"y\",\"type\":\"bar\"}],\"name\":\"2018\",\"layout\":{\"annotations\":[{\"font\":{\"color\":\"rgb(7,13,30)\",\"size\":11},\"showarrow\":false,\"text\":\"(87 : 12.20%)\",\"textangle\":0,\"x\":1.004,\"xanchor\":\"right\",\"xref\":\"paper\",\"y\":\"Less than $10,000\",\"yref\":\"y\"},{\"font\":{\"color\":\"rgb(7,13,30)\",\"size\":11},\"showarrow\":false,\"text\":\"(95 : 13.32%)\",\"textangle\":0,\"x\":1.004,\"xanchor\":\"right\",\"xref\":\"paper\",\"y\":\"$10,000 to 14,999\",\"yref\":\"y\"},{\"font\":{\"color\":\"rgb(7,13,30)\",\"size\":11},\"showarrow\":false,\"text\":\"(0 : 0.00%)\",\"textangle\":0,\"x\":1.004,\"xanchor\":\"right\",\"xref\":\"paper\",\"y\":\"$15,000 to 19,999\",\"yref\":\"y\"},{\"font\":{\"color\":\"rgb(7,13,30)\",\"size\":11},\"showarrow\":false,\"text\":\"(0 : 0.00%)\",\"textangle\":0,\"x\":1.004,\"xanchor\":\"right\",\"xref\":\"paper\",\"y\":\"$20,000 to 24,999\",\"yref\":\"y\"},{\"font\":{\"color\":\"rgb(7,13,30)\",\"size\":11},\"showarrow\":false,\"text\":\"(39 : 5.47%)\",\"textangle\":0,\"x\":1.004,\"xanchor\":\"right\",\"xref\":\"paper\",\"y\":\"$25,000 to 29,999\",\"yref\":\"y\"},{\"font\":{\"color\":\"rgb(7,13,30)\",\"size\":11},\"showarrow\":false,\"text\":\"(42 : 5.89%)\",\"textangle\":0,\"x\":1.004,\"xanchor\":\"right\",\"xref\":\"paper\",\"y\":\"$30,000 to 34,999\",\"yref\":\"y\"},{\"font\":{\"color\":\"rgb(7,13,30)\",\"size\":11},\"showarrow\":false,\"text\":\"(38 : 5.33%)\",\"textangle\":0,\"x\":1.004,\"xanchor\":\"right\",\"xref\":\"paper\",\"y\":\"$35,000 to 39,999\",\"yref\":\"y\"},{\"font\":{\"color\":\"rgb(7,13,30)\",\"size\":11},\"showarrow\":false,\"text\":\"(0 : 0.00%)\",\"textangle\":0,\"x\":1.004,\"xanchor\":\"right\",\"xref\":\"paper\",\"y\":\"$40,000 to 44,999\",\"yref\":\"y\"},{\"font\":{\"color\":\"rgb(7,13,30)\",\"size\":11},\"showarrow\":false,\"text\":\"(72 : 10.10%)\",\"textangle\":0,\"x\":1.004,\"xanchor\":\"right\",\"xref\":\"paper\",\"y\":\"$45,000 to 49,999\",\"yref\":\"y\"},{\"font\":{\"color\":\"rgb(7,13,30)\",\"size\":11},\"showarrow\":false,\"text\":\"(19 : 2.66%)\",\"textangle\":0,\"x\":1.004,\"xanchor\":\"right\",\"xref\":\"paper\",\"y\":\"$50,000 to 59,999\",\"yref\":\"y\"},{\"font\":{\"color\":\"rgb(7,13,30)\",\"size\":11},\"showarrow\":false,\"text\":\"(49 : 6.87%)\",\"textangle\":0,\"x\":1.004,\"xanchor\":\"right\",\"xref\":\"paper\",\"y\":\"$60,000 to 74,999\",\"yref\":\"y\"},{\"font\":{\"color\":\"rgb(7,13,30)\",\"size\":11},\"showarrow\":false,\"text\":\"(107 : 15.01%)\",\"textangle\":0,\"x\":1.004,\"xanchor\":\"right\",\"xref\":\"paper\",\"y\":\"$75,000 to 99,999\",\"yref\":\"y\"},{\"font\":{\"color\":\"rgb(7,13,30)\",\"size\":11},\"showarrow\":false,\"text\":\"(32 : 4.49%)\",\"textangle\":0,\"x\":1.004,\"xanchor\":\"right\",\"xref\":\"paper\",\"y\":\"$100,000 to 124,999\",\"yref\":\"y\"},{\"font\":{\"color\":\"rgb(7,13,30)\",\"size\":11},\"showarrow\":false,\"text\":\"(62 : 8.70%)\",\"textangle\":0,\"x\":1.004,\"xanchor\":\"right\",\"xref\":\"paper\",\"y\":\"$125,000 to 149,999\",\"yref\":\"y\"},{\"font\":{\"color\":\"rgb(7,13,30)\",\"size\":11},\"showarrow\":false,\"text\":\"(24 : 3.37%)\",\"textangle\":0,\"x\":1.004,\"xanchor\":\"right\",\"xref\":\"paper\",\"y\":\"$150,000 to 199,999\",\"yref\":\"y\"},{\"font\":{\"color\":\"rgb(7,13,30)\",\"size\":11},\"showarrow\":false,\"text\":\"(47 : 6.59%)\",\"textangle\":0,\"x\":1.004,\"xanchor\":\"right\",\"xref\":\"paper\",\"y\":\"$200,000 or more\",\"yref\":\"y\"}]}},{\"data\":[{\"alignmentgroup\":\"True\",\"hovertemplate\":\"Year=2019<br>Population (%)=%{x}<br>Bracket=%{y}<extra></extra>\",\"legendgroup\":\"\",\"marker\":{\"color\":\"#636efa\",\"pattern\":{\"shape\":\"\"}},\"name\":\"\",\"offsetgroup\":\"\",\"orientation\":\"h\",\"showlegend\":false,\"textposition\":\"auto\",\"x\":[10.333333333333334,18.666666666666668,2.0,0.0,8.5,6.5,6.0,0.0,7.333333333333333,0.0,4.5,12.666666666666666,2.6666666666666665,4.5,4.166666666666667,12.166666666666666],\"xaxis\":\"x\",\"y\":[\"Less than $10,000\",\"$10,000 to 14,999\",\"$15,000 to 19,999\",\"$20,000 to 24,999\",\"$25,000 to 29,999\",\"$30,000 to 34,999\",\"$35,000 to 39,999\",\"$40,000 to 44,999\",\"$45,000 to 49,999\",\"$50,000 to 59,999\",\"$60,000 to 74,999\",\"$75,000 to 99,999\",\"$100,000 to 124,999\",\"$125,000 to 149,999\",\"$150,000 to 199,999\",\"$200,000 or more\"],\"yaxis\":\"y\",\"type\":\"bar\"}],\"name\":\"2019\",\"layout\":{\"annotations\":[{\"font\":{\"color\":\"rgb(7,13,30)\",\"size\":11},\"showarrow\":false,\"text\":\"(62 : 10.33%)\",\"textangle\":0,\"x\":1.004,\"xanchor\":\"right\",\"xref\":\"paper\",\"y\":\"Less than $10,000\",\"yref\":\"y\"},{\"font\":{\"color\":\"rgb(7,13,30)\",\"size\":11},\"showarrow\":false,\"text\":\"(112 : 18.67%)\",\"textangle\":0,\"x\":1.004,\"xanchor\":\"right\",\"xref\":\"paper\",\"y\":\"$10,000 to 14,999\",\"yref\":\"y\"},{\"font\":{\"color\":\"rgb(7,13,30)\",\"size\":11},\"showarrow\":false,\"text\":\"(12 : 2.00%)\",\"textangle\":0,\"x\":1.004,\"xanchor\":\"right\",\"xref\":\"paper\",\"y\":\"$15,000 to 19,999\",\"yref\":\"y\"},{\"font\":{\"color\":\"rgb(7,13,30)\",\"size\":11},\"showarrow\":false,\"text\":\"(0 : 0.00%)\",\"textangle\":0,\"x\":1.004,\"xanchor\":\"right\",\"xref\":\"paper\",\"y\":\"$20,000 to 24,999\",\"yref\":\"y\"},{\"font\":{\"color\":\"rgb(7,13,30)\",\"size\":11},\"showarrow\":false,\"text\":\"(51 : 8.50%)\",\"textangle\":0,\"x\":1.004,\"xanchor\":\"right\",\"xref\":\"paper\",\"y\":\"$25,000 to 29,999\",\"yref\":\"y\"},{\"font\":{\"color\":\"rgb(7,13,30)\",\"size\":11},\"showarrow\":false,\"text\":\"(39 : 6.50%)\",\"textangle\":0,\"x\":1.004,\"xanchor\":\"right\",\"xref\":\"paper\",\"y\":\"$30,000 to 34,999\",\"yref\":\"y\"},{\"font\":{\"color\":\"rgb(7,13,30)\",\"size\":11},\"showarrow\":false,\"text\":\"(36 : 6.00%)\",\"textangle\":0,\"x\":1.004,\"xanchor\":\"right\",\"xref\":\"paper\",\"y\":\"$35,000 to 39,999\",\"yref\":\"y\"},{\"font\":{\"color\":\"rgb(7,13,30)\",\"size\":11},\"showarrow\":false,\"text\":\"(0 : 0.00%)\",\"textangle\":0,\"x\":1.004,\"xanchor\":\"right\",\"xref\":\"paper\",\"y\":\"$40,000 to 44,999\",\"yref\":\"y\"},{\"font\":{\"color\":\"rgb(7,13,30)\",\"size\":11},\"showarrow\":false,\"text\":\"(44 : 7.33%)\",\"textangle\":0,\"x\":1.004,\"xanchor\":\"right\",\"xref\":\"paper\",\"y\":\"$45,000 to 49,999\",\"yref\":\"y\"},{\"font\":{\"color\":\"rgb(7,13,30)\",\"size\":11},\"showarrow\":false,\"text\":\"(0 : 0.00%)\",\"textangle\":0,\"x\":1.004,\"xanchor\":\"right\",\"xref\":\"paper\",\"y\":\"$50,000 to 59,999\",\"yref\":\"y\"},{\"font\":{\"color\":\"rgb(7,13,30)\",\"size\":11},\"showarrow\":false,\"text\":\"(27 : 4.50%)\",\"textangle\":0,\"x\":1.004,\"xanchor\":\"right\",\"xref\":\"paper\",\"y\":\"$60,000 to 74,999\",\"yref\":\"y\"},{\"font\":{\"color\":\"rgb(7,13,30)\",\"size\":11},\"showarrow\":false,\"text\":\"(76 : 12.67%)\",\"textangle\":0,\"x\":1.004,\"xanchor\":\"right\",\"xref\":\"paper\",\"y\":\"$75,000 to 99,999\",\"yref\":\"y\"},{\"font\":{\"color\":\"rgb(7,13,30)\",\"size\":11},\"showarrow\":false,\"text\":\"(16 : 2.67%)\",\"textangle\":0,\"x\":1.004,\"xanchor\":\"right\",\"xref\":\"paper\",\"y\":\"$100,000 to 124,999\",\"yref\":\"y\"},{\"font\":{\"color\":\"rgb(7,13,30)\",\"size\":11},\"showarrow\":false,\"text\":\"(27 : 4.50%)\",\"textangle\":0,\"x\":1.004,\"xanchor\":\"right\",\"xref\":\"paper\",\"y\":\"$125,000 to 149,999\",\"yref\":\"y\"},{\"font\":{\"color\":\"rgb(7,13,30)\",\"size\":11},\"showarrow\":false,\"text\":\"(25 : 4.17%)\",\"textangle\":0,\"x\":1.004,\"xanchor\":\"right\",\"xref\":\"paper\",\"y\":\"$150,000 to 199,999\",\"yref\":\"y\"},{\"font\":{\"color\":\"rgb(7,13,30)\",\"size\":11},\"showarrow\":false,\"text\":\"(73 : 12.17%)\",\"textangle\":0,\"x\":1.004,\"xanchor\":\"right\",\"xref\":\"paper\",\"y\":\"$200,000 or more\",\"yref\":\"y\"}]}},{\"data\":[{\"alignmentgroup\":\"True\",\"hovertemplate\":\"Year=2020<br>Population (%)=%{x}<br>Bracket=%{y}<extra></extra>\",\"legendgroup\":\"\",\"marker\":{\"color\":\"#636efa\",\"pattern\":{\"shape\":\"\"}},\"name\":\"\",\"offsetgroup\":\"\",\"orientation\":\"h\",\"showlegend\":false,\"textposition\":\"auto\",\"x\":[2.6706231454005933,12.01780415430267,4.747774480712166,0.0,5.786350148367952,6.231454005934718,5.192878338278931,0.0,0.8902077151335311,3.4124629080118694,1.9287833827893173,12.166172106824924,21.810089020771517,3.70919881305638,8.456973293768545,10.979228486646884],\"xaxis\":\"x\",\"y\":[\"Less than $10,000\",\"$10,000 to 14,999\",\"$15,000 to 19,999\",\"$20,000 to 24,999\",\"$25,000 to 29,999\",\"$30,000 to 34,999\",\"$35,000 to 39,999\",\"$40,000 to 44,999\",\"$45,000 to 49,999\",\"$50,000 to 59,999\",\"$60,000 to 74,999\",\"$75,000 to 99,999\",\"$100,000 to 124,999\",\"$125,000 to 149,999\",\"$150,000 to 199,999\",\"$200,000 or more\"],\"yaxis\":\"y\",\"type\":\"bar\"}],\"name\":\"2020\",\"layout\":{\"annotations\":[{\"font\":{\"color\":\"rgb(7,13,30)\",\"size\":11},\"showarrow\":false,\"text\":\"(18 : 2.67%)\",\"textangle\":0,\"x\":1.004,\"xanchor\":\"right\",\"xref\":\"paper\",\"y\":\"Less than $10,000\",\"yref\":\"y\"},{\"font\":{\"color\":\"rgb(7,13,30)\",\"size\":11},\"showarrow\":false,\"text\":\"(81 : 12.02%)\",\"textangle\":0,\"x\":1.004,\"xanchor\":\"right\",\"xref\":\"paper\",\"y\":\"$10,000 to 14,999\",\"yref\":\"y\"},{\"font\":{\"color\":\"rgb(7,13,30)\",\"size\":11},\"showarrow\":false,\"text\":\"(32 : 4.75%)\",\"textangle\":0,\"x\":1.004,\"xanchor\":\"right\",\"xref\":\"paper\",\"y\":\"$15,000 to 19,999\",\"yref\":\"y\"},{\"font\":{\"color\":\"rgb(7,13,30)\",\"size\":11},\"showarrow\":false,\"text\":\"(0 : 0.00%)\",\"textangle\":0,\"x\":1.004,\"xanchor\":\"right\",\"xref\":\"paper\",\"y\":\"$20,000 to 24,999\",\"yref\":\"y\"},{\"font\":{\"color\":\"rgb(7,13,30)\",\"size\":11},\"showarrow\":false,\"text\":\"(39 : 5.79%)\",\"textangle\":0,\"x\":1.004,\"xanchor\":\"right\",\"xref\":\"paper\",\"y\":\"$25,000 to 29,999\",\"yref\":\"y\"},{\"font\":{\"color\":\"rgb(7,13,30)\",\"size\":11},\"showarrow\":false,\"text\":\"(42 : 6.23%)\",\"textangle\":0,\"x\":1.004,\"xanchor\":\"right\",\"xref\":\"paper\",\"y\":\"$30,000 to 34,999\",\"yref\":\"y\"},{\"font\":{\"color\":\"rgb(7,13,30)\",\"size\":11},\"showarrow\":false,\"text\":\"(35 : 5.19%)\",\"textangle\":0,\"x\":1.004,\"xanchor\":\"right\",\"xref\":\"paper\",\"y\":\"$35,000 to 39,999\",\"yref\":\"y\"},{\"font\":{\"color\":\"rgb(7,13,30)\",\"size\":11},\"showarrow\":false,\"text\":\"(0 : 0.00%)\",\"textangle\":0,\"x\":1.004,\"xanchor\":\"right\",\"xref\":\"paper\",\"y\":\"$40,000 to 44,999\",\"yref\":\"y\"},{\"font\":{\"color\":\"rgb(7,13,30)\",\"size\":11},\"showarrow\":false,\"text\":\"(6 : 0.89%)\",\"textangle\":0,\"x\":1.004,\"xanchor\":\"right\",\"xref\":\"paper\",\"y\":\"$45,000 to 49,999\",\"yref\":\"y\"},{\"font\":{\"color\":\"rgb(7,13,30)\",\"size\":11},\"showarrow\":false,\"text\":\"(23 : 3.41%)\",\"textangle\":0,\"x\":1.004,\"xanchor\":\"right\",\"xref\":\"paper\",\"y\":\"$50,000 to 59,999\",\"yref\":\"y\"},{\"font\":{\"color\":\"rgb(7,13,30)\",\"size\":11},\"showarrow\":false,\"text\":\"(13 : 1.93%)\",\"textangle\":0,\"x\":1.004,\"xanchor\":\"right\",\"xref\":\"paper\",\"y\":\"$60,000 to 74,999\",\"yref\":\"y\"},{\"font\":{\"color\":\"rgb(7,13,30)\",\"size\":11},\"showarrow\":false,\"text\":\"(82 : 12.17%)\",\"textangle\":0,\"x\":1.004,\"xanchor\":\"right\",\"xref\":\"paper\",\"y\":\"$75,000 to 99,999\",\"yref\":\"y\"},{\"font\":{\"color\":\"rgb(7,13,30)\",\"size\":11},\"showarrow\":false,\"text\":\"(147 : 21.81%)\",\"textangle\":0,\"x\":1.004,\"xanchor\":\"right\",\"xref\":\"paper\",\"y\":\"$100,000 to 124,999\",\"yref\":\"y\"},{\"font\":{\"color\":\"rgb(7,13,30)\",\"size\":11},\"showarrow\":false,\"text\":\"(25 : 3.71%)\",\"textangle\":0,\"x\":1.004,\"xanchor\":\"right\",\"xref\":\"paper\",\"y\":\"$125,000 to 149,999\",\"yref\":\"y\"},{\"font\":{\"color\":\"rgb(7,13,30)\",\"size\":11},\"showarrow\":false,\"text\":\"(57 : 8.46%)\",\"textangle\":0,\"x\":1.004,\"xanchor\":\"right\",\"xref\":\"paper\",\"y\":\"$150,000 to 199,999\",\"yref\":\"y\"},{\"font\":{\"color\":\"rgb(7,13,30)\",\"size\":11},\"showarrow\":false,\"text\":\"(74 : 10.98%)\",\"textangle\":0,\"x\":1.004,\"xanchor\":\"right\",\"xref\":\"paper\",\"y\":\"$200,000 or more\",\"yref\":\"y\"}]}}]);\n",
       "                        }).then(function(){\n",
       "                            \n",
       "var gd = document.getElementById('9db8677c-9fef-4461-85d9-55b1dfaba143');\n",
       "var x = new MutationObserver(function (mutations, observer) {{\n",
       "        var display = window.getComputedStyle(gd).display;\n",
       "        if (!display || display === 'none') {{\n",
       "            console.log([gd, 'removed!']);\n",
       "            Plotly.purge(gd);\n",
       "            observer.disconnect();\n",
       "        }}\n",
       "}});\n",
       "\n",
       "// Listen for the removal of the full notebook cells\n",
       "var notebookContainer = gd.closest('#notebook-container');\n",
       "if (notebookContainer) {{\n",
       "    x.observe(notebookContainer, {childList: true});\n",
       "}}\n",
       "\n",
       "// Listen for the clearing of the current output cell\n",
       "var outputEl = gd.closest('.output');\n",
       "if (outputEl) {{\n",
       "    x.observe(outputEl, {childList: true});\n",
       "}}\n",
       "\n",
       "                        })                };                });            </script>        </div>"
      ]
     },
     "metadata": {},
     "output_type": "display_data"
    }
   ],
   "source": [
    "plotIncomeNeighborhood('Starr Hill')"
   ]
  },
  {
   "cell_type": "code",
   "execution_count": null,
   "metadata": {},
   "outputs": [],
   "source": []
  }
 ],
 "metadata": {
  "kernelspec": {
   "display_name": "Python 3",
   "language": "python",
   "name": "python3"
  },
  "language_info": {
   "codemirror_mode": {
    "name": "ipython",
    "version": 3
   },
   "file_extension": ".py",
   "mimetype": "text/x-python",
   "name": "python",
   "nbconvert_exporter": "python",
   "pygments_lexer": "ipython3",
   "version": "3.8.8"
  }
 },
 "nbformat": 4,
 "nbformat_minor": 4
}
